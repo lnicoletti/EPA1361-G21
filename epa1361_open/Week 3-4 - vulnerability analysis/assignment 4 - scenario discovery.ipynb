{
 "cells": [
  {
   "cell_type": "markdown",
   "metadata": {},
   "source": [
    "## Assignment 2 (Weeks 3-4) Notes"
   ]
  },
  {
   "cell_type": "code",
   "execution_count": null,
   "metadata": {},
   "outputs": [],
   "source": [
    "#You are supposed to find the boxes that resultin the results shown in Table1 in the paper Rozenberg et al.\n",
    "# Rozenberg did PRIM 5 times, (i.e. for SSP1, SSP2, SSP3, SSP4, SSP5)\n",
    "#Need to set threshold a bit lower for this example (otherwise it will not work) (MILA says 2 and 5 fail, others work for threshold = 0.8)\n",
    "#^^Because fo this, you may get slightly different results"
   ]
  },
  {
   "cell_type": "code",
   "execution_count": null,
   "metadata": {},
   "outputs": [],
   "source": [
    "#Question:\n",
    "#In assignment 4C, so for the Hamarat article, do you have to find the initial value of 'fraction renewables' in the article? I found 0.6, but not sure if that is right\n",
    "\n",
    "#How to specify row, based on the given information here\n",
    "data = outcomes['fraction renewables']\n",
    "y = data[0,:] <data[-1,:]\n",
    "\n",
    "#How would you deal with multiple rules; you would have to apply joint type to specify your conditions for success (Question posed earlier):\n",
    "#Example\n",
    "\n",
    "r1 = ooutcomes[y1] < t1\n",
    "r2 = outcomes[y2] > t2\n",
    "r3 = outcomes[y3] < t3\n",
    "rc = r1 | r2 | r3"
   ]
  },
  {
   "cell_type": "markdown",
   "metadata": {},
   "source": [
    "# Replication assignment\n",
    "\n",
    "Replicate the results found in [Bryant et al  (2010)](https://doi.org/10.1016/j.techfore.2009.08.002), [Rozenberg et al (2014)](https://link.springer.com/content/pdf/10.1007/s10584-013-0904-3.pdf), and [Hamarat et al (2013)](https://doi.org/10.1016/j.techfore.2012.10.004). The data files are named accordingly. You can also look at [Kwakkel & Jaxa-Rozen (2016)](https://www.sciencedirect.com/science/article/pii/S1364815215301092), which gives a succint summary of these three cases. \n",
    "\n",
    "An additional useful, if dated, resource for Bryant et al is https://waterprogramming.wordpress.com/2015/08/05/scenario-discovery-in-python/ \n",
    "\n"
   ]
  },
  {
   "cell_type": "markdown",
   "metadata": {},
   "source": [
    "# Bryant & Lempert\n",
    "\n",
    "Load the data using pandas. The experiments are in colums 2-10, while the outcome is in column 15. If you look at the paper carefully, you will see that they change the peel_alpha in PRIM. This controls the leniency of the algorithm.\n"
   ]
  },
  {
   "cell_type": "markdown",
   "metadata": {},
   "source": [
    "## Bryant & Lempert (2010) Results \n",
    "\n",
    "### Scenario A: \n",
    "4 parameters:\n",
    "- 1) transportation demand elasticity\n",
    "- 2) biomass backstop price\n",
    "- 3) biofuel production cost\n",
    "- 4) supply of low-cost biomass\n",
    "\n",
    "Note: \n",
    "- 1 (transportation demand elasticity) & 2 (biomass backstop price) should be at the upper half of their ranges\n",
    "- 3 (biofuel production cost) should be anywehere above the lowest of its range\n",
    "- 4 (supply of low-cost biomass) should be at the lowest half of its range\n",
    "\n",
    "79% coverage, 73% density"
   ]
  },
  {
   "cell_type": "code",
   "execution_count": 2,
   "metadata": {},
   "outputs": [],
   "source": [
    "#Bring in necessary libraries\n",
    "import pandas as pd\n",
    "import matplotlib.pyplot as plt\n",
    "import os"
   ]
  },
  {
   "cell_type": "code",
   "execution_count": 14,
   "metadata": {},
   "outputs": [
    {
     "name": "stdout",
     "output_type": "stream",
     "text": [
      "Current working directory is: C:\\\n"
     ]
    }
   ],
   "source": [
    "#Change working directory to a specified directory\n",
    "#os.chdir('../')\n",
    "#print(\"Directory Changes\")\n",
    "\n",
    "#Get current working directory\n",
    "cwd = os.getcwd()\n",
    "data_path = os.getcwd() + 'Users\\sahit\\EPA1361\\epa1361_open\\Week 3-4 - vulnerability analysis\\data'\n",
    "print(\"Current working directory is:\", cwd)"
   ]
  },
  {
   "cell_type": "code",
   "execution_count": 18,
   "metadata": {},
   "outputs": [
    {
     "name": "stdout",
     "output_type": "stream",
     "text": [
      "Current data path is: C:\\Users\\sahit\\EPA1361\\epa1361_open\\Week 3-4 - vulnerability analysis\\data\n"
     ]
    }
   ],
   "source": [
    "print(\"Current data path is:\", data_path)"
   ]
  },
  {
   "cell_type": "code",
   "execution_count": 16,
   "metadata": {},
   "outputs": [],
   "source": [
    "data = pd.read_csv(data_path + '/Bryant et al 2010.csv', index_col=False)"
   ]
  },
  {
   "cell_type": "code",
   "execution_count": 19,
   "metadata": {},
   "outputs": [
    {
     "data": {
      "text/html": [
       "<div>\n",
       "<style scoped>\n",
       "    .dataframe tbody tr th:only-of-type {\n",
       "        vertical-align: middle;\n",
       "    }\n",
       "\n",
       "    .dataframe tbody tr th {\n",
       "        vertical-align: top;\n",
       "    }\n",
       "\n",
       "    .dataframe thead th {\n",
       "        text-align: right;\n",
       "    }\n",
       "</style>\n",
       "<table border=\"1\" class=\"dataframe\">\n",
       "  <thead>\n",
       "    <tr style=\"text-align: right;\">\n",
       "      <th></th>\n",
       "      <th>renew req %</th>\n",
       "      <th>Pricing</th>\n",
       "      <th>Cellulosic cost</th>\n",
       "      <th>Total biomass</th>\n",
       "      <th>Feedstock distribution</th>\n",
       "      <th>Cellulosic yield</th>\n",
       "      <th>Oil elasticity</th>\n",
       "      <th>Demand elasticity</th>\n",
       "      <th>Electricity coproduction</th>\n",
       "      <th>oil supply shift</th>\n",
       "      <th>Biomass backstop price</th>\n",
       "      <th>input record</th>\n",
       "      <th>Expen change</th>\n",
       "      <th>Incremental cost</th>\n",
       "      <th>Less than 10%</th>\n",
       "      <th>Greater than 90%</th>\n",
       "    </tr>\n",
       "  </thead>\n",
       "  <tbody>\n",
       "    <tr>\n",
       "      <td>0</td>\n",
       "      <td>0.25</td>\n",
       "      <td>1</td>\n",
       "      <td>124.900001</td>\n",
       "      <td>612.799988</td>\n",
       "      <td>0.04</td>\n",
       "      <td>89.500000</td>\n",
       "      <td>0.206</td>\n",
       "      <td>-0.469</td>\n",
       "      <td>1.83</td>\n",
       "      <td>0.078</td>\n",
       "      <td>162.199997</td>\n",
       "      <td>1001</td>\n",
       "      <td>60.00</td>\n",
       "      <td>276.47</td>\n",
       "      <td>0</td>\n",
       "      <td>0</td>\n",
       "    </tr>\n",
       "    <tr>\n",
       "      <td>1</td>\n",
       "      <td>0.25</td>\n",
       "      <td>1</td>\n",
       "      <td>67.300003</td>\n",
       "      <td>837.200012</td>\n",
       "      <td>0.18</td>\n",
       "      <td>95.900002</td>\n",
       "      <td>0.277</td>\n",
       "      <td>-0.380</td>\n",
       "      <td>0.01</td>\n",
       "      <td>-0.032</td>\n",
       "      <td>150.300003</td>\n",
       "      <td>1002</td>\n",
       "      <td>19.42</td>\n",
       "      <td>85.07</td>\n",
       "      <td>0</td>\n",
       "      <td>0</td>\n",
       "    </tr>\n",
       "    <tr>\n",
       "      <td>2</td>\n",
       "      <td>0.25</td>\n",
       "      <td>1</td>\n",
       "      <td>71.000000</td>\n",
       "      <td>740.400024</td>\n",
       "      <td>0.80</td>\n",
       "      <td>83.500000</td>\n",
       "      <td>0.445</td>\n",
       "      <td>-0.778</td>\n",
       "      <td>0.25</td>\n",
       "      <td>-0.093</td>\n",
       "      <td>135.800003</td>\n",
       "      <td>1003</td>\n",
       "      <td>17.76</td>\n",
       "      <td>200.11</td>\n",
       "      <td>0</td>\n",
       "      <td>0</td>\n",
       "    </tr>\n",
       "    <tr>\n",
       "      <td>3</td>\n",
       "      <td>0.25</td>\n",
       "      <td>1</td>\n",
       "      <td>80.099998</td>\n",
       "      <td>995.599976</td>\n",
       "      <td>0.58</td>\n",
       "      <td>82.400002</td>\n",
       "      <td>0.291</td>\n",
       "      <td>-0.334</td>\n",
       "      <td>0.08</td>\n",
       "      <td>-0.086</td>\n",
       "      <td>98.800003</td>\n",
       "      <td>1004</td>\n",
       "      <td>37.88</td>\n",
       "      <td>130.86</td>\n",
       "      <td>0</td>\n",
       "      <td>0</td>\n",
       "    </tr>\n",
       "    <tr>\n",
       "      <td>4</td>\n",
       "      <td>0.25</td>\n",
       "      <td>1</td>\n",
       "      <td>76.400002</td>\n",
       "      <td>476.399994</td>\n",
       "      <td>0.79</td>\n",
       "      <td>97.500000</td>\n",
       "      <td>0.443</td>\n",
       "      <td>-0.205</td>\n",
       "      <td>1.59</td>\n",
       "      <td>0.073</td>\n",
       "      <td>163.500000</td>\n",
       "      <td>1006</td>\n",
       "      <td>66.13</td>\n",
       "      <td>180.11</td>\n",
       "      <td>0</td>\n",
       "      <td>0</td>\n",
       "    </tr>\n",
       "  </tbody>\n",
       "</table>\n",
       "</div>"
      ],
      "text/plain": [
       "   renew req %  Pricing  Cellulosic cost  Total biomass  \\\n",
       "0         0.25        1       124.900001     612.799988   \n",
       "1         0.25        1        67.300003     837.200012   \n",
       "2         0.25        1        71.000000     740.400024   \n",
       "3         0.25        1        80.099998     995.599976   \n",
       "4         0.25        1        76.400002     476.399994   \n",
       "\n",
       "   Feedstock distribution  Cellulosic yield  Oil elasticity  \\\n",
       "0                    0.04         89.500000           0.206   \n",
       "1                    0.18         95.900002           0.277   \n",
       "2                    0.80         83.500000           0.445   \n",
       "3                    0.58         82.400002           0.291   \n",
       "4                    0.79         97.500000           0.443   \n",
       "\n",
       "   Demand elasticity  Electricity coproduction  oil supply shift  \\\n",
       "0             -0.469                      1.83             0.078   \n",
       "1             -0.380                      0.01            -0.032   \n",
       "2             -0.778                      0.25            -0.093   \n",
       "3             -0.334                      0.08            -0.086   \n",
       "4             -0.205                      1.59             0.073   \n",
       "\n",
       "   Biomass backstop price  input record  Expen change  Incremental cost  \\\n",
       "0              162.199997          1001         60.00            276.47   \n",
       "1              150.300003          1002         19.42             85.07   \n",
       "2              135.800003          1003         17.76            200.11   \n",
       "3               98.800003          1004         37.88            130.86   \n",
       "4              163.500000          1006         66.13            180.11   \n",
       "\n",
       "   Less than 10%  Greater than 90%  \n",
       "0              0                 0  \n",
       "1              0                 0  \n",
       "2              0                 0  \n",
       "3              0                 0  \n",
       "4              0                 0  "
      ]
     },
     "execution_count": 19,
     "metadata": {},
     "output_type": "execute_result"
    }
   ],
   "source": [
    "#Gain insight into data\n",
    "data.head()"
   ]
  },
  {
   "cell_type": "code",
   "execution_count": 20,
   "metadata": {},
   "outputs": [
    {
     "data": {
      "text/html": [
       "<div>\n",
       "<style scoped>\n",
       "    .dataframe tbody tr th:only-of-type {\n",
       "        vertical-align: middle;\n",
       "    }\n",
       "\n",
       "    .dataframe tbody tr th {\n",
       "        vertical-align: top;\n",
       "    }\n",
       "\n",
       "    .dataframe thead th {\n",
       "        text-align: right;\n",
       "    }\n",
       "</style>\n",
       "<table border=\"1\" class=\"dataframe\">\n",
       "  <thead>\n",
       "    <tr style=\"text-align: right;\">\n",
       "      <th></th>\n",
       "      <th>renew req %</th>\n",
       "      <th>Pricing</th>\n",
       "      <th>Cellulosic cost</th>\n",
       "      <th>Total biomass</th>\n",
       "      <th>Feedstock distribution</th>\n",
       "      <th>Cellulosic yield</th>\n",
       "      <th>Oil elasticity</th>\n",
       "      <th>Demand elasticity</th>\n",
       "      <th>Electricity coproduction</th>\n",
       "      <th>oil supply shift</th>\n",
       "      <th>Biomass backstop price</th>\n",
       "      <th>input record</th>\n",
       "      <th>Expen change</th>\n",
       "      <th>Incremental cost</th>\n",
       "      <th>Less than 10%</th>\n",
       "      <th>Greater than 90%</th>\n",
       "    </tr>\n",
       "  </thead>\n",
       "  <tbody>\n",
       "    <tr>\n",
       "      <td>573</td>\n",
       "      <td>0.25</td>\n",
       "      <td>1</td>\n",
       "      <td>110.699997</td>\n",
       "      <td>544.599976</td>\n",
       "      <td>0.50</td>\n",
       "      <td>93.099998</td>\n",
       "      <td>0.429</td>\n",
       "      <td>-0.426</td>\n",
       "      <td>0.07</td>\n",
       "      <td>-0.063</td>\n",
       "      <td>186.399994</td>\n",
       "      <td>1653</td>\n",
       "      <td>77.40</td>\n",
       "      <td>291.45</td>\n",
       "      <td>0</td>\n",
       "      <td>0</td>\n",
       "    </tr>\n",
       "    <tr>\n",
       "      <td>599</td>\n",
       "      <td>0.25</td>\n",
       "      <td>1</td>\n",
       "      <td>113.099999</td>\n",
       "      <td>465.399994</td>\n",
       "      <td>0.66</td>\n",
       "      <td>83.199997</td>\n",
       "      <td>0.587</td>\n",
       "      <td>-0.490</td>\n",
       "      <td>1.58</td>\n",
       "      <td>0.018</td>\n",
       "      <td>185.000000</td>\n",
       "      <td>1679</td>\n",
       "      <td>76.87</td>\n",
       "      <td>334.83</td>\n",
       "      <td>0</td>\n",
       "      <td>0</td>\n",
       "    </tr>\n",
       "    <tr>\n",
       "      <td>73</td>\n",
       "      <td>0.25</td>\n",
       "      <td>1</td>\n",
       "      <td>133.199997</td>\n",
       "      <td>577.599976</td>\n",
       "      <td>0.21</td>\n",
       "      <td>90.199997</td>\n",
       "      <td>0.438</td>\n",
       "      <td>-0.459</td>\n",
       "      <td>0.42</td>\n",
       "      <td>0.026</td>\n",
       "      <td>177.100006</td>\n",
       "      <td>1089</td>\n",
       "      <td>76.18</td>\n",
       "      <td>315.42</td>\n",
       "      <td>0</td>\n",
       "      <td>0</td>\n",
       "    </tr>\n",
       "    <tr>\n",
       "      <td>824</td>\n",
       "      <td>0.25</td>\n",
       "      <td>1</td>\n",
       "      <td>122.199997</td>\n",
       "      <td>929.599976</td>\n",
       "      <td>0.30</td>\n",
       "      <td>85.000000</td>\n",
       "      <td>0.386</td>\n",
       "      <td>-0.246</td>\n",
       "      <td>0.07</td>\n",
       "      <td>0.082</td>\n",
       "      <td>113.800003</td>\n",
       "      <td>1939</td>\n",
       "      <td>76.13</td>\n",
       "      <td>220.31</td>\n",
       "      <td>0</td>\n",
       "      <td>0</td>\n",
       "    </tr>\n",
       "    <tr>\n",
       "      <td>493</td>\n",
       "      <td>0.25</td>\n",
       "      <td>1</td>\n",
       "      <td>83.300003</td>\n",
       "      <td>722.799988</td>\n",
       "      <td>0.79</td>\n",
       "      <td>82.000000</td>\n",
       "      <td>0.202</td>\n",
       "      <td>-0.217</td>\n",
       "      <td>0.52</td>\n",
       "      <td>-0.091</td>\n",
       "      <td>122.599999</td>\n",
       "      <td>1560</td>\n",
       "      <td>75.81</td>\n",
       "      <td>208.42</td>\n",
       "      <td>0</td>\n",
       "      <td>0</td>\n",
       "    </tr>\n",
       "    <tr>\n",
       "      <td>...</td>\n",
       "      <td>...</td>\n",
       "      <td>...</td>\n",
       "      <td>...</td>\n",
       "      <td>...</td>\n",
       "      <td>...</td>\n",
       "      <td>...</td>\n",
       "      <td>...</td>\n",
       "      <td>...</td>\n",
       "      <td>...</td>\n",
       "      <td>...</td>\n",
       "      <td>...</td>\n",
       "      <td>...</td>\n",
       "      <td>...</td>\n",
       "      <td>...</td>\n",
       "      <td>...</td>\n",
       "      <td>...</td>\n",
       "    </tr>\n",
       "    <tr>\n",
       "      <td>612</td>\n",
       "      <td>0.25</td>\n",
       "      <td>1</td>\n",
       "      <td>67.000000</td>\n",
       "      <td>980.200012</td>\n",
       "      <td>0.74</td>\n",
       "      <td>99.900002</td>\n",
       "      <td>0.280</td>\n",
       "      <td>-0.265</td>\n",
       "      <td>0.31</td>\n",
       "      <td>0.002</td>\n",
       "      <td>122.599999</td>\n",
       "      <td>1692</td>\n",
       "      <td>3.02</td>\n",
       "      <td>31.90</td>\n",
       "      <td>1</td>\n",
       "      <td>0</td>\n",
       "    </tr>\n",
       "    <tr>\n",
       "      <td>84</td>\n",
       "      <td>0.25</td>\n",
       "      <td>1</td>\n",
       "      <td>82.500000</td>\n",
       "      <td>795.400024</td>\n",
       "      <td>0.97</td>\n",
       "      <td>99.500000</td>\n",
       "      <td>0.330</td>\n",
       "      <td>-0.735</td>\n",
       "      <td>0.58</td>\n",
       "      <td>0.014</td>\n",
       "      <td>168.300003</td>\n",
       "      <td>1102</td>\n",
       "      <td>2.20</td>\n",
       "      <td>51.61</td>\n",
       "      <td>1</td>\n",
       "      <td>0</td>\n",
       "    </tr>\n",
       "    <tr>\n",
       "      <td>449</td>\n",
       "      <td>0.25</td>\n",
       "      <td>1</td>\n",
       "      <td>74.800003</td>\n",
       "      <td>819.599976</td>\n",
       "      <td>0.28</td>\n",
       "      <td>93.800003</td>\n",
       "      <td>0.296</td>\n",
       "      <td>-0.716</td>\n",
       "      <td>1.92</td>\n",
       "      <td>0.024</td>\n",
       "      <td>193.800003</td>\n",
       "      <td>1511</td>\n",
       "      <td>2.15</td>\n",
       "      <td>51.01</td>\n",
       "      <td>1</td>\n",
       "      <td>0</td>\n",
       "    </tr>\n",
       "    <tr>\n",
       "      <td>296</td>\n",
       "      <td>0.25</td>\n",
       "      <td>1</td>\n",
       "      <td>72.400002</td>\n",
       "      <td>956.000000</td>\n",
       "      <td>0.39</td>\n",
       "      <td>96.199997</td>\n",
       "      <td>0.504</td>\n",
       "      <td>-0.798</td>\n",
       "      <td>0.24</td>\n",
       "      <td>0.065</td>\n",
       "      <td>94.400002</td>\n",
       "      <td>1345</td>\n",
       "      <td>0.54</td>\n",
       "      <td>38.39</td>\n",
       "      <td>1</td>\n",
       "      <td>0</td>\n",
       "    </tr>\n",
       "    <tr>\n",
       "      <td>105</td>\n",
       "      <td>0.25</td>\n",
       "      <td>1</td>\n",
       "      <td>69.400002</td>\n",
       "      <td>870.200012</td>\n",
       "      <td>0.70</td>\n",
       "      <td>99.000000</td>\n",
       "      <td>0.211</td>\n",
       "      <td>-0.366</td>\n",
       "      <td>1.33</td>\n",
       "      <td>0.093</td>\n",
       "      <td>158.199997</td>\n",
       "      <td>1126</td>\n",
       "      <td>-3.09</td>\n",
       "      <td>21.89</td>\n",
       "      <td>1</td>\n",
       "      <td>0</td>\n",
       "    </tr>\n",
       "  </tbody>\n",
       "</table>\n",
       "<p>793 rows × 16 columns</p>\n",
       "</div>"
      ],
      "text/plain": [
       "     renew req %  Pricing  Cellulosic cost  Total biomass  \\\n",
       "573         0.25        1       110.699997     544.599976   \n",
       "599         0.25        1       113.099999     465.399994   \n",
       "73          0.25        1       133.199997     577.599976   \n",
       "824         0.25        1       122.199997     929.599976   \n",
       "493         0.25        1        83.300003     722.799988   \n",
       "..           ...      ...              ...            ...   \n",
       "612         0.25        1        67.000000     980.200012   \n",
       "84          0.25        1        82.500000     795.400024   \n",
       "449         0.25        1        74.800003     819.599976   \n",
       "296         0.25        1        72.400002     956.000000   \n",
       "105         0.25        1        69.400002     870.200012   \n",
       "\n",
       "     Feedstock distribution  Cellulosic yield  Oil elasticity  \\\n",
       "573                    0.50         93.099998           0.429   \n",
       "599                    0.66         83.199997           0.587   \n",
       "73                     0.21         90.199997           0.438   \n",
       "824                    0.30         85.000000           0.386   \n",
       "493                    0.79         82.000000           0.202   \n",
       "..                      ...               ...             ...   \n",
       "612                    0.74         99.900002           0.280   \n",
       "84                     0.97         99.500000           0.330   \n",
       "449                    0.28         93.800003           0.296   \n",
       "296                    0.39         96.199997           0.504   \n",
       "105                    0.70         99.000000           0.211   \n",
       "\n",
       "     Demand elasticity  Electricity coproduction  oil supply shift  \\\n",
       "573             -0.426                      0.07            -0.063   \n",
       "599             -0.490                      1.58             0.018   \n",
       "73              -0.459                      0.42             0.026   \n",
       "824             -0.246                      0.07             0.082   \n",
       "493             -0.217                      0.52            -0.091   \n",
       "..                 ...                       ...               ...   \n",
       "612             -0.265                      0.31             0.002   \n",
       "84              -0.735                      0.58             0.014   \n",
       "449             -0.716                      1.92             0.024   \n",
       "296             -0.798                      0.24             0.065   \n",
       "105             -0.366                      1.33             0.093   \n",
       "\n",
       "     Biomass backstop price  input record  Expen change  Incremental cost  \\\n",
       "573              186.399994          1653         77.40            291.45   \n",
       "599              185.000000          1679         76.87            334.83   \n",
       "73               177.100006          1089         76.18            315.42   \n",
       "824              113.800003          1939         76.13            220.31   \n",
       "493              122.599999          1560         75.81            208.42   \n",
       "..                      ...           ...           ...               ...   \n",
       "612              122.599999          1692          3.02             31.90   \n",
       "84               168.300003          1102          2.20             51.61   \n",
       "449              193.800003          1511          2.15             51.01   \n",
       "296               94.400002          1345          0.54             38.39   \n",
       "105              158.199997          1126         -3.09             21.89   \n",
       "\n",
       "     Less than 10%  Greater than 90%  \n",
       "573              0                 0  \n",
       "599              0                 0  \n",
       "73               0                 0  \n",
       "824              0                 0  \n",
       "493              0                 0  \n",
       "..             ...               ...  \n",
       "612              1                 0  \n",
       "84               1                 0  \n",
       "449              1                 0  \n",
       "296              1                 0  \n",
       "105              1                 0  \n",
       "\n",
       "[793 rows x 16 columns]"
      ]
     },
     "execution_count": 20,
     "metadata": {},
     "output_type": "execute_result"
    }
   ],
   "source": [
    "#Note: \n",
    "#We are trying to classify the outcomes of interest with unreasonably high costs.\n",
    "\n",
    "#Bryant & Lempert (2010) says that they label the column 'Greater than 90%' equal to 1 when the cost was greater than 78 billion dollars for their 25 x 25 policy \n",
    "#to ID all outcomes with really high cost.\n",
    "#In our dataset, the \"high costs\" is refering to \"Expen change\" (i.e. 'Expen change' >= 78)\n",
    "\n",
    "data[data['Greater than 90%'] == 0].sort_values('Expen change', ascending = False)"
   ]
  },
  {
   "cell_type": "markdown",
   "metadata": {},
   "source": [
    "### Method 1"
   ]
  },
  {
   "cell_type": "code",
   "execution_count": 24,
   "metadata": {},
   "outputs": [
    {
     "name": "stderr",
     "output_type": "stream",
     "text": [
      "[MainProcess/INFO] 882 points remaining, containing 89 cases of interest\n",
      "[MainProcess/INFO] mean: 1.0, mass: 0.05102040816326531, coverage: 0.5056179775280899, density: 1.0 restricted_dimensions: 6\n"
     ]
    }
   ],
   "source": [
    "#Replicate results from  Byrant & Lemptert (2010)\n",
    "\n",
    "from ema_workbench.analysis import prim\n",
    "from ema_workbench.util import ema_logging\n",
    "\n",
    "ema_logging.log_to_stderr(ema_logging.INFO)\n",
    "\n",
    "x = data.iloc[:, 2:11] #Experiments in columns 2-10\n",
    "y = data.iloc[:, 12] >78 #'Expen change' greater than 78 billion dollars\n",
    "\n",
    "prim_alg1 = prim.Prim(x, y, threshold=0.8, peel_alpha=0.1) #peel_alpha of 10% instead of 5%\n",
    "box1 = prim_alg1.find_box()"
   ]
  },
  {
   "cell_type": "code",
   "execution_count": 25,
   "metadata": {},
   "outputs": [
    {
     "data": {
      "application/vnd.vegalite.v3+json": {
       "$schema": "https://vega.github.io/schema/vega-lite/v3.4.0.json",
       "config": {
        "mark": {
         "tooltip": null
        },
        "view": {
         "height": 300,
         "width": 400
        }
       },
       "datasets": {
        "data-17256ee1b01d486f61a8245021b6fdb4": [
         {
          "id": 1,
          "maximum": -0.20200000699999998,
          "minimum": -0.800000012,
          "name": "Demand elasticity",
          "qp_lower": 0.15567859087818106,
          "qp_upper": -1,
          "x1": -0.736499995,
          "x2": -0.20200000699999998
         },
         {
          "id": 2,
          "maximum": 997.7999877999998,
          "minimum": 450,
          "name": "Total biomass",
          "qp_lower": -1,
          "qp_upper": 0.15036814250222819,
          "x1": 450,
          "x2": 941.6999817
         },
         {
          "id": 2,
          "maximum": -0.20200000699999998,
          "minimum": -0.800000012,
          "name": "Demand elasticity",
          "qp_lower": 0.17126801041565082,
          "qp_upper": -1,
          "x1": -0.736499995,
          "x2": -0.20200000699999998
         },
         {
          "id": 3,
          "maximum": 997.7999877999998,
          "minimum": 450,
          "name": "Total biomass",
          "qp_lower": -1,
          "qp_upper": 0.16066906169067552,
          "x1": 450,
          "x2": 941.6999817
         },
         {
          "id": 3,
          "maximum": -0.20200000699999998,
          "minimum": -0.800000012,
          "name": "Demand elasticity",
          "qp_lower": 0.024179119394642727,
          "qp_upper": -1,
          "x1": -0.67899999,
          "x2": -0.20200000699999998
         },
         {
          "id": 4,
          "maximum": 997.7999877999998,
          "minimum": 450,
          "name": "Total biomass",
          "qp_lower": -1,
          "qp_upper": 0.1582504943092038,
          "x1": 450,
          "x2": 941.6999817
         },
         {
          "id": 4,
          "maximum": -0.20200000699999998,
          "minimum": -0.800000012,
          "name": "Demand elasticity",
          "qp_lower": 0.01869374448754718,
          "qp_upper": -1,
          "x1": -0.67899999,
          "x2": -0.20200000699999998
         },
         {
          "id": 4,
          "maximum": 199.6000061,
          "minimum": 90,
          "name": "Biomass backstop price",
          "qp_lower": 0.15093775943669646,
          "qp_upper": -1,
          "x1": 99,
          "x2": 199.6000061
         },
         {
          "id": 5,
          "maximum": 997.7999877999998,
          "minimum": 450,
          "name": "Total biomass",
          "qp_lower": -1,
          "qp_upper": 0.15767530190249052,
          "x1": 450,
          "x2": 941.6999817
         },
         {
          "id": 5,
          "maximum": -0.20200000699999998,
          "minimum": -0.800000012,
          "name": "Demand elasticity",
          "qp_lower": 0.014570135302827058,
          "qp_upper": -1,
          "x1": -0.67899999,
          "x2": -0.20200000699999998
         },
         {
          "id": 5,
          "maximum": 199.6000061,
          "minimum": 90,
          "name": "Biomass backstop price",
          "qp_lower": 0.01750459386231017,
          "qp_upper": -1,
          "x1": 107.79999925000001,
          "x2": 199.6000061
         },
         {
          "id": 6,
          "maximum": 997.7999877999998,
          "minimum": 450,
          "name": "Total biomass",
          "qp_lower": -1,
          "qp_upper": 0.16403574346781943,
          "x1": 450,
          "x2": 941.6999817
         },
         {
          "id": 6,
          "maximum": -0.20200000699999998,
          "minimum": -0.800000012,
          "name": "Demand elasticity",
          "qp_lower": 0.0005345457273466057,
          "qp_upper": -1,
          "x1": -0.6234999895,
          "x2": -0.20200000699999998
         },
         {
          "id": 6,
          "maximum": 199.6000061,
          "minimum": 90,
          "name": "Biomass backstop price",
          "qp_lower": 0.01680217074614521,
          "qp_upper": -1,
          "x1": 107.79999925000001,
          "x2": 199.6000061
         },
         {
          "id": 7,
          "maximum": 997.7999877999998,
          "minimum": 450,
          "name": "Total biomass",
          "qp_lower": -1,
          "qp_upper": 0.15206226977593904,
          "x1": 450,
          "x2": 941.6999817
         },
         {
          "id": 7,
          "maximum": -0.20200000699999998,
          "minimum": -0.800000012,
          "name": "Demand elasticity",
          "qp_lower": 1.1959548273363549e-05,
          "qp_upper": -1,
          "x1": -0.587500006,
          "x2": -0.20200000699999998
         },
         {
          "id": 7,
          "maximum": 199.6000061,
          "minimum": 90,
          "name": "Biomass backstop price",
          "qp_lower": 0.014480475147308559,
          "qp_upper": -1,
          "x1": 107.79999925000001,
          "x2": 199.6000061
         },
         {
          "id": 8,
          "maximum": 997.7999877999998,
          "minimum": 450,
          "name": "Total biomass",
          "qp_lower": -1,
          "qp_upper": 0.15567258984799767,
          "x1": 450,
          "x2": 941.6999817
         },
         {
          "id": 8,
          "maximum": -0.20200000699999998,
          "minimum": -0.800000012,
          "name": "Demand elasticity",
          "qp_lower": 8.043959624595656e-08,
          "qp_upper": -1,
          "x1": -0.5444999935,
          "x2": -0.20200000699999998
         },
         {
          "id": 8,
          "maximum": 199.6000061,
          "minimum": 90,
          "name": "Biomass backstop price",
          "qp_lower": 0.014250517383184969,
          "qp_upper": -1,
          "x1": 107.79999925000001,
          "x2": 199.6000061
         },
         {
          "id": 9,
          "maximum": 997.7999877999998,
          "minimum": 450,
          "name": "Total biomass",
          "qp_lower": -1,
          "qp_upper": 0.1646643900517584,
          "x1": 450,
          "x2": 941.6999817
         },
         {
          "id": 9,
          "maximum": -0.20200000699999998,
          "minimum": -0.800000012,
          "name": "Demand elasticity",
          "qp_lower": 2.4063949854413555e-10,
          "qp_upper": -1,
          "x1": -0.5034999845,
          "x2": -0.20200000699999998
         },
         {
          "id": 9,
          "maximum": 199.6000061,
          "minimum": 90,
          "name": "Biomass backstop price",
          "qp_lower": 0.01714693435236218,
          "qp_upper": -1,
          "x1": 107.79999925000001,
          "x2": 199.6000061
         },
         {
          "id": 10,
          "maximum": 997.7999877999998,
          "minimum": 450,
          "name": "Total biomass",
          "qp_lower": -1,
          "qp_upper": 0.1355039311510741,
          "x1": 450,
          "x2": 941.6999817
         },
         {
          "id": 10,
          "maximum": -0.20200000699999998,
          "minimum": -0.800000012,
          "name": "Demand elasticity",
          "qp_lower": 4.720972268427343e-13,
          "qp_upper": -1,
          "x1": -0.47500000900000006,
          "x2": -0.20200000699999998
         },
         {
          "id": 10,
          "maximum": 199.6000061,
          "minimum": 90,
          "name": "Biomass backstop price",
          "qp_lower": 0.015004237410379491,
          "qp_upper": -1,
          "x1": 107.79999925000001,
          "x2": 199.6000061
         },
         {
          "id": 11,
          "maximum": 997.7999877999998,
          "minimum": 450,
          "name": "Total biomass",
          "qp_lower": -1,
          "qp_upper": 0.014213152799633097,
          "x1": 450,
          "x2": 883.3999939000001
         },
         {
          "id": 11,
          "maximum": -0.20200000699999998,
          "minimum": -0.800000012,
          "name": "Demand elasticity",
          "qp_lower": 3.45141890004957e-13,
          "qp_upper": -1,
          "x1": -0.47500000900000006,
          "x2": -0.20200000699999998
         },
         {
          "id": 11,
          "maximum": 199.6000061,
          "minimum": 90,
          "name": "Biomass backstop price",
          "qp_lower": 0.012419231005334175,
          "qp_upper": -1,
          "x1": 107.79999925000001,
          "x2": 199.6000061
         },
         {
          "id": 12,
          "maximum": 997.7999877999998,
          "minimum": 450,
          "name": "Total biomass",
          "qp_lower": -1,
          "qp_upper": 0.013552596444919511,
          "x1": 450,
          "x2": 883.3999939000001
         },
         {
          "id": 12,
          "maximum": -0.20200000699999998,
          "minimum": -0.800000012,
          "name": "Demand elasticity",
          "qp_lower": 7.966577415207318e-16,
          "qp_upper": -1,
          "x1": -0.4484999925,
          "x2": -0.20200000699999998
         },
         {
          "id": 12,
          "maximum": 199.6000061,
          "minimum": 90,
          "name": "Biomass backstop price",
          "qp_lower": 0.010950640956138607,
          "qp_upper": -1,
          "x1": 107.79999925000001,
          "x2": 199.6000061
         },
         {
          "id": 13,
          "maximum": 997.7999877999998,
          "minimum": 450,
          "name": "Total biomass",
          "qp_lower": -1,
          "qp_upper": 0.015250570775505928,
          "x1": 450,
          "x2": 883.3999939000001
         },
         {
          "id": 13,
          "maximum": -0.20200000699999998,
          "minimum": -0.800000012,
          "name": "Demand elasticity",
          "qp_lower": 1.9341961572332282e-15,
          "qp_upper": -1,
          "x1": -0.4484999925,
          "x2": -0.20200000699999998
         },
         {
          "id": 13,
          "maximum": 199.6000061,
          "minimum": 90,
          "name": "Biomass backstop price",
          "qp_lower": 0.0005064053134945382,
          "qp_upper": -1,
          "x1": 117.75,
          "x2": 199.6000061
         },
         {
          "id": 14,
          "maximum": 133.6999969,
          "minimum": 67,
          "name": "Cellulosic cost",
          "qp_lower": 0.13829905925159938,
          "qp_upper": -1,
          "x1": 72.65000153,
          "x2": 133.6999969
         },
         {
          "id": 14,
          "maximum": 997.7999877999998,
          "minimum": 450,
          "name": "Total biomass",
          "qp_lower": -1,
          "qp_upper": 0.011843209958410856,
          "x1": 450,
          "x2": 883.3999939000001
         },
         {
          "id": 14,
          "maximum": -0.20200000699999998,
          "minimum": -0.800000012,
          "name": "Demand elasticity",
          "qp_lower": 9.841247999770891e-16,
          "qp_upper": -1,
          "x1": -0.4484999925,
          "x2": -0.20200000699999998
         },
         {
          "id": 14,
          "maximum": 199.6000061,
          "minimum": 90,
          "name": "Biomass backstop price",
          "qp_lower": 0.00038448125125483616,
          "qp_upper": -1,
          "x1": 117.75,
          "x2": 199.6000061
         },
         {
          "id": 15,
          "maximum": 133.6999969,
          "minimum": 67,
          "name": "Cellulosic cost",
          "qp_lower": 0.1752659916432423,
          "qp_upper": -1,
          "x1": 72.65000153,
          "x2": 133.6999969
         },
         {
          "id": 15,
          "maximum": 997.7999877999998,
          "minimum": 450,
          "name": "Total biomass",
          "qp_lower": -1,
          "qp_upper": 0.0009330153008306858,
          "x1": 450,
          "x2": 820.6999817
         },
         {
          "id": 15,
          "maximum": -0.20200000699999998,
          "minimum": -0.800000012,
          "name": "Demand elasticity",
          "qp_lower": 1.2536488356413411e-15,
          "qp_upper": -1,
          "x1": -0.4484999925,
          "x2": -0.20200000699999998
         },
         {
          "id": 15,
          "maximum": 199.6000061,
          "minimum": 90,
          "name": "Biomass backstop price",
          "qp_lower": 0.00042287764927487393,
          "qp_upper": -1,
          "x1": 117.75,
          "x2": 199.6000061
         },
         {
          "id": 16,
          "maximum": 133.6999969,
          "minimum": 67,
          "name": "Cellulosic cost",
          "qp_lower": 0.1367164754746075,
          "qp_upper": -1,
          "x1": 72.65000153,
          "x2": 133.6999969
         },
         {
          "id": 16,
          "maximum": 997.7999877999998,
          "minimum": 450,
          "name": "Total biomass",
          "qp_lower": -1,
          "qp_upper": 0.0002230800655922319,
          "x1": 450,
          "x2": 820.6999817
         },
         {
          "id": 16,
          "maximum": -0.20200000699999998,
          "minimum": -0.800000012,
          "name": "Demand elasticity",
          "qp_lower": 4.099990762669204e-16,
          "qp_upper": -1,
          "x1": -0.4484999925,
          "x2": -0.20200000699999998
         },
         {
          "id": 16,
          "maximum": 199.6000061,
          "minimum": 90,
          "name": "Biomass backstop price",
          "qp_lower": 5.357566227704689e-06,
          "qp_upper": -1,
          "x1": 125.84999845,
          "x2": 199.6000061
         },
         {
          "id": 17,
          "maximum": 133.6999969,
          "minimum": 67,
          "name": "Cellulosic cost",
          "qp_lower": 0.13782095533934255,
          "qp_upper": -1,
          "x1": 72.65000153,
          "x2": 133.6999969
         },
         {
          "id": 17,
          "maximum": 997.7999877999998,
          "minimum": 450,
          "name": "Total biomass",
          "qp_lower": -1,
          "qp_upper": 1.0096567049920263e-05,
          "x1": 450,
          "x2": 755.7999878
         },
         {
          "id": 17,
          "maximum": -0.20200000699999998,
          "minimum": -0.800000012,
          "name": "Demand elasticity",
          "qp_lower": 2.881049028194584e-15,
          "qp_upper": -1,
          "x1": -0.4484999925,
          "x2": -0.20200000699999998
         },
         {
          "id": 17,
          "maximum": 199.6000061,
          "minimum": 90,
          "name": "Biomass backstop price",
          "qp_lower": 7.743676817999898e-06,
          "qp_upper": -1,
          "x1": 125.84999845,
          "x2": 199.6000061
         },
         {
          "id": 18,
          "maximum": 133.6999969,
          "minimum": 67,
          "name": "Cellulosic cost",
          "qp_lower": 0.14042413787934896,
          "qp_upper": -1,
          "x1": 72.65000153,
          "x2": 133.6999969
         },
         {
          "id": 18,
          "maximum": 997.7999877999998,
          "minimum": 450,
          "name": "Total biomass",
          "qp_lower": -1,
          "qp_upper": 9.110075586088953e-06,
          "x1": 450,
          "x2": 755.7999878
         },
         {
          "id": 18,
          "maximum": -0.20200000699999998,
          "minimum": -0.800000012,
          "name": "Demand elasticity",
          "qp_lower": 9.780821531363044e-16,
          "qp_upper": -1,
          "x1": -0.4484999925,
          "x2": -0.20200000699999998
         },
         {
          "id": 18,
          "maximum": 199.6000061,
          "minimum": 90,
          "name": "Biomass backstop price",
          "qp_lower": 1.7806081116553994e-07,
          "qp_upper": -1,
          "x1": 132.4500046,
          "x2": 199.6000061
         },
         {
          "id": 19,
          "maximum": 133.6999969,
          "minimum": 67,
          "name": "Cellulosic cost",
          "qp_lower": 0.09570716574070869,
          "qp_upper": -1,
          "x1": 72.65000153,
          "x2": 133.6999969
         },
         {
          "id": 19,
          "maximum": 997.7999877999998,
          "minimum": 450,
          "name": "Total biomass",
          "qp_lower": -1,
          "qp_upper": 1.3682020075321227e-06,
          "x1": 450,
          "x2": 755.7999878
         },
         {
          "id": 19,
          "maximum": -0.20200000699999998,
          "minimum": -0.800000012,
          "name": "Demand elasticity",
          "qp_lower": 5.62079942387577e-17,
          "qp_upper": -1,
          "x1": -0.4484999925,
          "x2": -0.20200000699999998
         },
         {
          "id": 19,
          "maximum": 199.6000061,
          "minimum": 90,
          "name": "Biomass backstop price",
          "qp_lower": 3.227320464849011e-10,
          "qp_upper": -1,
          "x1": 138.5999985,
          "x2": 199.6000061
         },
         {
          "id": 20,
          "maximum": 133.6999969,
          "minimum": 67,
          "name": "Cellulosic cost",
          "qp_lower": 0.10301317448152089,
          "qp_upper": -1,
          "x1": 72.65000153,
          "x2": 133.6999969
         },
         {
          "id": 20,
          "maximum": 997.7999877999998,
          "minimum": 450,
          "name": "Total biomass",
          "qp_lower": -1,
          "qp_upper": 1.0998160915512434e-06,
          "x1": 450,
          "x2": 755.7999878
         },
         {
          "id": 20,
          "maximum": -0.20200000699999998,
          "minimum": -0.800000012,
          "name": "Demand elasticity",
          "qp_lower": 7.079941163959903e-19,
          "qp_upper": -1,
          "x1": -0.422000006,
          "x2": -0.20200000699999998
         },
         {
          "id": 20,
          "maximum": 199.6000061,
          "minimum": 90,
          "name": "Biomass backstop price",
          "qp_lower": 5.228199370673111e-10,
          "qp_upper": -1,
          "x1": 138.5999985,
          "x2": 199.6000061
         },
         {
          "id": 21,
          "maximum": 133.6999969,
          "minimum": 67,
          "name": "Cellulosic cost",
          "qp_lower": 0.15741333528927348,
          "qp_upper": -1,
          "x1": 72.65000153,
          "x2": 133.6999969
         },
         {
          "id": 21,
          "maximum": 997.7999877999998,
          "minimum": 450,
          "name": "Total biomass",
          "qp_lower": -1,
          "qp_upper": 4.716968553178765e-06,
          "x1": 450,
          "x2": 755.7999878
         },
         {
          "id": 21,
          "maximum": -0.20200000699999998,
          "minimum": -0.800000012,
          "name": "Demand elasticity",
          "qp_lower": 1.1849299115762218e-16,
          "qp_upper": -1,
          "x1": -0.422000006,
          "x2": -0.20200000699999998
         },
         {
          "id": 21,
          "maximum": 199.6000061,
          "minimum": 90,
          "name": "Biomass backstop price",
          "qp_lower": 3.515112530263049e-11,
          "qp_upper": -1,
          "x1": 150.0499954,
          "x2": 199.6000061
         },
         {
          "id": 22,
          "maximum": 133.6999969,
          "minimum": 67,
          "name": "Cellulosic cost",
          "qp_lower": 0.1039150022362067,
          "qp_upper": -1,
          "x1": 72.65000153,
          "x2": 133.6999969
         },
         {
          "id": 22,
          "maximum": 997.7999877999998,
          "minimum": 450,
          "name": "Total biomass",
          "qp_lower": -1,
          "qp_upper": 3.975269312730579e-06,
          "x1": 450,
          "x2": 755.7999878
         },
         {
          "id": 22,
          "maximum": -0.20200000699999998,
          "minimum": -0.800000012,
          "name": "Demand elasticity",
          "qp_lower": 5.677298162579917e-18,
          "qp_upper": -1,
          "x1": -0.422000006,
          "x2": -0.20200000699999998
         },
         {
          "id": 22,
          "maximum": 199.6000061,
          "minimum": 90,
          "name": "Biomass backstop price",
          "qp_lower": 7.74627840480414e-14,
          "qp_upper": -1,
          "x1": 155.55000305,
          "x2": 199.6000061
         },
         {
          "id": 23,
          "maximum": 133.6999969,
          "minimum": 67,
          "name": "Cellulosic cost",
          "qp_lower": 0.10200705126022633,
          "qp_upper": -1,
          "x1": 72.65000153,
          "x2": 133.6999969
         },
         {
          "id": 23,
          "maximum": 997.7999877999998,
          "minimum": 450,
          "name": "Total biomass",
          "qp_lower": -1,
          "qp_upper": 1.3467091262624312e-06,
          "x1": 450,
          "x2": 755.7999878
         },
         {
          "id": 23,
          "maximum": -0.20200000699999998,
          "minimum": -0.800000012,
          "name": "Demand elasticity",
          "qp_lower": 5.873796049405252e-19,
          "qp_upper": -1,
          "x1": -0.40049999950000004,
          "x2": -0.20200000699999998
         },
         {
          "id": 23,
          "maximum": 199.6000061,
          "minimum": 90,
          "name": "Biomass backstop price",
          "qp_lower": 4.9537015484723665e-14,
          "qp_upper": -1,
          "x1": 155.55000305,
          "x2": 199.6000061
         },
         {
          "id": 24,
          "maximum": 133.6999969,
          "minimum": 67,
          "name": "Cellulosic cost",
          "qp_lower": 0.10652256210714808,
          "qp_upper": -1,
          "x1": 72.65000153,
          "x2": 133.6999969
         },
         {
          "id": 24,
          "maximum": 997.7999877999998,
          "minimum": 450,
          "name": "Total biomass",
          "qp_lower": -1,
          "qp_upper": 6.4264437232023235e-06,
          "x1": 450,
          "x2": 755.7999878
         },
         {
          "id": 24,
          "maximum": -0.20200000699999998,
          "minimum": -0.800000012,
          "name": "Demand elasticity",
          "qp_lower": 1.3956988849039078e-19,
          "qp_upper": -1,
          "x1": -0.384499997,
          "x2": -0.20200000699999998
         },
         {
          "id": 24,
          "maximum": 199.6000061,
          "minimum": 90,
          "name": "Biomass backstop price",
          "qp_lower": 5.536895350671781e-14,
          "qp_upper": -1,
          "x1": 155.55000305,
          "x2": 199.6000061
         },
         {
          "id": 25,
          "maximum": 133.6999969,
          "minimum": 67,
          "name": "Cellulosic cost",
          "qp_lower": 0.20278190179140737,
          "qp_upper": -1,
          "x1": 72.65000153,
          "x2": 133.6999969
         },
         {
          "id": 25,
          "maximum": 997.7999877999998,
          "minimum": 450,
          "name": "Total biomass",
          "qp_lower": -1,
          "qp_upper": 2.4868498713773535e-05,
          "x1": 450,
          "x2": 755.7999878
         },
         {
          "id": 25,
          "maximum": 99.90000153,
          "minimum": 80,
          "name": "Cellulosic yield",
          "qp_lower": -1,
          "qp_upper": 0.3731534306845077,
          "x1": 80,
          "x2": 97.299999235
         },
         {
          "id": 25,
          "maximum": -0.20200000699999998,
          "minimum": -0.800000012,
          "name": "Demand elasticity",
          "qp_lower": 1.01503883338606e-17,
          "qp_upper": -1,
          "x1": -0.384499997,
          "x2": -0.20200000699999998
         },
         {
          "id": 25,
          "maximum": 199.6000061,
          "minimum": 90,
          "name": "Biomass backstop price",
          "qp_lower": 1.246296667871133e-12,
          "qp_upper": -1,
          "x1": 155.55000305,
          "x2": 199.6000061
         },
         {
          "id": 26,
          "maximum": 133.6999969,
          "minimum": 67,
          "name": "Cellulosic cost",
          "qp_lower": 0.26185395521529586,
          "qp_upper": -1,
          "x1": 72.65000153,
          "x2": 133.6999969
         },
         {
          "id": 26,
          "maximum": 997.7999877999998,
          "minimum": 450,
          "name": "Total biomass",
          "qp_lower": -1,
          "qp_upper": 5.785274042582647e-06,
          "x1": 450,
          "x2": 755.7999878
         },
         {
          "id": 26,
          "maximum": 99.90000153,
          "minimum": 80,
          "name": "Cellulosic yield",
          "qp_lower": -1,
          "qp_upper": 0.2974130483158446,
          "x1": 80,
          "x2": 97.299999235
         },
         {
          "id": 26,
          "maximum": -0.20200000699999998,
          "minimum": -0.800000012,
          "name": "Demand elasticity",
          "qp_lower": 1.3787909666768668e-17,
          "qp_upper": -1,
          "x1": -0.384499997,
          "x2": -0.20200000699999998
         },
         {
          "id": 26,
          "maximum": 0.098999999,
          "minimum": -0.10000000099999999,
          "name": "oil supply shift",
          "qp_lower": -1,
          "qp_upper": 0.2974130483158446,
          "x1": -0.10000000099999999,
          "x2": 0.0804999995
         },
         {
          "id": 26,
          "maximum": 199.6000061,
          "minimum": 90,
          "name": "Biomass backstop price",
          "qp_lower": 1.1333156635373598e-12,
          "qp_upper": -1,
          "x1": 155.55000305,
          "x2": 199.6000061
         },
         {
          "id": 27,
          "maximum": 133.6999969,
          "minimum": 67,
          "name": "Cellulosic cost",
          "qp_lower": 0.14731492322805617,
          "qp_upper": -1,
          "x1": 72.65000153,
          "x2": 133.6999969
         },
         {
          "id": 27,
          "maximum": 997.7999877999998,
          "minimum": 450,
          "name": "Total biomass",
          "qp_lower": -1,
          "qp_upper": 2.3170025284776066e-07,
          "x1": 450,
          "x2": 755.7999878
         },
         {
          "id": 27,
          "maximum": 99.90000153,
          "minimum": 80,
          "name": "Cellulosic yield",
          "qp_lower": -1,
          "qp_upper": 0.15929622601339163,
          "x1": 80,
          "x2": 97.299999235
         },
         {
          "id": 27,
          "maximum": -0.20200000699999998,
          "minimum": -0.800000012,
          "name": "Demand elasticity",
          "qp_lower": 1.707566113939849e-16,
          "qp_upper": -1,
          "x1": -0.384499997,
          "x2": -0.20200000699999998
         },
         {
          "id": 27,
          "maximum": 0.098999999,
          "minimum": -0.10000000099999999,
          "name": "oil supply shift",
          "qp_lower": -1,
          "qp_upper": 0.1533133614558316,
          "x1": -0.10000000099999999,
          "x2": 0.0804999995
         },
         {
          "id": 27,
          "maximum": 199.6000061,
          "minimum": 90,
          "name": "Biomass backstop price",
          "qp_lower": 2.842170943040401e-14,
          "qp_upper": -1,
          "x1": 162.15000155,
          "x2": 199.6000061
         }
        ],
        "data-bb8d07f6df3d47a6a475317795287b23": [
         {
          "end": 1,
          "start": 0
         }
        ],
        "data-c5a4f50fa54a0c9fb9591076c299149f": [
         {
          "coverage": 1,
          "density": 0.10090702947845805,
          "id": 0,
          "mass": 1,
          "mean": 0.10090702947845805,
          "res_dim": 0
         },
         {
          "coverage": 1,
          "density": 0.11237373737373738,
          "id": 1,
          "mass": 0.8979591836734694,
          "mean": 0.11237373737373738,
          "res_dim": 1
         },
         {
          "coverage": 1,
          "density": 0.12535211267605634,
          "id": 2,
          "mass": 0.8049886621315193,
          "mean": 0.12535211267605634,
          "res_dim": 2
         },
         {
          "coverage": 1,
          "density": 0.13949843260188088,
          "id": 3,
          "mass": 0.7233560090702947,
          "mean": 0.13949843260188088,
          "res_dim": 2
         },
         {
          "coverage": 1,
          "density": 0.15532286212914484,
          "id": 4,
          "mass": 0.6496598639455783,
          "mean": 0.15532286212914484,
          "res_dim": 3
         },
         {
          "coverage": 1,
          "density": 0.17348927875243664,
          "id": 5,
          "mass": 0.5816326530612245,
          "mean": 0.17348927875243664,
          "res_dim": 3
         },
         {
          "coverage": 1,
          "density": 0.1943231441048035,
          "id": 6,
          "mass": 0.5192743764172335,
          "mean": 0.1943231441048035,
          "res_dim": 3
         },
         {
          "coverage": 1,
          "density": 0.21601941747572814,
          "id": 7,
          "mass": 0.4671201814058957,
          "mean": 0.21601941747572814,
          "res_dim": 3
         },
         {
          "coverage": 1,
          "density": 0.2418478260869565,
          "id": 8,
          "mass": 0.41723356009070295,
          "mean": 0.2418478260869565,
          "res_dim": 3
         },
         {
          "coverage": 1,
          "density": 0.270516717325228,
          "id": 9,
          "mass": 0.373015873015873,
          "mean": 0.270516717325228,
          "res_dim": 3
         },
         {
          "coverage": 1,
          "density": 0.30067567567567566,
          "id": 10,
          "mass": 0.3356009070294785,
          "mean": 0.30067567567567566,
          "res_dim": 3
         },
         {
          "coverage": 0.9887640449438202,
          "density": 0.3333333333333333,
          "id": 11,
          "mass": 0.29931972789115646,
          "mean": 0.3333333333333333,
          "res_dim": 3
         },
         {
          "coverage": 0.9775280898876404,
          "density": 0.3670886075949367,
          "id": 12,
          "mass": 0.2687074829931973,
          "mean": 0.3670886075949367,
          "res_dim": 3
         },
         {
          "coverage": 0.9662921348314607,
          "density": 0.40375586854460094,
          "id": 13,
          "mass": 0.24149659863945577,
          "mean": 0.40375586854460094,
          "res_dim": 3
         },
         {
          "coverage": 0.9550561797752809,
          "density": 0.44502617801047123,
          "id": 14,
          "mass": 0.2165532879818594,
          "mean": 0.44502617801047123,
          "res_dim": 4
         },
         {
          "coverage": 0.9213483146067416,
          "density": 0.4823529411764706,
          "id": 15,
          "mass": 0.1927437641723356,
          "mean": 0.4823529411764706,
          "res_dim": 4
         },
         {
          "coverage": 0.9101123595505618,
          "density": 0.5328947368421053,
          "id": 16,
          "mass": 0.17233560090702948,
          "mean": 0.5328947368421053,
          "res_dim": 4
         },
         {
          "coverage": 0.8764044943820225,
          "density": 0.5735294117647058,
          "id": 17,
          "mass": 0.15419501133786848,
          "mean": 0.5735294117647058,
          "res_dim": 4
         },
         {
          "coverage": 0.8426966292134831,
          "density": 0.6198347107438017,
          "id": 18,
          "mass": 0.13718820861678005,
          "mean": 0.6198347107438017,
          "res_dim": 4
         },
         {
          "coverage": 0.8314606741573034,
          "density": 0.6851851851851852,
          "id": 19,
          "mass": 0.12244897959183673,
          "mean": 0.6851851851851852,
          "res_dim": 4
         },
         {
          "coverage": 0.797752808988764,
          "density": 0.7319587628865979,
          "id": 20,
          "mass": 0.10997732426303855,
          "mean": 0.7319587628865979,
          "res_dim": 4
         },
         {
          "coverage": 0.7528089887640449,
          "density": 0.7701149425287356,
          "id": 21,
          "mass": 0.09863945578231292,
          "mean": 0.7701149425287356,
          "res_dim": 4
         },
         {
          "coverage": 0.7303370786516854,
          "density": 0.8333333333333334,
          "id": 22,
          "mass": 0.08843537414965986,
          "mean": 0.8333333333333334,
          "res_dim": 4
         },
         {
          "coverage": 0.6853932584269663,
          "density": 0.8714285714285714,
          "id": 23,
          "mass": 0.07936507936507936,
          "mean": 0.8714285714285714,
          "res_dim": 4
         },
         {
          "coverage": 0.6404494382022472,
          "density": 0.9047619047619048,
          "id": 24,
          "mass": 0.07142857142857142,
          "mean": 0.9047619047619048,
          "res_dim": 4
         },
         {
          "coverage": 0.5842696629213483,
          "density": 0.9285714285714286,
          "id": 25,
          "mass": 0.06349206349206349,
          "mean": 0.9285714285714286,
          "res_dim": 5
         },
         {
          "coverage": 0.5393258426966292,
          "density": 0.96,
          "id": 26,
          "mass": 0.05668934240362812,
          "mean": 0.96,
          "res_dim": 6
         },
         {
          "coverage": 0.5056179775280899,
          "density": 1,
          "id": 27,
          "mass": 0.05102040816326531,
          "mean": 1,
          "res_dim": 6
         }
        ],
        "data-d751713988987e9331980363e24189ce": []
       },
       "vconcat": [
        {
         "data": {
          "name": "data-c5a4f50fa54a0c9fb9591076c299149f"
         },
         "encoding": {
          "color": {
           "field": "res_dim",
           "scale": {
            "range": [
             "#eff9b6",
             "#d0edb3",
             "#97d6b9",
             "#5dc0c0",
             "#31a5c2",
             "#1f80b8",
             "#2354a3",
             "#21318d"
            ]
           },
           "type": "ordinal"
          },
          "opacity": {
           "condition": {
            "selection": "selector002",
            "value": 1
           },
           "value": 0.4
          },
          "tooltip": [
           {
            "field": "id",
            "type": "ordinal"
           },
           {
            "field": "coverage",
            "format": ".2",
            "type": "quantitative"
           },
           {
            "field": "density",
            "format": ".2",
            "type": "quantitative"
           },
           {
            "field": "res_dim",
            "type": "ordinal"
           }
          ],
          "x": {
           "field": "coverage",
           "type": "quantitative"
          },
          "y": {
           "field": "density",
           "type": "quantitative"
          }
         },
         "height": 400,
         "mark": {
          "size": 75,
          "type": "circle"
         },
         "selection": {
          "selector002": {
           "fields": [
            "id"
           ],
           "type": "single"
          }
         },
         "width": 400
        },
        {
         "layer": [
          {
           "data": {
            "name": "data-17256ee1b01d486f61a8245021b6fdb4"
           },
           "encoding": {
            "x": {
             "axis": {
              "grid": false,
              "labels": false,
              "title": "box limits"
             },
             "field": "x_lower",
             "scale": {
              "domain": [
               0,
               1
              ],
              "padding": 0.1
             },
             "type": "quantitative"
            },
            "x2": {
             "field": "x_upper"
            },
            "y": {
             "field": "name",
             "scale": {
              "padding": 1
             },
             "type": "nominal"
            }
           },
           "mark": "rule",
           "transform": [
            {
             "as": "x_lower",
             "calculate": "(datum.x1-datum.minimum)/(datum.maximum-datum.minimum)"
            },
            {
             "as": "x_upper",
             "calculate": "(datum.x2-datum.minimum)/(datum.maximum-datum.minimum)"
            },
            {
             "filter": {
              "selection": "selector002"
             }
            }
           ],
           "width": 400
          },
          {
           "data": {
            "name": "data-17256ee1b01d486f61a8245021b6fdb4"
           },
           "encoding": {
            "text": {
             "field": "text",
             "type": "ordinal"
            },
            "x": {
             "axis": {
              "grid": false,
              "labels": false,
              "title": "box limits"
             },
             "field": "x_lower",
             "scale": {
              "domain": [
               0,
               1
              ],
              "padding": 0.1
             },
             "type": "quantitative"
            },
            "x2": {
             "field": "x_upper"
            },
            "y": {
             "field": "name",
             "scale": {
              "padding": 1
             },
             "type": "nominal"
            }
           },
           "mark": {
            "align": "left",
            "baseline": "top",
            "dy": 5,
            "type": "text"
           },
           "transform": [
            {
             "as": "x_lower",
             "calculate": "(datum.x1-datum.minimum)/(datum.maximum-datum.minimum)"
            },
            {
             "as": "x_upper",
             "calculate": "(datum.x2-datum.minimum)/(datum.maximum-datum.minimum)"
            },
            {
             "filter": {
              "selection": "selector002"
             }
            },
            {
             "as": "text",
             "calculate": "datum.qp_lower>0?format(datum.x1, \".2\")+\" (\"+format(datum.qp_lower, \".1~g\")+\")\" :format(datum.x1, \".2\")"
            }
           ],
           "width": 400
          },
          {
           "data": {
            "name": "data-17256ee1b01d486f61a8245021b6fdb4"
           },
           "encoding": {
            "text": {
             "field": "text",
             "type": "ordinal"
            },
            "x": {
             "field": "x_upper",
             "type": "quantitative"
            },
            "x2": {
             "field": "x_upper"
            },
            "y": {
             "field": "name",
             "scale": {
              "padding": 1
             },
             "type": "nominal"
            }
           },
           "mark": {
            "align": "right",
            "baseline": "top",
            "dy": 5,
            "type": "text"
           },
           "transform": [
            {
             "as": "x_lower",
             "calculate": "(datum.x1-datum.minimum)/(datum.maximum-datum.minimum)"
            },
            {
             "as": "x_upper",
             "calculate": "(datum.x2-datum.minimum)/(datum.maximum-datum.minimum)"
            },
            {
             "filter": {
              "selection": "selector002"
             }
            },
            {
             "as": "text",
             "calculate": "datum.qp_upper>0?format(datum.x2, \".2\")+\" (\"+format(datum.qp_upper, \".1\")+\")\" :format(datum.x2, \".2\")"
            }
           ],
           "width": 400
          },
          {
           "data": {
            "name": "data-bb8d07f6df3d47a6a475317795287b23"
           },
           "encoding": {
            "x": {
             "field": "start",
             "type": "quantitative"
            },
            "x2": {
             "field": "end"
            }
           },
           "mark": {
            "opacity": 0.05,
            "type": "rect"
           }
          },
          {
           "data": {
            "name": "data-d751713988987e9331980363e24189ce"
           },
           "encoding": {
            "x": {
             "field": "x",
             "type": "quantitative"
            },
            "y": {
             "field": "name",
             "type": "nominal"
            }
           },
           "mark": "point",
           "transform": [
            {
             "filter": {
              "selection": "selector002"
             }
            }
           ],
           "width": 400
          },
          {
           "data": {
            "name": "data-d751713988987e9331980363e24189ce"
           },
           "encoding": {
            "text": {
             "field": "item",
             "type": "nominal"
            },
            "x": {
             "field": "x",
             "type": "quantitative"
            },
            "y": {
             "field": "name",
             "type": "nominal"
            }
           },
           "mark": {
            "align": "center",
            "baseline": "top",
            "dy": 5,
            "type": "text"
           },
           "transform": [
            {
             "filter": {
              "selection": "selector002"
             }
            }
           ],
           "width": 400
          }
         ]
        }
       ]
      },
      "image/png": "[encoded data removed]",
      "text/plain": [
       "<VegaLite 3 object>\n",
       "\n",
       "If you see this message, it means the renderer has not been properly enabled\n",
       "for the frontend that you are using. For more information, see\n",
       "https://altair-viz.github.io/user_guide/troubleshooting.html\n"
      ]
     },
     "execution_count": 25,
     "metadata": {},
     "output_type": "execute_result"
    }
   ],
   "source": [
    "box1.inspect_tradeoff()"
   ]
  },
  {
   "cell_type": "markdown",
   "metadata": {},
   "source": [
    "### Method 2"
   ]
  },
  {
   "cell_type": "code",
   "execution_count": 26,
   "metadata": {},
   "outputs": [
    {
     "name": "stderr",
     "output_type": "stream",
     "text": [
      "[MainProcess/INFO] 882 points remaining, containing 89 cases of interest\n",
      "[MainProcess/INFO] mean: 1.0, mass: 0.05102040816326531, coverage: 0.5056179775280899, density: 1.0 restricted_dimensions: 6\n"
     ]
    }
   ],
   "source": [
    "#Replicate results from  Byrant & Lemptert (2010)\n",
    "\n",
    "from ema_workbench.analysis import prim\n",
    "from ema_workbench.util import ema_logging\n",
    "\n",
    "ema_logging.log_to_stderr(ema_logging.INFO)\n",
    "\n",
    "x = data.iloc[:, 2:11] #Experiments in columns 2-10\n",
    "y = data.iloc[:, 15].values #Outcome in column 15\n",
    "\n",
    "prim_alg2 = prim.Prim(x, y, threshold=0.8, peel_alpha=0.1) #peel_alpha of 10% instead of 5%\n",
    "box2 = prim_alg2.find_box()"
   ]
  },
  {
   "cell_type": "code",
   "execution_count": 27,
   "metadata": {},
   "outputs": [
    {
     "data": {
      "application/vnd.vegalite.v3+json": {
       "$schema": "https://vega.github.io/schema/vega-lite/v3.4.0.json",
       "config": {
        "mark": {
         "tooltip": null
        },
        "view": {
         "height": 300,
         "width": 400
        }
       },
       "datasets": {
        "data-17256ee1b01d486f61a8245021b6fdb4": [
         {
          "id": 1,
          "maximum": -0.20200000699999998,
          "minimum": -0.800000012,
          "name": "Demand elasticity",
          "qp_lower": 0.15567859087818106,
          "qp_upper": -1,
          "x1": -0.736499995,
          "x2": -0.20200000699999998
         },
         {
          "id": 2,
          "maximum": 997.7999877999998,
          "minimum": 450,
          "name": "Total biomass",
          "qp_lower": -1,
          "qp_upper": 0.15036814250222819,
          "x1": 450,
          "x2": 941.6999817
         },
         {
          "id": 2,
          "maximum": -0.20200000699999998,
          "minimum": -0.800000012,
          "name": "Demand elasticity",
          "qp_lower": 0.17126801041565082,
          "qp_upper": -1,
          "x1": -0.736499995,
          "x2": -0.20200000699999998
         },
         {
          "id": 3,
          "maximum": 997.7999877999998,
          "minimum": 450,
          "name": "Total biomass",
          "qp_lower": -1,
          "qp_upper": 0.16066906169067552,
          "x1": 450,
          "x2": 941.6999817
         },
         {
          "id": 3,
          "maximum": -0.20200000699999998,
          "minimum": -0.800000012,
          "name": "Demand elasticity",
          "qp_lower": 0.024179119394642727,
          "qp_upper": -1,
          "x1": -0.67899999,
          "x2": -0.20200000699999998
         },
         {
          "id": 4,
          "maximum": 997.7999877999998,
          "minimum": 450,
          "name": "Total biomass",
          "qp_lower": -1,
          "qp_upper": 0.1582504943092038,
          "x1": 450,
          "x2": 941.6999817
         },
         {
          "id": 4,
          "maximum": -0.20200000699999998,
          "minimum": -0.800000012,
          "name": "Demand elasticity",
          "qp_lower": 0.01869374448754718,
          "qp_upper": -1,
          "x1": -0.67899999,
          "x2": -0.20200000699999998
         },
         {
          "id": 4,
          "maximum": 199.6000061,
          "minimum": 90,
          "name": "Biomass backstop price",
          "qp_lower": 0.15093775943669646,
          "qp_upper": -1,
          "x1": 99,
          "x2": 199.6000061
         },
         {
          "id": 5,
          "maximum": 997.7999877999998,
          "minimum": 450,
          "name": "Total biomass",
          "qp_lower": -1,
          "qp_upper": 0.15767530190249052,
          "x1": 450,
          "x2": 941.6999817
         },
         {
          "id": 5,
          "maximum": -0.20200000699999998,
          "minimum": -0.800000012,
          "name": "Demand elasticity",
          "qp_lower": 0.014570135302827058,
          "qp_upper": -1,
          "x1": -0.67899999,
          "x2": -0.20200000699999998
         },
         {
          "id": 5,
          "maximum": 199.6000061,
          "minimum": 90,
          "name": "Biomass backstop price",
          "qp_lower": 0.01750459386231017,
          "qp_upper": -1,
          "x1": 107.79999925000001,
          "x2": 199.6000061
         },
         {
          "id": 6,
          "maximum": 997.7999877999998,
          "minimum": 450,
          "name": "Total biomass",
          "qp_lower": -1,
          "qp_upper": 0.16403574346781943,
          "x1": 450,
          "x2": 941.6999817
         },
         {
          "id": 6,
          "maximum": -0.20200000699999998,
          "minimum": -0.800000012,
          "name": "Demand elasticity",
          "qp_lower": 0.0005345457273466057,
          "qp_upper": -1,
          "x1": -0.6234999895,
          "x2": -0.20200000699999998
         },
         {
          "id": 6,
          "maximum": 199.6000061,
          "minimum": 90,
          "name": "Biomass backstop price",
          "qp_lower": 0.01680217074614521,
          "qp_upper": -1,
          "x1": 107.79999925000001,
          "x2": 199.6000061
         },
         {
          "id": 7,
          "maximum": 997.7999877999998,
          "minimum": 450,
          "name": "Total biomass",
          "qp_lower": -1,
          "qp_upper": 0.15206226977593904,
          "x1": 450,
          "x2": 941.6999817
         },
         {
          "id": 7,
          "maximum": -0.20200000699999998,
          "minimum": -0.800000012,
          "name": "Demand elasticity",
          "qp_lower": 1.1959548273363549e-05,
          "qp_upper": -1,
          "x1": -0.587500006,
          "x2": -0.20200000699999998
         },
         {
          "id": 7,
          "maximum": 199.6000061,
          "minimum": 90,
          "name": "Biomass backstop price",
          "qp_lower": 0.014480475147308559,
          "qp_upper": -1,
          "x1": 107.79999925000001,
          "x2": 199.6000061
         },
         {
          "id": 8,
          "maximum": 997.7999877999998,
          "minimum": 450,
          "name": "Total biomass",
          "qp_lower": -1,
          "qp_upper": 0.15567258984799767,
          "x1": 450,
          "x2": 941.6999817
         },
         {
          "id": 8,
          "maximum": -0.20200000699999998,
          "minimum": -0.800000012,
          "name": "Demand elasticity",
          "qp_lower": 8.043959624595656e-08,
          "qp_upper": -1,
          "x1": -0.5444999935,
          "x2": -0.20200000699999998
         },
         {
          "id": 8,
          "maximum": 199.6000061,
          "minimum": 90,
          "name": "Biomass backstop price",
          "qp_lower": 0.014250517383184969,
          "qp_upper": -1,
          "x1": 107.79999925000001,
          "x2": 199.6000061
         },
         {
          "id": 9,
          "maximum": 997.7999877999998,
          "minimum": 450,
          "name": "Total biomass",
          "qp_lower": -1,
          "qp_upper": 0.1646643900517584,
          "x1": 450,
          "x2": 941.6999817
         },
         {
          "id": 9,
          "maximum": -0.20200000699999998,
          "minimum": -0.800000012,
          "name": "Demand elasticity",
          "qp_lower": 2.4063949854413555e-10,
          "qp_upper": -1,
          "x1": -0.5034999845,
          "x2": -0.20200000699999998
         },
         {
          "id": 9,
          "maximum": 199.6000061,
          "minimum": 90,
          "name": "Biomass backstop price",
          "qp_lower": 0.01714693435236218,
          "qp_upper": -1,
          "x1": 107.79999925000001,
          "x2": 199.6000061
         },
         {
          "id": 10,
          "maximum": 997.7999877999998,
          "minimum": 450,
          "name": "Total biomass",
          "qp_lower": -1,
          "qp_upper": 0.1355039311510741,
          "x1": 450,
          "x2": 941.6999817
         },
         {
          "id": 10,
          "maximum": -0.20200000699999998,
          "minimum": -0.800000012,
          "name": "Demand elasticity",
          "qp_lower": 4.720972268427343e-13,
          "qp_upper": -1,
          "x1": -0.47500000900000006,
          "x2": -0.20200000699999998
         },
         {
          "id": 10,
          "maximum": 199.6000061,
          "minimum": 90,
          "name": "Biomass backstop price",
          "qp_lower": 0.015004237410379491,
          "qp_upper": -1,
          "x1": 107.79999925000001,
          "x2": 199.6000061
         },
         {
          "id": 11,
          "maximum": 997.7999877999998,
          "minimum": 450,
          "name": "Total biomass",
          "qp_lower": -1,
          "qp_upper": 0.014213152799633097,
          "x1": 450,
          "x2": 883.3999939000001
         },
         {
          "id": 11,
          "maximum": -0.20200000699999998,
          "minimum": -0.800000012,
          "name": "Demand elasticity",
          "qp_lower": 3.45141890004957e-13,
          "qp_upper": -1,
          "x1": -0.47500000900000006,
          "x2": -0.20200000699999998
         },
         {
          "id": 11,
          "maximum": 199.6000061,
          "minimum": 90,
          "name": "Biomass backstop price",
          "qp_lower": 0.012419231005334175,
          "qp_upper": -1,
          "x1": 107.79999925000001,
          "x2": 199.6000061
         },
         {
          "id": 12,
          "maximum": 997.7999877999998,
          "minimum": 450,
          "name": "Total biomass",
          "qp_lower": -1,
          "qp_upper": 0.013552596444919511,
          "x1": 450,
          "x2": 883.3999939000001
         },
         {
          "id": 12,
          "maximum": -0.20200000699999998,
          "minimum": -0.800000012,
          "name": "Demand elasticity",
          "qp_lower": 7.966577415207318e-16,
          "qp_upper": -1,
          "x1": -0.4484999925,
          "x2": -0.20200000699999998
         },
         {
          "id": 12,
          "maximum": 199.6000061,
          "minimum": 90,
          "name": "Biomass backstop price",
          "qp_lower": 0.010950640956138607,
          "qp_upper": -1,
          "x1": 107.79999925000001,
          "x2": 199.6000061
         },
         {
          "id": 13,
          "maximum": 997.7999877999998,
          "minimum": 450,
          "name": "Total biomass",
          "qp_lower": -1,
          "qp_upper": 0.015250570775505928,
          "x1": 450,
          "x2": 883.3999939000001
         },
         {
          "id": 13,
          "maximum": -0.20200000699999998,
          "minimum": -0.800000012,
          "name": "Demand elasticity",
          "qp_lower": 1.9341961572332282e-15,
          "qp_upper": -1,
          "x1": -0.4484999925,
          "x2": -0.20200000699999998
         },
         {
          "id": 13,
          "maximum": 199.6000061,
          "minimum": 90,
          "name": "Biomass backstop price",
          "qp_lower": 0.0005064053134945382,
          "qp_upper": -1,
          "x1": 117.75,
          "x2": 199.6000061
         },
         {
          "id": 14,
          "maximum": 133.6999969,
          "minimum": 67,
          "name": "Cellulosic cost",
          "qp_lower": 0.13829905925159938,
          "qp_upper": -1,
          "x1": 72.65000153,
          "x2": 133.6999969
         },
         {
          "id": 14,
          "maximum": 997.7999877999998,
          "minimum": 450,
          "name": "Total biomass",
          "qp_lower": -1,
          "qp_upper": 0.011843209958410856,
          "x1": 450,
          "x2": 883.3999939000001
         },
         {
          "id": 14,
          "maximum": -0.20200000699999998,
          "minimum": -0.800000012,
          "name": "Demand elasticity",
          "qp_lower": 9.841247999770891e-16,
          "qp_upper": -1,
          "x1": -0.4484999925,
          "x2": -0.20200000699999998
         },
         {
          "id": 14,
          "maximum": 199.6000061,
          "minimum": 90,
          "name": "Biomass backstop price",
          "qp_lower": 0.00038448125125483616,
          "qp_upper": -1,
          "x1": 117.75,
          "x2": 199.6000061
         },
         {
          "id": 15,
          "maximum": 133.6999969,
          "minimum": 67,
          "name": "Cellulosic cost",
          "qp_lower": 0.1752659916432423,
          "qp_upper": -1,
          "x1": 72.65000153,
          "x2": 133.6999969
         },
         {
          "id": 15,
          "maximum": 997.7999877999998,
          "minimum": 450,
          "name": "Total biomass",
          "qp_lower": -1,
          "qp_upper": 0.0009330153008306858,
          "x1": 450,
          "x2": 820.6999817
         },
         {
          "id": 15,
          "maximum": -0.20200000699999998,
          "minimum": -0.800000012,
          "name": "Demand elasticity",
          "qp_lower": 1.2536488356413411e-15,
          "qp_upper": -1,
          "x1": -0.4484999925,
          "x2": -0.20200000699999998
         },
         {
          "id": 15,
          "maximum": 199.6000061,
          "minimum": 90,
          "name": "Biomass backstop price",
          "qp_lower": 0.00042287764927487393,
          "qp_upper": -1,
          "x1": 117.75,
          "x2": 199.6000061
         },
         {
          "id": 16,
          "maximum": 133.6999969,
          "minimum": 67,
          "name": "Cellulosic cost",
          "qp_lower": 0.1367164754746075,
          "qp_upper": -1,
          "x1": 72.65000153,
          "x2": 133.6999969
         },
         {
          "id": 16,
          "maximum": 997.7999877999998,
          "minimum": 450,
          "name": "Total biomass",
          "qp_lower": -1,
          "qp_upper": 0.0002230800655922319,
          "x1": 450,
          "x2": 820.6999817
         },
         {
          "id": 16,
          "maximum": -0.20200000699999998,
          "minimum": -0.800000012,
          "name": "Demand elasticity",
          "qp_lower": 4.099990762669204e-16,
          "qp_upper": -1,
          "x1": -0.4484999925,
          "x2": -0.20200000699999998
         },
         {
          "id": 16,
          "maximum": 199.6000061,
          "minimum": 90,
          "name": "Biomass backstop price",
          "qp_lower": 5.357566227704689e-06,
          "qp_upper": -1,
          "x1": 125.84999845,
          "x2": 199.6000061
         },
         {
          "id": 17,
          "maximum": 133.6999969,
          "minimum": 67,
          "name": "Cellulosic cost",
          "qp_lower": 0.13782095533934255,
          "qp_upper": -1,
          "x1": 72.65000153,
          "x2": 133.6999969
         },
         {
          "id": 17,
          "maximum": 997.7999877999998,
          "minimum": 450,
          "name": "Total biomass",
          "qp_lower": -1,
          "qp_upper": 1.0096567049920263e-05,
          "x1": 450,
          "x2": 755.7999878
         },
         {
          "id": 17,
          "maximum": -0.20200000699999998,
          "minimum": -0.800000012,
          "name": "Demand elasticity",
          "qp_lower": 2.881049028194584e-15,
          "qp_upper": -1,
          "x1": -0.4484999925,
          "x2": -0.20200000699999998
         },
         {
          "id": 17,
          "maximum": 199.6000061,
          "minimum": 90,
          "name": "Biomass backstop price",
          "qp_lower": 7.743676817999898e-06,
          "qp_upper": -1,
          "x1": 125.84999845,
          "x2": 199.6000061
         },
         {
          "id": 18,
          "maximum": 133.6999969,
          "minimum": 67,
          "name": "Cellulosic cost",
          "qp_lower": 0.14042413787934896,
          "qp_upper": -1,
          "x1": 72.65000153,
          "x2": 133.6999969
         },
         {
          "id": 18,
          "maximum": 997.7999877999998,
          "minimum": 450,
          "name": "Total biomass",
          "qp_lower": -1,
          "qp_upper": 9.110075586088953e-06,
          "x1": 450,
          "x2": 755.7999878
         },
         {
          "id": 18,
          "maximum": -0.20200000699999998,
          "minimum": -0.800000012,
          "name": "Demand elasticity",
          "qp_lower": 9.780821531363044e-16,
          "qp_upper": -1,
          "x1": -0.4484999925,
          "x2": -0.20200000699999998
         },
         {
          "id": 18,
          "maximum": 199.6000061,
          "minimum": 90,
          "name": "Biomass backstop price",
          "qp_lower": 1.7806081116553994e-07,
          "qp_upper": -1,
          "x1": 132.4500046,
          "x2": 199.6000061
         },
         {
          "id": 19,
          "maximum": 133.6999969,
          "minimum": 67,
          "name": "Cellulosic cost",
          "qp_lower": 0.09570716574070869,
          "qp_upper": -1,
          "x1": 72.65000153,
          "x2": 133.6999969
         },
         {
          "id": 19,
          "maximum": 997.7999877999998,
          "minimum": 450,
          "name": "Total biomass",
          "qp_lower": -1,
          "qp_upper": 1.3682020075321227e-06,
          "x1": 450,
          "x2": 755.7999878
         },
         {
          "id": 19,
          "maximum": -0.20200000699999998,
          "minimum": -0.800000012,
          "name": "Demand elasticity",
          "qp_lower": 5.62079942387577e-17,
          "qp_upper": -1,
          "x1": -0.4484999925,
          "x2": -0.20200000699999998
         },
         {
          "id": 19,
          "maximum": 199.6000061,
          "minimum": 90,
          "name": "Biomass backstop price",
          "qp_lower": 3.227320464849011e-10,
          "qp_upper": -1,
          "x1": 138.5999985,
          "x2": 199.6000061
         },
         {
          "id": 20,
          "maximum": 133.6999969,
          "minimum": 67,
          "name": "Cellulosic cost",
          "qp_lower": 0.10301317448152089,
          "qp_upper": -1,
          "x1": 72.65000153,
          "x2": 133.6999969
         },
         {
          "id": 20,
          "maximum": 997.7999877999998,
          "minimum": 450,
          "name": "Total biomass",
          "qp_lower": -1,
          "qp_upper": 1.0998160915512434e-06,
          "x1": 450,
          "x2": 755.7999878
         },
         {
          "id": 20,
          "maximum": -0.20200000699999998,
          "minimum": -0.800000012,
          "name": "Demand elasticity",
          "qp_lower": 7.079941163959903e-19,
          "qp_upper": -1,
          "x1": -0.422000006,
          "x2": -0.20200000699999998
         },
         {
          "id": 20,
          "maximum": 199.6000061,
          "minimum": 90,
          "name": "Biomass backstop price",
          "qp_lower": 5.228199370673111e-10,
          "qp_upper": -1,
          "x1": 138.5999985,
          "x2": 199.6000061
         },
         {
          "id": 21,
          "maximum": 133.6999969,
          "minimum": 67,
          "name": "Cellulosic cost",
          "qp_lower": 0.15741333528927348,
          "qp_upper": -1,
          "x1": 72.65000153,
          "x2": 133.6999969
         },
         {
          "id": 21,
          "maximum": 997.7999877999998,
          "minimum": 450,
          "name": "Total biomass",
          "qp_lower": -1,
          "qp_upper": 4.716968553178765e-06,
          "x1": 450,
          "x2": 755.7999878
         },
         {
          "id": 21,
          "maximum": -0.20200000699999998,
          "minimum": -0.800000012,
          "name": "Demand elasticity",
          "qp_lower": 1.1849299115762218e-16,
          "qp_upper": -1,
          "x1": -0.422000006,
          "x2": -0.20200000699999998
         },
         {
          "id": 21,
          "maximum": 199.6000061,
          "minimum": 90,
          "name": "Biomass backstop price",
          "qp_lower": 3.515112530263049e-11,
          "qp_upper": -1,
          "x1": 150.0499954,
          "x2": 199.6000061
         },
         {
          "id": 22,
          "maximum": 133.6999969,
          "minimum": 67,
          "name": "Cellulosic cost",
          "qp_lower": 0.1039150022362067,
          "qp_upper": -1,
          "x1": 72.65000153,
          "x2": 133.6999969
         },
         {
          "id": 22,
          "maximum": 997.7999877999998,
          "minimum": 450,
          "name": "Total biomass",
          "qp_lower": -1,
          "qp_upper": 3.975269312730579e-06,
          "x1": 450,
          "x2": 755.7999878
         },
         {
          "id": 22,
          "maximum": -0.20200000699999998,
          "minimum": -0.800000012,
          "name": "Demand elasticity",
          "qp_lower": 5.677298162579917e-18,
          "qp_upper": -1,
          "x1": -0.422000006,
          "x2": -0.20200000699999998
         },
         {
          "id": 22,
          "maximum": 199.6000061,
          "minimum": 90,
          "name": "Biomass backstop price",
          "qp_lower": 7.74627840480414e-14,
          "qp_upper": -1,
          "x1": 155.55000305,
          "x2": 199.6000061
         },
         {
          "id": 23,
          "maximum": 133.6999969,
          "minimum": 67,
          "name": "Cellulosic cost",
          "qp_lower": 0.10200705126022633,
          "qp_upper": -1,
          "x1": 72.65000153,
          "x2": 133.6999969
         },
         {
          "id": 23,
          "maximum": 997.7999877999998,
          "minimum": 450,
          "name": "Total biomass",
          "qp_lower": -1,
          "qp_upper": 1.3467091262624312e-06,
          "x1": 450,
          "x2": 755.7999878
         },
         {
          "id": 23,
          "maximum": -0.20200000699999998,
          "minimum": -0.800000012,
          "name": "Demand elasticity",
          "qp_lower": 5.873796049405252e-19,
          "qp_upper": -1,
          "x1": -0.40049999950000004,
          "x2": -0.20200000699999998
         },
         {
          "id": 23,
          "maximum": 199.6000061,
          "minimum": 90,
          "name": "Biomass backstop price",
          "qp_lower": 4.9537015484723665e-14,
          "qp_upper": -1,
          "x1": 155.55000305,
          "x2": 199.6000061
         },
         {
          "id": 24,
          "maximum": 133.6999969,
          "minimum": 67,
          "name": "Cellulosic cost",
          "qp_lower": 0.10652256210714808,
          "qp_upper": -1,
          "x1": 72.65000153,
          "x2": 133.6999969
         },
         {
          "id": 24,
          "maximum": 997.7999877999998,
          "minimum": 450,
          "name": "Total biomass",
          "qp_lower": -1,
          "qp_upper": 6.4264437232023235e-06,
          "x1": 450,
          "x2": 755.7999878
         },
         {
          "id": 24,
          "maximum": -0.20200000699999998,
          "minimum": -0.800000012,
          "name": "Demand elasticity",
          "qp_lower": 1.3956988849039078e-19,
          "qp_upper": -1,
          "x1": -0.384499997,
          "x2": -0.20200000699999998
         },
         {
          "id": 24,
          "maximum": 199.6000061,
          "minimum": 90,
          "name": "Biomass backstop price",
          "qp_lower": 5.536895350671781e-14,
          "qp_upper": -1,
          "x1": 155.55000305,
          "x2": 199.6000061
         },
         {
          "id": 25,
          "maximum": 133.6999969,
          "minimum": 67,
          "name": "Cellulosic cost",
          "qp_lower": 0.20278190179140737,
          "qp_upper": -1,
          "x1": 72.65000153,
          "x2": 133.6999969
         },
         {
          "id": 25,
          "maximum": 997.7999877999998,
          "minimum": 450,
          "name": "Total biomass",
          "qp_lower": -1,
          "qp_upper": 2.4868498713773535e-05,
          "x1": 450,
          "x2": 755.7999878
         },
         {
          "id": 25,
          "maximum": 99.90000153,
          "minimum": 80,
          "name": "Cellulosic yield",
          "qp_lower": -1,
          "qp_upper": 0.3731534306845077,
          "x1": 80,
          "x2": 97.299999235
         },
         {
          "id": 25,
          "maximum": -0.20200000699999998,
          "minimum": -0.800000012,
          "name": "Demand elasticity",
          "qp_lower": 1.01503883338606e-17,
          "qp_upper": -1,
          "x1": -0.384499997,
          "x2": -0.20200000699999998
         },
         {
          "id": 25,
          "maximum": 199.6000061,
          "minimum": 90,
          "name": "Biomass backstop price",
          "qp_lower": 1.246296667871133e-12,
          "qp_upper": -1,
          "x1": 155.55000305,
          "x2": 199.6000061
         },
         {
          "id": 26,
          "maximum": 133.6999969,
          "minimum": 67,
          "name": "Cellulosic cost",
          "qp_lower": 0.26185395521529586,
          "qp_upper": -1,
          "x1": 72.65000153,
          "x2": 133.6999969
         },
         {
          "id": 26,
          "maximum": 997.7999877999998,
          "minimum": 450,
          "name": "Total biomass",
          "qp_lower": -1,
          "qp_upper": 5.785274042582647e-06,
          "x1": 450,
          "x2": 755.7999878
         },
         {
          "id": 26,
          "maximum": 99.90000153,
          "minimum": 80,
          "name": "Cellulosic yield",
          "qp_lower": -1,
          "qp_upper": 0.2974130483158446,
          "x1": 80,
          "x2": 97.299999235
         },
         {
          "id": 26,
          "maximum": -0.20200000699999998,
          "minimum": -0.800000012,
          "name": "Demand elasticity",
          "qp_lower": 1.3787909666768668e-17,
          "qp_upper": -1,
          "x1": -0.384499997,
          "x2": -0.20200000699999998
         },
         {
          "id": 26,
          "maximum": 0.098999999,
          "minimum": -0.10000000099999999,
          "name": "oil supply shift",
          "qp_lower": -1,
          "qp_upper": 0.2974130483158446,
          "x1": -0.10000000099999999,
          "x2": 0.0804999995
         },
         {
          "id": 26,
          "maximum": 199.6000061,
          "minimum": 90,
          "name": "Biomass backstop price",
          "qp_lower": 1.1333156635373598e-12,
          "qp_upper": -1,
          "x1": 155.55000305,
          "x2": 199.6000061
         },
         {
          "id": 27,
          "maximum": 133.6999969,
          "minimum": 67,
          "name": "Cellulosic cost",
          "qp_lower": 0.14731492322805617,
          "qp_upper": -1,
          "x1": 72.65000153,
          "x2": 133.6999969
         },
         {
          "id": 27,
          "maximum": 997.7999877999998,
          "minimum": 450,
          "name": "Total biomass",
          "qp_lower": -1,
          "qp_upper": 2.3170025284776066e-07,
          "x1": 450,
          "x2": 755.7999878
         },
         {
          "id": 27,
          "maximum": 99.90000153,
          "minimum": 80,
          "name": "Cellulosic yield",
          "qp_lower": -1,
          "qp_upper": 0.15929622601339163,
          "x1": 80,
          "x2": 97.299999235
         },
         {
          "id": 27,
          "maximum": -0.20200000699999998,
          "minimum": -0.800000012,
          "name": "Demand elasticity",
          "qp_lower": 1.707566113939849e-16,
          "qp_upper": -1,
          "x1": -0.384499997,
          "x2": -0.20200000699999998
         },
         {
          "id": 27,
          "maximum": 0.098999999,
          "minimum": -0.10000000099999999,
          "name": "oil supply shift",
          "qp_lower": -1,
          "qp_upper": 0.1533133614558316,
          "x1": -0.10000000099999999,
          "x2": 0.0804999995
         },
         {
          "id": 27,
          "maximum": 199.6000061,
          "minimum": 90,
          "name": "Biomass backstop price",
          "qp_lower": 2.842170943040401e-14,
          "qp_upper": -1,
          "x1": 162.15000155,
          "x2": 199.6000061
         }
        ],
        "data-bb8d07f6df3d47a6a475317795287b23": [
         {
          "end": 1,
          "start": 0
         }
        ],
        "data-c5a4f50fa54a0c9fb9591076c299149f": [
         {
          "coverage": 1,
          "density": 0.10090702947845805,
          "id": 0,
          "mass": 1,
          "mean": 0.10090702947845805,
          "res_dim": 0
         },
         {
          "coverage": 1,
          "density": 0.11237373737373738,
          "id": 1,
          "mass": 0.8979591836734694,
          "mean": 0.11237373737373738,
          "res_dim": 1
         },
         {
          "coverage": 1,
          "density": 0.12535211267605634,
          "id": 2,
          "mass": 0.8049886621315193,
          "mean": 0.12535211267605634,
          "res_dim": 2
         },
         {
          "coverage": 1,
          "density": 0.13949843260188088,
          "id": 3,
          "mass": 0.7233560090702947,
          "mean": 0.13949843260188088,
          "res_dim": 2
         },
         {
          "coverage": 1,
          "density": 0.15532286212914484,
          "id": 4,
          "mass": 0.6496598639455783,
          "mean": 0.15532286212914484,
          "res_dim": 3
         },
         {
          "coverage": 1,
          "density": 0.17348927875243664,
          "id": 5,
          "mass": 0.5816326530612245,
          "mean": 0.17348927875243664,
          "res_dim": 3
         },
         {
          "coverage": 1,
          "density": 0.1943231441048035,
          "id": 6,
          "mass": 0.5192743764172335,
          "mean": 0.1943231441048035,
          "res_dim": 3
         },
         {
          "coverage": 1,
          "density": 0.21601941747572814,
          "id": 7,
          "mass": 0.4671201814058957,
          "mean": 0.21601941747572814,
          "res_dim": 3
         },
         {
          "coverage": 1,
          "density": 0.2418478260869565,
          "id": 8,
          "mass": 0.41723356009070295,
          "mean": 0.2418478260869565,
          "res_dim": 3
         },
         {
          "coverage": 1,
          "density": 0.270516717325228,
          "id": 9,
          "mass": 0.373015873015873,
          "mean": 0.270516717325228,
          "res_dim": 3
         },
         {
          "coverage": 1,
          "density": 0.30067567567567566,
          "id": 10,
          "mass": 0.3356009070294785,
          "mean": 0.30067567567567566,
          "res_dim": 3
         },
         {
          "coverage": 0.9887640449438202,
          "density": 0.3333333333333333,
          "id": 11,
          "mass": 0.29931972789115646,
          "mean": 0.3333333333333333,
          "res_dim": 3
         },
         {
          "coverage": 0.9775280898876404,
          "density": 0.3670886075949367,
          "id": 12,
          "mass": 0.2687074829931973,
          "mean": 0.3670886075949367,
          "res_dim": 3
         },
         {
          "coverage": 0.9662921348314607,
          "density": 0.40375586854460094,
          "id": 13,
          "mass": 0.24149659863945577,
          "mean": 0.40375586854460094,
          "res_dim": 3
         },
         {
          "coverage": 0.9550561797752809,
          "density": 0.44502617801047123,
          "id": 14,
          "mass": 0.2165532879818594,
          "mean": 0.44502617801047123,
          "res_dim": 4
         },
         {
          "coverage": 0.9213483146067416,
          "density": 0.4823529411764706,
          "id": 15,
          "mass": 0.1927437641723356,
          "mean": 0.4823529411764706,
          "res_dim": 4
         },
         {
          "coverage": 0.9101123595505618,
          "density": 0.5328947368421053,
          "id": 16,
          "mass": 0.17233560090702948,
          "mean": 0.5328947368421053,
          "res_dim": 4
         },
         {
          "coverage": 0.8764044943820225,
          "density": 0.5735294117647058,
          "id": 17,
          "mass": 0.15419501133786848,
          "mean": 0.5735294117647058,
          "res_dim": 4
         },
         {
          "coverage": 0.8426966292134831,
          "density": 0.6198347107438017,
          "id": 18,
          "mass": 0.13718820861678005,
          "mean": 0.6198347107438017,
          "res_dim": 4
         },
         {
          "coverage": 0.8314606741573034,
          "density": 0.6851851851851852,
          "id": 19,
          "mass": 0.12244897959183673,
          "mean": 0.6851851851851852,
          "res_dim": 4
         },
         {
          "coverage": 0.797752808988764,
          "density": 0.7319587628865979,
          "id": 20,
          "mass": 0.10997732426303855,
          "mean": 0.7319587628865979,
          "res_dim": 4
         },
         {
          "coverage": 0.7528089887640449,
          "density": 0.7701149425287356,
          "id": 21,
          "mass": 0.09863945578231292,
          "mean": 0.7701149425287356,
          "res_dim": 4
         },
         {
          "coverage": 0.7303370786516854,
          "density": 0.8333333333333334,
          "id": 22,
          "mass": 0.08843537414965986,
          "mean": 0.8333333333333334,
          "res_dim": 4
         },
         {
          "coverage": 0.6853932584269663,
          "density": 0.8714285714285714,
          "id": 23,
          "mass": 0.07936507936507936,
          "mean": 0.8714285714285714,
          "res_dim": 4
         },
         {
          "coverage": 0.6404494382022472,
          "density": 0.9047619047619048,
          "id": 24,
          "mass": 0.07142857142857142,
          "mean": 0.9047619047619048,
          "res_dim": 4
         },
         {
          "coverage": 0.5842696629213483,
          "density": 0.9285714285714286,
          "id": 25,
          "mass": 0.06349206349206349,
          "mean": 0.9285714285714286,
          "res_dim": 5
         },
         {
          "coverage": 0.5393258426966292,
          "density": 0.96,
          "id": 26,
          "mass": 0.05668934240362812,
          "mean": 0.96,
          "res_dim": 6
         },
         {
          "coverage": 0.5056179775280899,
          "density": 1,
          "id": 27,
          "mass": 0.05102040816326531,
          "mean": 1,
          "res_dim": 6
         }
        ],
        "data-d751713988987e9331980363e24189ce": []
       },
       "vconcat": [
        {
         "data": {
          "name": "data-c5a4f50fa54a0c9fb9591076c299149f"
         },
         "encoding": {
          "color": {
           "field": "res_dim",
           "scale": {
            "range": [
             "#eff9b6",
             "#d0edb3",
             "#97d6b9",
             "#5dc0c0",
             "#31a5c2",
             "#1f80b8",
             "#2354a3",
             "#21318d"
            ]
           },
           "type": "ordinal"
          },
          "opacity": {
           "condition": {
            "selection": "selector003",
            "value": 1
           },
           "value": 0.4
          },
          "tooltip": [
           {
            "field": "id",
            "type": "ordinal"
           },
           {
            "field": "coverage",
            "format": ".2",
            "type": "quantitative"
           },
           {
            "field": "density",
            "format": ".2",
            "type": "quantitative"
           },
           {
            "field": "res_dim",
            "type": "ordinal"
           }
          ],
          "x": {
           "field": "coverage",
           "type": "quantitative"
          },
          "y": {
           "field": "density",
           "type": "quantitative"
          }
         },
         "height": 400,
         "mark": {
          "size": 75,
          "type": "circle"
         },
         "selection": {
          "selector003": {
           "fields": [
            "id"
           ],
           "type": "single"
          }
         },
         "width": 400
        },
        {
         "layer": [
          {
           "data": {
            "name": "data-17256ee1b01d486f61a8245021b6fdb4"
           },
           "encoding": {
            "x": {
             "axis": {
              "grid": false,
              "labels": false,
              "title": "box limits"
             },
             "field": "x_lower",
             "scale": {
              "domain": [
               0,
               1
              ],
              "padding": 0.1
             },
             "type": "quantitative"
            },
            "x2": {
             "field": "x_upper"
            },
            "y": {
             "field": "name",
             "scale": {
              "padding": 1
             },
             "type": "nominal"
            }
           },
           "mark": "rule",
           "transform": [
            {
             "as": "x_lower",
             "calculate": "(datum.x1-datum.minimum)/(datum.maximum-datum.minimum)"
            },
            {
             "as": "x_upper",
             "calculate": "(datum.x2-datum.minimum)/(datum.maximum-datum.minimum)"
            },
            {
             "filter": {
              "selection": "selector003"
             }
            }
           ],
           "width": 400
          },
          {
           "data": {
            "name": "data-17256ee1b01d486f61a8245021b6fdb4"
           },
           "encoding": {
            "text": {
             "field": "text",
             "type": "ordinal"
            },
            "x": {
             "axis": {
              "grid": false,
              "labels": false,
              "title": "box limits"
             },
             "field": "x_lower",
             "scale": {
              "domain": [
               0,
               1
              ],
              "padding": 0.1
             },
             "type": "quantitative"
            },
            "x2": {
             "field": "x_upper"
            },
            "y": {
             "field": "name",
             "scale": {
              "padding": 1
             },
             "type": "nominal"
            }
           },
           "mark": {
            "align": "left",
            "baseline": "top",
            "dy": 5,
            "type": "text"
           },
           "transform": [
            {
             "as": "x_lower",
             "calculate": "(datum.x1-datum.minimum)/(datum.maximum-datum.minimum)"
            },
            {
             "as": "x_upper",
             "calculate": "(datum.x2-datum.minimum)/(datum.maximum-datum.minimum)"
            },
            {
             "filter": {
              "selection": "selector003"
             }
            },
            {
             "as": "text",
             "calculate": "datum.qp_lower>0?format(datum.x1, \".2\")+\" (\"+format(datum.qp_lower, \".1~g\")+\")\" :format(datum.x1, \".2\")"
            }
           ],
           "width": 400
          },
          {
           "data": {
            "name": "data-17256ee1b01d486f61a8245021b6fdb4"
           },
           "encoding": {
            "text": {
             "field": "text",
             "type": "ordinal"
            },
            "x": {
             "field": "x_upper",
             "type": "quantitative"
            },
            "x2": {
             "field": "x_upper"
            },
            "y": {
             "field": "name",
             "scale": {
              "padding": 1
             },
             "type": "nominal"
            }
           },
           "mark": {
            "align": "right",
            "baseline": "top",
            "dy": 5,
            "type": "text"
           },
           "transform": [
            {
             "as": "x_lower",
             "calculate": "(datum.x1-datum.minimum)/(datum.maximum-datum.minimum)"
            },
            {
             "as": "x_upper",
             "calculate": "(datum.x2-datum.minimum)/(datum.maximum-datum.minimum)"
            },
            {
             "filter": {
              "selection": "selector003"
             }
            },
            {
             "as": "text",
             "calculate": "datum.qp_upper>0?format(datum.x2, \".2\")+\" (\"+format(datum.qp_upper, \".1\")+\")\" :format(datum.x2, \".2\")"
            }
           ],
           "width": 400
          },
          {
           "data": {
            "name": "data-bb8d07f6df3d47a6a475317795287b23"
           },
           "encoding": {
            "x": {
             "field": "start",
             "type": "quantitative"
            },
            "x2": {
             "field": "end"
            }
           },
           "mark": {
            "opacity": 0.05,
            "type": "rect"
           }
          },
          {
           "data": {
            "name": "data-d751713988987e9331980363e24189ce"
           },
           "encoding": {
            "x": {
             "field": "x",
             "type": "quantitative"
            },
            "y": {
             "field": "name",
             "type": "nominal"
            }
           },
           "mark": "point",
           "transform": [
            {
             "filter": {
              "selection": "selector003"
             }
            }
           ],
           "width": 400
          },
          {
           "data": {
            "name": "data-d751713988987e9331980363e24189ce"
           },
           "encoding": {
            "text": {
             "field": "item",
             "type": "nominal"
            },
            "x": {
             "field": "x",
             "type": "quantitative"
            },
            "y": {
             "field": "name",
             "type": "nominal"
            }
           },
           "mark": {
            "align": "center",
            "baseline": "top",
            "dy": 5,
            "type": "text"
           },
           "transform": [
            {
             "filter": {
              "selection": "selector003"
             }
            }
           ],
           "width": 400
          }
         ]
        }
       ]
      },
      "image/png": "[encoded data removed]",
      "text/plain": [
       "<VegaLite 3 object>\n",
       "\n",
       "If you see this message, it means the renderer has not been properly enabled\n",
       "for the frontend that you are using. For more information, see\n",
       "https://altair-viz.github.io/user_guide/troubleshooting.html\n"
      ]
     },
     "execution_count": 27,
     "metadata": {},
     "output_type": "execute_result"
    }
   ],
   "source": [
    "box2.inspect_tradeoff()"
   ]
  },
  {
   "cell_type": "markdown",
   "metadata": {},
   "source": [
    "### Question for Bramka:\n",
    "If we run with just 'y = data.iloc[:, 15].values' then whatever is counted as a case of interest is only counted as 1s (i.e. 89 cases of interest).\n",
    "Thus, we get the same results when compared to when we run 'y = data.iloc[:, 15].values ==1'.\n",
    "Does this mean that the PRIM alorgorithm discounts any value that is 0 and then it would be redundent to use ==1?\n",
    "\n",
    "Potential answer: The PRIM functions accepts only binary classification of outcomes i.e. 0 or 1. Therefore, any result obtained should already be converted into 0s and 1s before feeding into the PRIM function. This is why Method 1 and Method 2 have the same results right now"
   ]
  },
  {
   "cell_type": "code",
   "execution_count": 28,
   "metadata": {},
   "outputs": [
    {
     "name": "stderr",
     "output_type": "stream",
     "text": [
      "[MainProcess/INFO] resample 0\n",
      "C:\\Users\\sahit\\Anaconda\\lib\\site-packages\\pandas\\core\\series.py:1143: FutureWarning: \n",
      "Passing list-likes to .loc or [] with any missing label will raise\n",
      "KeyError in the future, you can use .reindex() as an alternative.\n",
      "\n",
      "See the documentation here:\n",
      "https://pandas.pydata.org/pandas-docs/stable/user_guide/indexing.html#deprecate-loc-reindex-listlike\n",
      "  return self.loc[key]\n",
      "[MainProcess/INFO] resample 1\n",
      "[MainProcess/INFO] resample 2\n",
      "[MainProcess/INFO] resample 3\n",
      "[MainProcess/INFO] resample 4\n",
      "[MainProcess/INFO] resample 5\n",
      "[MainProcess/INFO] resample 6\n",
      "[MainProcess/INFO] resample 7\n",
      "[MainProcess/INFO] resample 8\n",
      "[MainProcess/INFO] resample 9\n"
     ]
    },
    {
     "name": "stdout",
     "output_type": "stream",
     "text": [
      "                          reproduce coverage  reproduce density\n",
      "Electricity coproduction                80.0              100.0\n",
      "Cellulosic cost                         80.0               90.0\n",
      "Demand elasticity                       70.0              100.0\n",
      "oil supply shift                        70.0               80.0\n",
      "Cellulosic yield                        60.0               90.0\n",
      "Biomass backstop price                  60.0               90.0\n",
      "Oil elasticity                          50.0               50.0\n",
      "Feedstock distribution                  40.0               80.0\n",
      "Total biomass                           30.0               60.0\n",
      "coverage     0.752809\n",
      "density      0.770115\n",
      "id                 21\n",
      "mass        0.0986395\n",
      "mean         0.770115\n",
      "res_dim             4\n",
      "Name: 21, dtype: object\n",
      "\n",
      "                            box 21                                            \n",
      "                               min         max                       qp values\n",
      "Total biomass           450.000000  755.799988   [-1.0, 4.716968553178765e-06]\n",
      "Demand elasticity        -0.422000   -0.202000  [1.1849299115762218e-16, -1.0]\n",
      "Biomass backstop price  150.049995  199.600006   [3.515112530263049e-11, -1.0]\n",
      "Cellulosic cost          72.650002  133.699997     [0.15741333528927348, -1.0]\n",
      "\n"
     ]
    },
    {
     "data": {
      "image/png": "[encoded data removed]",
      "text/plain": [
       "<Figure size 432x288 with 2 Axes>"
      ]
     },
     "metadata": {
      "needs_background": "light"
     },
     "output_type": "display_data"
    },
    {
     "data": {
      "image/png": "[encoded data removed]",
      "text/plain": [
       "<Figure size 432x288 with 1 Axes>"
      ]
     },
     "metadata": {
      "needs_background": "light"
     },
     "output_type": "display_data"
    }
   ],
   "source": [
    "#Plot peeling trajectory\n",
    "box1.show_tradeoff()\n",
    "\n",
    "#Inspect candidate box 21, i.e. Scenario A from Bryant & Lemptert 2010\n",
    "print(box1.resample(21))\n",
    "box1.inspect(21)\n",
    "box1.inspect(21, style='graph')\n",
    "\n",
    "plt.show()"
   ]
  },
  {
   "cell_type": "markdown",
   "metadata": {},
   "source": [
    "# Rozenberg et al\n",
    "\n",
    "\n",
    "* The experiments are the first seven columns. The remainder specify whether a given experiment belongs to a given SSP (Shared Socio-economic Pathways).\n",
    "* Apply prim separately for each SSP\n",
    "* you have to play with the threshold for each SSP, the default of 0.8 is at times too high\n",
    "* if you look at the paper carefully, you will discover that they change some of the default parameters of PRIM\n"
   ]
  },
  {
   "cell_type": "markdown",
   "metadata": {},
   "source": [
    "### Rozenberg et al. (2014) Results\n",
    "\n",
    "SSP1\n",
    "- 70% coverage, 65% density\n",
    "\n",
    "SSP2\n",
    "- 45% coverage, 40% density\n",
    "\n",
    "SSP3\n",
    "- 80% coverage, 65% density\n",
    "\n",
    "SSP4\n",
    "- 90% coverage, 90% density\n",
    "\n",
    "SSP5\n",
    "- 50% coverage, 75% density"
   ]
  },
  {
   "cell_type": "code",
   "execution_count": null,
   "metadata": {},
   "outputs": [],
   "source": [
    "#Chose indicators 2 for mitigation and 2 for adaptation\n",
    "\n",
    "#Mitigation\n",
    "#baseline CO2 emissions\n",
    "#GDP losses\n",
    "\n",
    "#Adaptation\n",
    "#income fo the 20 % poorest countries in African countries, India, South America (not Brasil), and South East Asia\n",
    "#Share of jobs in agriculture in developing countries"
   ]
  },
  {
   "cell_type": "code",
   "execution_count": 59,
   "metadata": {},
   "outputs": [],
   "source": [
    "data_rozenberg = pd.read_csv(data_path + '/Rozenberg et al 2014.csv', index_col=False)"
   ]
  },
  {
   "cell_type": "code",
   "execution_count": 60,
   "metadata": {},
   "outputs": [
    {
     "data": {
      "text/html": [
       "<div>\n",
       "<style scoped>\n",
       "    .dataframe tbody tr th:only-of-type {\n",
       "        vertical-align: middle;\n",
       "    }\n",
       "\n",
       "    .dataframe tbody tr th {\n",
       "        vertical-align: top;\n",
       "    }\n",
       "\n",
       "    .dataframe thead th {\n",
       "        text-align: right;\n",
       "    }\n",
       "</style>\n",
       "<table border=\"1\" class=\"dataframe\">\n",
       "  <thead>\n",
       "    <tr style=\"text-align: right;\">\n",
       "      <th></th>\n",
       "      <th>inequalities</th>\n",
       "      <th>convergence</th>\n",
       "      <th>population</th>\n",
       "      <th>behaviors</th>\n",
       "      <th>technologies</th>\n",
       "      <th>fossils</th>\n",
       "      <th>capital markets</th>\n",
       "      <th>SSP1</th>\n",
       "      <th>SSP2</th>\n",
       "      <th>SSP3</th>\n",
       "      <th>SSP4</th>\n",
       "      <th>SSP5</th>\n",
       "    </tr>\n",
       "  </thead>\n",
       "  <tbody>\n",
       "    <tr>\n",
       "      <td>0</td>\n",
       "      <td>0</td>\n",
       "      <td>2</td>\n",
       "      <td>0</td>\n",
       "      <td>0</td>\n",
       "      <td>0</td>\n",
       "      <td>0</td>\n",
       "      <td>0</td>\n",
       "      <td>0</td>\n",
       "      <td>0</td>\n",
       "      <td>0</td>\n",
       "      <td>0</td>\n",
       "      <td>0</td>\n",
       "    </tr>\n",
       "    <tr>\n",
       "      <td>1</td>\n",
       "      <td>0</td>\n",
       "      <td>2</td>\n",
       "      <td>0</td>\n",
       "      <td>0</td>\n",
       "      <td>0</td>\n",
       "      <td>0</td>\n",
       "      <td>1</td>\n",
       "      <td>0</td>\n",
       "      <td>0</td>\n",
       "      <td>0</td>\n",
       "      <td>0</td>\n",
       "      <td>0</td>\n",
       "    </tr>\n",
       "    <tr>\n",
       "      <td>2</td>\n",
       "      <td>0</td>\n",
       "      <td>2</td>\n",
       "      <td>0</td>\n",
       "      <td>0</td>\n",
       "      <td>0</td>\n",
       "      <td>1</td>\n",
       "      <td>0</td>\n",
       "      <td>0</td>\n",
       "      <td>0</td>\n",
       "      <td>0</td>\n",
       "      <td>0</td>\n",
       "      <td>0</td>\n",
       "    </tr>\n",
       "    <tr>\n",
       "      <td>3</td>\n",
       "      <td>0</td>\n",
       "      <td>2</td>\n",
       "      <td>0</td>\n",
       "      <td>0</td>\n",
       "      <td>0</td>\n",
       "      <td>1</td>\n",
       "      <td>1</td>\n",
       "      <td>0</td>\n",
       "      <td>0</td>\n",
       "      <td>0</td>\n",
       "      <td>0</td>\n",
       "      <td>0</td>\n",
       "    </tr>\n",
       "    <tr>\n",
       "      <td>4</td>\n",
       "      <td>0</td>\n",
       "      <td>2</td>\n",
       "      <td>0</td>\n",
       "      <td>0</td>\n",
       "      <td>1</td>\n",
       "      <td>0</td>\n",
       "      <td>0</td>\n",
       "      <td>0</td>\n",
       "      <td>1</td>\n",
       "      <td>0</td>\n",
       "      <td>0</td>\n",
       "      <td>0</td>\n",
       "    </tr>\n",
       "  </tbody>\n",
       "</table>\n",
       "</div>"
      ],
      "text/plain": [
       "   inequalities  convergence  population  behaviors  technologies  fossils  \\\n",
       "0             0            2           0          0             0        0   \n",
       "1             0            2           0          0             0        0   \n",
       "2             0            2           0          0             0        1   \n",
       "3             0            2           0          0             0        1   \n",
       "4             0            2           0          0             1        0   \n",
       "\n",
       "   capital markets  SSP1  SSP2  SSP3  SSP4  SSP5  \n",
       "0                0     0     0     0     0     0  \n",
       "1                1     0     0     0     0     0  \n",
       "2                0     0     0     0     0     0  \n",
       "3                1     0     0     0     0     0  \n",
       "4                0     0     1     0     0     0  "
      ]
     },
     "execution_count": 60,
     "metadata": {},
     "output_type": "execute_result"
    }
   ],
   "source": [
    "#Gain insight into data\n",
    "data_rozenberg.head()"
   ]
  },
  {
   "cell_type": "code",
   "execution_count": 117,
   "metadata": {},
   "outputs": [
    {
     "name": "stderr",
     "output_type": "stream",
     "text": [
      "[MainProcess/INFO] 286 points remaining, containing 44 cases of interest\n",
      "[MainProcess/INFO] mean: 0.9375, mass: 0.055944055944055944, coverage: 0.3409090909090909, density: 0.9375 restricted_dimensions: 4\n",
      "[MainProcess/INFO] 286 points remaining, containing 28 cases of interest\n",
      "[MainProcess/INFO] mean: 0.5625, mass: 0.055944055944055944, coverage: 0.32142857142857145, density: 0.5625 restricted_dimensions: 4\n",
      "[MainProcess/INFO] 286 points remaining, containing 40 cases of interest\n",
      "[MainProcess/INFO] mean: 0.9166666666666666, mass: 0.08391608391608392, coverage: 0.55, density: 0.9166666666666666 restricted_dimensions: 4\n",
      "[MainProcess/INFO] 286 points remaining, containing 23 cases of interest\n",
      "[MainProcess/INFO] mean: 1.0, mass: 0.055944055944055944, coverage: 0.6956521739130435, density: 1.0 restricted_dimensions: 4\n",
      "[MainProcess/INFO] 286 points remaining, containing 19 cases of interest\n",
      "[MainProcess/INFO] mean: 0.4583333333333333, mass: 0.08391608391608392, coverage: 0.5789473684210527, density: 0.4583333333333333 restricted_dimensions: 3\n"
     ]
    }
   ],
   "source": [
    "#Replicate results from Rozenberg et al. (2014)\n",
    "\n",
    "#SSP1, SSP2, SSP3, SSP4, SSP5\n",
    "from ema_workbench.analysis import prim\n",
    "from ema_workbench.util import ema_logging\n",
    "\n",
    "ema_logging.log_to_stderr(ema_logging.INFO)\n",
    "\n",
    "x = data_rozenberg.iloc[:, 0:7] #Experiments in columns 1-7 (x is the same for all SSP because we classify for each SSP based on the columns)\n",
    "\n",
    "SSP1 = data_rozenberg.iloc[:, 7].values \n",
    "SSP2 = data_rozenberg.iloc[:, 8].values \n",
    "SSP3 = data_rozenberg.iloc[:, 9].values \n",
    "SSP4 = data_rozenberg.iloc[:, 10].values \n",
    "SSP5 = data_rozenberg.iloc[:, 11].values \n",
    "\n",
    "#SSP1\n",
    "prim_alg_ssp1 = prim.Prim(x, SSP1, threshold=0.6, peel_alpha=0.1)\n",
    "box1_ssp1 = prim_alg_ssp1.find_box()\n",
    "\n",
    "#SSP2\n",
    "prim_alg_ssp2 = prim.Prim(x, SSP2, threshold=0.3, peel_alpha=0.05) \n",
    "box1_ssp2 = prim_alg_ssp2.find_box()\n",
    "\n",
    "#SSP3\n",
    "prim_alg_ssp3 = prim.Prim(x, SSP3, threshold=0.8, peel_alpha=0.1) \n",
    "box1_ssp3 = prim_alg_ssp3.find_box()\n",
    "\n",
    "#SSP4\n",
    "prim_alg_ssp4 = prim.Prim(x, SSP4, threshold=0.8, peel_alpha=0.1) \n",
    "box1_ssp4 = prim_alg_ssp4.find_box()\n",
    "\n",
    "#SSP5\n",
    "prim_alg_ssp5 = prim.Prim(x, SSP5, threshold=0.4, peel_alpha=0.05)\n",
    "box1_ssp5 = prim_alg_ssp5.find_box()"
   ]
  },
  {
   "cell_type": "markdown",
   "metadata": {},
   "source": [
    "#Question for Bramka\n",
    "\n",
    "How do you make subplots for this?\n",
    "\n",
    "Figure 5 is not reconciling. Don't know why"
   ]
  },
  {
   "cell_type": "code",
   "execution_count": 118,
   "metadata": {},
   "outputs": [
    {
     "data": {
      "image/png": "[encoded data removed]",
      "text/plain": [
       "<Figure size 432x288 with 2 Axes>"
      ]
     },
     "metadata": {
      "needs_background": "light"
     },
     "output_type": "display_data"
    },
    {
     "data": {
      "image/png": "[encoded data removed]",
      "text/plain": [
       "<Figure size 432x288 with 2 Axes>"
      ]
     },
     "metadata": {
      "needs_background": "light"
     },
     "output_type": "display_data"
    },
    {
     "data": {
      "image/png": "[encoded data removed]",
      "text/plain": [
       "<Figure size 432x288 with 2 Axes>"
      ]
     },
     "metadata": {
      "needs_background": "light"
     },
     "output_type": "display_data"
    },
    {
     "data": {
      "image/png": "[encoded data removed]",
      "text/plain": [
       "<Figure size 432x288 with 2 Axes>"
      ]
     },
     "metadata": {
      "needs_background": "light"
     },
     "output_type": "display_data"
    },
    {
     "data": {
      "image/png": "[encoded data removed]",
      "text/plain": [
       "<Figure size 432x288 with 2 Axes>"
      ]
     },
     "metadata": {
      "needs_background": "light"
     },
     "output_type": "display_data"
    }
   ],
   "source": [
    "#fig, ((ax1, ax2), (ax3, ax4)) = plt.subplots(2, 2)\n",
    "#plot1 = \n",
    "ax1 = box1_ssp1.show_tradeoff()\n",
    "ax2 = box1_ssp2.show_tradeoff()\n",
    "ax3 = box1_ssp3.show_tradeoff()\n",
    "ax4 = box1_ssp4.show_tradeoff()\n",
    "ax4 = box1_ssp5.show_tradeoff()"
   ]
  },
  {
   "cell_type": "markdown",
   "metadata": {},
   "source": [
    "#Question for Bramka\n",
    "\n",
    "Why does this show two plots?"
   ]
  },
  {
   "cell_type": "code",
   "execution_count": 119,
   "metadata": {},
   "outputs": [
    {
     "data": {
      "image/png": "[encoded data removed]",
      "text/plain": [
       "<Figure size 432x288 with 2 Axes>"
      ]
     },
     "execution_count": 119,
     "metadata": {},
     "output_type": "execute_result"
    },
    {
     "data": {
      "image/png": "[encoded data removed]",
      "text/plain": [
       "<Figure size 432x288 with 2 Axes>"
      ]
     },
     "metadata": {
      "needs_background": "light"
     },
     "output_type": "display_data"
    }
   ],
   "source": [
    "box1_ssp1.show_tradeoff()"
   ]
  },
  {
   "cell_type": "code",
   "execution_count": 120,
   "metadata": {},
   "outputs": [
    {
     "data": {
      "image/png": "[encoded data removed]",
      "text/plain": [
       "<Figure size 432x288 with 1 Axes>"
      ]
     },
     "metadata": {
      "needs_background": "light"
     },
     "output_type": "display_data"
    }
   ],
   "source": [
    "#Want 70% coverage, 65% density\n",
    "#Inspect last candidate box\n",
    "box1_ssp1.inspect(style = 'graph')\n",
    "plt.show()"
   ]
  },
  {
   "cell_type": "code",
   "execution_count": 121,
   "metadata": {},
   "outputs": [
    {
     "name": "stderr",
     "output_type": "stream",
     "text": [
      "[MainProcess/INFO] 270 points remaining, containing 29 cases of interest\n",
      "[MainProcess/INFO] mean: 0.6875, mass: 0.055944055944055944, coverage: 0.25, density: 0.6875 restricted_dimensions: 4\n"
     ]
    }
   ],
   "source": [
    "#SSP2\n",
    "prim_alg_ssp2 = prim.Prim(x, SSP1, threshold=0.5, peel_alpha=0.05)\n",
    "box1_ssp2 = prim_alg_ssp1.find_box()"
   ]
  },
  {
   "cell_type": "markdown",
   "metadata": {},
   "source": [
    "# Hamarat et al\n",
    "\n",
    "this is the most difficult dataset to analyze with prim. It has been generated using the ema_workbench and can be loaded with the `load_results` function. Experiments are of interest if the end state for `'fraction renewables'` is lower than the initial value.\n",
    "\n",
    "* PRIM struggles with finding a good explanation for this case, why?\n",
    "* [Dalal et al (2013)](https://www.sciencedirect.com/science/article/pii/S1364815213001345) suggest using PCA preprocessing. The ema_workbench supports this with the `pca_preprocess` function. See also examples/prim_PCA_preprocess.py. Does PCA preprocessing makes a difference for this case?\n"
   ]
  },
  {
   "cell_type": "code",
   "execution_count": null,
   "metadata": {},
   "outputs": [],
   "source": [
    "#Example for pca_preprocess\n",
    "\n",
    "'''\n",
    "\n",
    "This file illustrated the use of the workbench for doing\n",
    "a PRIM analysis with PCA preprocessing\n",
    "\n",
    "The data was generated using a system dynamics models implemented in Vensim.\n",
    "See flu_example.py for the code.\n",
    "\n",
    "\n",
    "'''\n",
    "import matplotlib.pyplot as plt\n",
    "\n",
    "from ema_workbench import ema_logging, load_results\n",
    "import ema_workbench.analysis.prim as prim\n",
    "\n",
    "#\n",
    "# .. codeauthor:: jhkwakkel <j.h.kwakkel (at) tudelft (dot) nl>\n",
    "\n",
    "ema_logging.log_to_stderr(level=ema_logging.INFO)\n",
    "\n",
    "# load data\n",
    "fn = r'./data/1000 flu cases no policy.tar.gz'\n",
    "x, outcomes = load_results(fn)\n",
    "\n",
    "# specify y\n",
    "y = outcomes['deceased population region 1'][:, -1] > 1000000\n",
    "\n",
    "rotated_experiments, rotation_matrix = prim.pca_preprocess(x, y,\n",
    "                                                           exclude=['model', 'policy'])\n",
    "\n",
    "# perform prim on modified results tuple\n",
    "prim_obj = prim.Prim(rotated_experiments, y, threshold=0.8)\n",
    "box = prim_obj.find_box()\n",
    "\n",
    "box.show_tradeoff()\n",
    "box.inspect(22)\n",
    "plt.show()\n"
   ]
  },
  {
   "cell_type": "markdown",
   "metadata": {},
   "source": [
    "Trying to see if this matches with Figure 3 in Hamarat et al \n",
    "\n",
    "Question for Bramka\n",
    "\n",
    "It does not entirely match. How then, can we replicate the final figure?"
   ]
  },
  {
   "cell_type": "code",
   "execution_count": 156,
   "metadata": {},
   "outputs": [
    {
     "ename": "KeyError",
     "evalue": "'TIME'",
     "output_type": "error",
     "traceback": [
      "\u001b[1;31m---------------------------------------------------------------------------\u001b[0m",
      "\u001b[1;31mKeyError\u001b[0m                                  Traceback (most recent call last)",
      "\u001b[1;32m<ipython-input-156-8f345ea75958>\u001b[0m in \u001b[0;36m<module>\u001b[1;34m\u001b[0m\n\u001b[0;32m      3\u001b[0m \u001b[1;32mfor\u001b[0m \u001b[0moutcome\u001b[0m \u001b[1;32min\u001b[0m \u001b[0moutcomes\u001b[0m\u001b[1;33m.\u001b[0m\u001b[0mkeys\u001b[0m\u001b[1;33m(\u001b[0m\u001b[1;33m)\u001b[0m\u001b[1;33m:\u001b[0m\u001b[1;33m\u001b[0m\u001b[1;33m\u001b[0m\u001b[0m\n\u001b[0;32m      4\u001b[0m     plotting.lines(experiments, outcomes, outcomes_to_show=outcome, \n\u001b[1;32m----> 5\u001b[1;33m                    density=plotting_util.Density.HIST)\n\u001b[0m\u001b[0;32m      6\u001b[0m \u001b[0mplt\u001b[0m\u001b[1;33m.\u001b[0m\u001b[0mshow\u001b[0m\u001b[1;33m(\u001b[0m\u001b[1;33m)\u001b[0m\u001b[1;33m\u001b[0m\u001b[1;33m\u001b[0m\u001b[0m\n",
      "\u001b[1;32m~\\Anaconda\\lib\\site-packages\\ema_workbench\\analysis\\plotting.py\u001b[0m in \u001b[0;36mlines\u001b[1;34m(experiments, outcomes, outcomes_to_show, group_by, grouping_specifiers, density, legend, titles, ylabels, experiments_to_show, show_envelope, log)\u001b[0m\n\u001b[0;32m    340\u001b[0m \u001b[1;33m\u001b[0m\u001b[0m\n\u001b[0;32m    341\u001b[0m     data = prepare_data(experiments, outcomes, outcomes_to_show,\n\u001b[1;32m--> 342\u001b[1;33m                         group_by, grouping_specifiers)\n\u001b[0m\u001b[0;32m    343\u001b[0m     \u001b[0moutcomes\u001b[0m\u001b[1;33m,\u001b[0m \u001b[0moutcomes_to_show\u001b[0m\u001b[1;33m,\u001b[0m \u001b[0mtime\u001b[0m\u001b[1;33m,\u001b[0m \u001b[0mgrouping_labels\u001b[0m \u001b[1;33m=\u001b[0m \u001b[0mdata\u001b[0m\u001b[1;33m\u001b[0m\u001b[1;33m\u001b[0m\u001b[0m\n\u001b[0;32m    344\u001b[0m \u001b[1;33m\u001b[0m\u001b[0m\n",
      "\u001b[1;32m~\\Anaconda\\lib\\site-packages\\ema_workbench\\analysis\\plotting_util.py\u001b[0m in \u001b[0;36mprepare_data\u001b[1;34m(experiments, outcomes, outcomes_to_show, group_by, grouping_specifiers, filter_scalar)\u001b[0m\n\u001b[0;32m    716\u001b[0m \u001b[1;33m\u001b[0m\u001b[0m\n\u001b[0;32m    717\u001b[0m         \u001b[1;32mfor\u001b[0m \u001b[0mentry\u001b[0m \u001b[1;32min\u001b[0m \u001b[0moutcomes_to_show\u001b[0m\u001b[1;33m:\u001b[0m\u001b[1;33m\u001b[0m\u001b[1;33m\u001b[0m\u001b[0m\n\u001b[1;32m--> 718\u001b[1;33m             \u001b[0mtemp_outcomes\u001b[0m\u001b[1;33m[\u001b[0m\u001b[0mentry\u001b[0m\u001b[1;33m]\u001b[0m \u001b[1;33m=\u001b[0m \u001b[0moutcomes\u001b[0m\u001b[1;33m[\u001b[0m\u001b[0mentry\u001b[0m\u001b[1;33m]\u001b[0m\u001b[1;33m\u001b[0m\u001b[1;33m\u001b[0m\u001b[0m\n\u001b[0m\u001b[0;32m    719\u001b[0m \u001b[1;33m\u001b[0m\u001b[0m\n\u001b[0;32m    720\u001b[0m     \u001b[1;31m# filter the outcomes to exclude scalar values\u001b[0m\u001b[1;33m\u001b[0m\u001b[1;33m\u001b[0m\u001b[1;33m\u001b[0m\u001b[0m\n",
      "\u001b[1;31mKeyError\u001b[0m: 'TIME'"
     ]
    },
    {
     "data": {
      "image/png": "[encoded data removed]",
      "text/plain": [
       "<Figure size 432x288 with 2 Axes>"
      ]
     },
     "metadata": {
      "needs_background": "light"
     },
     "output_type": "display_data"
    },
    {
     "data": {
      "image/png": "[encoded data removed]",
      "text/plain": [
       "<Figure size 432x288 with 2 Axes>"
      ]
     },
     "metadata": {
      "needs_background": "light"
     },
     "output_type": "display_data"
    }
   ],
   "source": [
    "from ema_workbench.analysis import plotting, plotting_util\n",
    "\n",
    "for outcome in outcomes.keys():\n",
    "    plotting.lines(experiments, outcomes, outcomes_to_show=outcome, \n",
    "                   density=plotting_util.Density.HIST)\n",
    "plt.show()"
   ]
  },
  {
   "cell_type": "code",
   "execution_count": 40,
   "metadata": {},
   "outputs": [],
   "source": [
    "from ema_workbench import load_results, analysis\n",
    "import numpy as np"
   ]
  },
  {
   "cell_type": "code",
   "execution_count": 139,
   "metadata": {},
   "outputs": [
    {
     "name": "stderr",
     "output_type": "stream",
     "text": [
      "[MainProcess/INFO] results loaded succesfully from C:\\Users\\sahit\\EPA1361\\epa1361_open\\Week 3-4 - vulnerability analysis\\data\\Hamarat et al 2013.gz\n"
     ]
    }
   ],
   "source": [
    "data_hamarat = load_results(data_path + \"\\Hamarat et al 2013.gz\")\n",
    "experiments = data_hamarat[0]\n",
    "experiments = experiments.select_dtypes(include=['float64'])\n",
    "outcomes = data_hamarat[1]"
   ]
  },
  {
   "cell_type": "code",
   "execution_count": 138,
   "metadata": {},
   "outputs": [
    {
     "data": {
      "text/plain": [
       "array([0.26695362, 0.44947988, 0.59928203, ..., 0.49639055, 0.38222334,\n",
       "       0.31000748])"
      ]
     },
     "execution_count": 138,
     "metadata": {},
     "output_type": "execute_result"
    }
   ],
   "source": [
    "outcomes['fraction renewables'][:,-1]"
   ]
  },
  {
   "cell_type": "code",
   "execution_count": 140,
   "metadata": {},
   "outputs": [],
   "source": [
    "y = outcomes['fraction renewables'][:,-1] < 0.26695362"
   ]
  },
  {
   "cell_type": "code",
   "execution_count": 141,
   "metadata": {},
   "outputs": [],
   "source": [
    "rotated_experiments, rotation_matrix = prim.pca_preprocess(experiments, y)"
   ]
  },
  {
   "cell_type": "code",
   "execution_count": 150,
   "metadata": {},
   "outputs": [
    {
     "name": "stderr",
     "output_type": "stream",
     "text": [
      "[MainProcess/INFO] 5000 points remaining, containing 238 cases of interest\n",
      "[MainProcess/INFO] mean: 0.4942084942084942, mass: 0.0518, coverage: 0.5378151260504201, density: 0.4942084942084942 restricted_dimensions: 16\n"
     ]
    }
   ],
   "source": [
    "prim_alg_hamarat = prim.Prim(rotated_experiments, y, threshold = 0.4)\n",
    "box1 = prim_alg_hamarat.find_box()"
   ]
  },
  {
   "cell_type": "code",
   "execution_count": 151,
   "metadata": {},
   "outputs": [
    {
     "data": {
      "application/vnd.vegalite.v3+json": {
       "$schema": "https://vega.github.io/schema/vega-lite/v3.4.0.json",
       "config": {
        "mark": {
         "tooltip": null
        },
        "view": {
         "height": 300,
         "width": 400
        }
       },
       "datasets": {
        "data-30b8c3a55cdf6e3475472d7e106a0cc8": [
         {
          "coverage": 1,
          "density": 0.0476,
          "id": 0,
          "mass": 1,
          "mean": 0.0476,
          "res_dim": 0
         },
         {
          "coverage": 1,
          "density": 0.050105263157894736,
          "id": 1,
          "mass": 0.95,
          "mean": 0.050105263157894736,
          "res_dim": 1
         },
         {
          "coverage": 1,
          "density": 0.05274822695035461,
          "id": 2,
          "mass": 0.9024,
          "mean": 0.05274822695035461,
          "res_dim": 2
         },
         {
          "coverage": 1,
          "density": 0.055529631357909476,
          "id": 3,
          "mass": 0.8572,
          "mean": 0.055529631357909476,
          "res_dim": 3
         },
         {
          "coverage": 1,
          "density": 0.05846229427659052,
          "id": 4,
          "mass": 0.8142,
          "mean": 0.05846229427659052,
          "res_dim": 3
         },
         {
          "coverage": 1,
          "density": 0.061546418412205844,
          "id": 5,
          "mass": 0.7734,
          "mean": 0.061546418412205844,
          "res_dim": 3
         },
         {
          "coverage": 1,
          "density": 0.06479716852708957,
          "id": 6,
          "mass": 0.7346,
          "mean": 0.06479716852708957,
          "res_dim": 4
         },
         {
          "coverage": 1,
          "density": 0.06821438807681283,
          "id": 7,
          "mass": 0.6978,
          "mean": 0.06821438807681283,
          "res_dim": 5
         },
         {
          "coverage": 1,
          "density": 0.07181653590826795,
          "id": 8,
          "mass": 0.6628,
          "mean": 0.07181653590826795,
          "res_dim": 5
         },
         {
          "coverage": 1,
          "density": 0.07560355781448538,
          "id": 9,
          "mass": 0.6296,
          "mean": 0.07560355781448538,
          "res_dim": 5
         },
         {
          "coverage": 1,
          "density": 0.07959866220735785,
          "id": 10,
          "mass": 0.598,
          "mean": 0.07959866220735785,
          "res_dim": 5
         },
         {
          "coverage": 1,
          "density": 0.08380281690140845,
          "id": 11,
          "mass": 0.568,
          "mean": 0.08380281690140845,
          "res_dim": 5
         },
         {
          "coverage": 1,
          "density": 0.08821349147516679,
          "id": 12,
          "mass": 0.5396,
          "mean": 0.08821349147516679,
          "res_dim": 5
         },
         {
          "coverage": 1,
          "density": 0.09285992976980101,
          "id": 13,
          "mass": 0.5126,
          "mean": 0.09285992976980101,
          "res_dim": 5
         },
         {
          "coverage": 1,
          "density": 0.09778142974527526,
          "id": 14,
          "mass": 0.4868,
          "mean": 0.09778142974527526,
          "res_dim": 6
         },
         {
          "coverage": 0.9957983193277311,
          "density": 0.10250865051903114,
          "id": 15,
          "mass": 0.4624,
          "mean": 0.10250865051903114,
          "res_dim": 6
         },
         {
          "coverage": 0.9915966386554622,
          "density": 0.10746812386156648,
          "id": 16,
          "mass": 0.4392,
          "mean": 0.10746812386156648,
          "res_dim": 6
         },
         {
          "coverage": 0.9915966386554622,
          "density": 0.11313518696069032,
          "id": 17,
          "mass": 0.4172,
          "mean": 0.11313518696069032,
          "res_dim": 6
         },
         {
          "coverage": 0.9831932773109243,
          "density": 0.11812216052498738,
          "id": 18,
          "mass": 0.3962,
          "mean": 0.11812216052498738,
          "res_dim": 6
         },
         {
          "coverage": 0.9747899159663865,
          "density": 0.12333864965443912,
          "id": 19,
          "mass": 0.3762,
          "mean": 0.12333864965443912,
          "res_dim": 6
         },
         {
          "coverage": 0.9663865546218487,
          "density": 0.12877939529675253,
          "id": 20,
          "mass": 0.3572,
          "mean": 0.12877939529675253,
          "res_dim": 6
         },
         {
          "coverage": 0.957983193277311,
          "density": 0.13443396226415094,
          "id": 21,
          "mass": 0.3392,
          "mean": 0.13443396226415094,
          "res_dim": 7
         },
         {
          "coverage": 0.9453781512605042,
          "density": 0.13966480446927373,
          "id": 22,
          "mass": 0.3222,
          "mean": 0.13966480446927373,
          "res_dim": 7
         },
         {
          "coverage": 0.9327731092436975,
          "density": 0.1450980392156863,
          "id": 23,
          "mass": 0.306,
          "mean": 0.1450980392156863,
          "res_dim": 7
         },
         {
          "coverage": 0.9201680672268907,
          "density": 0.15072264280798348,
          "id": 24,
          "mass": 0.2906,
          "mean": 0.15072264280798348,
          "res_dim": 7
         },
         {
          "coverage": 0.9201680672268907,
          "density": 0.15869565217391304,
          "id": 25,
          "mass": 0.276,
          "mean": 0.15869565217391304,
          "res_dim": 7
         },
         {
          "coverage": 0.9201680672268907,
          "density": 0.16704805491990846,
          "id": 26,
          "mass": 0.2622,
          "mean": 0.16704805491990846,
          "res_dim": 7
         },
         {
          "coverage": 0.9201680672268907,
          "density": 0.17590361445783131,
          "id": 27,
          "mass": 0.249,
          "mean": 0.17590361445783131,
          "res_dim": 7
         },
         {
          "coverage": 0.9117647058823529,
          "density": 0.18358714043993232,
          "id": 28,
          "mass": 0.2364,
          "mean": 0.18358714043993232,
          "res_dim": 7
         },
         {
          "coverage": 0.9033613445378151,
          "density": 0.19162210338680927,
          "id": 29,
          "mass": 0.2244,
          "mean": 0.19162210338680927,
          "res_dim": 7
         },
         {
          "coverage": 0.8949579831932774,
          "density": 0.2,
          "id": 30,
          "mass": 0.213,
          "mean": 0.2,
          "res_dim": 8
         },
         {
          "coverage": 0.8865546218487395,
          "density": 0.20870425321463898,
          "id": 31,
          "mass": 0.2022,
          "mean": 0.20870425321463898,
          "res_dim": 9
         },
         {
          "coverage": 0.8697478991596639,
          "density": 0.215625,
          "id": 32,
          "mass": 0.192,
          "mean": 0.215625,
          "res_dim": 9
         },
         {
          "coverage": 0.8613445378151261,
          "density": 0.22478070175438597,
          "id": 33,
          "mass": 0.1824,
          "mean": 0.22478070175438597,
          "res_dim": 9
         },
         {
          "coverage": 0.8445378151260504,
          "density": 0.23210161662817552,
          "id": 34,
          "mass": 0.1732,
          "mean": 0.23210161662817552,
          "res_dim": 9
         },
         {
          "coverage": 0.8277310924369747,
          "density": 0.2396593673965937,
          "id": 35,
          "mass": 0.1644,
          "mean": 0.2396593673965937,
          "res_dim": 9
         },
         {
          "coverage": 0.8109243697478992,
          "density": 0.24743589743589745,
          "id": 36,
          "mass": 0.156,
          "mean": 0.24743589743589745,
          "res_dim": 9
         },
         {
          "coverage": 0.7941176470588235,
          "density": 0.2550607287449393,
          "id": 37,
          "mass": 0.1482,
          "mean": 0.2550607287449393,
          "res_dim": 9
         },
         {
          "coverage": 0.7773109243697479,
          "density": 0.2631578947368421,
          "id": 38,
          "mass": 0.1406,
          "mean": 0.2631578947368421,
          "res_dim": 9
         },
         {
          "coverage": 0.7605042016806722,
          "density": 0.27136431784107945,
          "id": 39,
          "mass": 0.1334,
          "mean": 0.27136431784107945,
          "res_dim": 9
         },
         {
          "coverage": 0.7436974789915967,
          "density": 0.2796208530805687,
          "id": 40,
          "mass": 0.1266,
          "mean": 0.2796208530805687,
          "res_dim": 9
         },
         {
          "coverage": 0.726890756302521,
          "density": 0.2878535773710483,
          "id": 41,
          "mass": 0.1202,
          "mean": 0.2878535773710483,
          "res_dim": 9
         },
         {
          "coverage": 0.7142857142857143,
          "density": 0.2982456140350877,
          "id": 42,
          "mass": 0.114,
          "mean": 0.2982456140350877,
          "res_dim": 9
         },
         {
          "coverage": 0.7100840336134454,
          "density": 0.3123844731977819,
          "id": 43,
          "mass": 0.1082,
          "mean": 0.3123844731977819,
          "res_dim": 9
         },
         {
          "coverage": 0.6974789915966386,
          "density": 0.3235867446393762,
          "id": 44,
          "mass": 0.1026,
          "mean": 0.3235867446393762,
          "res_dim": 10
         },
         {
          "coverage": 0.6848739495798319,
          "density": 0.3347022587268994,
          "id": 45,
          "mass": 0.0974,
          "mean": 0.3347022587268994,
          "res_dim": 11
         },
         {
          "coverage": 0.6722689075630253,
          "density": 0.3463203463203463,
          "id": 46,
          "mass": 0.0924,
          "mean": 0.3463203463203463,
          "res_dim": 12
         },
         {
          "coverage": 0.6596638655462185,
          "density": 0.3584474885844749,
          "id": 47,
          "mass": 0.0876,
          "mean": 0.3584474885844749,
          "res_dim": 12
         },
         {
          "coverage": 0.6428571428571429,
          "density": 0.36778846153846156,
          "id": 48,
          "mass": 0.0832,
          "mean": 0.36778846153846156,
          "res_dim": 12
         },
         {
          "coverage": 0.6302521008403361,
          "density": 0.379746835443038,
          "id": 49,
          "mass": 0.079,
          "mean": 0.379746835443038,
          "res_dim": 12
         },
         {
          "coverage": 0.6218487394957983,
          "density": 0.39466666666666667,
          "id": 50,
          "mass": 0.075,
          "mean": 0.39466666666666667,
          "res_dim": 12
         },
         {
          "coverage": 0.6092436974789915,
          "density": 0.40730337078651685,
          "id": 51,
          "mass": 0.0712,
          "mean": 0.40730337078651685,
          "res_dim": 13
         },
         {
          "coverage": 0.5966386554621849,
          "density": 0.42011834319526625,
          "id": 52,
          "mass": 0.0676,
          "mean": 0.42011834319526625,
          "res_dim": 13
         },
         {
          "coverage": 0.5840336134453782,
          "density": 0.43302180685358255,
          "id": 53,
          "mass": 0.0642,
          "mean": 0.43302180685358255,
          "res_dim": 13
         },
         {
          "coverage": 0.5714285714285714,
          "density": 0.4473684210526316,
          "id": 54,
          "mass": 0.0608,
          "mean": 0.4473684210526316,
          "res_dim": 14
         },
         {
          "coverage": 0.5588235294117647,
          "density": 0.4618055555555556,
          "id": 55,
          "mass": 0.0576,
          "mean": 0.4618055555555556,
          "res_dim": 14
         },
         {
          "coverage": 0.5504201680672269,
          "density": 0.47985347985347987,
          "id": 56,
          "mass": 0.0546,
          "mean": 0.47985347985347987,
          "res_dim": 15
         },
         {
          "coverage": 0.5378151260504201,
          "density": 0.4942084942084942,
          "id": 57,
          "mass": 0.0518,
          "mean": 0.4942084942084942,
          "res_dim": 16
         }
        ],
        "data-bb8d07f6df3d47a6a475317795287b23": [
         {
          "end": 1,
          "start": 0
         }
        ],
        "data-cb0ed1f2eb22ba61c5c1249e843d1bb7": [
         {
          "id": 1,
          "maximum": 3.146256172920483,
          "minimum": -3.3321451572379597,
          "name": "r_26",
          "qp_lower": 0.21740764692102577,
          "qp_upper": -1,
          "x1": -1.6793425266347999,
          "x2": 3.146256172920483
         },
         {
          "id": 2,
          "maximum": 3.146256172920483,
          "minimum": -3.3321451572379597,
          "name": "r_26",
          "qp_lower": 0.21660987648429156,
          "qp_upper": -1,
          "x1": -1.6793425266347999,
          "x2": 3.146256172920483
         },
         {
          "id": 2,
          "maximum": 4.306068650392292,
          "minimum": -3.6305663026325026,
          "name": "r_29",
          "qp_lower": 0.21660987648429156,
          "qp_upper": -1,
          "x1": -1.6626380512620074,
          "x2": 4.306068650392292
         },
         {
          "id": 3,
          "maximum": 3.146256172920483,
          "minimum": -3.3321451572379597,
          "name": "r_26",
          "qp_lower": 0.2143629293712069,
          "qp_upper": -1,
          "x1": -1.6793425266347999,
          "x2": 3.146256172920483
         },
         {
          "id": 3,
          "maximum": 4.306068650392292,
          "minimum": -3.6305663026325026,
          "name": "r_29",
          "qp_lower": 0.21943209244578815,
          "qp_upper": -1,
          "x1": -1.6626380512620074,
          "x2": 4.306068650392292
         },
         {
          "id": 3,
          "maximum": 3.441411019119689,
          "minimum": -3.1273250846960985,
          "name": "r_30",
          "qp_lower": -1,
          "qp_upper": 0.2163814529938483,
          "x1": -3.1273250846960985,
          "x2": 1.6866088268160653
         },
         {
          "id": 4,
          "maximum": 3.146256172920483,
          "minimum": -3.3321451572379597,
          "name": "r_26",
          "qp_lower": 0.2062465462704452,
          "qp_upper": -1,
          "x1": -1.6793425266347999,
          "x2": 3.146256172920483
         },
         {
          "id": 4,
          "maximum": 4.306068650392292,
          "minimum": -3.6305663026325026,
          "name": "r_29",
          "qp_lower": 0.21890716485407755,
          "qp_upper": -1,
          "x1": -1.6626380512620074,
          "x2": 4.306068650392292
         },
         {
          "id": 4,
          "maximum": 3.441411019119689,
          "minimum": -3.1273250846960985,
          "name": "r_30",
          "qp_lower": -1,
          "qp_upper": 0.05697041738150509,
          "x1": -3.1273250846960985,
          "x2": 1.3350462545199693
         },
         {
          "id": 5,
          "maximum": 3.146256172920483,
          "minimum": -3.3321451572379597,
          "name": "r_26",
          "qp_lower": 0.20893574729247683,
          "qp_upper": -1,
          "x1": -1.6793425266347999,
          "x2": 3.146256172920483
         },
         {
          "id": 5,
          "maximum": 4.306068650392292,
          "minimum": -3.6305663026325026,
          "name": "r_29",
          "qp_lower": 0.22012758378698735,
          "qp_upper": -1,
          "x1": -1.6626380512620074,
          "x2": 4.306068650392292
         },
         {
          "id": 5,
          "maximum": 3.441411019119689,
          "minimum": -3.1273250846960985,
          "name": "r_30",
          "qp_lower": -1,
          "qp_upper": 0.00904744131584725,
          "x1": -3.1273250846960985,
          "x2": 1.0887760427442505
         },
         {
          "id": 6,
          "maximum": 3.146256172920483,
          "minimum": -3.3321451572379597,
          "name": "r_26",
          "qp_lower": 0.21143682587892174,
          "qp_upper": -1,
          "x1": -1.6793425266347999,
          "x2": 3.146256172920483
         },
         {
          "id": 6,
          "maximum": 4.306068650392292,
          "minimum": -3.6305663026325026,
          "name": "r_29",
          "qp_lower": 0.2161482085516924,
          "qp_upper": -1,
          "x1": -1.6626380512620074,
          "x2": 4.306068650392292
         },
         {
          "id": 6,
          "maximum": 3.441411019119689,
          "minimum": -3.1273250846960985,
          "name": "r_30",
          "qp_lower": -1,
          "qp_upper": 0.008929120607559625,
          "x1": -3.1273250846960985,
          "x2": 1.0887760427442505
         },
         {
          "id": 6,
          "maximum": 3.351656849433929,
          "minimum": -3.543501908633695,
          "name": "r_31",
          "qp_lower": 0.2149640678275211,
          "qp_upper": -1,
          "x1": -1.5816639964153987,
          "x2": 3.351656849433929
         },
         {
          "id": 7,
          "maximum": 3.146256172920483,
          "minimum": -3.3321451572379597,
          "name": "r_26",
          "qp_lower": 0.21244615030979452,
          "qp_upper": -1,
          "x1": -1.6793425266347999,
          "x2": 3.146256172920483
         },
         {
          "id": 7,
          "maximum": 4.306068650392292,
          "minimum": -3.6305663026325026,
          "name": "r_29",
          "qp_lower": 0.21492985034573592,
          "qp_upper": -1,
          "x1": -1.6626380512620074,
          "x2": 4.306068650392292
         },
         {
          "id": 7,
          "maximum": 3.441411019119689,
          "minimum": -3.1273250846960985,
          "name": "r_30",
          "qp_lower": -1,
          "qp_upper": 0.008428877381448286,
          "x1": -3.1273250846960985,
          "x2": 1.0887760427442505
         },
         {
          "id": 7,
          "maximum": 3.351656849433929,
          "minimum": -3.543501908633695,
          "name": "r_31",
          "qp_lower": 0.21492985034573592,
          "qp_upper": -1,
          "x1": -1.5816639964153987,
          "x2": 3.351656849433929
         },
         {
          "id": 7,
          "maximum": 3.5932835830910497,
          "minimum": -3.6133308748044524,
          "name": "r_32",
          "qp_lower": 0.21492985034573592,
          "qp_upper": -1,
          "x1": -1.658451687534256,
          "x2": 3.5932835830910497
         },
         {
          "id": 8,
          "maximum": 3.146256172920483,
          "minimum": -3.3321451572379597,
          "name": "r_26",
          "qp_lower": 0.2063706326326037,
          "qp_upper": -1,
          "x1": -1.6793425266347999,
          "x2": 3.146256172920483
         },
         {
          "id": 8,
          "maximum": 4.306068650392292,
          "minimum": -3.6305663026325026,
          "name": "r_29",
          "qp_lower": 0.21153613879594937,
          "qp_upper": -1,
          "x1": -1.6626380512620074,
          "x2": 4.306068650392292
         },
         {
          "id": 8,
          "maximum": 3.441411019119689,
          "minimum": -3.1273250846960985,
          "name": "r_30",
          "qp_lower": -1,
          "qp_upper": 0.008640809046773695,
          "x1": -3.1273250846960985,
          "x2": 1.0887760427442505
         },
         {
          "id": 8,
          "maximum": 3.351656849433929,
          "minimum": -3.543501908633695,
          "name": "r_31",
          "qp_lower": 0.21153613879594937,
          "qp_upper": -1,
          "x1": -1.5816639964153987,
          "x2": 3.351656849433929
         },
         {
          "id": 8,
          "maximum": 3.5932835830910497,
          "minimum": -3.6133308748044524,
          "name": "r_32",
          "qp_lower": 0.05528386851726315,
          "qp_upper": -1,
          "x1": -1.3177440182871392,
          "x2": 3.5932835830910497
         },
         {
          "id": 9,
          "maximum": 3.146256172920483,
          "minimum": -3.3321451572379597,
          "name": "r_26",
          "qp_lower": 0.19924593592646,
          "qp_upper": -1,
          "x1": -1.6793425266347999,
          "x2": 3.146256172920483
         },
         {
          "id": 9,
          "maximum": 4.306068650392292,
          "minimum": -3.6305663026325026,
          "name": "r_29",
          "qp_lower": 0.21689400631174102,
          "qp_upper": -1,
          "x1": -1.6626380512620074,
          "x2": 4.306068650392292
         },
         {
          "id": 9,
          "maximum": 3.441411019119689,
          "minimum": -3.1273250846960985,
          "name": "r_30",
          "qp_lower": -1,
          "qp_upper": 0.008677070008613511,
          "x1": -3.1273250846960985,
          "x2": 1.0887760427442505
         },
         {
          "id": 9,
          "maximum": 3.351656849433929,
          "minimum": -3.543501908633695,
          "name": "r_31",
          "qp_lower": 0.20726945137337396,
          "qp_upper": -1,
          "x1": -1.5816639964153987,
          "x2": 3.351656849433929
         },
         {
          "id": 9,
          "maximum": 3.5932835830910497,
          "minimum": -3.6133308748044524,
          "name": "r_32",
          "qp_lower": 0.008677070008613511,
          "qp_upper": -1,
          "x1": -1.0945035987235707,
          "x2": 3.5932835830910497
         },
         {
          "id": 10,
          "maximum": 3.146256172920483,
          "minimum": -3.3321451572379597,
          "name": "r_26",
          "qp_lower": 0.19617195906207258,
          "qp_upper": -1,
          "x1": -1.6793425266347999,
          "x2": 3.146256172920483
         },
         {
          "id": 10,
          "maximum": 4.306068650392292,
          "minimum": -3.6305663026325026,
          "name": "r_29",
          "qp_lower": 0.21757201771535753,
          "qp_upper": -1,
          "x1": -1.6626380512620074,
          "x2": 4.306068650392292
         },
         {
          "id": 10,
          "maximum": 3.441411019119689,
          "minimum": -3.1273250846960985,
          "name": "r_30",
          "qp_lower": -1,
          "qp_upper": 0.008636886735525913,
          "x1": -3.1273250846960985,
          "x2": 1.0887760427442505
         },
         {
          "id": 10,
          "maximum": 3.351656849433929,
          "minimum": -3.543501908633695,
          "name": "r_31",
          "qp_lower": 0.2031438329716132,
          "qp_upper": -1,
          "x1": -1.5816639964153987,
          "x2": 3.351656849433929
         },
         {
          "id": 10,
          "maximum": 3.5932835830910497,
          "minimum": -3.6133308748044524,
          "name": "r_32",
          "qp_lower": 0.0007972867751006317,
          "qp_upper": -1,
          "x1": -0.9148814681189574,
          "x2": 3.5932835830910497
         },
         {
          "id": 11,
          "maximum": 3.146256172920483,
          "minimum": -3.3321451572379597,
          "name": "r_26",
          "qp_lower": 0.19194305512373433,
          "qp_upper": -1,
          "x1": -1.6793425266347999,
          "x2": 3.146256172920483
         },
         {
          "id": 11,
          "maximum": 4.306068650392292,
          "minimum": -3.6305663026325026,
          "name": "r_29",
          "qp_lower": 0.21891683082591207,
          "qp_upper": -1,
          "x1": -1.6626380512620074,
          "x2": 4.306068650392292
         },
         {
          "id": 11,
          "maximum": 3.441411019119689,
          "minimum": -3.1273250846960985,
          "name": "r_30",
          "qp_lower": -1,
          "qp_upper": 0.008402873838582198,
          "x1": -3.1273250846960985,
          "x2": 1.0887760427442505
         },
         {
          "id": 11,
          "maximum": 3.351656849433929,
          "minimum": -3.543501908633695,
          "name": "r_31",
          "qp_lower": 0.19627660257290216,
          "qp_upper": -1,
          "x1": -1.5816639964153987,
          "x2": 3.351656849433929
         },
         {
          "id": 11,
          "maximum": 3.5932835830910497,
          "minimum": -3.6133308748044524,
          "name": "r_32",
          "qp_lower": 4.284563157552123e-05,
          "qp_upper": -1,
          "x1": -0.7470858985212768,
          "x2": 3.5932835830910497
         },
         {
          "id": 12,
          "maximum": 3.146256172920483,
          "minimum": -3.3321451572379597,
          "name": "r_26",
          "qp_lower": 0.19423616220875078,
          "qp_upper": -1,
          "x1": -1.6793425266347999,
          "x2": 3.146256172920483
         },
         {
          "id": 12,
          "maximum": 4.306068650392292,
          "minimum": -3.6305663026325026,
          "name": "r_29",
          "qp_lower": 0.2246440175854312,
          "qp_upper": -1,
          "x1": -1.6626380512620074,
          "x2": 4.306068650392292
         },
         {
          "id": 12,
          "maximum": 3.441411019119689,
          "minimum": -3.1273250846960985,
          "name": "r_30",
          "qp_lower": -1,
          "qp_upper": 0.008338469965843552,
          "x1": -3.1273250846960985,
          "x2": 1.0887760427442505
         },
         {
          "id": 12,
          "maximum": 3.351656849433929,
          "minimum": -3.543501908633695,
          "name": "r_31",
          "qp_lower": 0.18820304849137975,
          "qp_upper": -1,
          "x1": -1.5816639964153987,
          "x2": 3.351656849433929
         },
         {
          "id": 12,
          "maximum": 3.5932835830910497,
          "minimum": -3.6133308748044524,
          "name": "r_32",
          "qp_lower": 1.4719762503596367e-06,
          "qp_upper": -1,
          "x1": -0.6204862865502753,
          "x2": 3.5932835830910497
         },
         {
          "id": 13,
          "maximum": 3.146256172920483,
          "minimum": -3.3321451572379597,
          "name": "r_26",
          "qp_lower": 0.19086081575553496,
          "qp_upper": -1,
          "x1": -1.6793425266347999,
          "x2": 3.146256172920483
         },
         {
          "id": 13,
          "maximum": 4.306068650392292,
          "minimum": -3.6305663026325026,
          "name": "r_29",
          "qp_lower": 0.2191903343848376,
          "qp_upper": -1,
          "x1": -1.6626380512620074,
          "x2": 4.306068650392292
         },
         {
          "id": 13,
          "maximum": 3.441411019119689,
          "minimum": -3.1273250846960985,
          "name": "r_30",
          "qp_lower": -1,
          "qp_upper": 0.009347752649558495,
          "x1": -3.1273250846960985,
          "x2": 1.0887760427442505
         },
         {
          "id": 13,
          "maximum": 3.351656849433929,
          "minimum": -3.543501908633695,
          "name": "r_31",
          "qp_lower": 0.19086081575553496,
          "qp_upper": -1,
          "x1": -1.5816639964153987,
          "x2": 3.351656849433929
         },
         {
          "id": 13,
          "maximum": 3.5932835830910497,
          "minimum": -3.6133308748044524,
          "name": "r_32",
          "qp_lower": 2.946343293008644e-08,
          "qp_upper": -1,
          "x1": -0.5038941096376475,
          "x2": 3.5932835830910497
         },
         {
          "id": 14,
          "maximum": 3.146256172920483,
          "minimum": -3.3321451572379597,
          "name": "r_26",
          "qp_lower": 0.1862916744344184,
          "qp_upper": -1,
          "x1": -1.6793425266347999,
          "x2": 3.146256172920483
         },
         {
          "id": 14,
          "maximum": 4.306068650392292,
          "minimum": -3.6305663026325026,
          "name": "r_29",
          "qp_lower": 0.23258507279799706,
          "qp_upper": -1,
          "x1": -1.6626380512620074,
          "x2": 4.306068650392292
         },
         {
          "id": 14,
          "maximum": 3.441411019119689,
          "minimum": -3.1273250846960985,
          "name": "r_30",
          "qp_lower": -1,
          "qp_upper": 0.009917477785835209,
          "x1": -3.1273250846960985,
          "x2": 1.0887760427442505
         },
         {
          "id": 14,
          "maximum": 3.351656849433929,
          "minimum": -3.543501908633695,
          "name": "r_31",
          "qp_lower": 0.1862916744344184,
          "qp_upper": -1,
          "x1": -1.5816639964153987,
          "x2": 3.351656849433929
         },
         {
          "id": 14,
          "maximum": 3.5932835830910497,
          "minimum": -3.6133308748044524,
          "name": "r_32",
          "qp_lower": 3.0634291655394315e-08,
          "qp_upper": -1,
          "x1": -0.5038941096376475,
          "x2": 3.5932835830910497
         },
         {
          "id": 14,
          "maximum": 3.5731138634594455,
          "minimum": -3.453463384993952,
          "name": "r_33",
          "qp_lower": -1,
          "qp_upper": 0.2103857700707312,
          "x1": -3.453463384993952,
          "x2": 1.6681688488551756
         },
         {
          "id": 15,
          "maximum": 3.146256172920483,
          "minimum": -3.3321451572379597,
          "name": "r_26",
          "qp_lower": 0.17741242958606235,
          "qp_upper": -1,
          "x1": -1.6793425266347999,
          "x2": 3.146256172920483
         },
         {
          "id": 15,
          "maximum": 4.306068650392292,
          "minimum": -3.6305663026325026,
          "name": "r_29",
          "qp_lower": 0.2348433043452705,
          "qp_upper": -1,
          "x1": -1.6626380512620074,
          "x2": 4.306068650392292
         },
         {
          "id": 15,
          "maximum": 3.441411019119689,
          "minimum": -3.1273250846960985,
          "name": "r_30",
          "qp_lower": -1,
          "qp_upper": 0.009088375705903725,
          "x1": -3.1273250846960985,
          "x2": 1.0887760427442505
         },
         {
          "id": 15,
          "maximum": 3.351656849433929,
          "minimum": -3.543501908633695,
          "name": "r_31",
          "qp_lower": 0.1740711920379163,
          "qp_upper": 0.23127429871719044,
          "x1": -1.5816639964153987,
          "x2": 1.636658380964462
         },
         {
          "id": 15,
          "maximum": 3.5932835830910497,
          "minimum": -3.6133308748044524,
          "name": "r_32",
          "qp_lower": 3.659720772416586e-08,
          "qp_upper": -1,
          "x1": -0.5038941096376475,
          "x2": 3.5932835830910497
         },
         {
          "id": 15,
          "maximum": 3.5731138634594455,
          "minimum": -3.453463384993952,
          "name": "r_33",
          "qp_lower": -1,
          "qp_upper": 0.20387971036853858,
          "x1": -3.453463384993952,
          "x2": 1.6681688488551756
         },
         {
          "id": 16,
          "maximum": 3.146256172920483,
          "minimum": -3.3321451572379597,
          "name": "r_26",
          "qp_lower": 0.17195389004893188,
          "qp_upper": -1,
          "x1": -1.6793425266347999,
          "x2": 3.146256172920483
         },
         {
          "id": 16,
          "maximum": 4.306068650392292,
          "minimum": -3.6305663026325026,
          "name": "r_29",
          "qp_lower": 0.22736477559192597,
          "qp_upper": -1,
          "x1": -1.6626380512620074,
          "x2": 4.306068650392292
         },
         {
          "id": 16,
          "maximum": 3.441411019119689,
          "minimum": -3.1273250846960985,
          "name": "r_30",
          "qp_lower": -1,
          "qp_upper": 0.009838295729802089,
          "x1": -3.1273250846960985,
          "x2": 1.0887760427442505
         },
         {
          "id": 16,
          "maximum": 3.351656849433929,
          "minimum": -3.543501908633695,
          "name": "r_31",
          "qp_lower": 0.1736931998628323,
          "qp_upper": 0.22480181414319042,
          "x1": -1.5816639964153987,
          "x2": 1.636658380964462
         },
         {
          "id": 16,
          "maximum": 3.5932835830910497,
          "minimum": -3.6133308748044524,
          "name": "r_32",
          "qp_lower": 3.333729207479871e-08,
          "qp_upper": -1,
          "x1": -0.5038941096376475,
          "x2": 3.5932835830910497
         },
         {
          "id": 16,
          "maximum": 3.5731138634594455,
          "minimum": -3.453463384993952,
          "name": "r_33",
          "qp_lower": -1,
          "qp_upper": 0.05789475855350163,
          "x1": -3.453463384993952,
          "x2": 1.29957480385894
         },
         {
          "id": 17,
          "maximum": 3.146256172920483,
          "minimum": -3.3321451572379597,
          "name": "r_26",
          "qp_lower": 0.17704550930669932,
          "qp_upper": -1,
          "x1": -1.6793425266347999,
          "x2": 3.146256172920483
         },
         {
          "id": 17,
          "maximum": 4.306068650392292,
          "minimum": -3.6305663026325026,
          "name": "r_29",
          "qp_lower": 0.22362106408775706,
          "qp_upper": -1,
          "x1": -1.6626380512620074,
          "x2": 4.306068650392292
         },
         {
          "id": 17,
          "maximum": 3.441411019119689,
          "minimum": -3.1273250846960985,
          "name": "r_30",
          "qp_lower": -1,
          "qp_upper": 0.008919465951509789,
          "x1": -3.1273250846960985,
          "x2": 1.0887760427442505
         },
         {
          "id": 17,
          "maximum": 3.351656849433929,
          "minimum": -3.543501908633695,
          "name": "r_31",
          "qp_lower": 0.18271058948305766,
          "qp_upper": 0.22205962744930036,
          "x1": -1.5816639964153987,
          "x2": 1.636658380964462
         },
         {
          "id": 17,
          "maximum": 3.5932835830910497,
          "minimum": -3.6133308748044524,
          "name": "r_32",
          "qp_lower": 2.6167895403053722e-08,
          "qp_upper": -1,
          "x1": -0.5038941096376475,
          "x2": 3.5932835830910497
         },
         {
          "id": 17,
          "maximum": 3.5731138634594455,
          "minimum": -3.453463384993952,
          "name": "r_33",
          "qp_lower": -1,
          "qp_upper": 0.008811389743436164,
          "x1": -3.453463384993952,
          "x2": 1.0815505172632343
         },
         {
          "id": 18,
          "maximum": 3.146256172920483,
          "minimum": -3.3321451572379597,
          "name": "r_26",
          "qp_lower": 0.17478268825527368,
          "qp_upper": -1,
          "x1": -1.6793425266347999,
          "x2": 3.146256172920483
         },
         {
          "id": 18,
          "maximum": 4.306068650392292,
          "minimum": -3.6305663026325026,
          "name": "r_29",
          "qp_lower": 0.21225479688274723,
          "qp_upper": 0.2513140499392205,
          "x1": -1.6626380512620074,
          "x2": 1.6911212986114341
         },
         {
          "id": 18,
          "maximum": 3.441411019119689,
          "minimum": -3.1273250846960985,
          "name": "r_30",
          "qp_lower": -1,
          "qp_upper": 0.007790252451625248,
          "x1": -3.1273250846960985,
          "x2": 1.0887760427442505
         },
         {
          "id": 18,
          "maximum": 3.351656849433929,
          "minimum": -3.543501908633695,
          "name": "r_31",
          "qp_lower": 0.17673606719103027,
          "qp_upper": 0.22327738295756505,
          "x1": -1.5816639964153987,
          "x2": 1.636658380964462
         },
         {
          "id": 18,
          "maximum": 3.5932835830910497,
          "minimum": -3.6133308748044524,
          "name": "r_32",
          "qp_lower": 2.604684075410593e-08,
          "qp_upper": -1,
          "x1": -0.5038941096376475,
          "x2": 3.5932835830910497
         },
         {
          "id": 18,
          "maximum": 3.5731138634594455,
          "minimum": -3.453463384993952,
          "name": "r_33",
          "qp_lower": -1,
          "qp_upper": 0.009302358650231218,
          "x1": -3.453463384993952,
          "x2": 1.0815505172632343
         },
         {
          "id": 19,
          "maximum": 3.146256172920483,
          "minimum": -3.3321451572379597,
          "name": "r_26",
          "qp_lower": 0.18321774901648866,
          "qp_upper": -1,
          "x1": -1.6793425266347999,
          "x2": 3.146256172920483
         },
         {
          "id": 19,
          "maximum": 4.306068650392292,
          "minimum": -3.6305663026325026,
          "name": "r_29",
          "qp_lower": 0.0695803830508048,
          "qp_upper": 0.23867807062099364,
          "x1": -1.26540009419833,
          "x2": 1.6911212986114341
         },
         {
          "id": 19,
          "maximum": 3.441411019119689,
          "minimum": -3.1273250846960985,
          "name": "r_30",
          "qp_lower": -1,
          "qp_upper": 0.008873947285640853,
          "x1": -3.1273250846960985,
          "x2": 1.0887760427442505
         },
         {
          "id": 19,
          "maximum": 3.351656849433929,
          "minimum": -3.543501908633695,
          "name": "r_31",
          "qp_lower": 0.17489762586752028,
          "qp_upper": 0.2227968504923835,
          "x1": -1.5816639964153987,
          "x2": 1.636658380964462
         },
         {
          "id": 19,
          "maximum": 3.5932835830910497,
          "minimum": -3.6133308748044524,
          "name": "r_32",
          "qp_lower": 2.3639810466685006e-08,
          "qp_upper": -1,
          "x1": -0.5038941096376475,
          "x2": 3.5932835830910497
         },
         {
          "id": 19,
          "maximum": 3.5731138634594455,
          "minimum": -3.453463384993952,
          "name": "r_33",
          "qp_lower": -1,
          "qp_upper": 0.010978618878133443,
          "x1": -3.453463384993952,
          "x2": 1.0815505172632343
         },
         {
          "id": 20,
          "maximum": 3.146256172920483,
          "minimum": -3.3321451572379597,
          "name": "r_26",
          "qp_lower": 0.18440092388107174,
          "qp_upper": -1,
          "x1": -1.6793425266347999,
          "x2": 3.146256172920483
         },
         {
          "id": 20,
          "maximum": 4.306068650392292,
          "minimum": -3.6305663026325026,
          "name": "r_29",
          "qp_lower": 0.06974600327423272,
          "qp_upper": 0.2412796688833458,
          "x1": -1.26540009419833,
          "x2": 1.6911212986114341
         },
         {
          "id": 20,
          "maximum": 3.441411019119689,
          "minimum": -3.1273250846960985,
          "name": "r_30",
          "qp_lower": -1,
          "qp_upper": 0.008350705241216115,
          "x1": -3.1273250846960985,
          "x2": 1.0887760427442505
         },
         {
          "id": 20,
          "maximum": 3.351656849433929,
          "minimum": -3.543501908633695,
          "name": "r_31",
          "qp_lower": 0.17347144956789493,
          "qp_upper": 0.2178714180843162,
          "x1": -1.5816639964153987,
          "x2": 1.636658380964462
         },
         {
          "id": 20,
          "maximum": 3.5932835830910497,
          "minimum": -3.6133308748044524,
          "name": "r_32",
          "qp_lower": 2.053570064607042e-08,
          "qp_upper": -1,
          "x1": -0.5038941096376475,
          "x2": 3.5932835830910497
         },
         {
          "id": 20,
          "maximum": 3.5731138634594455,
          "minimum": -3.453463384993952,
          "name": "r_33",
          "qp_lower": -1,
          "qp_upper": 0.0016359600433937115,
          "x1": -3.453463384993952,
          "x2": 0.9174683437831805
         },
         {
          "id": 21,
          "maximum": 3.173606889157316,
          "minimum": -2.9087788085580875,
          "name": "r_23",
          "qp_lower": -1,
          "qp_upper": 0.253331150866908,
          "x1": -2.9087788085580875,
          "x2": 1.653943019099005
         },
         {
          "id": 21,
          "maximum": 3.146256172920483,
          "minimum": -3.3321451572379597,
          "name": "r_26",
          "qp_lower": 0.18166320890555737,
          "qp_upper": -1,
          "x1": -1.6793425266347999,
          "x2": 3.146256172920483
         },
         {
          "id": 21,
          "maximum": 4.306068650392292,
          "minimum": -3.6305663026325026,
          "name": "r_29",
          "qp_lower": 0.06935654551727675,
          "qp_upper": 0.23655319352935103,
          "x1": -1.26540009419833,
          "x2": 1.6911212986114341
         },
         {
          "id": 21,
          "maximum": 3.441411019119689,
          "minimum": -3.1273250846960985,
          "name": "r_30",
          "qp_lower": -1,
          "qp_upper": 0.006693107131560563,
          "x1": -3.1273250846960985,
          "x2": 1.0887760427442505
         },
         {
          "id": 21,
          "maximum": 3.351656849433929,
          "minimum": -3.543501908633695,
          "name": "r_31",
          "qp_lower": 0.16809237974166852,
          "qp_upper": 0.2131494151670051,
          "x1": -1.5816639964153987,
          "x2": 1.636658380964462
         },
         {
          "id": 21,
          "maximum": 3.5932835830910497,
          "minimum": -3.6133308748044524,
          "name": "r_32",
          "qp_lower": 2.0633010526062742e-08,
          "qp_upper": -1,
          "x1": -0.5038941096376475,
          "x2": 3.5932835830910497
         },
         {
          "id": 21,
          "maximum": 3.5731138634594455,
          "minimum": -3.453463384993952,
          "name": "r_33",
          "qp_lower": -1,
          "qp_upper": 0.001661102456265802,
          "x1": -3.453463384993952,
          "x2": 0.9174683437831805
         },
         {
          "id": 22,
          "maximum": 3.173606889157316,
          "minimum": -2.9087788085580875,
          "name": "r_23",
          "qp_lower": -1,
          "qp_upper": 0.25034675782450144,
          "x1": -2.9087788085580875,
          "x2": 1.653943019099005
         },
         {
          "id": 22,
          "maximum": 3.146256172920483,
          "minimum": -3.3321451572379597,
          "name": "r_26",
          "qp_lower": 0.179979380075315,
          "qp_upper": -1,
          "x1": -1.6793425266347999,
          "x2": 3.146256172920483
         },
         {
          "id": 22,
          "maximum": 4.306068650392292,
          "minimum": -3.6305663026325026,
          "name": "r_29",
          "qp_lower": 0.06230694727468961,
          "qp_upper": 0.24738606789888115,
          "x1": -1.26540009419833,
          "x2": 1.6911212986114341
         },
         {
          "id": 22,
          "maximum": 3.441411019119689,
          "minimum": -3.1273250846960985,
          "name": "r_30",
          "qp_lower": -1,
          "qp_upper": 0.0012013629408232594,
          "x1": -3.1273250846960985,
          "x2": 0.9055865058646686
         },
         {
          "id": 22,
          "maximum": 3.351656849433929,
          "minimum": -3.543501908633695,
          "name": "r_31",
          "qp_lower": 0.1728211881318534,
          "qp_upper": 0.2147911126992913,
          "x1": -1.5816639964153987,
          "x2": 1.636658380964462
         },
         {
          "id": 22,
          "maximum": 3.5932835830910497,
          "minimum": -3.6133308748044524,
          "name": "r_32",
          "qp_lower": 2.651172439721656e-08,
          "qp_upper": -1,
          "x1": -0.5038941096376475,
          "x2": 3.5932835830910497
         },
         {
          "id": 22,
          "maximum": 3.5731138634594455,
          "minimum": -3.453463384993952,
          "name": "r_33",
          "qp_lower": -1,
          "qp_upper": 0.0015367617797789198,
          "x1": -3.453463384993952,
          "x2": 0.9174683437831805
         },
         {
          "id": 23,
          "maximum": 3.173606889157316,
          "minimum": -2.9087788085580875,
          "name": "r_23",
          "qp_lower": -1,
          "qp_upper": 0.2507172966720288,
          "x1": -2.9087788085580875,
          "x2": 1.653943019099005
         },
         {
          "id": 23,
          "maximum": 3.146256172920483,
          "minimum": -3.3321451572379597,
          "name": "r_26",
          "qp_lower": 0.18893824067570242,
          "qp_upper": -1,
          "x1": -1.6793425266347999,
          "x2": 3.146256172920483
         },
         {
          "id": 23,
          "maximum": 4.306068650392292,
          "minimum": -3.6305663026325026,
          "name": "r_29",
          "qp_lower": 0.06196961709856683,
          "qp_upper": 0.24761050089678469,
          "x1": -1.26540009419833,
          "x2": 1.6911212986114341
         },
         {
          "id": 23,
          "maximum": 3.441411019119689,
          "minimum": -3.1273250846960985,
          "name": "r_30",
          "qp_lower": -1,
          "qp_upper": 0.001263106859437835,
          "x1": -3.1273250846960985,
          "x2": 0.9055865058646686
         },
         {
          "id": 23,
          "maximum": 3.351656849433929,
          "minimum": -3.543501908633695,
          "name": "r_31",
          "qp_lower": 0.06264584952086075,
          "qp_upper": 0.20311560032369075,
          "x1": -1.2634757415632478,
          "x2": 1.636658380964462
         },
         {
          "id": 23,
          "maximum": 3.5932835830910497,
          "minimum": -3.6133308748044524,
          "name": "r_32",
          "qp_lower": 3.289808502985897e-08,
          "qp_upper": -1,
          "x1": -0.5038941096376475,
          "x2": 3.5932835830910497
         },
         {
          "id": 23,
          "maximum": 3.5731138634594455,
          "minimum": -3.453463384993952,
          "name": "r_33",
          "qp_lower": -1,
          "qp_upper": 0.0017627194884451518,
          "x1": -3.453463384993952,
          "x2": 0.9174683437831805
         },
         {
          "id": 24,
          "maximum": 3.173606889157316,
          "minimum": -2.9087788085580875,
          "name": "r_23",
          "qp_lower": -1,
          "qp_upper": 0.245182851644162,
          "x1": -2.9087788085580875,
          "x2": 1.653943019099005
         },
         {
          "id": 24,
          "maximum": 3.146256172920483,
          "minimum": -3.3321451572379597,
          "name": "r_26",
          "qp_lower": 0.19685053600455057,
          "qp_upper": -1,
          "x1": -1.6793425266347999,
          "x2": 3.146256172920483
         },
         {
          "id": 24,
          "maximum": 4.306068650392292,
          "minimum": -3.6305663026325026,
          "name": "r_29",
          "qp_lower": 0.061645094061502995,
          "qp_upper": 0.2549778343969475,
          "x1": -1.26540009419833,
          "x2": 1.6911212986114341
         },
         {
          "id": 24,
          "maximum": 3.441411019119689,
          "minimum": -3.1273250846960985,
          "name": "r_30",
          "qp_lower": -1,
          "qp_upper": 0.0013615912800283199,
          "x1": -3.1273250846960985,
          "x2": 0.9055865058646686
         },
         {
          "id": 24,
          "maximum": 3.351656849433929,
          "minimum": -3.543501908633695,
          "name": "r_31",
          "qp_lower": 0.06358053410498232,
          "qp_upper": 0.2083672686543729,
          "x1": -1.2634757415632478,
          "x2": 1.636658380964462
         },
         {
          "id": 24,
          "maximum": 3.5932835830910497,
          "minimum": -3.6133308748044524,
          "name": "r_32",
          "qp_lower": 1.8234229874454113e-09,
          "qp_upper": -1,
          "x1": -0.3992156809569035,
          "x2": 3.5932835830910497
         },
         {
          "id": 24,
          "maximum": 3.5731138634594455,
          "minimum": -3.453463384993952,
          "name": "r_33",
          "qp_lower": -1,
          "qp_upper": 0.0017796454928968577,
          "x1": -3.453463384993952,
          "x2": 0.9174683437831805
         },
         {
          "id": 25,
          "maximum": 3.173606889157316,
          "minimum": -2.9087788085580875,
          "name": "r_23",
          "qp_lower": -1,
          "qp_upper": 0.24063009539785396,
          "x1": -2.9087788085580875,
          "x2": 1.653943019099005
         },
         {
          "id": 25,
          "maximum": 3.146256172920483,
          "minimum": -3.3321451572379597,
          "name": "r_26",
          "qp_lower": 0.18943813847433918,
          "qp_upper": -1,
          "x1": -1.6793425266347999,
          "x2": 3.146256172920483
         },
         {
          "id": 25,
          "maximum": 4.306068650392292,
          "minimum": -3.6305663026325026,
          "name": "r_29",
          "qp_lower": 0.05960352243577913,
          "qp_upper": 0.25435760831799825,
          "x1": -1.26540009419833,
          "x2": 1.6911212986114341
         },
         {
          "id": 25,
          "maximum": 3.441411019119689,
          "minimum": -3.1273250846960985,
          "name": "r_30",
          "qp_lower": -1,
          "qp_upper": 0.0013826530113798853,
          "x1": -3.1273250846960985,
          "x2": 0.9055865058646686
         },
         {
          "id": 25,
          "maximum": 3.351656849433929,
          "minimum": -3.543501908633695,
          "name": "r_31",
          "qp_lower": 0.06440717830320297,
          "qp_upper": 0.20946885594995182,
          "x1": -1.2634757415632478,
          "x2": 1.636658380964462
         },
         {
          "id": 25,
          "maximum": 3.5932835830910497,
          "minimum": -3.6133308748044524,
          "name": "r_32",
          "qp_lower": 1.8517738488839564e-11,
          "qp_upper": -1,
          "x1": -0.317211200889005,
          "x2": 3.5932835830910497
         },
         {
          "id": 25,
          "maximum": 3.5731138634594455,
          "minimum": -3.453463384993952,
          "name": "r_33",
          "qp_lower": -1,
          "qp_upper": 0.0016862214498359915,
          "x1": -3.453463384993952,
          "x2": 0.9174683437831805
         },
         {
          "id": 26,
          "maximum": 3.173606889157316,
          "minimum": -2.9087788085580875,
          "name": "r_23",
          "qp_lower": -1,
          "qp_upper": 0.2399937378828978,
          "x1": -2.9087788085580875,
          "x2": 1.653943019099005
         },
         {
          "id": 26,
          "maximum": 3.146256172920483,
          "minimum": -3.3321451572379597,
          "name": "r_26",
          "qp_lower": 0.18820236004758253,
          "qp_upper": -1,
          "x1": -1.6793425266347999,
          "x2": 3.146256172920483
         },
         {
          "id": 26,
          "maximum": 4.306068650392292,
          "minimum": -3.6305663026325026,
          "name": "r_29",
          "qp_lower": 0.060481794157630726,
          "qp_upper": 0.25821480313429496,
          "x1": -1.26540009419833,
          "x2": 1.6911212986114341
         },
         {
          "id": 26,
          "maximum": 3.441411019119689,
          "minimum": -3.1273250846960985,
          "name": "r_30",
          "qp_lower": -1,
          "qp_upper": 0.0014939899491990315,
          "x1": -3.1273250846960985,
          "x2": 0.9055865058646686
         },
         {
          "id": 26,
          "maximum": 3.351656849433929,
          "minimum": -3.543501908633695,
          "name": "r_31",
          "qp_lower": 0.061265762925064034,
          "qp_upper": 0.21485751220402427,
          "x1": -1.2634757415632478,
          "x2": 1.636658380964462
         },
         {
          "id": 26,
          "maximum": 3.5932835830910497,
          "minimum": -3.6133308748044524,
          "name": "r_32",
          "qp_lower": 1.2474685462732506e-13,
          "qp_upper": -1,
          "x1": -0.22505826515886762,
          "x2": 3.5932835830910497
         },
         {
          "id": 26,
          "maximum": 3.5731138634594455,
          "minimum": -3.453463384993952,
          "name": "r_33",
          "qp_lower": -1,
          "qp_upper": 0.001324326387949612,
          "x1": -3.453463384993952,
          "x2": 0.9174683437831805
         },
         {
          "id": 27,
          "maximum": 3.173606889157316,
          "minimum": -2.9087788085580875,
          "name": "r_23",
          "qp_lower": -1,
          "qp_upper": 0.23620948140322742,
          "x1": -2.9087788085580875,
          "x2": 1.653943019099005
         },
         {
          "id": 27,
          "maximum": 3.146256172920483,
          "minimum": -3.3321451572379597,
          "name": "r_26",
          "qp_lower": 0.19733631823418962,
          "qp_upper": -1,
          "x1": -1.6793425266347999,
          "x2": 3.146256172920483
         },
         {
          "id": 27,
          "maximum": 4.306068650392292,
          "minimum": -3.6305663026325026,
          "name": "r_29",
          "qp_lower": 0.057944029209911235,
          "qp_upper": 0.2592751659847483,
          "x1": -1.26540009419833,
          "x2": 1.6911212986114341
         },
         {
          "id": 27,
          "maximum": 3.441411019119689,
          "minimum": -3.1273250846960985,
          "name": "r_30",
          "qp_lower": -1,
          "qp_upper": 0.0013781258326280683,
          "x1": -3.1273250846960985,
          "x2": 0.9055865058646686
         },
         {
          "id": 27,
          "maximum": 3.351656849433929,
          "minimum": -3.543501908633695,
          "name": "r_31",
          "qp_lower": 0.0665958472612238,
          "qp_upper": 0.21452702269624957,
          "x1": -1.2634757415632478,
          "x2": 1.636658380964462
         },
         {
          "id": 27,
          "maximum": 3.5932835830910497,
          "minimum": -3.6133308748044524,
          "name": "r_32",
          "qp_lower": 5.315022071448664e-16,
          "qp_upper": -1,
          "x1": -0.147224360210441,
          "x2": 3.5932835830910497
         },
         {
          "id": 27,
          "maximum": 3.5731138634594455,
          "minimum": -3.453463384993952,
          "name": "r_33",
          "qp_lower": -1,
          "qp_upper": 0.0013781258326280683,
          "x1": -3.453463384993952,
          "x2": 0.9174683437831805
         },
         {
          "id": 28,
          "maximum": 3.173606889157316,
          "minimum": -2.9087788085580875,
          "name": "r_23",
          "qp_lower": -1,
          "qp_upper": 0.24236106273191999,
          "x1": -2.9087788085580875,
          "x2": 1.653943019099005
         },
         {
          "id": 28,
          "maximum": 3.146256172920483,
          "minimum": -3.3321451572379597,
          "name": "r_26",
          "qp_lower": 0.1955785301153011,
          "qp_upper": -1,
          "x1": -1.6793425266347999,
          "x2": 3.146256172920483
         },
         {
          "id": 28,
          "maximum": 4.306068650392292,
          "minimum": -3.6305663026325026,
          "name": "r_29",
          "qp_lower": 0.059534358921542366,
          "qp_upper": 0.2628406393831152,
          "x1": -1.26540009419833,
          "x2": 1.6911212986114341
         },
         {
          "id": 28,
          "maximum": 3.441411019119689,
          "minimum": -3.1273250846960985,
          "name": "r_30",
          "qp_lower": -1,
          "qp_upper": 0.0015170544598633346,
          "x1": -3.1273250846960985,
          "x2": 0.9055865058646686
         },
         {
          "id": 28,
          "maximum": 3.351656849433929,
          "minimum": -3.543501908633695,
          "name": "r_31",
          "qp_lower": 0.07164649600606397,
          "qp_upper": 0.22015363650459263,
          "x1": -1.2634757415632478,
          "x2": 1.636658380964462
         },
         {
          "id": 28,
          "maximum": 3.5932835830910497,
          "minimum": -3.6133308748044524,
          "name": "r_32",
          "qp_lower": 5.990374306709695e-18,
          "qp_upper": -1,
          "x1": -0.06922738439681006,
          "x2": 3.5932835830910497
         },
         {
          "id": 28,
          "maximum": 3.5731138634594455,
          "minimum": -3.453463384993952,
          "name": "r_33",
          "qp_lower": -1,
          "qp_upper": 0.0014188311590891643,
          "x1": -3.453463384993952,
          "x2": 0.9174683437831805
         },
         {
          "id": 29,
          "maximum": 3.173606889157316,
          "minimum": -2.9087788085580875,
          "name": "r_23",
          "qp_lower": -1,
          "qp_upper": 0.24565215816343863,
          "x1": -2.9087788085580875,
          "x2": 1.653943019099005
         },
         {
          "id": 29,
          "maximum": 3.146256172920483,
          "minimum": -3.3321451572379597,
          "name": "r_26",
          "qp_lower": 0.20931032471806615,
          "qp_upper": -1,
          "x1": -1.6793425266347999,
          "x2": 3.146256172920483
         },
         {
          "id": 29,
          "maximum": 4.306068650392292,
          "minimum": -3.6305663026325026,
          "name": "r_29",
          "qp_lower": 0.05593405942983638,
          "qp_upper": 0.24797714410559568,
          "x1": -1.26540009419833,
          "x2": 1.6911212986114341
         },
         {
          "id": 29,
          "maximum": 3.441411019119689,
          "minimum": -3.1273250846960985,
          "name": "r_30",
          "qp_lower": -1,
          "qp_upper": 0.0017219057840775682,
          "x1": -3.1273250846960985,
          "x2": 0.9055865058646686
         },
         {
          "id": 29,
          "maximum": 3.351656849433929,
          "minimum": -3.543501908633695,
          "name": "r_31",
          "qp_lower": 0.06771259469598781,
          "qp_upper": 0.22710470669413066,
          "x1": -1.2634757415632478,
          "x2": 1.636658380964462
         },
         {
          "id": 29,
          "maximum": 3.5932835830910497,
          "minimum": -3.6133308748044524,
          "name": "r_32",
          "qp_lower": 5.569572747777284e-20,
          "qp_upper": -1,
          "x1": 0.0098700507060711,
          "x2": 3.5932835830910497
         },
         {
          "id": 29,
          "maximum": 3.5731138634594455,
          "minimum": -3.453463384993952,
          "name": "r_33",
          "qp_lower": -1,
          "qp_upper": 0.001605636821848091,
          "x1": -3.453463384993952,
          "x2": 0.9174683437831805
         },
         {
          "id": 30,
          "maximum": 3.173606889157316,
          "minimum": -2.9087788085580875,
          "name": "r_23",
          "qp_lower": -1,
          "qp_upper": 0.2366587055581824,
          "x1": -2.9087788085580875,
          "x2": 1.653943019099005
         },
         {
          "id": 30,
          "maximum": 3.481724709138368,
          "minimum": -4.019262726036893,
          "name": "r_24",
          "qp_lower": 0.2545356221097576,
          "qp_upper": -1,
          "x1": -1.6918867688181212,
          "x2": 3.481724709138368
         },
         {
          "id": 30,
          "maximum": 3.146256172920483,
          "minimum": -3.3321451572379597,
          "name": "r_26",
          "qp_lower": 0.20113523359462707,
          "qp_upper": -1,
          "x1": -1.6793425266347999,
          "x2": 3.146256172920483
         },
         {
          "id": 30,
          "maximum": 4.306068650392292,
          "minimum": -3.6305663026325026,
          "name": "r_29",
          "qp_lower": 0.055452840635834146,
          "qp_upper": 0.24897975894494015,
          "x1": -1.26540009419833,
          "x2": 1.6911212986114341
         },
         {
          "id": 30,
          "maximum": 3.441411019119689,
          "minimum": -3.1273250846960985,
          "name": "r_30",
          "qp_lower": -1,
          "qp_upper": 0.0016240347875758519,
          "x1": -3.1273250846960985,
          "x2": 0.9055865058646686
         },
         {
          "id": 30,
          "maximum": 3.351656849433929,
          "minimum": -3.543501908633695,
          "name": "r_31",
          "qp_lower": 0.06485849752148563,
          "qp_upper": 0.2185143652283309,
          "x1": -1.2634757415632478,
          "x2": 1.636658380964462
         },
         {
          "id": 30,
          "maximum": 3.5932835830910497,
          "minimum": -3.6133308748044524,
          "name": "r_32",
          "qp_lower": 5.014120147679608e-20,
          "qp_upper": -1,
          "x1": 0.0098700507060711,
          "x2": 3.5932835830910497
         },
         {
          "id": 30,
          "maximum": 3.5731138634594455,
          "minimum": -3.453463384993952,
          "name": "r_33",
          "qp_lower": -1,
          "qp_upper": 0.00145360326550906,
          "x1": -3.453463384993952,
          "x2": 0.9174683437831805
         },
         {
          "id": 31,
          "maximum": 3.173606889157316,
          "minimum": -2.9087788085580875,
          "name": "r_23",
          "qp_lower": -1,
          "qp_upper": 0.2413346268342566,
          "x1": -2.9087788085580875,
          "x2": 1.653943019099005
         },
         {
          "id": 31,
          "maximum": 3.481724709138368,
          "minimum": -4.019262726036893,
          "name": "r_24",
          "qp_lower": 0.2413346268342566,
          "qp_upper": -1,
          "x1": -1.6918867688181212,
          "x2": 3.481724709138368
         },
         {
          "id": 31,
          "maximum": 3.146256172920483,
          "minimum": -3.3321451572379597,
          "name": "r_26",
          "qp_lower": 0.2011938001732502,
          "qp_upper": -1,
          "x1": -1.6793425266347999,
          "x2": 3.146256172920483
         },
         {
          "id": 31,
          "maximum": 3.4914885707781353,
          "minimum": -3.5774359387324486,
          "name": "r_28",
          "qp_lower": 0.2555633943635444,
          "qp_upper": -1,
          "x1": -1.5538983612465573,
          "x2": 3.4914885707781353
         },
         {
          "id": 31,
          "maximum": 4.306068650392292,
          "minimum": -3.6305663026325026,
          "name": "r_29",
          "qp_lower": 0.06019751003232762,
          "qp_upper": 0.24126868503630575,
          "x1": -1.26540009419833,
          "x2": 1.6911212986114341
         },
         {
          "id": 31,
          "maximum": 3.441411019119689,
          "minimum": -3.1273250846960985,
          "name": "r_30",
          "qp_lower": -1,
          "qp_upper": 0.0018908831563938127,
          "x1": -3.1273250846960985,
          "x2": 0.9055865058646686
         },
         {
          "id": 31,
          "maximum": 3.351656849433929,
          "minimum": -3.543501908633695,
          "name": "r_31",
          "qp_lower": 0.06712534373140702,
          "qp_upper": 0.21419649268024635,
          "x1": -1.2634757415632478,
          "x2": 1.636658380964462
         },
         {
          "id": 31,
          "maximum": 3.5932835830910497,
          "minimum": -3.6133308748044524,
          "name": "r_32",
          "qp_lower": 3.833405111497323e-20,
          "qp_upper": -1,
          "x1": 0.0098700507060711,
          "x2": 3.5932835830910497
         },
         {
          "id": 31,
          "maximum": 3.5731138634594455,
          "minimum": -3.453463384993952,
          "name": "r_33",
          "qp_lower": -1,
          "qp_upper": 0.002203399707110844,
          "x1": -3.453463384993952,
          "x2": 0.9174683437831805
         },
         {
          "id": 32,
          "maximum": 3.173606889157316,
          "minimum": -2.9087788085580875,
          "name": "r_23",
          "qp_lower": -1,
          "qp_upper": 0.22979090551594827,
          "x1": -2.9087788085580875,
          "x2": 1.653943019099005
         },
         {
          "id": 32,
          "maximum": 3.481724709138368,
          "minimum": -4.019262726036893,
          "name": "r_24",
          "qp_lower": 0.11291527973307576,
          "qp_upper": -1,
          "x1": -1.3735802313591197,
          "x2": 3.481724709138368
         },
         {
          "id": 32,
          "maximum": 3.146256172920483,
          "minimum": -3.3321451572379597,
          "name": "r_26",
          "qp_lower": 0.2034477066005389,
          "qp_upper": -1,
          "x1": -1.6793425266347999,
          "x2": 3.146256172920483
         },
         {
          "id": 32,
          "maximum": 3.4914885707781353,
          "minimum": -3.5774359387324486,
          "name": "r_28",
          "qp_lower": 0.24920398797777255,
          "qp_upper": -1,
          "x1": -1.5538983612465573,
          "x2": 3.4914885707781353
         },
         {
          "id": 32,
          "maximum": 4.306068650392292,
          "minimum": -3.6305663026325026,
          "name": "r_29",
          "qp_lower": 0.060442685508369697,
          "qp_upper": 0.24997003033734394,
          "x1": -1.26540009419833,
          "x2": 1.6911212986114341
         },
         {
          "id": 32,
          "maximum": 3.441411019119689,
          "minimum": -3.1273250846960985,
          "name": "r_30",
          "qp_lower": -1,
          "qp_upper": 0.001766503193033652,
          "x1": -3.1273250846960985,
          "x2": 0.9055865058646686
         },
         {
          "id": 32,
          "maximum": 3.351656849433929,
          "minimum": -3.543501908633695,
          "name": "r_31",
          "qp_lower": 0.07163371155412998,
          "qp_upper": 0.22102869449731072,
          "x1": -1.2634757415632478,
          "x2": 1.636658380964462
         },
         {
          "id": 32,
          "maximum": 3.5932835830910497,
          "minimum": -3.6133308748044524,
          "name": "r_32",
          "qp_lower": 7.632139346105869e-20,
          "qp_upper": -1,
          "x1": 0.0098700507060711,
          "x2": 3.5932835830910497
         },
         {
          "id": 32,
          "maximum": 3.5731138634594455,
          "minimum": -3.453463384993952,
          "name": "r_33",
          "qp_lower": -1,
          "qp_upper": 0.0022455974216613506,
          "x1": -3.453463384993952,
          "x2": 0.9174683437831805
         },
         {
          "id": 33,
          "maximum": 3.173606889157316,
          "minimum": -2.9087788085580875,
          "name": "r_23",
          "qp_lower": -1,
          "qp_upper": 0.25151749391448114,
          "x1": -2.9087788085580875,
          "x2": 1.653943019099005
         },
         {
          "id": 33,
          "maximum": 3.481724709138368,
          "minimum": -4.019262726036893,
          "name": "r_24",
          "qp_lower": 0.031841326656935016,
          "qp_upper": -1,
          "x1": -1.0190755699559157,
          "x2": 3.481724709138368
         },
         {
          "id": 33,
          "maximum": 3.146256172920483,
          "minimum": -3.3321451572379597,
          "name": "r_26",
          "qp_lower": 0.2243131193197893,
          "qp_upper": -1,
          "x1": -1.6793425266347999,
          "x2": 3.146256172920483
         },
         {
          "id": 33,
          "maximum": 3.4914885707781353,
          "minimum": -3.5774359387324486,
          "name": "r_28",
          "qp_lower": 0.2621869970579913,
          "qp_upper": -1,
          "x1": -1.5538983612465573,
          "x2": 3.4914885707781353
         },
         {
          "id": 33,
          "maximum": 4.306068650392292,
          "minimum": -3.6305663026325026,
          "name": "r_29",
          "qp_lower": 0.06961440014648153,
          "qp_upper": 0.24810452331927668,
          "x1": -1.26540009419833,
          "x2": 1.6911212986114341
         },
         {
          "id": 33,
          "maximum": 3.441411019119689,
          "minimum": -3.1273250846960985,
          "name": "r_30",
          "qp_lower": -1,
          "qp_upper": 0.001757436169004832,
          "x1": -3.1273250846960985,
          "x2": 0.9055865058646686
         },
         {
          "id": 33,
          "maximum": 3.351656849433929,
          "minimum": -3.543501908633695,
          "name": "r_31",
          "qp_lower": 0.09021420068268338,
          "qp_upper": 0.23773935855949616,
          "x1": -1.2634757415632478,
          "x2": 1.636658380964462
         },
         {
          "id": 33,
          "maximum": 3.5932835830910497,
          "minimum": -3.6133308748044524,
          "name": "r_32",
          "qp_lower": 3.1923469489254994e-19,
          "qp_upper": -1,
          "x1": 0.0098700507060711,
          "x2": 3.5932835830910497
         },
         {
          "id": 33,
          "maximum": 3.5731138634594455,
          "minimum": -3.453463384993952,
          "name": "r_33",
          "qp_lower": -1,
          "qp_upper": 0.0028272672211525655,
          "x1": -3.453463384993952,
          "x2": 0.9174683437831805
         },
         {
          "id": 34,
          "maximum": 3.173606889157316,
          "minimum": -2.9087788085580875,
          "name": "r_23",
          "qp_lower": -1,
          "qp_upper": 0.2455275360542041,
          "x1": -2.9087788085580875,
          "x2": 1.653943019099005
         },
         {
          "id": 34,
          "maximum": 3.481724709138368,
          "minimum": -4.019262726036893,
          "name": "r_24",
          "qp_lower": 0.038386905430460756,
          "qp_upper": -1,
          "x1": -1.0190755699559157,
          "x2": 3.481724709138368
         },
         {
          "id": 34,
          "maximum": 3.146256172920483,
          "minimum": -3.3321451572379597,
          "name": "r_26",
          "qp_lower": 0.22410215315960968,
          "qp_upper": -1,
          "x1": -1.6793425266347999,
          "x2": 3.146256172920483
         },
         {
          "id": 34,
          "maximum": 3.4914885707781353,
          "minimum": -3.5774359387324486,
          "name": "r_28",
          "qp_lower": 0.2373797171727852,
          "qp_upper": -1,
          "x1": -1.5538983612465573,
          "x2": 3.4914885707781353
         },
         {
          "id": 34,
          "maximum": 4.306068650392292,
          "minimum": -3.6305663026325026,
          "name": "r_29",
          "qp_lower": 0.06106581356730146,
          "qp_upper": 0.11930542457843024,
          "x1": -1.26540009419833,
          "x2": 1.3913855750777862
         },
         {
          "id": 34,
          "maximum": 3.441411019119689,
          "minimum": -3.1273250846960985,
          "name": "r_30",
          "qp_lower": -1,
          "qp_upper": 0.0012285863131736982,
          "x1": -3.1273250846960985,
          "x2": 0.9055865058646686
         },
         {
          "id": 34,
          "maximum": 3.351656849433929,
          "minimum": -3.543501908633695,
          "name": "r_31",
          "qp_lower": 0.09619884633324705,
          "qp_upper": 0.2373797171727852,
          "x1": -1.2634757415632478,
          "x2": 1.636658380964462
         },
         {
          "id": 34,
          "maximum": 3.5932835830910497,
          "minimum": -3.6133308748044524,
          "name": "r_32",
          "qp_lower": 2.35629823454429e-19,
          "qp_upper": -1,
          "x1": 0.0098700507060711,
          "x2": 3.5932835830910497
         },
         {
          "id": 34,
          "maximum": 3.5731138634594455,
          "minimum": -3.453463384993952,
          "name": "r_33",
          "qp_lower": -1,
          "qp_upper": 0.0025309066287993575,
          "x1": -3.453463384993952,
          "x2": 0.9174683437831805
         },
         {
          "id": 35,
          "maximum": 3.173606889157316,
          "minimum": -2.9087788085580875,
          "name": "r_23",
          "qp_lower": -1,
          "qp_upper": 0.2566799377281432,
          "x1": -2.9087788085580875,
          "x2": 1.653943019099005
         },
         {
          "id": 35,
          "maximum": 3.481724709138368,
          "minimum": -4.019262726036893,
          "name": "r_24",
          "qp_lower": 0.03986483740647039,
          "qp_upper": -1,
          "x1": -1.0190755699559157,
          "x2": 3.481724709138368
         },
         {
          "id": 35,
          "maximum": 3.146256172920483,
          "minimum": -3.3321451572379597,
          "name": "r_26",
          "qp_lower": 0.22428600016472855,
          "qp_upper": -1,
          "x1": -1.6793425266347999,
          "x2": 3.146256172920483
         },
         {
          "id": 35,
          "maximum": 3.4914885707781353,
          "minimum": -3.5774359387324486,
          "name": "r_28",
          "qp_lower": 0.2487826775431355,
          "qp_upper": -1,
          "x1": -1.5538983612465573,
          "x2": 3.4914885707781353
         },
         {
          "id": 35,
          "maximum": 4.306068650392292,
          "minimum": -3.6305663026325026,
          "name": "r_29",
          "qp_lower": 0.021592720081949738,
          "qp_upper": 0.10697283318261835,
          "x1": -1.0421996153071031,
          "x2": 1.3913855750777862
         },
         {
          "id": 35,
          "maximum": 3.441411019119689,
          "minimum": -3.1273250846960985,
          "name": "r_30",
          "qp_lower": -1,
          "qp_upper": 0.0013151185346606936,
          "x1": -3.1273250846960985,
          "x2": 0.9055865058646686
         },
         {
          "id": 35,
          "maximum": 3.351656849433929,
          "minimum": -3.543501908633695,
          "name": "r_31",
          "qp_lower": 0.09172849502683283,
          "qp_upper": 0.23741495900013027,
          "x1": -1.2634757415632478,
          "x2": 1.636658380964462
         },
         {
          "id": 35,
          "maximum": 3.5932835830910497,
          "minimum": -3.6133308748044524,
          "name": "r_32",
          "qp_lower": 5.03055579264704e-19,
          "qp_upper": -1,
          "x1": 0.0098700507060711,
          "x2": 3.5932835830910497
         },
         {
          "id": 35,
          "maximum": 3.5731138634594455,
          "minimum": -3.453463384993952,
          "name": "r_33",
          "qp_lower": -1,
          "qp_upper": 0.0027667193904776523,
          "x1": -3.453463384993952,
          "x2": 0.9174683437831805
         },
         {
          "id": 36,
          "maximum": 3.173606889157316,
          "minimum": -2.9087788085580875,
          "name": "r_23",
          "qp_lower": -1,
          "qp_upper": 0.2512161847474531,
          "x1": -2.9087788085580875,
          "x2": 1.653943019099005
         },
         {
          "id": 36,
          "maximum": 3.481724709138368,
          "minimum": -4.019262726036893,
          "name": "r_24",
          "qp_lower": 0.04652154040702918,
          "qp_upper": -1,
          "x1": -1.0190755699559157,
          "x2": 3.481724709138368
         },
         {
          "id": 36,
          "maximum": 3.146256172920483,
          "minimum": -3.3321451572379597,
          "name": "r_26",
          "qp_lower": 0.230680701179578,
          "qp_upper": -1,
          "x1": -1.6793425266347999,
          "x2": 3.146256172920483
         },
         {
          "id": 36,
          "maximum": 3.4914885707781353,
          "minimum": -3.5774359387324486,
          "name": "r_28",
          "qp_lower": 0.268411248798634,
          "qp_upper": -1,
          "x1": -1.5538983612465573,
          "x2": 3.4914885707781353
         },
         {
          "id": 36,
          "maximum": 4.306068650392292,
          "minimum": -3.6305663026325026,
          "name": "r_29",
          "qp_lower": 0.021651284551397167,
          "qp_upper": 0.1075563046265107,
          "x1": -1.0421996153071031,
          "x2": 1.3913855750777862
         },
         {
          "id": 36,
          "maximum": 3.441411019119689,
          "minimum": -3.1273250846960985,
          "name": "r_30",
          "qp_lower": -1,
          "qp_upper": 0.0014397868269849122,
          "x1": -3.1273250846960985,
          "x2": 0.9055865058646686
         },
         {
          "id": 36,
          "maximum": 3.351656849433929,
          "minimum": -3.543501908633695,
          "name": "r_31",
          "qp_lower": 0.09324177032848865,
          "qp_upper": 0.23208667341371186,
          "x1": -1.2634757415632478,
          "x2": 1.636658380964462
         },
         {
          "id": 36,
          "maximum": 3.5932835830910497,
          "minimum": -3.6133308748044524,
          "name": "r_32",
          "qp_lower": 1.2388188644207768e-18,
          "qp_upper": -1,
          "x1": 0.0098700507060711,
          "x2": 3.5932835830910497
         },
         {
          "id": 36,
          "maximum": 3.5731138634594455,
          "minimum": -3.453463384993952,
          "name": "r_33",
          "qp_lower": -1,
          "qp_upper": 0.0006444440728587248,
          "x1": -3.453463384993952,
          "x2": 0.7194628720528885
         },
         {
          "id": 37,
          "maximum": 3.173606889157316,
          "minimum": -2.9087788085580875,
          "name": "r_23",
          "qp_lower": -1,
          "qp_upper": 0.24622157232268443,
          "x1": -2.9087788085580875,
          "x2": 1.653943019099005
         },
         {
          "id": 37,
          "maximum": 3.481724709138368,
          "minimum": -4.019262726036893,
          "name": "r_24",
          "qp_lower": 0.04166266437898169,
          "qp_upper": -1,
          "x1": -1.0190755699559157,
          "x2": 3.481724709138368
         },
         {
          "id": 37,
          "maximum": 3.146256172920483,
          "minimum": -3.3321451572379597,
          "name": "r_26",
          "qp_lower": 0.23252266015973408,
          "qp_upper": -1,
          "x1": -1.6793425266347999,
          "x2": 3.146256172920483
         },
         {
          "id": 37,
          "maximum": 3.4914885707781353,
          "minimum": -3.5774359387324486,
          "name": "r_28",
          "qp_lower": 0.2781104733451787,
          "qp_upper": -1,
          "x1": -1.5538983612465573,
          "x2": 3.4914885707781353
         },
         {
          "id": 37,
          "maximum": 4.306068650392292,
          "minimum": -3.6305663026325026,
          "name": "r_29",
          "qp_lower": 0.02123040508631739,
          "qp_upper": 0.11993866172645892,
          "x1": -1.0421996153071031,
          "x2": 1.3913855750777862
         },
         {
          "id": 37,
          "maximum": 3.441411019119689,
          "minimum": -3.1273250846960985,
          "name": "r_30",
          "qp_lower": -1,
          "qp_upper": 0.00034519157604325835,
          "x1": -3.1273250846960985,
          "x2": 0.749357331681142
         },
         {
          "id": 37,
          "maximum": 3.351656849433929,
          "minimum": -3.543501908633695,
          "name": "r_31",
          "qp_lower": 0.09260083320961769,
          "qp_upper": 0.2518808170507842,
          "x1": -1.2634757415632478,
          "x2": 1.636658380964462
         },
         {
          "id": 37,
          "maximum": 3.5932835830910497,
          "minimum": -3.6133308748044524,
          "name": "r_32",
          "qp_lower": 2.338821987633226e-18,
          "qp_upper": -1,
          "x1": 0.0098700507060711,
          "x2": 3.5932835830910497
         },
         {
          "id": 37,
          "maximum": 3.5731138634594455,
          "minimum": -3.453463384993952,
          "name": "r_33",
          "qp_lower": -1,
          "qp_upper": 0.0006163431327193055,
          "x1": -3.453463384993952,
          "x2": 0.7194628720528885
         },
         {
          "id": 38,
          "maximum": 3.173606889157316,
          "minimum": -2.9087788085580875,
          "name": "r_23",
          "qp_lower": -1,
          "qp_upper": 0.24746964428536772,
          "x1": -2.9087788085580875,
          "x2": 1.653943019099005
         },
         {
          "id": 38,
          "maximum": 3.481724709138368,
          "minimum": -4.019262726036893,
          "name": "r_24",
          "qp_lower": 0.038006176207918414,
          "qp_upper": -1,
          "x1": -1.0190755699559157,
          "x2": 3.481724709138368
         },
         {
          "id": 38,
          "maximum": 3.146256172920483,
          "minimum": -3.3321451572379597,
          "name": "r_26",
          "qp_lower": 0.22833866936342045,
          "qp_upper": -1,
          "x1": -1.6793425266347999,
          "x2": 3.146256172920483
         },
         {
          "id": 38,
          "maximum": 3.4914885707781353,
          "minimum": -3.5774359387324486,
          "name": "r_28",
          "qp_lower": 0.2819271104744318,
          "qp_upper": -1,
          "x1": -1.5538983612465573,
          "x2": 3.4914885707781353
         },
         {
          "id": 38,
          "maximum": 4.306068650392292,
          "minimum": -3.6305663026325026,
          "name": "r_29",
          "qp_lower": 0.019654351695220215,
          "qp_upper": 0.12255832532081164,
          "x1": -1.0421996153071031,
          "x2": 1.3913855750777862
         },
         {
          "id": 38,
          "maximum": 3.441411019119689,
          "minimum": -3.1273250846960985,
          "name": "r_30",
          "qp_lower": -1,
          "qp_upper": 0.0004542301485735924,
          "x1": -3.1273250846960985,
          "x2": 0.749357331681142
         },
         {
          "id": 38,
          "maximum": 3.351656849433929,
          "minimum": -3.543501908633695,
          "name": "r_31",
          "qp_lower": 0.09867661592158718,
          "qp_upper": 0.2542626815927632,
          "x1": -1.2634757415632478,
          "x2": 1.636658380964462
         },
         {
          "id": 38,
          "maximum": 3.5932835830910497,
          "minimum": -3.6133308748044524,
          "name": "r_32",
          "qp_lower": 5.462258227931492e-18,
          "qp_upper": -1,
          "x1": 0.0098700507060711,
          "x2": 3.5932835830910497
         },
         {
          "id": 38,
          "maximum": 3.5731138634594455,
          "minimum": -3.453463384993952,
          "name": "r_33",
          "qp_lower": 0.3246071580801591,
          "qp_upper": 0.00037927852262298627,
          "x1": -1.6875070038379862,
          "x2": 0.7194628720528885
         },
         {
          "id": 39,
          "maximum": 3.173606889157316,
          "minimum": -2.9087788085580875,
          "name": "r_23",
          "qp_lower": -1,
          "qp_upper": 0.24945607936846578,
          "x1": -2.9087788085580875,
          "x2": 1.653943019099005
         },
         {
          "id": 39,
          "maximum": 3.481724709138368,
          "minimum": -4.019262726036893,
          "name": "r_24",
          "qp_lower": 0.03526516510483074,
          "qp_upper": -1,
          "x1": -1.0190755699559157,
          "x2": 3.481724709138368
         },
         {
          "id": 39,
          "maximum": 3.146256172920483,
          "minimum": -3.3321451572379597,
          "name": "r_26",
          "qp_lower": 0.23094306601223027,
          "qp_upper": -1,
          "x1": -1.6793425266347999,
          "x2": 3.146256172920483
         },
         {
          "id": 39,
          "maximum": 3.4914885707781353,
          "minimum": -3.5774359387324486,
          "name": "r_28",
          "qp_lower": 0.27184430294996786,
          "qp_upper": 0.32891691622181335,
          "x1": -1.5538983612465573,
          "x2": 1.6528214093282616
         },
         {
          "id": 39,
          "maximum": 4.306068650392292,
          "minimum": -3.6305663026325026,
          "name": "r_29",
          "qp_lower": 0.018478611068157708,
          "qp_upper": 0.11396134601648322,
          "x1": -1.0421996153071031,
          "x2": 1.3913855750777862
         },
         {
          "id": 39,
          "maximum": 3.441411019119689,
          "minimum": -3.1273250846960985,
          "name": "r_30",
          "qp_lower": -1,
          "qp_upper": 0.0004425734014690624,
          "x1": -3.1273250846960985,
          "x2": 0.749357331681142
         },
         {
          "id": 39,
          "maximum": 3.351656849433929,
          "minimum": -3.543501908633695,
          "name": "r_31",
          "qp_lower": 0.10626695351954779,
          "qp_upper": 0.26459477305210416,
          "x1": -1.2634757415632478,
          "x2": 1.636658380964462
         },
         {
          "id": 39,
          "maximum": 3.5932835830910497,
          "minimum": -3.6133308748044524,
          "name": "r_32",
          "qp_lower": 9.489128114829592e-18,
          "qp_upper": -1,
          "x1": 0.0098700507060711,
          "x2": 3.5932835830910497
         },
         {
          "id": 39,
          "maximum": 3.5731138634594455,
          "minimum": -3.453463384993952,
          "name": "r_33",
          "qp_lower": 0.3225390517339603,
          "qp_upper": 0.0005453040283806987,
          "x1": -1.6875070038379862,
          "x2": 0.7194628720528885
         },
         {
          "id": 40,
          "maximum": 3.173606889157316,
          "minimum": -2.9087788085580875,
          "name": "r_23",
          "qp_lower": -1,
          "qp_upper": 0.2523090460849111,
          "x1": -2.9087788085580875,
          "x2": 1.653943019099005
         },
         {
          "id": 40,
          "maximum": 3.481724709138368,
          "minimum": -4.019262726036893,
          "name": "r_24",
          "qp_lower": 0.03583693994927383,
          "qp_upper": -1,
          "x1": -1.0190755699559157,
          "x2": 3.481724709138368
         },
         {
          "id": 40,
          "maximum": 3.146256172920483,
          "minimum": -3.3321451572379597,
          "name": "r_26",
          "qp_lower": 0.23442163116727543,
          "qp_upper": -1,
          "x1": -1.6793425266347999,
          "x2": 3.146256172920483
         },
         {
          "id": 40,
          "maximum": 3.4914885707781353,
          "minimum": -3.5774359387324486,
          "name": "r_28",
          "qp_lower": 0.26160848482575894,
          "qp_upper": 0.31771452498280567,
          "x1": -1.5538983612465573,
          "x2": 1.6528214093282616
         },
         {
          "id": 40,
          "maximum": 4.306068650392292,
          "minimum": -3.6305663026325026,
          "name": "r_29",
          "qp_lower": 0.01958642009254907,
          "qp_upper": 0.1096825343841071,
          "x1": -1.0421996153071031,
          "x2": 1.3913855750777862
         },
         {
          "id": 40,
          "maximum": 3.441411019119689,
          "minimum": -3.1273250846960985,
          "name": "r_30",
          "qp_lower": 0.3343197136533571,
          "qp_upper": 0.0002709101327384808,
          "x1": -1.7282563555738046,
          "x2": 0.749357331681142
         },
         {
          "id": 40,
          "maximum": 3.351656849433929,
          "minimum": -3.543501908633695,
          "name": "r_31",
          "qp_lower": 0.1075148066363357,
          "qp_upper": 0.2691506252377978,
          "x1": -1.2634757415632478,
          "x2": 1.636658380964462
         },
         {
          "id": 40,
          "maximum": 3.5932835830910497,
          "minimum": -3.6133308748044524,
          "name": "r_32",
          "qp_lower": 3.636517622968338e-17,
          "qp_upper": -1,
          "x1": 0.0098700507060711,
          "x2": 3.5932835830910497
         },
         {
          "id": 40,
          "maximum": 3.5731138634594455,
          "minimum": -3.453463384993952,
          "name": "r_33",
          "qp_lower": 0.32855245332520033,
          "qp_upper": 0.0004557144679206734,
          "x1": -1.6875070038379862,
          "x2": 0.7194628720528885
         },
         {
          "id": 41,
          "maximum": 3.173606889157316,
          "minimum": -2.9087788085580875,
          "name": "r_23",
          "qp_lower": -1,
          "qp_upper": 0.2718150080549373,
          "x1": -2.9087788085580875,
          "x2": 1.653943019099005
         },
         {
          "id": 41,
          "maximum": 3.481724709138368,
          "minimum": -4.019262726036893,
          "name": "r_24",
          "qp_lower": 0.03382784017402563,
          "qp_upper": -1,
          "x1": -1.0190755699559157,
          "x2": 3.481724709138368
         },
         {
          "id": 41,
          "maximum": 3.146256172920483,
          "minimum": -3.3321451572379597,
          "name": "r_26",
          "qp_lower": 0.22432151939494557,
          "qp_upper": -1,
          "x1": -1.6793425266347999,
          "x2": 3.146256172920483
         },
         {
          "id": 41,
          "maximum": 3.4914885707781353,
          "minimum": -3.5774359387324486,
          "name": "r_28",
          "qp_lower": 0.25130325684474536,
          "qp_upper": 0.18139672930901282,
          "x1": -1.5538983612465573,
          "x2": 1.2604792153577915
         },
         {
          "id": 41,
          "maximum": 4.306068650392292,
          "minimum": -3.6305663026325026,
          "name": "r_29",
          "qp_lower": 0.021151136565957105,
          "qp_upper": 0.11854407205259378,
          "x1": -1.0421996153071031,
          "x2": 1.3913855750777862
         },
         {
          "id": 41,
          "maximum": 3.441411019119689,
          "minimum": -3.1273250846960985,
          "name": "r_30",
          "qp_lower": 0.30978873644727856,
          "qp_upper": 0.0003109793331579371,
          "x1": -1.7282563555738046,
          "x2": 0.749357331681142
         },
         {
          "id": 41,
          "maximum": 3.351656849433929,
          "minimum": -3.543501908633695,
          "name": "r_31",
          "qp_lower": 0.11385982867652689,
          "qp_upper": 0.28296508418006544,
          "x1": -1.2634757415632478,
          "x2": 1.636658380964462
         },
         {
          "id": 41,
          "maximum": 3.5932835830910497,
          "minimum": -3.6133308748044524,
          "name": "r_32",
          "qp_lower": 1.0514998965978938e-16,
          "qp_upper": -1,
          "x1": 0.0098700507060711,
          "x2": 3.5932835830910497
         },
         {
          "id": 41,
          "maximum": 3.5731138634594455,
          "minimum": -3.453463384993952,
          "name": "r_33",
          "qp_lower": 0.3538066774183152,
          "qp_upper": 0.0004175103451137379,
          "x1": -1.6875070038379862,
          "x2": 0.7194628720528885
         },
         {
          "id": 42,
          "maximum": 3.173606889157316,
          "minimum": -2.9087788085580875,
          "name": "r_23",
          "qp_lower": -1,
          "qp_upper": 0.28452846552678696,
          "x1": -2.9087788085580875,
          "x2": 1.653943019099005
         },
         {
          "id": 42,
          "maximum": 3.481724709138368,
          "minimum": -4.019262726036893,
          "name": "r_24",
          "qp_lower": 0.029693657971687073,
          "qp_upper": -1,
          "x1": -1.0190755699559157,
          "x2": 3.481724709138368
         },
         {
          "id": 42,
          "maximum": 3.146256172920483,
          "minimum": -3.3321451572379597,
          "name": "r_26",
          "qp_lower": 0.25932585592753593,
          "qp_upper": -1,
          "x1": -1.6793425266347999,
          "x2": 3.146256172920483
         },
         {
          "id": 42,
          "maximum": 3.4914885707781353,
          "minimum": -3.5774359387324486,
          "name": "r_28",
          "qp_lower": 0.2393929208211419,
          "qp_upper": 0.07580549406193704,
          "x1": -1.5538983612465573,
          "x2": 1.0282255007405323
         },
         {
          "id": 42,
          "maximum": 4.306068650392292,
          "minimum": -3.6305663026325026,
          "name": "r_29",
          "qp_lower": 0.026280192969278252,
          "qp_upper": 0.1227445763839229,
          "x1": -1.0421996153071031,
          "x2": 1.3913855750777862
         },
         {
          "id": 42,
          "maximum": 3.441411019119689,
          "minimum": -3.1273250846960985,
          "name": "r_30",
          "qp_lower": 0.3062293310289481,
          "qp_upper": 0.0002811661272593038,
          "x1": -1.7282563555738046,
          "x2": 0.749357331681142
         },
         {
          "id": 42,
          "maximum": 3.351656849433929,
          "minimum": -3.543501908633695,
          "name": "r_31",
          "qp_lower": 0.11554693181318271,
          "qp_upper": 0.2803251921596748,
          "x1": -1.2634757415632478,
          "x2": 1.636658380964462
         },
         {
          "id": 42,
          "maximum": 3.5932835830910497,
          "minimum": -3.6133308748044524,
          "name": "r_32",
          "qp_lower": 1.6512196306871714e-16,
          "qp_upper": -1,
          "x1": 0.0098700507060711,
          "x2": 3.5932835830910497
         },
         {
          "id": 42,
          "maximum": 3.5731138634594455,
          "minimum": -3.453463384993952,
          "name": "r_33",
          "qp_lower": 0.3716676141942071,
          "qp_upper": 0.00046596294732214813,
          "x1": -1.6875070038379862,
          "x2": 0.7194628720528885
         },
         {
          "id": 43,
          "maximum": 3.173606889157316,
          "minimum": -2.9087788085580875,
          "name": "r_23",
          "qp_lower": -1,
          "qp_upper": 0.29737640104991364,
          "x1": -2.9087788085580875,
          "x2": 1.653943019099005
         },
         {
          "id": 43,
          "maximum": 3.481724709138368,
          "minimum": -4.019262726036893,
          "name": "r_24",
          "qp_lower": 0.02748323863660279,
          "qp_upper": -1,
          "x1": -1.0190755699559157,
          "x2": 3.481724709138368
         },
         {
          "id": 43,
          "maximum": 3.146256172920483,
          "minimum": -3.3321451572379597,
          "name": "r_26",
          "qp_lower": 0.2640569688324417,
          "qp_upper": -1,
          "x1": -1.6793425266347999,
          "x2": 3.146256172920483
         },
         {
          "id": 43,
          "maximum": 3.4914885707781353,
          "minimum": -3.5774359387324486,
          "name": "r_28",
          "qp_lower": 0.22508978565119706,
          "qp_upper": 0.017110081176736267,
          "x1": -1.5538983612465573,
          "x2": 0.9009187851009175
         },
         {
          "id": 43,
          "maximum": 4.306068650392292,
          "minimum": -3.6305663026325026,
          "name": "r_29",
          "qp_lower": 0.022638051480093166,
          "qp_upper": 0.11544019320988985,
          "x1": -1.0421996153071031,
          "x2": 1.3913855750777862
         },
         {
          "id": 43,
          "maximum": 3.441411019119689,
          "minimum": -3.1273250846960985,
          "name": "r_30",
          "qp_lower": 0.3193593966237747,
          "qp_upper": 0.0002666109311523733,
          "x1": -1.7282563555738046,
          "x2": 0.749357331681142
         },
         {
          "id": 43,
          "maximum": 3.351656849433929,
          "minimum": -3.543501908633695,
          "name": "r_31",
          "qp_lower": 0.10645043329274786,
          "qp_upper": 0.2851002821365079,
          "x1": -1.2634757415632478,
          "x2": 1.636658380964462
         },
         {
          "id": 43,
          "maximum": 3.5932835830910497,
          "minimum": -3.6133308748044524,
          "name": "r_32",
          "qp_lower": 1.1955857972078724e-16,
          "qp_upper": -1,
          "x1": 0.0098700507060711,
          "x2": 3.5932835830910497
         },
         {
          "id": 43,
          "maximum": 3.5731138634594455,
          "minimum": -3.453463384993952,
          "name": "r_33",
          "qp_lower": 0.3693639149155229,
          "qp_upper": 0.0003783132160533858,
          "x1": -1.6875070038379862,
          "x2": 0.7194628720528885
         },
         {
          "id": 44,
          "maximum": 3.760597684545351,
          "minimum": -3.1901260703858667,
          "name": "r_21",
          "qp_lower": -1,
          "qp_upper": 0.30704992852181817,
          "x1": -3.1901260703858667,
          "x2": 1.589903164693837
         },
         {
          "id": 44,
          "maximum": 3.173606889157316,
          "minimum": -2.9087788085580875,
          "name": "r_23",
          "qp_lower": -1,
          "qp_upper": 0.29515613107032596,
          "x1": -2.9087788085580875,
          "x2": 1.653943019099005
         },
         {
          "id": 44,
          "maximum": 3.481724709138368,
          "minimum": -4.019262726036893,
          "name": "r_24",
          "qp_lower": 0.0283017132467949,
          "qp_upper": -1,
          "x1": -1.0190755699559157,
          "x2": 3.481724709138368
         },
         {
          "id": 44,
          "maximum": 3.146256172920483,
          "minimum": -3.3321451572379597,
          "name": "r_26",
          "qp_lower": 0.26238426577617907,
          "qp_upper": -1,
          "x1": -1.6793425266347999,
          "x2": 3.146256172920483
         },
         {
          "id": 44,
          "maximum": 3.4914885707781353,
          "minimum": -3.5774359387324486,
          "name": "r_28",
          "qp_lower": 0.23761836979018897,
          "qp_upper": 0.016899417921582827,
          "x1": -1.5538983612465573,
          "x2": 0.9009187851009175
         },
         {
          "id": 44,
          "maximum": 4.306068650392292,
          "minimum": -3.6305663026325026,
          "name": "r_29",
          "qp_lower": 0.023784784658124558,
          "qp_upper": 0.13787752352924887,
          "x1": -1.0421996153071031,
          "x2": 1.3913855750777862
         },
         {
          "id": 44,
          "maximum": 3.441411019119689,
          "minimum": -3.1273250846960985,
          "name": "r_30",
          "qp_lower": 0.3170833641314084,
          "qp_upper": 0.00029086716002707725,
          "x1": -1.7282563555738046,
          "x2": 0.749357331681142
         },
         {
          "id": 44,
          "maximum": 3.351656849433929,
          "minimum": -3.543501908633695,
          "name": "r_31",
          "qp_lower": 0.11406856750309394,
          "qp_upper": 0.3233553979005075,
          "x1": -1.2634757415632478,
          "x2": 1.636658380964462
         },
         {
          "id": 44,
          "maximum": 3.5932835830910497,
          "minimum": -3.6133308748044524,
          "name": "r_32",
          "qp_lower": 2.852696555589792e-16,
          "qp_upper": -1,
          "x1": 0.0098700507060711,
          "x2": 3.5932835830910497
         },
         {
          "id": 44,
          "maximum": 3.5731138634594455,
          "minimum": -3.453463384993952,
          "name": "r_33",
          "qp_lower": 0.3588373625107328,
          "qp_upper": 0.00039765030920080807,
          "x1": -1.6875070038379862,
          "x2": 0.7194628720528885
         },
         {
          "id": 45,
          "maximum": 3.3406000595952636,
          "minimum": -3.0954439757901033,
          "name": "r_20",
          "qp_lower": -1,
          "qp_upper": 0.3155323843992787,
          "x1": -3.0954439757901033,
          "x2": 1.6900911038861257
         },
         {
          "id": 45,
          "maximum": 3.760597684545351,
          "minimum": -3.1901260703858667,
          "name": "r_21",
          "qp_lower": -1,
          "qp_upper": 0.29468922594792957,
          "x1": -3.1901260703858667,
          "x2": 1.589903164693837
         },
         {
          "id": 45,
          "maximum": 3.173606889157316,
          "minimum": -2.9087788085580875,
          "name": "r_23",
          "qp_lower": -1,
          "qp_upper": 0.2834668699325823,
          "x1": -2.9087788085580875,
          "x2": 1.653943019099005
         },
         {
          "id": 45,
          "maximum": 3.481724709138368,
          "minimum": -4.019262726036893,
          "name": "r_24",
          "qp_lower": 0.02654093785144853,
          "qp_upper": -1,
          "x1": -1.0190755699559157,
          "x2": 3.481724709138368
         },
         {
          "id": 45,
          "maximum": 3.146256172920483,
          "minimum": -3.3321451572379597,
          "name": "r_26",
          "qp_lower": 0.25176976516938826,
          "qp_upper": -1,
          "x1": -1.6793425266347999,
          "x2": 3.146256172920483
         },
         {
          "id": 45,
          "maximum": 3.4914885707781353,
          "minimum": -3.5774359387324486,
          "name": "r_28",
          "qp_lower": 0.23448343112264197,
          "qp_upper": 0.015376489439746474,
          "x1": -1.5538983612465573,
          "x2": 0.9009187851009175
         },
         {
          "id": 45,
          "maximum": 4.306068650392292,
          "minimum": -3.6305663026325026,
          "name": "r_29",
          "qp_lower": 0.018881474541664042,
          "qp_upper": 0.12925998348565743,
          "x1": -1.0421996153071031,
          "x2": 1.3913855750777862
         },
         {
          "id": 45,
          "maximum": 3.441411019119689,
          "minimum": -3.1273250846960985,
          "name": "r_30",
          "qp_lower": 0.3155323843992787,
          "qp_upper": 0.00024437090558400605,
          "x1": -1.7282563555738046,
          "x2": 0.749357331681142
         },
         {
          "id": 45,
          "maximum": 3.351656849433929,
          "minimum": -3.543501908633695,
          "name": "r_31",
          "qp_lower": 0.10258155264485737,
          "qp_upper": 0.3353825123979373,
          "x1": -1.2634757415632478,
          "x2": 1.636658380964462
         },
         {
          "id": 45,
          "maximum": 3.5932835830910497,
          "minimum": -3.6133308748044524,
          "name": "r_32",
          "qp_lower": 3.1651878983429043e-16,
          "qp_upper": -1,
          "x1": 0.0098700507060711,
          "x2": 3.5932835830910497
         },
         {
          "id": 45,
          "maximum": 3.5731138634594455,
          "minimum": -3.453463384993952,
          "name": "r_33",
          "qp_lower": 0.3594025587475433,
          "qp_upper": 0.0005529269085715954,
          "x1": -1.6875070038379862,
          "x2": 0.7194628720528885
         },
         {
          "id": 46,
          "maximum": 3.3406000595952636,
          "minimum": -3.0954439757901033,
          "name": "r_20",
          "qp_lower": -1,
          "qp_upper": 0.2923232873344608,
          "x1": -3.0954439757901033,
          "x2": 1.6900911038861257
         },
         {
          "id": 46,
          "maximum": 3.760597684545351,
          "minimum": -3.1901260703858667,
          "name": "r_21",
          "qp_lower": -1,
          "qp_upper": 0.3141870104592452,
          "x1": -3.1901260703858667,
          "x2": 1.589903164693837
         },
         {
          "id": 46,
          "maximum": 3.173606889157316,
          "minimum": -2.9087788085580875,
          "name": "r_23",
          "qp_lower": -1,
          "qp_upper": 0.28165253329996776,
          "x1": -2.9087788085580875,
          "x2": 1.653943019099005
         },
         {
          "id": 46,
          "maximum": 3.481724709138368,
          "minimum": -4.019262726036893,
          "name": "r_24",
          "qp_lower": 0.029862100557091802,
          "qp_upper": -1,
          "x1": -1.0190755699559157,
          "x2": 3.481724709138368
         },
         {
          "id": 46,
          "maximum": 3.2405076859572386,
          "minimum": -3.6620874883459273,
          "name": "r_25",
          "qp_lower": 0.3141870104592452,
          "qp_upper": -1,
          "x1": -1.5557239455486358,
          "x2": 3.2405076859572386
         },
         {
          "id": 46,
          "maximum": 3.146256172920483,
          "minimum": -3.3321451572379597,
          "name": "r_26",
          "qp_lower": 0.25052552211805357,
          "qp_upper": -1,
          "x1": -1.6793425266347999,
          "x2": 3.146256172920483
         },
         {
          "id": 46,
          "maximum": 3.4914885707781353,
          "minimum": -3.5774359387324486,
          "name": "r_28",
          "qp_lower": 0.23143070802961072,
          "qp_upper": 0.011961418699867703,
          "x1": -1.5538983612465573,
          "x2": 0.9009187851009175
         },
         {
          "id": 46,
          "maximum": 4.306068650392292,
          "minimum": -3.6305663026325026,
          "name": "r_29",
          "qp_lower": 0.02165492006360614,
          "qp_upper": 0.13894994439691946,
          "x1": -1.0421996153071031,
          "x2": 1.3913855750777862
         },
         {
          "id": 46,
          "maximum": 3.441411019119689,
          "minimum": -3.1273250846960985,
          "name": "r_30",
          "qp_lower": 0.32543309785023655,
          "qp_upper": 0.00036532714458031493,
          "x1": -1.7282563555738046,
          "x2": 0.749357331681142
         },
         {
          "id": 46,
          "maximum": 3.351656849433929,
          "minimum": -3.543501908633695,
          "name": "r_31",
          "qp_lower": 0.10648344818478661,
          "qp_upper": 0.3258561294522584,
          "x1": -1.2634757415632478,
          "x2": 1.636658380964462
         },
         {
          "id": 46,
          "maximum": 3.5932835830910497,
          "minimum": -3.6133308748044524,
          "name": "r_32",
          "qp_lower": 4.457781723248368e-16,
          "qp_upper": -1,
          "x1": 0.0098700507060711,
          "x2": 3.5932835830910497
         },
         {
          "id": 46,
          "maximum": 3.5731138634594455,
          "minimum": -3.453463384993952,
          "name": "r_33",
          "qp_lower": 0.36034547545487366,
          "qp_upper": 0.000740777520568191,
          "x1": -1.6875070038379862,
          "x2": 0.7194628720528885
         },
         {
          "id": 47,
          "maximum": 3.3406000595952636,
          "minimum": -3.0954439757901033,
          "name": "r_20",
          "qp_lower": -1,
          "qp_upper": 0.2800541500510125,
          "x1": -3.0954439757901033,
          "x2": 1.6900911038861257
         },
         {
          "id": 47,
          "maximum": 3.760597684545351,
          "minimum": -3.1901260703858667,
          "name": "r_21",
          "qp_lower": -1,
          "qp_upper": 0.3130984671738993,
          "x1": -3.1901260703858667,
          "x2": 1.589903164693837
         },
         {
          "id": 47,
          "maximum": 3.173606889157316,
          "minimum": -2.9087788085580875,
          "name": "r_23",
          "qp_lower": -1,
          "qp_upper": 0.2800541500510125,
          "x1": -2.9087788085580875,
          "x2": 1.653943019099005
         },
         {
          "id": 47,
          "maximum": 3.481724709138368,
          "minimum": -4.019262726036893,
          "name": "r_24",
          "qp_lower": 0.02833761307856477,
          "qp_upper": -1,
          "x1": -1.0190755699559157,
          "x2": 3.481724709138368
         },
         {
          "id": 47,
          "maximum": 3.2405076859572386,
          "minimum": -3.6620874883459273,
          "name": "r_25",
          "qp_lower": 0.1580489132196284,
          "qp_upper": -1,
          "x1": -1.2883514268174436,
          "x2": 3.2405076859572386
         },
         {
          "id": 47,
          "maximum": 3.146256172920483,
          "minimum": -3.3321451572379597,
          "name": "r_26",
          "qp_lower": 0.2495327105099427,
          "qp_upper": -1,
          "x1": -1.6793425266347999,
          "x2": 3.146256172920483
         },
         {
          "id": 47,
          "maximum": 3.4914885707781353,
          "minimum": -3.5774359387324486,
          "name": "r_28",
          "qp_lower": 0.22849433927089335,
          "qp_upper": 0.01044965391258285,
          "x1": -1.5538983612465573,
          "x2": 0.9009187851009175
         },
         {
          "id": 47,
          "maximum": 4.306068650392292,
          "minimum": -3.6305663026325026,
          "name": "r_29",
          "qp_lower": 0.02705241851382722,
          "qp_upper": 0.12402675763193316,
          "x1": -1.0421996153071031,
          "x2": 1.3913855750777862
         },
         {
          "id": 47,
          "maximum": 3.441411019119689,
          "minimum": -3.1273250846960985,
          "name": "r_30",
          "qp_lower": 0.3130984671738993,
          "qp_upper": 0.00040968522823220274,
          "x1": -1.7282563555738046,
          "x2": 0.749357331681142
         },
         {
          "id": 47,
          "maximum": 3.351656849433929,
          "minimum": -3.543501908633695,
          "name": "r_31",
          "qp_lower": 0.10011320074933867,
          "qp_upper": 0.3278108398153831,
          "x1": -1.2634757415632478,
          "x2": 1.636658380964462
         },
         {
          "id": 47,
          "maximum": 3.5932835830910497,
          "minimum": -3.6133308748044524,
          "name": "r_32",
          "qp_lower": 2.136165740978921e-16,
          "qp_upper": -1,
          "x1": 0.0098700507060711,
          "x2": 3.5932835830910497
         },
         {
          "id": 47,
          "maximum": 3.5731138634594455,
          "minimum": -3.453463384993952,
          "name": "r_33",
          "qp_lower": 0.349259207680747,
          "qp_upper": 0.0006807688837636704,
          "x1": -1.6875070038379862,
          "x2": 0.7194628720528885
         },
         {
          "id": 48,
          "maximum": 3.3406000595952636,
          "minimum": -3.0954439757901033,
          "name": "r_20",
          "qp_lower": -1,
          "qp_upper": 0.2490313515872349,
          "x1": -3.0954439757901033,
          "x2": 1.6900911038861257
         },
         {
          "id": 48,
          "maximum": 3.760597684545351,
          "minimum": -3.1901260703858667,
          "name": "r_21",
          "qp_lower": -1,
          "qp_upper": 0.32715707460684634,
          "x1": -3.1901260703858667,
          "x2": 1.589903164693837
         },
         {
          "id": 48,
          "maximum": 3.173606889157316,
          "minimum": -2.9087788085580875,
          "name": "r_23",
          "qp_lower": -1,
          "qp_upper": 0.2809929368451835,
          "x1": -2.9087788085580875,
          "x2": 1.653943019099005
         },
         {
          "id": 48,
          "maximum": 3.481724709138368,
          "minimum": -4.019262726036893,
          "name": "r_24",
          "qp_lower": 0.0282083697294056,
          "qp_upper": -1,
          "x1": -1.0190755699559157,
          "x2": 3.481724709138368
         },
         {
          "id": 48,
          "maximum": 3.2405076859572386,
          "minimum": -3.6620874883459273,
          "name": "r_25",
          "qp_lower": 0.14472304590055096,
          "qp_upper": 0.36303551532266354,
          "x1": -1.2883514268174436,
          "x2": 1.4849635992898973
         },
         {
          "id": 48,
          "maximum": 3.146256172920483,
          "minimum": -3.3321451572379597,
          "name": "r_26",
          "qp_lower": 0.2506692788410975,
          "qp_upper": -1,
          "x1": -1.6793425266347999,
          "x2": 3.146256172920483
         },
         {
          "id": 48,
          "maximum": 3.4914885707781353,
          "minimum": -3.5774359387324486,
          "name": "r_28",
          "qp_lower": 0.2713620370652944,
          "qp_upper": 0.011080101802238585,
          "x1": -1.5538983612465573,
          "x2": 0.9009187851009175
         },
         {
          "id": 48,
          "maximum": 4.306068650392292,
          "minimum": -3.6305663026325026,
          "name": "r_29",
          "qp_lower": 0.03141799401276058,
          "qp_upper": 0.14527380929537861,
          "x1": -1.0421996153071031,
          "x2": 1.3913855750777862
         },
         {
          "id": 48,
          "maximum": 3.441411019119689,
          "minimum": -3.1273250846960985,
          "name": "r_30",
          "qp_lower": 0.32715707460684634,
          "qp_upper": 0.0006796531055908008,
          "x1": -1.7282563555738046,
          "x2": 0.749357331681142
         },
         {
          "id": 48,
          "maximum": 3.351656849433929,
          "minimum": -3.543501908633695,
          "name": "r_31",
          "qp_lower": 0.11344622050330845,
          "qp_upper": 0.31939141479299976,
          "x1": -1.2634757415632478,
          "x2": 1.636658380964462
         },
         {
          "id": 48,
          "maximum": 3.5932835830910497,
          "minimum": -3.6133308748044524,
          "name": "r_32",
          "qp_lower": 3.1716555637643878e-15,
          "qp_upper": -1,
          "x1": 0.0098700507060711,
          "x2": 3.5932835830910497
         },
         {
          "id": 48,
          "maximum": 3.5731138634594455,
          "minimum": -3.453463384993952,
          "name": "r_33",
          "qp_lower": 0.37913043747993913,
          "qp_upper": 0.0011632163423818457,
          "x1": -1.6875070038379862,
          "x2": 0.7194628720528885
         },
         {
          "id": 49,
          "maximum": 3.3406000595952636,
          "minimum": -3.0954439757901033,
          "name": "r_20",
          "qp_lower": -1,
          "qp_upper": 0.27188510816440126,
          "x1": -3.0954439757901033,
          "x2": 1.6900911038861257
         },
         {
          "id": 49,
          "maximum": 3.760597684545351,
          "minimum": -3.1901260703858667,
          "name": "r_21",
          "qp_lower": -1,
          "qp_upper": 0.31532970739611255,
          "x1": -3.1901260703858667,
          "x2": 1.589903164693837
         },
         {
          "id": 49,
          "maximum": 3.173606889157316,
          "minimum": -2.9087788085580875,
          "name": "r_23",
          "qp_lower": -1,
          "qp_upper": 0.3094499825111756,
          "x1": -2.9087788085580875,
          "x2": 1.653943019099005
         },
         {
          "id": 49,
          "maximum": 3.481724709138368,
          "minimum": -4.019262726036893,
          "name": "r_24",
          "qp_lower": 0.027448057580452937,
          "qp_upper": -1,
          "x1": -1.0190755699559157,
          "x2": 3.481724709138368
         },
         {
          "id": 49,
          "maximum": 3.2405076859572386,
          "minimum": -3.6620874883459273,
          "name": "r_25",
          "qp_lower": 0.1296299465960436,
          "qp_upper": 0.3513342866065553,
          "x1": -1.2883514268174436,
          "x2": 1.4849635992898973
         },
         {
          "id": 49,
          "maximum": 3.146256172920483,
          "minimum": -3.3321451572379597,
          "name": "r_26",
          "qp_lower": 0.2873276416767782,
          "qp_upper": -1,
          "x1": -1.6793425266347999,
          "x2": 3.146256172920483
         },
         {
          "id": 49,
          "maximum": 3.4914885707781353,
          "minimum": -3.5774359387324486,
          "name": "r_28",
          "qp_lower": 0.28410070909679,
          "qp_upper": 0.013519571916967796,
          "x1": -1.5538983612465573,
          "x2": 0.9009187851009175
         },
         {
          "id": 49,
          "maximum": 4.306068650392292,
          "minimum": -3.6305663026325026,
          "name": "r_29",
          "qp_lower": 0.03887960906558828,
          "qp_upper": 0.1614688256218684,
          "x1": -1.0421996153071031,
          "x2": 1.3913855750777862
         },
         {
          "id": 49,
          "maximum": 3.441411019119689,
          "minimum": -3.1273250846960985,
          "name": "r_30",
          "qp_lower": 0.30596151872255806,
          "qp_upper": 0.0007105463199401903,
          "x1": -1.7282563555738046,
          "x2": 0.749357331681142
         },
         {
          "id": 49,
          "maximum": 3.351656849433929,
          "minimum": -3.543501908633695,
          "name": "r_31",
          "qp_lower": 0.1442115043063279,
          "qp_upper": 0.3094499825111756,
          "x1": -1.2634757415632478,
          "x2": 1.636658380964462
         },
         {
          "id": 49,
          "maximum": 3.5932835830910497,
          "minimum": -3.6133308748044524,
          "name": "r_32",
          "qp_lower": 2.5078488821844783e-16,
          "qp_upper": -1,
          "x1": 0.09002237603599522,
          "x2": 3.5932835830910497
         },
         {
          "id": 49,
          "maximum": 3.5731138634594455,
          "minimum": -3.453463384993952,
          "name": "r_33",
          "qp_lower": 0.3691727664829546,
          "qp_upper": 0.0013581970735743124,
          "x1": -1.6875070038379862,
          "x2": 0.7194628720528885
         },
         {
          "id": 50,
          "maximum": 3.3406000595952636,
          "minimum": -3.0954439757901033,
          "name": "r_20",
          "qp_lower": -1,
          "qp_upper": 0.27156799748123756,
          "x1": -3.0954439757901033,
          "x2": 1.6900911038861257
         },
         {
          "id": 50,
          "maximum": 3.760597684545351,
          "minimum": -3.1901260703858667,
          "name": "r_21",
          "qp_lower": -1,
          "qp_upper": 0.301250975465561,
          "x1": -3.1901260703858667,
          "x2": 1.589903164693837
         },
         {
          "id": 50,
          "maximum": 3.173606889157316,
          "minimum": -2.9087788085580875,
          "name": "r_23",
          "qp_lower": -1,
          "qp_upper": 0.32531142691934267,
          "x1": -2.9087788085580875,
          "x2": 1.653943019099005
         },
         {
          "id": 50,
          "maximum": 3.481724709138368,
          "minimum": -4.019262726036893,
          "name": "r_24",
          "qp_lower": 0.024174080064678506,
          "qp_upper": -1,
          "x1": -1.0190755699559157,
          "x2": 3.481724709138368
         },
         {
          "id": 50,
          "maximum": 3.2405076859572386,
          "minimum": -3.6620874883459273,
          "name": "r_25",
          "qp_lower": 0.12688521802495892,
          "qp_upper": 0.351402968309484,
          "x1": -1.2883514268174436,
          "x2": 1.4849635992898973
         },
         {
          "id": 50,
          "maximum": 3.146256172920483,
          "minimum": -3.3321451572379597,
          "name": "r_26",
          "qp_lower": 0.28929812692013845,
          "qp_upper": -1,
          "x1": -1.6793425266347999,
          "x2": 3.146256172920483
         },
         {
          "id": 50,
          "maximum": 3.4914885707781353,
          "minimum": -3.5774359387324486,
          "name": "r_28",
          "qp_lower": 0.28449492636473456,
          "qp_upper": 0.013959878000661624,
          "x1": -1.5538983612465573,
          "x2": 0.9009187851009175
         },
         {
          "id": 50,
          "maximum": 4.306068650392292,
          "minimum": -3.6305663026325026,
          "name": "r_29",
          "qp_lower": 0.041819908795804356,
          "qp_upper": 0.17004579603865308,
          "x1": -1.0421996153071031,
          "x2": 1.3913855750777862
         },
         {
          "id": 50,
          "maximum": 3.441411019119689,
          "minimum": -3.1273250846960985,
          "name": "r_30",
          "qp_lower": 0.30625757253063335,
          "qp_upper": 0.0009479150873957067,
          "x1": -1.7282563555738046,
          "x2": 0.749357331681142
         },
         {
          "id": 50,
          "maximum": 3.351656849433929,
          "minimum": -3.543501908633695,
          "name": "r_31",
          "qp_lower": 0.13911350334562944,
          "qp_upper": 0.2977678105890549,
          "x1": -1.2634757415632478,
          "x2": 1.636658380964462
         },
         {
          "id": 50,
          "maximum": 3.5932835830910497,
          "minimum": -3.6133308748044524,
          "name": "r_32",
          "qp_lower": 7.72518431296489e-18,
          "qp_upper": -1,
          "x1": 0.15716250463066656,
          "x2": 3.5932835830910497
         },
         {
          "id": 50,
          "maximum": 3.5731138634594455,
          "minimum": -3.453463384993952,
          "name": "r_33",
          "qp_lower": 0.3571259549069505,
          "qp_upper": 0.0012100741929015869,
          "x1": -1.6875070038379862,
          "x2": 0.7194628720528885
         },
         {
          "id": 51,
          "maximum": 3.3406000595952636,
          "minimum": -3.0954439757901033,
          "name": "r_20",
          "qp_lower": -1,
          "qp_upper": 0.2869531359919498,
          "x1": -3.0954439757901033,
          "x2": 1.6900911038861257
         },
         {
          "id": 51,
          "maximum": 3.760597684545351,
          "minimum": -3.1901260703858667,
          "name": "r_21",
          "qp_lower": -1,
          "qp_upper": 0.3166009599494271,
          "x1": -3.1901260703858667,
          "x2": 1.589903164693837
         },
         {
          "id": 51,
          "maximum": 3.5330404104815956,
          "minimum": -3.7148316195973266,
          "name": "r_22",
          "qp_lower": 0.331201078641414,
          "qp_upper": -1,
          "x1": -1.6071712919810284,
          "x2": 3.5330404104815956
         },
         {
          "id": 51,
          "maximum": 3.173606889157316,
          "minimum": -2.9087788085580875,
          "name": "r_23",
          "qp_lower": -1,
          "qp_upper": 0.34530659936914215,
          "x1": -2.9087788085580875,
          "x2": 1.653943019099005
         },
         {
          "id": 51,
          "maximum": 3.481724709138368,
          "minimum": -4.019262726036893,
          "name": "r_24",
          "qp_lower": 0.030505979988795565,
          "qp_upper": -1,
          "x1": -1.0190755699559157,
          "x2": 3.481724709138368
         },
         {
          "id": 51,
          "maximum": 3.2405076859572386,
          "minimum": -3.6620874883459273,
          "name": "r_25",
          "qp_lower": 0.12190013503065925,
          "qp_upper": 0.3390777287947795,
          "x1": -1.2883514268174436,
          "x2": 1.4849635992898973
         },
         {
          "id": 51,
          "maximum": 3.146256172920483,
          "minimum": -3.3321451572379597,
          "name": "r_26",
          "qp_lower": 0.3075162931880955,
          "qp_upper": -1,
          "x1": -1.6793425266347999,
          "x2": 3.146256172920483
         },
         {
          "id": 51,
          "maximum": 3.4914885707781353,
          "minimum": -3.5774359387324486,
          "name": "r_28",
          "qp_lower": 0.2732890794204457,
          "qp_upper": 0.009476687473415697,
          "x1": -1.5538983612465573,
          "x2": 0.9009187851009175
         },
         {
          "id": 51,
          "maximum": 4.306068650392292,
          "minimum": -3.6305663026325026,
          "name": "r_29",
          "qp_lower": 0.043465797372076724,
          "qp_upper": 0.17331247312087997,
          "x1": -1.0421996153071031,
          "x2": 1.3913855750777862
         },
         {
          "id": 51,
          "maximum": 3.441411019119689,
          "minimum": -3.1273250846960985,
          "name": "r_30",
          "qp_lower": 0.3088000830454652,
          "qp_upper": 0.0012890447101380563,
          "x1": -1.7282563555738046,
          "x2": 0.749357331681142
         },
         {
          "id": 51,
          "maximum": 3.351656849433929,
          "minimum": -3.543501908633695,
          "name": "r_31",
          "qp_lower": 0.1355831585057598,
          "qp_upper": 0.30099934506010967,
          "x1": -1.2634757415632478,
          "x2": 1.636658380964462
         },
         {
          "id": 51,
          "maximum": 3.5932835830910497,
          "minimum": -3.6133308748044524,
          "name": "r_32",
          "qp_lower": 4.5985084964776146e-17,
          "qp_upper": -1,
          "x1": 0.15716250463066656,
          "x2": 3.5932835830910497
         },
         {
          "id": 51,
          "maximum": 3.5731138634594455,
          "minimum": -3.453463384993952,
          "name": "r_33",
          "qp_lower": 0.3613807188020131,
          "qp_upper": 0.0012762730325453007,
          "x1": -1.6875070038379862,
          "x2": 0.7194628720528885
         },
         {
          "id": 52,
          "maximum": 3.3406000595952636,
          "minimum": -3.0954439757901033,
          "name": "r_20",
          "qp_lower": -1,
          "qp_upper": 0.27490641814705197,
          "x1": -3.0954439757901033,
          "x2": 1.6900911038861257
         },
         {
          "id": 52,
          "maximum": 3.760597684545351,
          "minimum": -3.1901260703858667,
          "name": "r_21",
          "qp_lower": -1,
          "qp_upper": 0.28169937327677436,
          "x1": -3.1901260703858667,
          "x2": 1.589903164693837
         },
         {
          "id": 52,
          "maximum": 3.5330404104815956,
          "minimum": -3.7148316195973266,
          "name": "r_22",
          "qp_lower": 0.17171468490669078,
          "qp_upper": -1,
          "x1": -1.2153515451403205,
          "x2": 3.5330404104815956
         },
         {
          "id": 52,
          "maximum": 3.173606889157316,
          "minimum": -2.9087788085580875,
          "name": "r_23",
          "qp_lower": -1,
          "qp_upper": 0.3196664041163473,
          "x1": -2.9087788085580875,
          "x2": 1.653943019099005
         },
         {
          "id": 52,
          "maximum": 3.481724709138368,
          "minimum": -4.019262726036893,
          "name": "r_24",
          "qp_lower": 0.030410274117935707,
          "qp_upper": -1,
          "x1": -1.0190755699559157,
          "x2": 3.481724709138368
         },
         {
          "id": 52,
          "maximum": 3.2405076859572386,
          "minimum": -3.6620874883459273,
          "name": "r_25",
          "qp_lower": 0.1384142054211792,
          "qp_upper": 0.31005999477201757,
          "x1": -1.2883514268174436,
          "x2": 1.4849635992898973
         },
         {
          "id": 52,
          "maximum": 3.146256172920483,
          "minimum": -3.3321451572379597,
          "name": "r_26",
          "qp_lower": 0.2973412302170285,
          "qp_upper": -1,
          "x1": -1.6793425266347999,
          "x2": 3.146256172920483
         },
         {
          "id": 52,
          "maximum": 3.4914885707781353,
          "minimum": -3.5774359387324486,
          "name": "r_28",
          "qp_lower": 0.27490641814705197,
          "qp_upper": 0.006575552665816754,
          "x1": -1.5538983612465573,
          "x2": 0.9009187851009175
         },
         {
          "id": 52,
          "maximum": 4.306068650392292,
          "minimum": -3.6305663026325026,
          "name": "r_29",
          "qp_lower": 0.04170801388323672,
          "qp_upper": 0.12072686344676942,
          "x1": -1.0421996153071031,
          "x2": 1.3913855750777862
         },
         {
          "id": 52,
          "maximum": 3.441411019119689,
          "minimum": -3.1273250846960985,
          "name": "r_30",
          "qp_lower": 0.28169937327677436,
          "qp_upper": 0.0013090200665715342,
          "x1": -1.7282563555738046,
          "x2": 0.749357331681142
         },
         {
          "id": 52,
          "maximum": 3.351656849433929,
          "minimum": -3.543501908633695,
          "name": "r_31",
          "qp_lower": 0.13145893218744326,
          "qp_upper": 0.2894054891673838,
          "x1": -1.2634757415632478,
          "x2": 1.636658380964462
         },
         {
          "id": 52,
          "maximum": 3.5932835830910497,
          "minimum": -3.6133308748044524,
          "name": "r_32",
          "qp_lower": 3.746378461703963e-17,
          "qp_upper": -1,
          "x1": 0.15716250463066656,
          "x2": 3.5932835830910497
         },
         {
          "id": 52,
          "maximum": 3.5731138634594455,
          "minimum": -3.453463384993952,
          "name": "r_33",
          "qp_lower": 0.3495993025567792,
          "qp_upper": 0.0010837267589041742,
          "x1": -1.6875070038379862,
          "x2": 0.7194628720528885
         },
         {
          "id": 53,
          "maximum": 3.3406000595952636,
          "minimum": -3.0954439757901033,
          "name": "r_20",
          "qp_lower": -1,
          "qp_upper": 0.27832767636926475,
          "x1": -3.0954439757901033,
          "x2": 1.6900911038861257
         },
         {
          "id": 53,
          "maximum": 3.760597684545351,
          "minimum": -3.1901260703858667,
          "name": "r_21",
          "qp_lower": -1,
          "qp_upper": 0.284379106584842,
          "x1": -3.1901260703858667,
          "x2": 1.589903164693837
         },
         {
          "id": 53,
          "maximum": 3.5330404104815956,
          "minimum": -3.7148316195973266,
          "name": "r_22",
          "qp_lower": 0.18240535640213387,
          "qp_upper": -1,
          "x1": -1.2153515451403205,
          "x2": 3.5330404104815956
         },
         {
          "id": 53,
          "maximum": 3.173606889157316,
          "minimum": -2.9087788085580875,
          "name": "r_23",
          "qp_lower": -1,
          "qp_upper": 0.32585646471066615,
          "x1": -2.9087788085580875,
          "x2": 1.653943019099005
         },
         {
          "id": 53,
          "maximum": 3.481724709138368,
          "minimum": -4.019262726036893,
          "name": "r_24",
          "qp_lower": 0.03128212684824163,
          "qp_upper": -1,
          "x1": -1.0190755699559157,
          "x2": 3.481724709138368
         },
         {
          "id": 53,
          "maximum": 3.2405076859572386,
          "minimum": -3.6620874883459273,
          "name": "r_25",
          "qp_lower": 0.1415384015527032,
          "qp_upper": 0.32805513502078737,
          "x1": -1.2883514268174436,
          "x2": 1.4849635992898973
         },
         {
          "id": 53,
          "maximum": 3.146256172920483,
          "minimum": -3.3321451572379597,
          "name": "r_26",
          "qp_lower": 0.2875653689506127,
          "qp_upper": -1,
          "x1": -1.6793425266347999,
          "x2": 3.146256172920483
         },
         {
          "id": 53,
          "maximum": 3.4914885707781353,
          "minimum": -3.5774359387324486,
          "name": "r_28",
          "qp_lower": 0.27832767636926475,
          "qp_upper": 0.004342695996555993,
          "x1": -1.5538983612465573,
          "x2": 0.9009187851009175
         },
         {
          "id": 53,
          "maximum": 4.306068650392292,
          "minimum": -3.6305663026325026,
          "name": "r_29",
          "qp_lower": 0.04088231424536132,
          "qp_upper": 0.11571897116900538,
          "x1": -1.0421996153071031,
          "x2": 1.3913855750777862
         },
         {
          "id": 53,
          "maximum": 3.441411019119689,
          "minimum": -3.1273250846960985,
          "name": "r_30",
          "qp_lower": 0.269393562683552,
          "qp_upper": 0.0010427034864391848,
          "x1": -1.7282563555738046,
          "x2": 0.749357331681142
         },
         {
          "id": 53,
          "maximum": 3.351656849433929,
          "minimum": -3.543501908633695,
          "name": "r_31",
          "qp_lower": 0.13777163855026783,
          "qp_upper": 0.27832767636926475,
          "x1": -1.2634757415632478,
          "x2": 1.636658380964462
         },
         {
          "id": 53,
          "maximum": 3.5932835830910497,
          "minimum": -3.6133308748044524,
          "name": "r_32",
          "qp_lower": 3.52957990911355e-18,
          "qp_upper": -1,
          "x1": 0.22084106974001794,
          "x2": 3.5932835830910497
         },
         {
          "id": 53,
          "maximum": 3.5731138634594455,
          "minimum": -3.453463384993952,
          "name": "r_33",
          "qp_lower": 0.33830655238710555,
          "qp_upper": 0.0010755362105894731,
          "x1": -1.6875070038379862,
          "x2": 0.7194628720528885
         },
         {
          "id": 54,
          "maximum": 3.3406000595952636,
          "minimum": -3.0954439757901033,
          "name": "r_20",
          "qp_lower": -1,
          "qp_upper": 0.33341220692381196,
          "x1": -3.0954439757901033,
          "x2": 1.6900911038861257
         },
         {
          "id": 54,
          "maximum": 3.760597684545351,
          "minimum": -3.1901260703858667,
          "name": "r_21",
          "qp_lower": -1,
          "qp_upper": 0.30452911167823404,
          "x1": -3.1901260703858667,
          "x2": 1.589903164693837
         },
         {
          "id": 54,
          "maximum": 3.5330404104815956,
          "minimum": -3.7148316195973266,
          "name": "r_22",
          "qp_lower": 0.17829268763493786,
          "qp_upper": -1,
          "x1": -1.2153515451403205,
          "x2": 3.5330404104815956
         },
         {
          "id": 54,
          "maximum": 3.173606889157316,
          "minimum": -2.9087788085580875,
          "name": "r_23",
          "qp_lower": -1,
          "qp_upper": 0.33341220692381196,
          "x1": -2.9087788085580875,
          "x2": 1.653943019099005
         },
         {
          "id": 54,
          "maximum": 3.481724709138368,
          "minimum": -4.019262726036893,
          "name": "r_24",
          "qp_lower": 0.03572541603334185,
          "qp_upper": -1,
          "x1": -1.0190755699559157,
          "x2": 3.481724709138368
         },
         {
          "id": 54,
          "maximum": 3.2405076859572386,
          "minimum": -3.6620874883459273,
          "name": "r_25",
          "qp_lower": 0.1670093812920201,
          "qp_upper": 0.34942599086322945,
          "x1": -1.2883514268174436,
          "x2": 1.4849635992898973
         },
         {
          "id": 54,
          "maximum": 3.146256172920483,
          "minimum": -3.3321451572379597,
          "name": "r_26",
          "qp_lower": 0.2938658769314355,
          "qp_upper": -1,
          "x1": -1.6793425266347999,
          "x2": 3.146256172920483
         },
         {
          "id": 54,
          "maximum": 3.5242285285241604,
          "minimum": -3.468570543659783,
          "name": "r_27",
          "qp_lower": -1,
          "qp_upper": 0.3267410990898916,
          "x1": -3.468570543659783,
          "x2": 1.479346042929192
         },
         {
          "id": 54,
          "maximum": 3.4914885707781353,
          "minimum": -3.5774359387324486,
          "name": "r_28",
          "qp_lower": 0.28286844868354394,
          "qp_upper": 0.005598437954499132,
          "x1": -1.5538983612465573,
          "x2": 0.9009187851009175
         },
         {
          "id": 54,
          "maximum": 4.306068650392292,
          "minimum": -3.6305663026325026,
          "name": "r_29",
          "qp_lower": 0.05243083355851209,
          "qp_upper": 0.12856169167471068,
          "x1": -1.0421996153071031,
          "x2": 1.3913855750777862
         },
         {
          "id": 54,
          "maximum": 3.441411019119689,
          "minimum": -3.1273250846960985,
          "name": "r_30",
          "qp_lower": 0.2881396359810473,
          "qp_upper": 0.001465128196159,
          "x1": -1.7282563555738046,
          "x2": 0.749357331681142
         },
         {
          "id": 54,
          "maximum": 3.351656849433929,
          "minimum": -3.543501908633695,
          "name": "r_31",
          "qp_lower": 0.167577202459123,
          "qp_upper": 0.3160647930564768,
          "x1": -1.2634757415632478,
          "x2": 1.636658380964462
         },
         {
          "id": 54,
          "maximum": 3.5932835830910497,
          "minimum": -3.6133308748044524,
          "name": "r_32",
          "qp_lower": 2.4939715678697e-17,
          "qp_upper": -1,
          "x1": 0.22084106974001794,
          "x2": 3.5932835830910497
         },
         {
          "id": 54,
          "maximum": 3.5731138634594455,
          "minimum": -3.453463384993952,
          "name": "r_33",
          "qp_lower": 0.344124216867734,
          "qp_upper": 0.0019428533988149945,
          "x1": -1.6875070038379862,
          "x2": 0.7194628720528885
         },
         {
          "id": 55,
          "maximum": 3.3406000595952636,
          "minimum": -3.0954439757901033,
          "name": "r_20",
          "qp_lower": -1,
          "qp_upper": 0.18173442172750454,
          "x1": -3.0954439757901033,
          "x2": 1.4726851084773216
         },
         {
          "id": 55,
          "maximum": 3.760597684545351,
          "minimum": -3.1901260703858667,
          "name": "r_21",
          "qp_lower": -1,
          "qp_upper": 0.30943315217309214,
          "x1": -3.1901260703858667,
          "x2": 1.589903164693837
         },
         {
          "id": 55,
          "maximum": 3.5330404104815956,
          "minimum": -3.7148316195973266,
          "name": "r_22",
          "qp_lower": 0.17331352449380327,
          "qp_upper": -1,
          "x1": -1.2153515451403205,
          "x2": 3.5330404104815956
         },
         {
          "id": 55,
          "maximum": 3.173606889157316,
          "minimum": -2.9087788085580875,
          "name": "r_23",
          "qp_lower": -1,
          "qp_upper": 0.3230887616564713,
          "x1": -2.9087788085580875,
          "x2": 1.653943019099005
         },
         {
          "id": 55,
          "maximum": 3.481724709138368,
          "minimum": -4.019262726036893,
          "name": "r_24",
          "qp_lower": 0.031111012730702534,
          "qp_upper": -1,
          "x1": -1.0190755699559157,
          "x2": 3.481724709138368
         },
         {
          "id": 55,
          "maximum": 3.2405076859572386,
          "minimum": -3.6620874883459273,
          "name": "r_25",
          "qp_lower": 0.16167037580551466,
          "qp_upper": 0.33602971385060043,
          "x1": -1.2883514268174436,
          "x2": 1.4849635992898973
         },
         {
          "id": 55,
          "maximum": 3.146256172920483,
          "minimum": -3.3321451572379597,
          "name": "r_26",
          "qp_lower": 0.30070248926866,
          "qp_upper": -1,
          "x1": -1.6793425266347999,
          "x2": 3.146256172920483
         },
         {
          "id": 55,
          "maximum": 3.5242285285241604,
          "minimum": -3.468570543659783,
          "name": "r_27",
          "qp_lower": -1,
          "qp_upper": 0.31375192462427953,
          "x1": -3.468570543659783,
          "x2": 1.479346042929192
         },
         {
          "id": 55,
          "maximum": 3.4914885707781353,
          "minimum": -3.5774359387324486,
          "name": "r_28",
          "qp_lower": 0.27079388468277127,
          "qp_upper": 0.005885636670019037,
          "x1": -1.5538983612465573,
          "x2": 0.9009187851009175
         },
         {
          "id": 55,
          "maximum": 4.306068650392292,
          "minimum": -3.6305663026325026,
          "name": "r_29",
          "qp_lower": 0.04779956451260567,
          "qp_upper": 0.12366670521712146,
          "x1": -1.0421996153071031,
          "x2": 1.3913855750777862
         },
         {
          "id": 55,
          "maximum": 3.441411019119689,
          "minimum": -3.1273250846960985,
          "name": "r_30",
          "qp_lower": 0.29198169055737316,
          "qp_upper": 0.0011578206296056102,
          "x1": -1.7282563555738046,
          "x2": 0.749357331681142
         },
         {
          "id": 55,
          "maximum": 3.351656849433929,
          "minimum": -3.543501908633695,
          "name": "r_31",
          "qp_lower": 0.15478354477972237,
          "qp_upper": 0.3230887616564713,
          "x1": -1.2634757415632478,
          "x2": 1.636658380964462
         },
         {
          "id": 55,
          "maximum": 3.5932835830910497,
          "minimum": -3.6133308748044524,
          "name": "r_32",
          "qp_lower": 1.5000718811611824e-17,
          "qp_upper": -1,
          "x1": 0.22084106974001794,
          "x2": 3.5932835830910497
         },
         {
          "id": 55,
          "maximum": 3.5731138634594455,
          "minimum": -3.453463384993952,
          "name": "r_33",
          "qp_lower": 0.350261341591277,
          "qp_upper": 0.001409866475718386,
          "x1": -1.6875070038379862,
          "x2": 0.7194628720528885
         },
         {
          "id": 56,
          "maximum": 4.070799739238992,
          "minimum": -3.1988666079461407,
          "name": "r_16",
          "qp_lower": -1,
          "qp_upper": 0.29513910773441276,
          "x1": -3.1988666079461407,
          "x2": 1.8027343277628407
         },
         {
          "id": 56,
          "maximum": 3.3406000595952636,
          "minimum": -3.0954439757901033,
          "name": "r_20",
          "qp_lower": -1,
          "qp_upper": 0.16337254716727642,
          "x1": -3.0954439757901033,
          "x2": 1.4726851084773216
         },
         {
          "id": 56,
          "maximum": 3.760597684545351,
          "minimum": -3.1901260703858667,
          "name": "r_21",
          "qp_lower": -1,
          "qp_upper": 0.29513910773441276,
          "x1": -3.1901260703858667,
          "x2": 1.589903164693837
         },
         {
          "id": 56,
          "maximum": 3.5330404104815956,
          "minimum": -3.7148316195973266,
          "name": "r_22",
          "qp_lower": 0.16618049164817494,
          "qp_upper": -1,
          "x1": -1.2153515451403205,
          "x2": 3.5330404104815956
         },
         {
          "id": 56,
          "maximum": 3.173606889157316,
          "minimum": -2.9087788085580875,
          "name": "r_23",
          "qp_lower": -1,
          "qp_upper": 0.28900547424236733,
          "x1": -2.9087788085580875,
          "x2": 1.653943019099005
         },
         {
          "id": 56,
          "maximum": 3.481724709138368,
          "minimum": -4.019262726036893,
          "name": "r_24",
          "qp_lower": 0.028741131574690344,
          "qp_upper": -1,
          "x1": -1.0190755699559157,
          "x2": 3.481724709138368
         },
         {
          "id": 56,
          "maximum": 3.2405076859572386,
          "minimum": -3.6620874883459273,
          "name": "r_25",
          "qp_lower": 0.15420655300447078,
          "qp_upper": 0.33607242034605944,
          "x1": -1.2883514268174436,
          "x2": 1.4849635992898973
         },
         {
          "id": 56,
          "maximum": 3.146256172920483,
          "minimum": -3.3321451572379597,
          "name": "r_26",
          "qp_lower": 0.28900547424236733,
          "qp_upper": -1,
          "x1": -1.6793425266347999,
          "x2": 3.146256172920483
         },
         {
          "id": 56,
          "maximum": 3.5242285285241604,
          "minimum": -3.468570543659783,
          "name": "r_27",
          "qp_lower": -1,
          "qp_upper": 0.27709619611103126,
          "x1": -3.468570543659783,
          "x2": 1.479346042929192
         },
         {
          "id": 56,
          "maximum": 3.4914885707781353,
          "minimum": -3.5774359387324486,
          "name": "r_28",
          "qp_lower": 0.2566377112029704,
          "qp_upper": 0.004766716688228702,
          "x1": -1.5538983612465573,
          "x2": 0.9009187851009175
         },
         {
          "id": 56,
          "maximum": 4.306068650392292,
          "minimum": -3.6305663026325026,
          "name": "r_29",
          "qp_lower": 0.03840131501010412,
          "qp_upper": 0.11713218657274113,
          "x1": -1.0421996153071031,
          "x2": 1.3913855750777862
         },
         {
          "id": 56,
          "maximum": 3.441411019119689,
          "minimum": -3.1273250846960985,
          "name": "r_30",
          "qp_lower": 0.27709619611103126,
          "qp_upper": 0.0009647218980498143,
          "x1": -1.7282563555738046,
          "x2": 0.749357331681142
         },
         {
          "id": 56,
          "maximum": 3.351656849433929,
          "minimum": -3.543501908633695,
          "name": "r_31",
          "qp_lower": 0.14046619031269642,
          "qp_upper": 0.31081366264819565,
          "x1": -1.2634757415632478,
          "x2": 1.636658380964462
         },
         {
          "id": 56,
          "maximum": 3.5932835830910497,
          "minimum": -3.6133308748044524,
          "name": "r_32",
          "qp_lower": 9.798233493310774e-18,
          "qp_upper": -1,
          "x1": 0.22084106974001794,
          "x2": 3.5932835830910497
         },
         {
          "id": 56,
          "maximum": 3.5731138634594455,
          "minimum": -3.453463384993952,
          "name": "r_33",
          "qp_lower": 0.33607242034605944,
          "qp_upper": 0.0012195903958149036,
          "x1": -1.6875070038379862,
          "x2": 0.7194628720528885
         },
         {
          "id": 57,
          "maximum": 3.198603758555504,
          "minimum": -3.4509469209566013,
          "name": "r_11",
          "qp_lower": -1,
          "qp_upper": 0.34427404806409806,
          "x1": -3.4509469209566013,
          "x2": 1.798814808885266
         },
         {
          "id": 57,
          "maximum": 4.070799739238992,
          "minimum": -3.1988666079461407,
          "name": "r_16",
          "qp_lower": -1,
          "qp_upper": 0.2826172947859233,
          "x1": -3.1988666079461407,
          "x2": 1.8027343277628407
         },
         {
          "id": 57,
          "maximum": 3.3406000595952636,
          "minimum": -3.0954439757901033,
          "name": "r_20",
          "qp_lower": -1,
          "qp_upper": 0.15837985723801087,
          "x1": -3.0954439757901033,
          "x2": 1.4726851084773216
         },
         {
          "id": 57,
          "maximum": 3.760597684545351,
          "minimum": -3.1901260703858667,
          "name": "r_21",
          "qp_lower": -1,
          "qp_upper": 0.2826172947859233,
          "x1": -3.1901260703858667,
          "x2": 1.589903164693837
         },
         {
          "id": 57,
          "maximum": 3.5330404104815956,
          "minimum": -3.7148316195973266,
          "name": "r_22",
          "qp_lower": 0.1626232755311747,
          "qp_upper": -1,
          "x1": -1.2153515451403205,
          "x2": 3.5330404104815956
         },
         {
          "id": 57,
          "maximum": 3.173606889157316,
          "minimum": -2.9087788085580875,
          "name": "r_23",
          "qp_lower": -1,
          "qp_upper": 0.27850105564071687,
          "x1": -2.9087788085580875,
          "x2": 1.653943019099005
         },
         {
          "id": 57,
          "maximum": 3.481724709138368,
          "minimum": -4.019262726036893,
          "name": "r_24",
          "qp_lower": 0.03102308183564763,
          "qp_upper": -1,
          "x1": -1.0190755699559157,
          "x2": 3.481724709138368
         },
         {
          "id": 57,
          "maximum": 3.2405076859572386,
          "minimum": -3.6620874883459273,
          "name": "r_25",
          "qp_lower": 0.1757497772556361,
          "qp_upper": 0.34427404806409806,
          "x1": -1.2883514268174436,
          "x2": 1.4849635992898973
         },
         {
          "id": 57,
          "maximum": 3.146256172920483,
          "minimum": -3.3321451572379597,
          "name": "r_26",
          "qp_lower": 0.29790976065767677,
          "qp_upper": -1,
          "x1": -1.6793425266347999,
          "x2": 3.146256172920483
         },
         {
          "id": 57,
          "maximum": 3.5242285285241604,
          "minimum": -3.468570543659783,
          "name": "r_27",
          "qp_lower": -1,
          "qp_upper": 0.26409314955204805,
          "x1": -3.468570543659783,
          "x2": 1.479346042929192
         },
         {
          "id": 57,
          "maximum": 3.4914885707781353,
          "minimum": -3.5774359387324486,
          "name": "r_28",
          "qp_lower": 0.2619882631681308,
          "qp_upper": 0.003665810084499952,
          "x1": -1.5538983612465573,
          "x2": 0.9009187851009175
         },
         {
          "id": 57,
          "maximum": 4.306068650392292,
          "minimum": -3.6305663026325026,
          "name": "r_29",
          "qp_lower": 0.038709113286380714,
          "qp_upper": 0.1344606710475273,
          "x1": -1.0421996153071031,
          "x2": 1.3913855750777862
         },
         {
          "id": 57,
          "maximum": 3.441411019119689,
          "minimum": -3.1273250846960985,
          "name": "r_30",
          "qp_lower": 0.26409314955204805,
          "qp_upper": 0.000776304873320682,
          "x1": -1.7282563555738046,
          "x2": 0.749357331681142
         },
         {
          "id": 57,
          "maximum": 3.351656849433929,
          "minimum": -3.543501908633695,
          "name": "r_31",
          "qp_lower": 0.13971314599333975,
          "qp_upper": 0.29990728310408116,
          "x1": -1.2634757415632478,
          "x2": 1.636658380964462
         },
         {
          "id": 57,
          "maximum": 3.5932835830910497,
          "minimum": -3.6133308748044524,
          "name": "r_32",
          "qp_lower": 9.950014556471878e-18,
          "qp_upper": -1,
          "x1": 0.22084106974001794,
          "x2": 3.5932835830910497
         },
         {
          "id": 57,
          "maximum": 3.5731138634594455,
          "minimum": -3.453463384993952,
          "name": "r_33",
          "qp_lower": 0.3218572918503546,
          "qp_upper": 0.0013263001541559114,
          "x1": -1.6875070038379862,
          "x2": 0.7194628720528885
         }
        ],
        "data-d751713988987e9331980363e24189ce": []
       },
       "vconcat": [
        {
         "data": {
          "name": "data-30b8c3a55cdf6e3475472d7e106a0cc8"
         },
         "encoding": {
          "color": {
           "field": "res_dim",
           "scale": {
            "range": [
             "#eff9b6",
             "#d0edb3",
             "#97d6b9",
             "#5dc0c0",
             "#31a5c2",
             "#1f80b8",
             "#2354a3",
             "#21318d"
            ]
           },
           "type": "ordinal"
          },
          "opacity": {
           "condition": {
            "selection": "selector021",
            "value": 1
           },
           "value": 0.4
          },
          "tooltip": [
           {
            "field": "id",
            "type": "ordinal"
           },
           {
            "field": "coverage",
            "format": ".2",
            "type": "quantitative"
           },
           {
            "field": "density",
            "format": ".2",
            "type": "quantitative"
           },
           {
            "field": "res_dim",
            "type": "ordinal"
           }
          ],
          "x": {
           "field": "coverage",
           "type": "quantitative"
          },
          "y": {
           "field": "density",
           "type": "quantitative"
          }
         },
         "height": 400,
         "mark": {
          "size": 75,
          "type": "circle"
         },
         "selection": {
          "selector021": {
           "fields": [
            "id"
           ],
           "type": "single"
          }
         },
         "width": 400
        },
        {
         "layer": [
          {
           "data": {
            "name": "data-cb0ed1f2eb22ba61c5c1249e843d1bb7"
           },
           "encoding": {
            "x": {
             "axis": {
              "grid": false,
              "labels": false,
              "title": "box limits"
             },
             "field": "x_lower",
             "scale": {
              "domain": [
               0,
               1
              ],
              "padding": 0.1
             },
             "type": "quantitative"
            },
            "x2": {
             "field": "x_upper"
            },
            "y": {
             "field": "name",
             "scale": {
              "padding": 1
             },
             "type": "nominal"
            }
           },
           "mark": "rule",
           "transform": [
            {
             "as": "x_lower",
             "calculate": "(datum.x1-datum.minimum)/(datum.maximum-datum.minimum)"
            },
            {
             "as": "x_upper",
             "calculate": "(datum.x2-datum.minimum)/(datum.maximum-datum.minimum)"
            },
            {
             "filter": {
              "selection": "selector021"
             }
            }
           ],
           "width": 400
          },
          {
           "data": {
            "name": "data-cb0ed1f2eb22ba61c5c1249e843d1bb7"
           },
           "encoding": {
            "text": {
             "field": "text",
             "type": "ordinal"
            },
            "x": {
             "axis": {
              "grid": false,
              "labels": false,
              "title": "box limits"
             },
             "field": "x_lower",
             "scale": {
              "domain": [
               0,
               1
              ],
              "padding": 0.1
             },
             "type": "quantitative"
            },
            "x2": {
             "field": "x_upper"
            },
            "y": {
             "field": "name",
             "scale": {
              "padding": 1
             },
             "type": "nominal"
            }
           },
           "mark": {
            "align": "left",
            "baseline": "top",
            "dy": 5,
            "type": "text"
           },
           "transform": [
            {
             "as": "x_lower",
             "calculate": "(datum.x1-datum.minimum)/(datum.maximum-datum.minimum)"
            },
            {
             "as": "x_upper",
             "calculate": "(datum.x2-datum.minimum)/(datum.maximum-datum.minimum)"
            },
            {
             "filter": {
              "selection": "selector021"
             }
            },
            {
             "as": "text",
             "calculate": "datum.qp_lower>0?format(datum.x1, \".2\")+\" (\"+format(datum.qp_lower, \".1~g\")+\")\" :format(datum.x1, \".2\")"
            }
           ],
           "width": 400
          },
          {
           "data": {
            "name": "data-cb0ed1f2eb22ba61c5c1249e843d1bb7"
           },
           "encoding": {
            "text": {
             "field": "text",
             "type": "ordinal"
            },
            "x": {
             "field": "x_upper",
             "type": "quantitative"
            },
            "x2": {
             "field": "x_upper"
            },
            "y": {
             "field": "name",
             "scale": {
              "padding": 1
             },
             "type": "nominal"
            }
           },
           "mark": {
            "align": "right",
            "baseline": "top",
            "dy": 5,
            "type": "text"
           },
           "transform": [
            {
             "as": "x_lower",
             "calculate": "(datum.x1-datum.minimum)/(datum.maximum-datum.minimum)"
            },
            {
             "as": "x_upper",
             "calculate": "(datum.x2-datum.minimum)/(datum.maximum-datum.minimum)"
            },
            {
             "filter": {
              "selection": "selector021"
             }
            },
            {
             "as": "text",
             "calculate": "datum.qp_upper>0?format(datum.x2, \".2\")+\" (\"+format(datum.qp_upper, \".1\")+\")\" :format(datum.x2, \".2\")"
            }
           ],
           "width": 400
          },
          {
           "data": {
            "name": "data-bb8d07f6df3d47a6a475317795287b23"
           },
           "encoding": {
            "x": {
             "field": "start",
             "type": "quantitative"
            },
            "x2": {
             "field": "end"
            }
           },
           "mark": {
            "opacity": 0.05,
            "type": "rect"
           }
          },
          {
           "data": {
            "name": "data-d751713988987e9331980363e24189ce"
           },
           "encoding": {
            "x": {
             "field": "x",
             "type": "quantitative"
            },
            "y": {
             "field": "name",
             "type": "nominal"
            }
           },
           "mark": "point",
           "transform": [
            {
             "filter": {
              "selection": "selector021"
             }
            }
           ],
           "width": 400
          },
          {
           "data": {
            "name": "data-d751713988987e9331980363e24189ce"
           },
           "encoding": {
            "text": {
             "field": "item",
             "type": "nominal"
            },
            "x": {
             "field": "x",
             "type": "quantitative"
            },
            "y": {
             "field": "name",
             "type": "nominal"
            }
           },
           "mark": {
            "align": "center",
            "baseline": "top",
            "dy": 5,
            "type": "text"
           },
           "transform": [
            {
             "filter": {
              "selection": "selector021"
             }
            }
           ],
           "width": 400
          }
         ]
        }
       ]
      },
      "image/png": "[encoded data removed]",
      "text/plain": [
       "<VegaLite 3 object>\n",
       "\n",
       "If you see this message, it means the renderer has not been properly enabled\n",
       "for the frontend that you are using. For more information, see\n",
       "https://altair-viz.github.io/user_guide/troubleshooting.html\n"
      ]
     },
     "execution_count": 151,
     "metadata": {},
     "output_type": "execute_result"
    }
   ],
   "source": [
    "box1.inspect_tradeoff()"
   ]
  }
 ],
 "metadata": {
  "kernelspec": {
   "display_name": "Python 3",
   "language": "python",
   "name": "python3"
  },
  "language_info": {
   "codemirror_mode": {
    "name": "ipython",
    "version": 3
   },
   "file_extension": ".py",
   "mimetype": "text/x-python",
   "name": "python",
   "nbconvert_exporter": "python",
   "pygments_lexer": "ipython3",
   "version": "3.7.4"
  }
 },
 "nbformat": 4,
 "nbformat_minor": 4
}
