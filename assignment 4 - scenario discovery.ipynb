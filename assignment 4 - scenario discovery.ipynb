{
 "cells": [
  {
   "cell_type": "markdown",
   "metadata": {},
   "source": [
    "## Notes from Q&A Session May 7, 2020"
   ]
  },
  {
   "cell_type": "code",
   "execution_count": 1,
   "metadata": {},
   "outputs": [
    {
     "name": "stderr",
     "output_type": "stream",
     "text": [
      "C:\\Users\\Carol\\Anaconda3\\lib\\site-packages\\ema_workbench\\em_framework\\optimization.py:48: ImportWarning: platypus based optimization not available\n",
      "  warnings.warn(\"platypus based optimization not available\", ImportWarning)\n"
     ]
    }
   ],
   "source": [
    "from lakemodel_function import lake_problem\n",
    "from ema_workbench import (Model, RealParameter, ScalarOutcome)\n",
    "# instantiate the model\n",
    "lake_model = Model('lakeproblem', function=lake_problem)\n",
    "lake_model.time_horizon = 100 # used to specifiy the number of timesteps\n",
    "#specify uncertainties\n",
    "lake_model.uncertainties =[RealParameter('b', 0.1, 0.45),\n",
    "                           RealParameter('q', 2.0, 4.5),\n",
    "                           RealParameter('mean', 0.01, 0.05),\n",
    "                           RealParameter('stdev', 0.001, 0.005),\n",
    "                           RealParameter('delta', 0.93, 0.99)]\n",
    "# set levers\n",
    "lake_model.levers = [RealParameter(f\"l{i}\", 0, 0.1) for i in range(lake_model.time_horizon)]\n",
    "#specify outcomes\n",
    "lake_model.outcomes = [ScalarOutcome('max_P'),\n",
    "                      ScalarOutcome('utility'),\n",
    "                      ScalarOutcome('inertia'),\n",
    "                      ScalarOutcome('reliability')]"
   ]
  },
  {
   "cell_type": "code",
   "execution_count": 2,
   "metadata": {},
   "outputs": [
    {
     "name": "stderr",
     "output_type": "stream",
     "text": [
      "[MainProcess/INFO] pool started\n",
      "[MainProcess/INFO] performing 1000 scenarios * 1 policies * 1 model(s) = 1000 experiments\n",
      "[MainProcess/INFO] 100 cases completed\n",
      "[MainProcess/INFO] 200 cases completed\n",
      "[MainProcess/INFO] 300 cases completed\n",
      "[MainProcess/INFO] 400 cases completed\n",
      "[MainProcess/INFO] 500 cases completed\n",
      "[MainProcess/INFO] 600 cases completed\n",
      "[MainProcess/INFO] 700 cases completed\n",
      "[MainProcess/INFO] 800 cases completed\n",
      "[MainProcess/INFO] 900 cases completed\n",
      "[MainProcess/INFO] 1000 cases completed\n",
      "[MainProcess/INFO] experiments finished\n",
      "[MainProcess/INFO] terminating pool\n"
     ]
    }
   ],
   "source": [
    "from ema_workbench import Policy, ema_logging, MultiprocessingEvaluator, SequentialEvaluator\n",
    "ema_logging.log_to_stderr(ema_logging.INFO)\n",
    "policy = Policy(\"no release\", **{l.name:0 for l in lake_model.levers})\n",
    "n_scenarios = 1000\n",
    "with MultiprocessingEvaluator(lake_model) as evaluator:\n",
    "    experiments, outcomes = evaluator.perform_experiments(n_scenarios, policy)"
   ]
  },
  {
   "cell_type": "code",
   "execution_count": 3,
   "metadata": {},
   "outputs": [],
   "source": [
    "maxp = outcomes['max_P']"
   ]
  },
  {
   "cell_type": "code",
   "execution_count": 27,
   "metadata": {},
   "outputs": [
    {
     "data": {
      "image/png": "[encoded data removed]",
      "text/plain": [
       "<Figure size 432x288 with 1 Axes>"
      ]
     },
     "metadata": {
      "needs_background": "light"
     },
     "output_type": "display_data"
    }
   ],
   "source": [
    "import matplotlib.pyplot as plt\n",
    "import seaborn as sns\n",
    "import altair as alt\n",
    "\n",
    "fig, ax = plt.subplots()\n",
    "sns.distplot(maxp, ax = ax)\n",
    "plt.show()"
   ]
  },
  {
   "cell_type": "code",
   "execution_count": 5,
   "metadata": {},
   "outputs": [
    {
     "data": {
      "text/plain": [
       "227"
      ]
     },
     "execution_count": 5,
     "metadata": {},
     "output_type": "execute_result"
    }
   ],
   "source": [
    "#Example\n",
    "#ID conditions under which we fail: a high max_P is a form of faiulre\n",
    "#lets see whre max pollution is higher than 0.5\n",
    "import numpy as np\n",
    "np.sum(maxp > 0.5)"
   ]
  },
  {
   "cell_type": "code",
   "execution_count": 8,
   "metadata": {},
   "outputs": [
    {
     "name": "stderr",
     "output_type": "stream",
     "text": [
      "[MainProcess/INFO] policy dropped from analysis because only a single category\n",
      "[MainProcess/INFO] model dropped from analysis because only a single category\n",
      "[MainProcess/INFO] 1000 points remaining, containing 227 cases of interest\n",
      "[MainProcess/INFO] mean: 0.923728813559322, mass: 0.118, coverage: 0.4801762114537445, density: 0.923728813559322 restricted_dimensions: 3\n"
     ]
    }
   ],
   "source": [
    "from ema_workbench.analysis import prim\n",
    "x = experiments\n",
    "y = maxp > 0.5\n",
    "\n",
    "# primalf = prim.Prim?\n",
    "\n",
    "primlg = prim.Prim(x, y, threshold = 0.8)\n",
    "box1 = primlg.find_box()"
   ]
  },
  {
   "cell_type": "markdown",
   "metadata": {},
   "source": [
    "### PRIM\n",
    "\n",
    "Aim of PRIM is to find orthogonal subspace that has a high concentratiton of points that we are interested in \n",
    "\n",
    "Makes candidate boxes with concentration of points of interst and chooses the best box (stepwise iterative process)\n",
    "\n",
    "Each of these steps is saved - i.e. peeling trajectory, so you can go back and see them (box1.show_)tradeoff(), plt.show() )\n",
    "\n",
    " --------------------\n",
    " \n",
    "*peel_apha = controls how much data is removed at each step (default is 0.05 - i.e. 5% of data is being removed at the time)\n",
    "BUT, îf you remove a small amount of data, you have less data, so you need  a stopping condition -> controlled by a max/min \n",
    "\n",
    "*max/min = Remove data that you have little to no interest in (default is 0.05 - i.e. 5% of the data is left, which means you can do at most 95 steps assuming everyting else is a continuous variable)\n",
    "\n",
    "*threshold = concetration of cases of interest left in the final box after the interative removing of data (0.08  default - i e. you want a concentration or density of 80% in the final box)\n",
    "^^Note: May need to set a lower threshold because you cannot make a box that meets the threshold critereia\n",
    "\n",
    "*paste_alhpa = Exact opposite of peel alpha (default is 0.05) (after you hit the stopping conditon of min/max PRIM tries to make the box a bit larger by trying to glue back a small bit of data (0.05 deafulty - i e adds 5% of data back))\n",
    "\n",
    "(Note: ^^Can basically forget about past_alpha because it rarely makes a difference)"
   ]
  },
  {
   "cell_type": "code",
   "execution_count": 9,
   "metadata": {},
   "outputs": [
    {
     "data": {
      "image/png": "[encoded data removed]",
      "text/plain": [
       "<Figure size 432x288 with 2 Axes>"
      ]
     },
     "metadata": {
      "needs_background": "light"
     },
     "output_type": "display_data"
    }
   ],
   "source": [
    "#Peeling Trajectory\n",
    "#Each box outcome is saved (peeling trajectory - so we can go back and look at these because they are also saved)\n",
    "box1.show_tradeoff()\n",
    "plt.show()"
   ]
  },
  {
   "cell_type": "code",
   "execution_count": 25,
   "metadata": {},
   "outputs": [
    {
     "name": "stdout",
     "output_type": "stream",
     "text": [
      "coverage    0.612335\n",
      "density     0.827381\n",
      "id                34\n",
      "mass           0.168\n",
      "mean        0.827381\n",
      "res_dim            3\n",
      "Name: 34, dtype: object\n",
      "\n",
      "        box 34                                         \n",
      "           min       max                      qp values\n",
      "b     0.100006  0.201061  [-1.0, 1.240715789098592e-39]\n",
      "q     2.000374  4.138306   [-1.0, 0.042599154343923515]\n",
      "mean  0.023137  0.049973  [4.327111525465287e-07, -1.0]\n",
      "\n"
     ]
    }
   ],
   "source": [
    "#Inspect different points on the peeling trajectory to see the perfect balanace of tradeoffs (i.e. use box1.inspect(candiate box number))\n",
    "#Example\n",
    "box1.inspect(34)\n",
    "\n",
    "#Note -1 on left hand means no restriction on lower end, and -1 on right hand means no restriction on higher end"
   ]
  },
  {
   "cell_type": "code",
   "execution_count": 13,
   "metadata": {},
   "outputs": [
    {
     "data": {
      "image/png": "[encoded data removed]",
      "text/plain": [
       "<Figure size 432x288 with 1 Axes>"
      ]
     },
     "metadata": {
      "needs_background": "light"
     },
     "output_type": "display_data"
    }
   ],
   "source": [
    "#Note, same info as box1.inspect() above, just a different visualisation\n",
    "box1.inspect(34, style = 'graph')\n",
    "plt.show()\n",
    "\n",
    "#Note, p-values greater than 0.05 are not statisticall significant"
   ]
  },
  {
   "cell_type": "code",
   "execution_count": 26,
   "metadata": {},
   "outputs": [
    {
     "data": {
      "image/png": "[encoded data removed]",
      "text/plain": [
       "<Figure size 432x288 with 1 Axes>"
      ]
     },
     "metadata": {
      "needs_background": "light"
     },
     "output_type": "display_data"
    }
   ],
   "source": [
    "#Note: For final box, put no number in for candidate box (i.e. for me, last box is 43)\n",
    "box1.inspect(style = 'graph')\n",
    "plt.show()"
   ]
  },
  {
   "cell_type": "code",
   "execution_count": 28,
   "metadata": {},
   "outputs": [
    {
     "data": {
      "text/html": [
       "\n",
       "<div id=\"altair-viz-6cec38388f344820b450233f73254a3b\"></div>\n",
       "<script type=\"text/javascript\">\n",
       "  (function(spec, embedOpt){\n",
       "    let outputDiv = document.currentScript.previousElementSibling;\n",
       "    if (outputDiv.id !== \"altair-viz-6cec38388f344820b450233f73254a3b\") {\n",
       "      outputDiv = document.getElementById(\"altair-viz-6cec38388f344820b450233f73254a3b\");\n",
       "    }\n",
       "    const paths = {\n",
       "      \"vega\": \"https://cdn.jsdelivr.net/npm//vega@5?noext\",\n",
       "      \"vega-lib\": \"https://cdn.jsdelivr.net/npm//vega-lib?noext\",\n",
       "      \"vega-lite\": \"https://cdn.jsdelivr.net/npm//vega-lite@4.8.1?noext\",\n",
       "      \"vega-embed\": \"https://cdn.jsdelivr.net/npm//vega-embed@6?noext\",\n",
       "    };\n",
       "\n",
       "    function loadScript(lib) {\n",
       "      return new Promise(function(resolve, reject) {\n",
       "        var s = document.createElement('script');\n",
       "        s.src = paths[lib];\n",
       "        s.async = true;\n",
       "        s.onload = () => resolve(paths[lib]);\n",
       "        s.onerror = () => reject(`Error loading script: ${paths[lib]}`);\n",
       "        document.getElementsByTagName(\"head\")[0].appendChild(s);\n",
       "      });\n",
       "    }\n",
       "\n",
       "    function showError(err) {\n",
       "      outputDiv.innerHTML = `<div class=\"error\" style=\"color:red;\">${err}</div>`;\n",
       "      throw err;\n",
       "    }\n",
       "\n",
       "    function displayChart(vegaEmbed) {\n",
       "      vegaEmbed(outputDiv, spec, embedOpt)\n",
       "        .catch(err => showError(`Javascript Error: ${err.message}<br>This usually means there's a typo in your chart specification. See the javascript console for the full traceback.`));\n",
       "    }\n",
       "\n",
       "    if(typeof define === \"function\" && define.amd) {\n",
       "      requirejs.config({paths});\n",
       "      require([\"vega-embed\"], displayChart, err => showError(`Error loading script: ${err.message}`));\n",
       "    } else if (typeof vegaEmbed === \"function\") {\n",
       "      displayChart(vegaEmbed);\n",
       "    } else {\n",
       "      loadScript(\"vega\")\n",
       "        .then(() => loadScript(\"vega-lite\"))\n",
       "        .then(() => loadScript(\"vega-embed\"))\n",
       "        .catch(showError)\n",
       "        .then(() => displayChart(vegaEmbed));\n",
       "    }\n",
       "  })({\"config\": {\"view\": {\"continuousWidth\": 400, \"continuousHeight\": 300}}, \"vconcat\": [{\"data\": {\"name\": \"data-680a3835b1c189b086c26e9a03b91b8b\"}, \"mark\": {\"type\": \"circle\", \"size\": 75}, \"encoding\": {\"color\": {\"type\": \"ordinal\", \"field\": \"res_dim\", \"scale\": {\"range\": [\"#eff9b6\", \"#d0edb3\", \"#97d6b9\", \"#5dc0c0\", \"#31a5c2\", \"#1f80b8\", \"#2354a3\", \"#21318d\"]}}, \"opacity\": {\"condition\": {\"value\": 1, \"selection\": \"selector001\"}, \"value\": 0.4}, \"tooltip\": [{\"type\": \"ordinal\", \"field\": \"id\"}, {\"type\": \"quantitative\", \"field\": \"coverage\", \"format\": \".2\"}, {\"type\": \"quantitative\", \"field\": \"density\", \"format\": \".2\"}, {\"type\": \"ordinal\", \"field\": \"res_dim\"}], \"x\": {\"type\": \"quantitative\", \"field\": \"coverage\"}, \"y\": {\"type\": \"quantitative\", \"field\": \"density\"}}, \"height\": 400, \"selection\": {\"selector001\": {\"type\": \"single\", \"fields\": [\"id\"]}}, \"width\": 400}, {\"layer\": [{\"data\": {\"name\": \"data-8a77354323b2b39b61d335556e3e88bd\"}, \"mark\": \"rule\", \"encoding\": {\"x\": {\"type\": \"quantitative\", \"axis\": {\"grid\": false, \"labels\": false, \"title\": \"box limits\"}, \"field\": \"x_lower\", \"scale\": {\"domain\": [0, 1], \"padding\": 0.1}}, \"x2\": {\"field\": \"x_upper\"}, \"y\": {\"type\": \"nominal\", \"field\": \"name\", \"scale\": {\"padding\": 1.0}}}, \"transform\": [{\"calculate\": \"(datum.x1-datum.minimum)/(datum.maximum-datum.minimum)\", \"as\": \"x_lower\"}, {\"calculate\": \"(datum.x2-datum.minimum)/(datum.maximum-datum.minimum)\", \"as\": \"x_upper\"}, {\"filter\": {\"selection\": \"selector001\"}}], \"width\": 400}, {\"data\": {\"name\": \"data-8a77354323b2b39b61d335556e3e88bd\"}, \"mark\": {\"type\": \"text\", \"align\": \"left\", \"baseline\": \"top\", \"dy\": 5}, \"encoding\": {\"text\": {\"type\": \"ordinal\", \"field\": \"text\"}, \"x\": {\"type\": \"quantitative\", \"axis\": {\"grid\": false, \"labels\": false, \"title\": \"box limits\"}, \"field\": \"x_lower\", \"scale\": {\"domain\": [0, 1], \"padding\": 0.1}}, \"x2\": {\"field\": \"x_upper\"}, \"y\": {\"type\": \"nominal\", \"field\": \"name\", \"scale\": {\"padding\": 1.0}}}, \"transform\": [{\"calculate\": \"(datum.x1-datum.minimum)/(datum.maximum-datum.minimum)\", \"as\": \"x_lower\"}, {\"calculate\": \"(datum.x2-datum.minimum)/(datum.maximum-datum.minimum)\", \"as\": \"x_upper\"}, {\"filter\": {\"selection\": \"selector001\"}}, {\"calculate\": \"datum.qp_lower>0?format(datum.x1, \\\".2\\\")+\\\" (\\\"+format(datum.qp_lower, \\\".1~g\\\")+\\\")\\\" :format(datum.x1, \\\".2\\\")\", \"as\": \"text\"}], \"width\": 400}, {\"data\": {\"name\": \"data-8a77354323b2b39b61d335556e3e88bd\"}, \"mark\": {\"type\": \"text\", \"align\": \"right\", \"baseline\": \"top\", \"dy\": 5}, \"encoding\": {\"text\": {\"type\": \"ordinal\", \"field\": \"text\"}, \"x\": {\"type\": \"quantitative\", \"field\": \"x_upper\"}, \"x2\": {\"field\": \"x_upper\"}, \"y\": {\"type\": \"nominal\", \"field\": \"name\", \"scale\": {\"padding\": 1.0}}}, \"transform\": [{\"calculate\": \"(datum.x1-datum.minimum)/(datum.maximum-datum.minimum)\", \"as\": \"x_lower\"}, {\"calculate\": \"(datum.x2-datum.minimum)/(datum.maximum-datum.minimum)\", \"as\": \"x_upper\"}, {\"filter\": {\"selection\": \"selector001\"}}, {\"calculate\": \"datum.qp_upper>0?format(datum.x2, \\\".2\\\")+\\\" (\\\"+format(datum.qp_upper, \\\".1\\\")+\\\")\\\" :format(datum.x2, \\\".2\\\")\", \"as\": \"text\"}], \"width\": 400}, {\"data\": {\"name\": \"data-bb8d07f6df3d47a6a475317795287b23\"}, \"mark\": {\"type\": \"rect\", \"opacity\": 0.05}, \"encoding\": {\"x\": {\"type\": \"quantitative\", \"field\": \"start\"}, \"x2\": {\"field\": \"end\"}}}, {\"data\": {\"name\": \"data-d751713988987e9331980363e24189ce\"}, \"mark\": \"point\", \"encoding\": {\"x\": {\"type\": \"quantitative\", \"field\": \"x\"}, \"y\": {\"type\": \"nominal\", \"field\": \"name\"}}, \"transform\": [{\"filter\": {\"selection\": \"selector001\"}}], \"width\": 400}, {\"data\": {\"name\": \"data-d751713988987e9331980363e24189ce\"}, \"mark\": {\"type\": \"text\", \"align\": \"center\", \"baseline\": \"top\", \"dy\": 5}, \"encoding\": {\"text\": {\"type\": \"nominal\", \"field\": \"item\"}, \"x\": {\"type\": \"quantitative\", \"field\": \"x\"}, \"y\": {\"type\": \"nominal\", \"field\": \"name\"}}, \"transform\": [{\"filter\": {\"selection\": \"selector001\"}}], \"width\": 400}]}], \"$schema\": \"https://vega.github.io/schema/vega-lite/v4.8.1.json\", \"datasets\": {\"data-680a3835b1c189b086c26e9a03b91b8b\": [{\"coverage\": 1.0, \"density\": 0.227, \"id\": 0, \"mass\": 1.0, \"mean\": 0.227, \"res_dim\": 0}, {\"coverage\": 1.0, \"density\": 0.23894736842105263, \"id\": 1, \"mass\": 0.95, \"mean\": 0.23894736842105263, \"res_dim\": 1}, {\"coverage\": 1.0, \"density\": 0.2516629711751663, \"id\": 2, \"mass\": 0.902, \"mean\": 0.2516629711751663, \"res_dim\": 1}, {\"coverage\": 1.0, \"density\": 0.2651869158878505, \"id\": 3, \"mass\": 0.856, \"mean\": 0.2651869158878505, \"res_dim\": 1}, {\"coverage\": 1.0, \"density\": 0.27921279212792127, \"id\": 4, \"mass\": 0.813, \"mean\": 0.27921279212792127, \"res_dim\": 1}, {\"coverage\": 0.9955947136563876, \"density\": 0.2927461139896373, \"id\": 5, \"mass\": 0.772, \"mean\": 0.2927461139896373, \"res_dim\": 1}, {\"coverage\": 0.9911894273127754, \"density\": 0.3069577080491132, \"id\": 6, \"mass\": 0.733, \"mean\": 0.3069577080491132, \"res_dim\": 1}, {\"coverage\": 0.9911894273127754, \"density\": 0.3232758620689655, \"id\": 7, \"mass\": 0.696, \"mean\": 0.3232758620689655, \"res_dim\": 1}, {\"coverage\": 0.9911894273127754, \"density\": 0.340393343419062, \"id\": 8, \"mass\": 0.661, \"mean\": 0.340393343419062, \"res_dim\": 1}, {\"coverage\": 0.986784140969163, \"density\": 0.3572567783094099, \"id\": 9, \"mass\": 0.627, \"mean\": 0.3572567783094099, \"res_dim\": 1}, {\"coverage\": 0.9779735682819384, \"density\": 0.373109243697479, \"id\": 10, \"mass\": 0.595, \"mean\": 0.373109243697479, \"res_dim\": 1}, {\"coverage\": 0.9779735682819384, \"density\": 0.3929203539823009, \"id\": 11, \"mass\": 0.565, \"mean\": 0.3929203539823009, \"res_dim\": 1}, {\"coverage\": 0.9691629955947136, \"density\": 0.41044776119402987, \"id\": 12, \"mass\": 0.536, \"mean\": 0.41044776119402987, \"res_dim\": 2}, {\"coverage\": 0.960352422907489, \"density\": 0.42829076620825146, \"id\": 13, \"mass\": 0.509, \"mean\": 0.42829076620825146, \"res_dim\": 3}, {\"coverage\": 0.947136563876652, \"density\": 0.4451345755693582, \"id\": 14, \"mass\": 0.483, \"mean\": 0.4451345755693582, \"res_dim\": 3}, {\"coverage\": 0.947136563876652, \"density\": 0.46943231441048033, \"id\": 15, \"mass\": 0.458, \"mean\": 0.46943231441048033, \"res_dim\": 3}, {\"coverage\": 0.933920704845815, \"density\": 0.48735632183908045, \"id\": 16, \"mass\": 0.435, \"mean\": 0.48735632183908045, \"res_dim\": 3}, {\"coverage\": 0.9162995594713657, \"density\": 0.5036319612590799, \"id\": 17, \"mass\": 0.413, \"mean\": 0.5036319612590799, \"res_dim\": 3}, {\"coverage\": 0.9030837004405287, \"density\": 0.5229591836734694, \"id\": 18, \"mass\": 0.392, \"mean\": 0.5229591836734694, \"res_dim\": 3}, {\"coverage\": 0.8810572687224669, \"density\": 0.5376344086021505, \"id\": 19, \"mass\": 0.372, \"mean\": 0.5376344086021505, \"res_dim\": 3}, {\"coverage\": 0.8590308370044053, \"density\": 0.5524079320113314, \"id\": 20, \"mass\": 0.353, \"mean\": 0.5524079320113314, \"res_dim\": 3}, {\"coverage\": 0.8590308370044053, \"density\": 0.582089552238806, \"id\": 21, \"mass\": 0.335, \"mean\": 0.582089552238806, \"res_dim\": 3}, {\"coverage\": 0.8370044052863436, \"density\": 0.5974842767295597, \"id\": 22, \"mass\": 0.318, \"mean\": 0.5974842767295597, \"res_dim\": 3}, {\"coverage\": 0.8325991189427313, \"density\": 0.6258278145695364, \"id\": 23, \"mass\": 0.302, \"mean\": 0.6258278145695364, \"res_dim\": 3}, {\"coverage\": 0.8149779735682819, \"density\": 0.6468531468531469, \"id\": 24, \"mass\": 0.286, \"mean\": 0.6468531468531469, \"res_dim\": 3}, {\"coverage\": 0.7929515418502202, \"density\": 0.6642066420664207, \"id\": 25, \"mass\": 0.271, \"mean\": 0.6642066420664207, \"res_dim\": 3}, {\"coverage\": 0.7665198237885462, \"density\": 0.6770428015564203, \"id\": 26, \"mass\": 0.257, \"mean\": 0.6770428015564203, \"res_dim\": 3}, {\"coverage\": 0.7577092511013216, \"density\": 0.7049180327868853, \"id\": 27, \"mass\": 0.244, \"mean\": 0.7049180327868853, \"res_dim\": 3}, {\"coverage\": 0.7400881057268722, \"density\": 0.7272727272727273, \"id\": 28, \"mass\": 0.231, \"mean\": 0.7272727272727273, \"res_dim\": 3}, {\"coverage\": 0.7224669603524229, \"density\": 0.7488584474885844, \"id\": 29, \"mass\": 0.219, \"mean\": 0.7488584474885844, \"res_dim\": 3}, {\"coverage\": 0.7092511013215859, \"density\": 0.7740384615384616, \"id\": 30, \"mass\": 0.208, \"mean\": 0.7740384615384616, \"res_dim\": 3}, {\"coverage\": 0.6872246696035242, \"density\": 0.7918781725888325, \"id\": 31, \"mass\": 0.197, \"mean\": 0.7918781725888325, \"res_dim\": 3}, {\"coverage\": 0.6607929515418502, \"density\": 0.8021390374331551, \"id\": 32, \"mass\": 0.187, \"mean\": 0.8021390374331551, \"res_dim\": 3}, {\"coverage\": 0.6343612334801763, \"density\": 0.8135593220338984, \"id\": 33, \"mass\": 0.177, \"mean\": 0.8135593220338984, \"res_dim\": 3}, {\"coverage\": 0.6123348017621145, \"density\": 0.8273809523809523, \"id\": 34, \"mass\": 0.168, \"mean\": 0.8273809523809523, \"res_dim\": 3}, {\"coverage\": 0.5991189427312775, \"density\": 0.8553459119496856, \"id\": 35, \"mass\": 0.159, \"mean\": 0.8553459119496856, \"res_dim\": 3}, {\"coverage\": 0.5726872246696035, \"density\": 0.8609271523178808, \"id\": 36, \"mass\": 0.151, \"mean\": 0.8609271523178808, \"res_dim\": 3}, {\"coverage\": 0.5550660792951542, \"density\": 0.8811188811188811, \"id\": 37, \"mass\": 0.143, \"mean\": 0.8811188811188811, \"res_dim\": 3}, {\"coverage\": 0.5286343612334802, \"density\": 0.8888888888888888, \"id\": 38, \"mass\": 0.135, \"mean\": 0.8888888888888888, \"res_dim\": 3}, {\"coverage\": 0.5110132158590308, \"density\": 0.90625, \"id\": 39, \"mass\": 0.128, \"mean\": 0.90625, \"res_dim\": 3}, {\"coverage\": 0.4889867841409692, \"density\": 0.9173553719008265, \"id\": 40, \"mass\": 0.121, \"mean\": 0.9173553719008265, \"res_dim\": 3}, {\"coverage\": 0.46255506607929514, \"density\": 0.9210526315789473, \"id\": 41, \"mass\": 0.114, \"mean\": 0.9210526315789473, \"res_dim\": 3}, {\"coverage\": 0.4669603524229075, \"density\": 0.9217391304347826, \"id\": 42, \"mass\": 0.115, \"mean\": 0.9217391304347826, \"res_dim\": 3}, {\"coverage\": 0.4801762114537445, \"density\": 0.923728813559322, \"id\": 43, \"mass\": 0.118, \"mean\": 0.923728813559322, \"res_dim\": 3}], \"data-8a77354323b2b39b61d335556e3e88bd\": [{\"x1\": 0.1000059813444219, \"x2\": 0.4324537381032456, \"name\": \"b\", \"id\": 1, \"minimum\": 0.1000059813444219, \"maximum\": 0.44966594412764616, \"qp_lower\": -1.0, \"qp_upper\": 0.19976973555540609}, {\"x1\": 0.1000059813444219, \"x2\": 0.41574409926682226, \"name\": \"b\", \"id\": 2, \"minimum\": 0.1000059813444219, \"maximum\": 0.44966594412764616, \"qp_lower\": -1.0, \"qp_upper\": 0.04317326016103191}, {\"x1\": 0.1000059813444219, \"x2\": 0.39953148728323146, \"name\": \"b\", \"id\": 3, \"minimum\": 0.1000059813444219, \"maximum\": 0.44966594412764616, \"qp_lower\": -1.0, \"qp_upper\": 0.004853204225472908}, {\"x1\": 0.1000059813444219, \"x2\": 0.38447463907007945, \"name\": \"b\", \"id\": 4, \"minimum\": 0.1000059813444219, \"maximum\": 0.44966594412764616, \"qp_lower\": -1.0, \"qp_upper\": 0.0002964183752810915}, {\"x1\": 0.1000059813444219, \"x2\": 0.3701099851943137, \"name\": \"b\", \"id\": 5, \"minimum\": 0.1000059813444219, \"maximum\": 0.44966594412764616, \"qp_lower\": -1.0, \"qp_upper\": 1.3487107184536557e-05}, {\"x1\": 0.1000059813444219, \"x2\": 0.3564681512551925, \"name\": \"b\", \"id\": 6, \"minimum\": 0.1000059813444219, \"maximum\": 0.44966594412764616, \"qp_lower\": -1.0, \"qp_upper\": 3.6791385100036513e-07}, {\"x1\": 0.1000059813444219, \"x2\": 0.343571462485334, \"name\": \"b\", \"id\": 7, \"minimum\": 0.1000059813444219, \"maximum\": 0.44966594412764616, \"qp_lower\": -1.0, \"qp_upper\": 3.754092005875621e-09}, {\"x1\": 0.1000059813444219, \"x2\": 0.3313832853390413, \"name\": \"b\", \"id\": 8, \"minimum\": 0.1000059813444219, \"maximum\": 0.44966594412764616, \"qp_lower\": -1.0, \"qp_upper\": 2.096006353082855e-11}, {\"x1\": 0.1000059813444219, \"x2\": 0.31957535400885473, \"name\": \"b\", \"id\": 9, \"minimum\": 0.1000059813444219, \"maximum\": 0.44966594412764616, \"qp_lower\": -1.0, \"qp_upper\": 1.0510744997937703e-13}, {\"x1\": 0.1000059813444219, \"x2\": 0.3081702611511661, \"name\": \"b\", \"id\": 10, \"minimum\": 0.1000059813444219, \"maximum\": 0.44966594412764616, \"qp_lower\": -1.0, \"qp_upper\": 7.049089156748105e-16}, {\"x1\": 0.1000059813444219, \"x2\": 0.2976336023103028, \"name\": \"b\", \"id\": 11, \"minimum\": 0.1000059813444219, \"maximum\": 0.44966594412764616, \"qp_lower\": -1.0, \"qp_upper\": 7.748306181148105e-19}, {\"x1\": 0.1000059813444219, \"x2\": 0.2976336023103028, \"name\": \"b\", \"id\": 12, \"minimum\": 0.1000059813444219, \"maximum\": 0.44966594412764616, \"qp_lower\": -1.0, \"qp_upper\": 2.8667516389217397e-19}, {\"x1\": 0.01185076588391987, \"x2\": 0.04997296380019461, \"name\": \"mean\", \"id\": 12, \"minimum\": 0.010029656680151443, \"maximum\": 0.04997296380019461, \"qp_lower\": 0.21540735183101337, \"qp_upper\": -1.0}, {\"x1\": 0.1000059813444219, \"x2\": 0.2976336023103028, \"name\": \"b\", \"id\": 13, \"minimum\": 0.1000059813444219, \"maximum\": 0.44966594412764616, \"qp_lower\": -1.0, \"qp_upper\": 2.681876744822715e-19}, {\"x1\": 0.01185076588391987, \"x2\": 0.04997296380019461, \"name\": \"mean\", \"id\": 13, \"minimum\": 0.010029656680151443, \"maximum\": 0.04997296380019461, \"qp_lower\": 0.2091204078814524, \"qp_upper\": -1.0}, {\"x1\": 2.000374089339239, \"x2\": 4.367795883116377, \"name\": \"q\", \"id\": 13, \"minimum\": 2.000374089339239, \"maximum\": 4.49764233550658, \"qp_lower\": -1.0, \"qp_upper\": 0.21936840985595757}, {\"x1\": 0.1000059813444219, \"x2\": 0.28807605133692055, \"name\": \"b\", \"id\": 14, \"minimum\": 0.1000059813444219, \"maximum\": 0.44966594412764616, \"qp_lower\": -1.0, \"qp_upper\": 1.8148369155252227e-21}, {\"x1\": 0.01185076588391987, \"x2\": 0.04997296380019461, \"name\": \"mean\", \"id\": 14, \"minimum\": 0.010029656680151443, \"maximum\": 0.04997296380019461, \"qp_lower\": 0.21457751528174962, \"qp_upper\": -1.0}, {\"x1\": 2.000374089339239, \"x2\": 4.367795883116377, \"name\": \"q\", \"id\": 14, \"minimum\": 2.000374089339239, \"maximum\": 4.49764233550658, \"qp_lower\": -1.0, \"qp_upper\": 0.20387060893219291}, {\"x1\": 0.1000059813444219, \"x2\": 0.278642697395799, \"name\": \"b\", \"id\": 15, \"minimum\": 0.1000059813444219, \"maximum\": 0.44966594412764616, \"qp_lower\": -1.0, \"qp_upper\": 4.845347876028241e-25}, {\"x1\": 0.01185076588391987, \"x2\": 0.04997296380019461, \"name\": \"mean\", \"id\": 15, \"minimum\": 0.010029656680151443, \"maximum\": 0.04997296380019461, \"qp_lower\": 0.19468928568945174, \"qp_upper\": -1.0}, {\"x1\": 2.000374089339239, \"x2\": 4.367795883116377, \"name\": \"q\", \"id\": 15, \"minimum\": 2.000374089339239, \"maximum\": 4.49764233550658, \"qp_lower\": -1.0, \"qp_upper\": 0.20589907149718828}, {\"x1\": 0.1000059813444219, \"x2\": 0.278642697395799, \"name\": \"b\", \"id\": 16, \"minimum\": 0.1000059813444219, \"maximum\": 0.44966594412764616, \"qp_lower\": -1.0, \"qp_upper\": 1.4027502860508444e-24}, {\"x1\": 0.01185076588391987, \"x2\": 0.04997296380019461, \"name\": \"mean\", \"id\": 16, \"minimum\": 0.010029656680151443, \"maximum\": 0.04997296380019461, \"qp_lower\": 0.19000261623071463, \"qp_upper\": -1.0}, {\"x1\": 2.000374089339239, \"x2\": 4.229744934730547, \"name\": \"q\", \"id\": 16, \"minimum\": 2.000374089339239, \"maximum\": 4.49764233550658, \"qp_lower\": -1.0, \"qp_upper\": 0.060970749313197806}, {\"x1\": 0.1000059813444219, \"x2\": 0.26938102293410826, \"name\": \"b\", \"id\": 17, \"minimum\": 0.1000059813444219, \"maximum\": 0.44966594412764616, \"qp_lower\": -1.0, \"qp_upper\": 1.8367659543462154e-26}, {\"x1\": 0.01185076588391987, \"x2\": 0.04997296380019461, \"name\": \"mean\", \"id\": 17, \"minimum\": 0.010029656680151443, \"maximum\": 0.04997296380019461, \"qp_lower\": 0.18679820249859772, \"qp_upper\": -1.0}, {\"x1\": 2.000374089339239, \"x2\": 4.229744934730547, \"name\": \"q\", \"id\": 17, \"minimum\": 2.000374089339239, \"maximum\": 4.49764233550658, \"qp_lower\": -1.0, \"qp_upper\": 0.06413800219765857}, {\"x1\": 0.1000059813444219, \"x2\": 0.26938102293410826, \"name\": \"b\", \"id\": 18, \"minimum\": 0.1000059813444219, \"maximum\": 0.44966594412764616, \"qp_lower\": -1.0, \"qp_upper\": 5.2386977503543696e-27}, {\"x1\": 0.01185076588391987, \"x2\": 0.04997296380019461, \"name\": \"mean\", \"id\": 18, \"minimum\": 0.010029656680151443, \"maximum\": 0.04997296380019461, \"qp_lower\": 0.17008826385217762, \"qp_upper\": -1.0}, {\"x1\": 2.000374089339239, \"x2\": 4.138306241838218, \"name\": \"q\", \"id\": 18, \"minimum\": 2.000374089339239, \"maximum\": 4.49764233550658, \"qp_lower\": -1.0, \"qp_upper\": 0.012396071361368515}, {\"x1\": 0.1000059813444219, \"x2\": 0.2605935299788101, \"name\": \"b\", \"id\": 19, \"minimum\": 0.1000059813444219, \"maximum\": 0.44966594412764616, \"qp_lower\": -1.0, \"qp_upper\": 2.045584019739784e-28}, {\"x1\": 0.01185076588391987, \"x2\": 0.04997296380019461, \"name\": \"mean\", \"id\": 19, \"minimum\": 0.010029656680151443, \"maximum\": 0.04997296380019461, \"qp_lower\": 0.19484024570316452, \"qp_upper\": -1.0}, {\"x1\": 2.000374089339239, \"x2\": 4.138306241838218, \"name\": \"q\", \"id\": 19, \"minimum\": 2.000374089339239, \"maximum\": 4.49764233550658, \"qp_lower\": -1.0, \"qp_upper\": 0.011131754911702815}, {\"x1\": 0.1000059813444219, \"x2\": 0.2605935299788101, \"name\": \"b\", \"id\": 20, \"minimum\": 0.1000059813444219, \"maximum\": 0.44966594412764616, \"qp_lower\": -1.0, \"qp_upper\": 6.366945523834215e-28}, {\"x1\": 0.01388590227357266, \"x2\": 0.04997296380019461, \"name\": \"mean\", \"id\": 20, \"minimum\": 0.010029656680151443, \"maximum\": 0.04997296380019461, \"qp_lower\": 0.08203336766983972, \"qp_upper\": -1.0}, {\"x1\": 2.000374089339239, \"x2\": 4.138306241838218, \"name\": \"q\", \"id\": 20, \"minimum\": 2.000374089339239, \"maximum\": 4.49764233550658, \"qp_lower\": -1.0, \"qp_upper\": 0.012683688133439187}, {\"x1\": 0.1000059813444219, \"x2\": 0.2605935299788101, \"name\": \"b\", \"id\": 21, \"minimum\": 0.1000059813444219, \"maximum\": 0.44966594412764616, \"qp_lower\": -1.0, \"qp_upper\": 5.881198903860274e-29}, {\"x1\": 0.01556127116978773, \"x2\": 0.04997296380019461, \"name\": \"mean\", \"id\": 21, \"minimum\": 0.010029656680151443, \"maximum\": 0.04997296380019461, \"qp_lower\": 0.007251227832758471, \"qp_upper\": -1.0}, {\"x1\": 2.000374089339239, \"x2\": 4.138306241838218, \"name\": \"q\", \"id\": 21, \"minimum\": 2.000374089339239, \"maximum\": 4.49764233550658, \"qp_lower\": -1.0, \"qp_upper\": 0.012066935879791196}, {\"x1\": 0.1000059813444219, \"x2\": 0.2605935299788101, \"name\": \"b\", \"id\": 22, \"minimum\": 0.1000059813444219, \"maximum\": 0.44966594412764616, \"qp_lower\": -1.0, \"qp_upper\": 2.885778387519929e-28}, {\"x1\": 0.017432191812902217, \"x2\": 0.04997296380019461, \"name\": \"mean\", \"id\": 22, \"minimum\": 0.010029656680151443, \"maximum\": 0.04997296380019461, \"qp_lower\": 0.0016807882103101726, \"qp_upper\": -1.0}, {\"x1\": 2.000374089339239, \"x2\": 4.138306241838218, \"name\": \"q\", \"id\": 22, \"minimum\": 2.000374089339239, \"maximum\": 4.49764233550658, \"qp_lower\": -1.0, \"qp_upper\": 0.012824343366648554}, {\"x1\": 0.1000059813444219, \"x2\": 0.2605935299788101, \"name\": \"b\", \"id\": 23, \"minimum\": 0.1000059813444219, \"maximum\": 0.44966594412764616, \"qp_lower\": -1.0, \"qp_upper\": 2.562145992389193e-29}, {\"x1\": 0.01904581420213286, \"x2\": 0.04997296380019461, \"name\": \"mean\", \"id\": 23, \"minimum\": 0.010029656680151443, \"maximum\": 0.04997296380019461, \"qp_lower\": 5.8303027005484783e-05, \"qp_upper\": -1.0}, {\"x1\": 2.000374089339239, \"x2\": 4.138306241838218, \"name\": \"q\", \"id\": 23, \"minimum\": 2.000374089339239, \"maximum\": 4.49764233550658, \"qp_lower\": -1.0, \"qp_upper\": 0.015414310137116206}, {\"x1\": 0.1000059813444219, \"x2\": 0.2605935299788101, \"name\": \"b\", \"id\": 24, \"minimum\": 0.1000059813444219, \"maximum\": 0.44966594412764616, \"qp_lower\": -1.0, \"qp_upper\": 7.04559742837001e-30}, {\"x1\": 0.02041398637605486, \"x2\": 0.04997296380019461, \"name\": \"mean\", \"id\": 24, \"minimum\": 0.010029656680151443, \"maximum\": 0.04997296380019461, \"qp_lower\": 3.877758898967486e-06, \"qp_upper\": -1.0}, {\"x1\": 2.000374089339239, \"x2\": 4.138306241838218, \"name\": \"q\", \"id\": 24, \"minimum\": 2.000374089339239, \"maximum\": 4.49764233550658, \"qp_lower\": -1.0, \"qp_upper\": 0.013853241122341948}, {\"x1\": 0.1000059813444219, \"x2\": 0.2605935299788101, \"name\": \"b\", \"id\": 25, \"minimum\": 0.1000059813444219, \"maximum\": 0.44966594412764616, \"qp_lower\": -1.0, \"qp_upper\": 1.8604844346457613e-30}, {\"x1\": 0.021577656168953074, \"x2\": 0.04997296380019461, \"name\": \"mean\", \"id\": 25, \"minimum\": 0.010029656680151443, \"maximum\": 0.04997296380019461, \"qp_lower\": 3.986863010254943e-07, \"qp_upper\": -1.0}, {\"x1\": 2.000374089339239, \"x2\": 4.138306241838218, \"name\": \"q\", \"id\": 25, \"minimum\": 2.000374089339239, \"maximum\": 4.49764233550658, \"qp_lower\": -1.0, \"qp_upper\": 0.013281937969688422}, {\"x1\": 0.1000059813444219, \"x2\": 0.2530503784382154, \"name\": \"b\", \"id\": 26, \"minimum\": 0.1000059813444219, \"maximum\": 0.44966594412764616, \"qp_lower\": -1.0, \"qp_upper\": 4.756846730723054e-31}, {\"x1\": 0.021577656168953074, \"x2\": 0.04997296380019461, \"name\": \"mean\", \"id\": 26, \"minimum\": 0.010029656680151443, \"maximum\": 0.04997296380019461, \"qp_lower\": 2.90917741065232e-07, \"qp_upper\": -1.0}, {\"x1\": 2.000374089339239, \"x2\": 4.138306241838218, \"name\": \"q\", \"id\": 26, \"minimum\": 2.000374089339239, \"maximum\": 4.49764233550658, \"qp_lower\": -1.0, \"qp_upper\": 0.019291020716139955}, {\"x1\": 0.1000059813444219, \"x2\": 0.2455590373451147, \"name\": \"b\", \"id\": 27, \"minimum\": 0.1000059813444219, \"maximum\": 0.44966594412764616, \"qp_lower\": -1.0, \"qp_upper\": 3.99868866799362e-34}, {\"x1\": 0.021577656168953074, \"x2\": 0.04997296380019461, \"name\": \"mean\", \"id\": 27, \"minimum\": 0.010029656680151443, \"maximum\": 0.04997296380019461, \"qp_lower\": 2.2752627334645774e-07, \"qp_upper\": -1.0}, {\"x1\": 2.000374089339239, \"x2\": 4.138306241838218, \"name\": \"q\", \"id\": 27, \"minimum\": 2.000374089339239, \"maximum\": 4.49764233550658, \"qp_lower\": -1.0, \"qp_upper\": 0.011679945292675435}, {\"x1\": 0.1000059813444219, \"x2\": 0.23636630898549338, \"name\": \"b\", \"id\": 28, \"minimum\": 0.1000059813444219, \"maximum\": 0.44966594412764616, \"qp_lower\": -1.0, \"qp_upper\": 3.988317988305286e-36}, {\"x1\": 0.021577656168953074, \"x2\": 0.04997296380019461, \"name\": \"mean\", \"id\": 28, \"minimum\": 0.010029656680151443, \"maximum\": 0.04997296380019461, \"qp_lower\": 3.535449288194625e-07, \"qp_upper\": -1.0}, {\"x1\": 2.000374089339239, \"x2\": 4.138306241838218, \"name\": \"q\", \"id\": 28, \"minimum\": 2.000374089339239, \"maximum\": 4.49764233550658, \"qp_lower\": -1.0, \"qp_upper\": 0.013161957614077712}, {\"x1\": 0.1000059813444219, \"x2\": 0.22947760640249737, \"name\": \"b\", \"id\": 29, \"minimum\": 0.1000059813444219, \"maximum\": 0.44966594412764616, \"qp_lower\": -1.0, \"qp_upper\": 5.641442013614302e-38}, {\"x1\": 0.021577656168953074, \"x2\": 0.04997296380019461, \"name\": \"mean\", \"id\": 29, \"minimum\": 0.010029656680151443, \"maximum\": 0.04997296380019461, \"qp_lower\": 6.678021178855648e-07, \"qp_upper\": -1.0}, {\"x1\": 2.000374089339239, \"x2\": 4.138306241838218, \"name\": \"q\", \"id\": 29, \"minimum\": 2.000374089339239, \"maximum\": 4.49764233550658, \"qp_lower\": -1.0, \"qp_upper\": 0.008225201967037465}, {\"x1\": 0.1000059813444219, \"x2\": 0.22312062233498148, \"name\": \"b\", \"id\": 30, \"minimum\": 0.1000059813444219, \"maximum\": 0.44966594412764616, \"qp_lower\": -1.0, \"qp_upper\": 1.830864227224351e-40}, {\"x1\": 0.021577656168953074, \"x2\": 0.04997296380019461, \"name\": \"mean\", \"id\": 30, \"minimum\": 0.010029656680151443, \"maximum\": 0.04997296380019461, \"qp_lower\": 2.709279595311708e-07, \"qp_upper\": -1.0}, {\"x1\": 2.000374089339239, \"x2\": 4.138306241838218, \"name\": \"q\", \"id\": 30, \"minimum\": 2.000374089339239, \"maximum\": 4.49764233550658, \"qp_lower\": -1.0, \"qp_upper\": 0.011766226335688985}, {\"x1\": 0.1000059813444219, \"x2\": 0.22312062233498148, \"name\": \"b\", \"id\": 31, \"minimum\": 0.1000059813444219, \"maximum\": 0.44966594412764616, \"qp_lower\": -1.0, \"qp_upper\": 1.0288286130566186e-39}, {\"x1\": 0.023136978189832975, \"x2\": 0.04997296380019461, \"name\": \"mean\", \"id\": 31, \"minimum\": 0.010029656680151443, \"maximum\": 0.04997296380019461, \"qp_lower\": 2.7180140289526847e-08, \"qp_upper\": -1.0}, {\"x1\": 2.000374089339239, \"x2\": 4.138306241838218, \"name\": \"q\", \"id\": 31, \"minimum\": 2.000374089339239, \"maximum\": 4.49764233550658, \"qp_lower\": -1.0, \"qp_upper\": 0.016057938240220993}, {\"x1\": 0.1000059813444219, \"x2\": 0.21724897039560803, \"name\": \"b\", \"id\": 32, \"minimum\": 0.1000059813444219, \"maximum\": 0.44966594412764616, \"qp_lower\": -1.0, \"qp_upper\": 1.7131803426685126e-39}, {\"x1\": 0.023136978189832975, \"x2\": 0.04997296380019461, \"name\": \"mean\", \"id\": 32, \"minimum\": 0.010029656680151443, \"maximum\": 0.04997296380019461, \"qp_lower\": 2.735865974898349e-08, \"qp_upper\": -1.0}, {\"x1\": 2.000374089339239, \"x2\": 4.138306241838218, \"name\": \"q\", \"id\": 32, \"minimum\": 2.000374089339239, \"maximum\": 4.49764233550658, \"qp_lower\": -1.0, \"qp_upper\": 0.01583415922597008}, {\"x1\": 0.1000059813444219, \"x2\": 0.20939377823032226, \"name\": \"b\", \"id\": 33, \"minimum\": 0.1000059813444219, \"maximum\": 0.44966594412764616, \"qp_lower\": -1.0, \"qp_upper\": 2.4954887276553824e-39}, {\"x1\": 0.023136978189832975, \"x2\": 0.04997296380019461, \"name\": \"mean\", \"id\": 33, \"minimum\": 0.010029656680151443, \"maximum\": 0.04997296380019461, \"qp_lower\": 1.5434881846071366e-07, \"qp_upper\": -1.0}, {\"x1\": 2.000374089339239, \"x2\": 4.138306241838218, \"name\": \"q\", \"id\": 33, \"minimum\": 2.000374089339239, \"maximum\": 4.49764233550658, \"qp_lower\": -1.0, \"qp_upper\": 0.020002986388410145}, {\"x1\": 0.1000059813444219, \"x2\": 0.20106142137007577, \"name\": \"b\", \"id\": 34, \"minimum\": 0.1000059813444219, \"maximum\": 0.44966594412764616, \"qp_lower\": -1.0, \"qp_upper\": 1.240715789098592e-39}, {\"x1\": 0.023136978189832975, \"x2\": 0.04997296380019461, \"name\": \"mean\", \"id\": 34, \"minimum\": 0.010029656680151443, \"maximum\": 0.04997296380019461, \"qp_lower\": 4.327111525465287e-07, \"qp_upper\": -1.0}, {\"x1\": 2.000374089339239, \"x2\": 4.138306241838218, \"name\": \"q\", \"id\": 34, \"minimum\": 2.000374089339239, \"maximum\": 4.49764233550658, \"qp_lower\": -1.0, \"qp_upper\": 0.042599154343923515}, {\"x1\": 0.1000059813444219, \"x2\": 0.1966582639826027, \"name\": \"b\", \"id\": 35, \"minimum\": 0.1000059813444219, \"maximum\": 0.44966594412764616, \"qp_lower\": -1.0, \"qp_upper\": 3.915433289542334e-42}, {\"x1\": 0.023136978189832975, \"x2\": 0.04997296380019461, \"name\": \"mean\", \"id\": 35, \"minimum\": 0.010029656680151443, \"maximum\": 0.04997296380019461, \"qp_lower\": 1.4420316785819762e-07, \"qp_upper\": -1.0}, {\"x1\": 2.000374089339239, \"x2\": 4.138306241838218, \"name\": \"q\", \"id\": 35, \"minimum\": 2.000374089339239, \"maximum\": 4.49764233550658, \"qp_lower\": -1.0, \"qp_upper\": 0.034422339475467835}, {\"x1\": 0.1000059813444219, \"x2\": 0.19094040735035694, \"name\": \"b\", \"id\": 36, \"minimum\": 0.1000059813444219, \"maximum\": 0.44966594412764616, \"qp_lower\": -1.0, \"qp_upper\": 5.361166155744397e-41}, {\"x1\": 0.023136978189832975, \"x2\": 0.04997296380019461, \"name\": \"mean\", \"id\": 36, \"minimum\": 0.010029656680151443, \"maximum\": 0.04997296380019461, \"qp_lower\": 5.958687607561742e-07, \"qp_upper\": -1.0}, {\"x1\": 2.000374089339239, \"x2\": 4.138306241838218, \"name\": \"q\", \"id\": 36, \"minimum\": 2.000374089339239, \"maximum\": 4.49764233550658, \"qp_lower\": -1.0, \"qp_upper\": 0.029381812501168548}, {\"x1\": 0.1000059813444219, \"x2\": 0.18610636581941709, \"name\": \"b\", \"id\": 37, \"minimum\": 0.1000059813444219, \"maximum\": 0.44966594412764616, \"qp_lower\": -1.0, \"qp_upper\": 3.7918243959883015e-42}, {\"x1\": 0.023136978189832975, \"x2\": 0.04997296380019461, \"name\": \"mean\", \"id\": 37, \"minimum\": 0.010029656680151443, \"maximum\": 0.04997296380019461, \"qp_lower\": 3.904981426348487e-07, \"qp_upper\": -1.0}, {\"x1\": 2.000374089339239, \"x2\": 4.138306241838218, \"name\": \"q\", \"id\": 37, \"minimum\": 2.000374089339239, \"maximum\": 4.49764233550658, \"qp_lower\": -1.0, \"qp_upper\": 0.026016616687450905}, {\"x1\": 0.1000059813444219, \"x2\": 0.18265421334495313, \"name\": \"b\", \"id\": 38, \"minimum\": 0.1000059813444219, \"maximum\": 0.44966594412764616, \"qp_lower\": -1.0, \"qp_upper\": 4.1654878050274546e-41}, {\"x1\": 0.023136978189832975, \"x2\": 0.04997296380019461, \"name\": \"mean\", \"id\": 38, \"minimum\": 0.010029656680151443, \"maximum\": 0.04997296380019461, \"qp_lower\": 4.4747415453859077e-07, \"qp_upper\": -1.0}, {\"x1\": 2.000374089339239, \"x2\": 4.138306241838218, \"name\": \"q\", \"id\": 38, \"minimum\": 2.000374089339239, \"maximum\": 4.49764233550658, \"qp_lower\": -1.0, \"qp_upper\": 0.029443846124919765}, {\"x1\": 0.1000059813444219, \"x2\": 0.17864999025930534, \"name\": \"b\", \"id\": 39, \"minimum\": 0.1000059813444219, \"maximum\": 0.44966594412764616, \"qp_lower\": -1.0, \"qp_upper\": 8.685868906232438e-42}, {\"x1\": 0.023136978189832975, \"x2\": 0.04997296380019461, \"name\": \"mean\", \"id\": 39, \"minimum\": 0.010029656680151443, \"maximum\": 0.04997296380019461, \"qp_lower\": 3.7291205500834943e-07, \"qp_upper\": -1.0}, {\"x1\": 2.000374089339239, \"x2\": 4.138306241838218, \"name\": \"q\", \"id\": 39, \"minimum\": 2.000374089339239, \"maximum\": 4.49764233550658, \"qp_lower\": -1.0, \"qp_upper\": 0.018761704437426478}, {\"x1\": 0.1000059813444219, \"x2\": 0.17464514176084878, \"name\": \"b\", \"id\": 40, \"minimum\": 0.1000059813444219, \"maximum\": 0.44966594412764616, \"qp_lower\": -1.0, \"qp_upper\": 2.514992553127118e-41}, {\"x1\": 0.023136978189832975, \"x2\": 0.04997296380019461, \"name\": \"mean\", \"id\": 40, \"minimum\": 0.010029656680151443, \"maximum\": 0.04997296380019461, \"qp_lower\": 8.632847121423403e-07, \"qp_upper\": -1.0}, {\"x1\": 2.000374089339239, \"x2\": 4.138306241838218, \"name\": \"q\", \"id\": 40, \"minimum\": 2.000374089339239, \"maximum\": 4.49764233550658, \"qp_lower\": -1.0, \"qp_upper\": 0.012976397983191256}, {\"x1\": 0.1000059813444219, \"x2\": 0.16989219586823884, \"name\": \"b\", \"id\": 41, \"minimum\": 0.1000059813444219, \"maximum\": 0.44966594412764616, \"qp_lower\": -1.0, \"qp_upper\": 1.405658555470533e-39}, {\"x1\": 0.023136978189832975, \"x2\": 0.04997296380019461, \"name\": \"mean\", \"id\": 41, \"minimum\": 0.010029656680151443, \"maximum\": 0.04997296380019461, \"qp_lower\": 1.5554159931589983e-06, \"qp_upper\": -1.0}, {\"x1\": 2.000374089339239, \"x2\": 4.138306241838218, \"name\": \"q\", \"id\": 41, \"minimum\": 2.000374089339239, \"maximum\": 4.49764233550658, \"qp_lower\": -1.0, \"qp_upper\": 0.016874673239678475}, {\"x1\": 0.1000059813444219, \"x2\": 0.16989219586823884, \"name\": \"b\", \"id\": 42, \"minimum\": 0.1000059813444219, \"maximum\": 0.44966594412764616, \"qp_lower\": -1.0, \"qp_upper\": 4.264345975687619e-40}, {\"x1\": 0.023136978189832975, \"x2\": 0.04997296380019461, \"name\": \"mean\", \"id\": 42, \"minimum\": 0.010029656680151443, \"maximum\": 0.04997296380019461, \"qp_lower\": 1.4750019770861171e-06, \"qp_upper\": -1.0}, {\"x1\": 2.000374089339239, \"x2\": 4.149702832929322, \"name\": \"q\", \"id\": 42, \"minimum\": 2.000374089339239, \"maximum\": 4.49764233550658, \"qp_lower\": -1.0, \"qp_upper\": 0.015454662411348333}, {\"x1\": 0.1000059813444219, \"x2\": 0.16989219586823884, \"name\": \"b\", \"id\": 43, \"minimum\": 0.1000059813444219, \"maximum\": 0.44966594412764616, \"qp_lower\": -1.0, \"qp_upper\": 2.91738240705306e-42}, {\"x1\": 0.022085921068461814, \"x2\": 0.04997296380019461, \"name\": \"mean\", \"id\": 43, \"minimum\": 0.010029656680151443, \"maximum\": 0.04997296380019461, \"qp_lower\": 7.755314743767659e-07, \"qp_upper\": -1.0}, {\"x1\": 2.000374089339239, \"x2\": 4.149702832929322, \"name\": \"q\", \"id\": 43, \"minimum\": 2.000374089339239, \"maximum\": 4.49764233550658, \"qp_lower\": -1.0, \"qp_upper\": 0.009531662735886029}], \"data-bb8d07f6df3d47a6a475317795287b23\": [{\"start\": 0, \"end\": 1}], \"data-d751713988987e9331980363e24189ce\": []}}, {\"mode\": \"vega-lite\"});\n",
       "</script>"
      ],
      "text/plain": [
       "alt.VConcatChart(...)"
      ]
     },
     "execution_count": 28,
     "metadata": {},
     "output_type": "execute_result"
    }
   ],
   "source": [
    "#Interactive way to look at both the graph and the chart\n",
    "#Gives same peeling trajectory as before, but interactive (requires that you have altair installed - note, the moment you import PRIM, altair is also imported, you do not need to do it manually - just make sure you have it)\n",
    "#Note, sometimes this won't work for partiucalry 'nasty' datasets - but should be fine for the data used in this courss\n",
    "box1.inspect_tradeoff()"
   ]
  },
  {
   "cell_type": "code",
   "execution_count": null,
   "metadata": {},
   "outputs": [],
   "source": [
    "#What do we do with the variables that are not significant?\n",
    "#Drop the non-significant dimension (i.e. the dimension with a p-value that is greater than 0.05)\n",
    "box1.inspect(style = 'graph')\n",
    "box1.drop_restriction('delta in Jan example which was greater than 0.05')\n",
    "box1.inspect(style = 'graph')\n",
    "plt.show()"
   ]
  },
  {
   "cell_type": "markdown",
   "metadata": {},
   "source": [
    "### Same Process but for Multiple Policies Example"
   ]
  },
  {
   "cell_type": "code",
   "execution_count": 29,
   "metadata": {},
   "outputs": [
    {
     "name": "stderr",
     "output_type": "stream",
     "text": [
      "[MainProcess/INFO] pool started\n",
      "[MainProcess/INFO] performing 1000 scenarios * 4 policies * 1 model(s) = 4000 experiments\n",
      "[MainProcess/INFO] 400 cases completed\n",
      "[MainProcess/INFO] 800 cases completed\n",
      "[MainProcess/INFO] 1200 cases completed\n",
      "[MainProcess/INFO] 1600 cases completed\n",
      "[MainProcess/INFO] 2000 cases completed\n",
      "[MainProcess/INFO] 2400 cases completed\n",
      "[MainProcess/INFO] 2800 cases completed\n",
      "[MainProcess/INFO] 3200 cases completed\n",
      "[MainProcess/INFO] 3600 cases completed\n",
      "[MainProcess/INFO] 4000 cases completed\n",
      "[MainProcess/INFO] experiments finished\n",
      "[MainProcess/INFO] terminating pool\n"
     ]
    }
   ],
   "source": [
    "#Question about what to do if yo have multiple policies also in your dataset:\n",
    "#Example\n",
    "\n",
    "n_scenarios = 1000\n",
    "n_policies = 4\n",
    "\n",
    "with MultiprocessingEvaluator(lake_model) as evaluator:\n",
    "    experiments, outcomes = evaluator.perform_experiments(n_scenarios, n_policies)\n"
   ]
  },
  {
   "cell_type": "code",
   "execution_count": 32,
   "metadata": {},
   "outputs": [
    {
     "data": {
      "text/html": [
       "<div>\n",
       "<style scoped>\n",
       "    .dataframe tbody tr th:only-of-type {\n",
       "        vertical-align: middle;\n",
       "    }\n",
       "\n",
       "    .dataframe tbody tr th {\n",
       "        vertical-align: top;\n",
       "    }\n",
       "\n",
       "    .dataframe thead th {\n",
       "        text-align: right;\n",
       "    }\n",
       "</style>\n",
       "<table border=\"1\" class=\"dataframe\">\n",
       "  <thead>\n",
       "    <tr style=\"text-align: right;\">\n",
       "      <th></th>\n",
       "      <th>b</th>\n",
       "      <th>delta</th>\n",
       "      <th>mean</th>\n",
       "      <th>q</th>\n",
       "      <th>stdev</th>\n",
       "      <th>l0</th>\n",
       "      <th>l1</th>\n",
       "      <th>l10</th>\n",
       "      <th>l11</th>\n",
       "      <th>l12</th>\n",
       "      <th>...</th>\n",
       "      <th>l93</th>\n",
       "      <th>l94</th>\n",
       "      <th>l95</th>\n",
       "      <th>l96</th>\n",
       "      <th>l97</th>\n",
       "      <th>l98</th>\n",
       "      <th>l99</th>\n",
       "      <th>scenario</th>\n",
       "      <th>policy</th>\n",
       "      <th>model</th>\n",
       "    </tr>\n",
       "  </thead>\n",
       "  <tbody>\n",
       "    <tr>\n",
       "      <th>0</th>\n",
       "      <td>0.205231</td>\n",
       "      <td>0.975762</td>\n",
       "      <td>0.038587</td>\n",
       "      <td>4.296666</td>\n",
       "      <td>0.003841</td>\n",
       "      <td>0.015453</td>\n",
       "      <td>0.085259</td>\n",
       "      <td>0.0511</td>\n",
       "      <td>0.05027</td>\n",
       "      <td>0.031991</td>\n",
       "      <td>...</td>\n",
       "      <td>0.037806</td>\n",
       "      <td>0.033794</td>\n",
       "      <td>0.027304</td>\n",
       "      <td>0.073189</td>\n",
       "      <td>0.003451</td>\n",
       "      <td>0.002681</td>\n",
       "      <td>0.012395</td>\n",
       "      <td>1000</td>\n",
       "      <td>0</td>\n",
       "      <td>lakeproblem</td>\n",
       "    </tr>\n",
       "    <tr>\n",
       "      <th>1</th>\n",
       "      <td>0.245702</td>\n",
       "      <td>0.967512</td>\n",
       "      <td>0.025659</td>\n",
       "      <td>2.221150</td>\n",
       "      <td>0.001010</td>\n",
       "      <td>0.015453</td>\n",
       "      <td>0.085259</td>\n",
       "      <td>0.0511</td>\n",
       "      <td>0.05027</td>\n",
       "      <td>0.031991</td>\n",
       "      <td>...</td>\n",
       "      <td>0.037806</td>\n",
       "      <td>0.033794</td>\n",
       "      <td>0.027304</td>\n",
       "      <td>0.073189</td>\n",
       "      <td>0.003451</td>\n",
       "      <td>0.002681</td>\n",
       "      <td>0.012395</td>\n",
       "      <td>1001</td>\n",
       "      <td>0</td>\n",
       "      <td>lakeproblem</td>\n",
       "    </tr>\n",
       "    <tr>\n",
       "      <th>2</th>\n",
       "      <td>0.346298</td>\n",
       "      <td>0.931431</td>\n",
       "      <td>0.034188</td>\n",
       "      <td>4.346887</td>\n",
       "      <td>0.002180</td>\n",
       "      <td>0.015453</td>\n",
       "      <td>0.085259</td>\n",
       "      <td>0.0511</td>\n",
       "      <td>0.05027</td>\n",
       "      <td>0.031991</td>\n",
       "      <td>...</td>\n",
       "      <td>0.037806</td>\n",
       "      <td>0.033794</td>\n",
       "      <td>0.027304</td>\n",
       "      <td>0.073189</td>\n",
       "      <td>0.003451</td>\n",
       "      <td>0.002681</td>\n",
       "      <td>0.012395</td>\n",
       "      <td>1002</td>\n",
       "      <td>0</td>\n",
       "      <td>lakeproblem</td>\n",
       "    </tr>\n",
       "    <tr>\n",
       "      <th>3</th>\n",
       "      <td>0.155935</td>\n",
       "      <td>0.966157</td>\n",
       "      <td>0.025305</td>\n",
       "      <td>3.139417</td>\n",
       "      <td>0.001023</td>\n",
       "      <td>0.015453</td>\n",
       "      <td>0.085259</td>\n",
       "      <td>0.0511</td>\n",
       "      <td>0.05027</td>\n",
       "      <td>0.031991</td>\n",
       "      <td>...</td>\n",
       "      <td>0.037806</td>\n",
       "      <td>0.033794</td>\n",
       "      <td>0.027304</td>\n",
       "      <td>0.073189</td>\n",
       "      <td>0.003451</td>\n",
       "      <td>0.002681</td>\n",
       "      <td>0.012395</td>\n",
       "      <td>1003</td>\n",
       "      <td>0</td>\n",
       "      <td>lakeproblem</td>\n",
       "    </tr>\n",
       "    <tr>\n",
       "      <th>4</th>\n",
       "      <td>0.310590</td>\n",
       "      <td>0.944015</td>\n",
       "      <td>0.038212</td>\n",
       "      <td>2.527866</td>\n",
       "      <td>0.002185</td>\n",
       "      <td>0.015453</td>\n",
       "      <td>0.085259</td>\n",
       "      <td>0.0511</td>\n",
       "      <td>0.05027</td>\n",
       "      <td>0.031991</td>\n",
       "      <td>...</td>\n",
       "      <td>0.037806</td>\n",
       "      <td>0.033794</td>\n",
       "      <td>0.027304</td>\n",
       "      <td>0.073189</td>\n",
       "      <td>0.003451</td>\n",
       "      <td>0.002681</td>\n",
       "      <td>0.012395</td>\n",
       "      <td>1004</td>\n",
       "      <td>0</td>\n",
       "      <td>lakeproblem</td>\n",
       "    </tr>\n",
       "  </tbody>\n",
       "</table>\n",
       "<p>5 rows × 108 columns</p>\n",
       "</div>"
      ],
      "text/plain": [
       "          b     delta      mean         q     stdev        l0        l1  \\\n",
       "0  0.205231  0.975762  0.038587  4.296666  0.003841  0.015453  0.085259   \n",
       "1  0.245702  0.967512  0.025659  2.221150  0.001010  0.015453  0.085259   \n",
       "2  0.346298  0.931431  0.034188  4.346887  0.002180  0.015453  0.085259   \n",
       "3  0.155935  0.966157  0.025305  3.139417  0.001023  0.015453  0.085259   \n",
       "4  0.310590  0.944015  0.038212  2.527866  0.002185  0.015453  0.085259   \n",
       "\n",
       "      l10      l11       l12  ...       l93       l94       l95       l96  \\\n",
       "0  0.0511  0.05027  0.031991  ...  0.037806  0.033794  0.027304  0.073189   \n",
       "1  0.0511  0.05027  0.031991  ...  0.037806  0.033794  0.027304  0.073189   \n",
       "2  0.0511  0.05027  0.031991  ...  0.037806  0.033794  0.027304  0.073189   \n",
       "3  0.0511  0.05027  0.031991  ...  0.037806  0.033794  0.027304  0.073189   \n",
       "4  0.0511  0.05027  0.031991  ...  0.037806  0.033794  0.027304  0.073189   \n",
       "\n",
       "        l97       l98       l99  scenario  policy        model  \n",
       "0  0.003451  0.002681  0.012395      1000       0  lakeproblem  \n",
       "1  0.003451  0.002681  0.012395      1001       0  lakeproblem  \n",
       "2  0.003451  0.002681  0.012395      1002       0  lakeproblem  \n",
       "3  0.003451  0.002681  0.012395      1003       0  lakeproblem  \n",
       "4  0.003451  0.002681  0.012395      1004       0  lakeproblem  \n",
       "\n",
       "[5 rows x 108 columns]"
      ]
     },
     "execution_count": 32,
     "metadata": {},
     "output_type": "execute_result"
    }
   ],
   "source": [
    "experiments.head()"
   ]
  },
  {
   "cell_type": "code",
   "execution_count": 33,
   "metadata": {},
   "outputs": [
    {
     "data": {
      "text/plain": [
       "array([0, 1, 2, 3], dtype=object)"
      ]
     },
     "execution_count": 33,
     "metadata": {},
     "output_type": "execute_result"
    }
   ],
   "source": [
    "#ID number of unique policies\n",
    "experiments.policy.unique() #Gives us 4 unique policies"
   ]
  },
  {
   "cell_type": "code",
   "execution_count": 35,
   "metadata": {},
   "outputs": [],
   "source": [
    "#Scenario discovery in this dataset:\n",
    "\n",
    "#In this particular case, the policy ID already gives us info so drop levers from experiments column\n",
    "\n",
    "# Basically, cleaning up experiements first can help eliminate redundency \n",
    "#(reduncy is that you have only 4 policies, so the 100 columns with all of the levers with the timesteps are not intervesting, \n",
    "#you only care about the policy as a whole) (i.e. why he drops the levers for \"cleaned\")\n",
    "\n",
    "cleaned = experiments.drop(columns=[l.name for l in lake_model.levers])"
   ]
  },
  {
   "cell_type": "code",
   "execution_count": 36,
   "metadata": {},
   "outputs": [
    {
     "data": {
      "text/html": [
       "<div>\n",
       "<style scoped>\n",
       "    .dataframe tbody tr th:only-of-type {\n",
       "        vertical-align: middle;\n",
       "    }\n",
       "\n",
       "    .dataframe tbody tr th {\n",
       "        vertical-align: top;\n",
       "    }\n",
       "\n",
       "    .dataframe thead th {\n",
       "        text-align: right;\n",
       "    }\n",
       "</style>\n",
       "<table border=\"1\" class=\"dataframe\">\n",
       "  <thead>\n",
       "    <tr style=\"text-align: right;\">\n",
       "      <th></th>\n",
       "      <th>b</th>\n",
       "      <th>delta</th>\n",
       "      <th>mean</th>\n",
       "      <th>q</th>\n",
       "      <th>stdev</th>\n",
       "      <th>scenario</th>\n",
       "      <th>policy</th>\n",
       "      <th>model</th>\n",
       "    </tr>\n",
       "  </thead>\n",
       "  <tbody>\n",
       "    <tr>\n",
       "      <th>0</th>\n",
       "      <td>0.205231</td>\n",
       "      <td>0.975762</td>\n",
       "      <td>0.038587</td>\n",
       "      <td>4.296666</td>\n",
       "      <td>0.003841</td>\n",
       "      <td>1000</td>\n",
       "      <td>0</td>\n",
       "      <td>lakeproblem</td>\n",
       "    </tr>\n",
       "    <tr>\n",
       "      <th>1</th>\n",
       "      <td>0.245702</td>\n",
       "      <td>0.967512</td>\n",
       "      <td>0.025659</td>\n",
       "      <td>2.221150</td>\n",
       "      <td>0.001010</td>\n",
       "      <td>1001</td>\n",
       "      <td>0</td>\n",
       "      <td>lakeproblem</td>\n",
       "    </tr>\n",
       "    <tr>\n",
       "      <th>2</th>\n",
       "      <td>0.346298</td>\n",
       "      <td>0.931431</td>\n",
       "      <td>0.034188</td>\n",
       "      <td>4.346887</td>\n",
       "      <td>0.002180</td>\n",
       "      <td>1002</td>\n",
       "      <td>0</td>\n",
       "      <td>lakeproblem</td>\n",
       "    </tr>\n",
       "    <tr>\n",
       "      <th>3</th>\n",
       "      <td>0.155935</td>\n",
       "      <td>0.966157</td>\n",
       "      <td>0.025305</td>\n",
       "      <td>3.139417</td>\n",
       "      <td>0.001023</td>\n",
       "      <td>1003</td>\n",
       "      <td>0</td>\n",
       "      <td>lakeproblem</td>\n",
       "    </tr>\n",
       "    <tr>\n",
       "      <th>4</th>\n",
       "      <td>0.310590</td>\n",
       "      <td>0.944015</td>\n",
       "      <td>0.038212</td>\n",
       "      <td>2.527866</td>\n",
       "      <td>0.002185</td>\n",
       "      <td>1004</td>\n",
       "      <td>0</td>\n",
       "      <td>lakeproblem</td>\n",
       "    </tr>\n",
       "    <tr>\n",
       "      <th>...</th>\n",
       "      <td>...</td>\n",
       "      <td>...</td>\n",
       "      <td>...</td>\n",
       "      <td>...</td>\n",
       "      <td>...</td>\n",
       "      <td>...</td>\n",
       "      <td>...</td>\n",
       "      <td>...</td>\n",
       "    </tr>\n",
       "    <tr>\n",
       "      <th>3995</th>\n",
       "      <td>0.385489</td>\n",
       "      <td>0.948255</td>\n",
       "      <td>0.040476</td>\n",
       "      <td>3.229883</td>\n",
       "      <td>0.001615</td>\n",
       "      <td>1995</td>\n",
       "      <td>3</td>\n",
       "      <td>lakeproblem</td>\n",
       "    </tr>\n",
       "    <tr>\n",
       "      <th>3996</th>\n",
       "      <td>0.285103</td>\n",
       "      <td>0.936989</td>\n",
       "      <td>0.049409</td>\n",
       "      <td>2.000678</td>\n",
       "      <td>0.002278</td>\n",
       "      <td>1996</td>\n",
       "      <td>3</td>\n",
       "      <td>lakeproblem</td>\n",
       "    </tr>\n",
       "    <tr>\n",
       "      <th>3997</th>\n",
       "      <td>0.211717</td>\n",
       "      <td>0.969398</td>\n",
       "      <td>0.033792</td>\n",
       "      <td>2.056013</td>\n",
       "      <td>0.001096</td>\n",
       "      <td>1997</td>\n",
       "      <td>3</td>\n",
       "      <td>lakeproblem</td>\n",
       "    </tr>\n",
       "    <tr>\n",
       "      <th>3998</th>\n",
       "      <td>0.323670</td>\n",
       "      <td>0.941601</td>\n",
       "      <td>0.044181</td>\n",
       "      <td>4.366671</td>\n",
       "      <td>0.002585</td>\n",
       "      <td>1998</td>\n",
       "      <td>3</td>\n",
       "      <td>lakeproblem</td>\n",
       "    </tr>\n",
       "    <tr>\n",
       "      <th>3999</th>\n",
       "      <td>0.246203</td>\n",
       "      <td>0.973332</td>\n",
       "      <td>0.024711</td>\n",
       "      <td>2.963553</td>\n",
       "      <td>0.004090</td>\n",
       "      <td>1999</td>\n",
       "      <td>3</td>\n",
       "      <td>lakeproblem</td>\n",
       "    </tr>\n",
       "  </tbody>\n",
       "</table>\n",
       "<p>4000 rows × 8 columns</p>\n",
       "</div>"
      ],
      "text/plain": [
       "             b     delta      mean         q     stdev scenario policy  \\\n",
       "0     0.205231  0.975762  0.038587  4.296666  0.003841     1000      0   \n",
       "1     0.245702  0.967512  0.025659  2.221150  0.001010     1001      0   \n",
       "2     0.346298  0.931431  0.034188  4.346887  0.002180     1002      0   \n",
       "3     0.155935  0.966157  0.025305  3.139417  0.001023     1003      0   \n",
       "4     0.310590  0.944015  0.038212  2.527866  0.002185     1004      0   \n",
       "...        ...       ...       ...       ...       ...      ...    ...   \n",
       "3995  0.385489  0.948255  0.040476  3.229883  0.001615     1995      3   \n",
       "3996  0.285103  0.936989  0.049409  2.000678  0.002278     1996      3   \n",
       "3997  0.211717  0.969398  0.033792  2.056013  0.001096     1997      3   \n",
       "3998  0.323670  0.941601  0.044181  4.366671  0.002585     1998      3   \n",
       "3999  0.246203  0.973332  0.024711  2.963553  0.004090     1999      3   \n",
       "\n",
       "            model  \n",
       "0     lakeproblem  \n",
       "1     lakeproblem  \n",
       "2     lakeproblem  \n",
       "3     lakeproblem  \n",
       "4     lakeproblem  \n",
       "...           ...  \n",
       "3995  lakeproblem  \n",
       "3996  lakeproblem  \n",
       "3997  lakeproblem  \n",
       "3998  lakeproblem  \n",
       "3999  lakeproblem  \n",
       "\n",
       "[4000 rows x 8 columns]"
      ]
     },
     "execution_count": 36,
     "metadata": {},
     "output_type": "execute_result"
    }
   ],
   "source": [
    "cleaned"
   ]
  },
  {
   "cell_type": "code",
   "execution_count": 39,
   "metadata": {},
   "outputs": [
    {
     "name": "stderr",
     "output_type": "stream",
     "text": [
      "[MainProcess/INFO] model dropped from analysis because only a single category\n",
      "[MainProcess/INFO] 4000 points remaining, containing 2818 cases of interest\n",
      "[MainProcess/INFO] mean: 1.0, mass: 0.386, coverage: 0.5479063165365508, density: 1.0 restricted_dimensions: 3\n"
     ]
    }
   ],
   "source": [
    "x = cleaned\n",
    "y = outcomes['max_P'] > 0.5\n",
    "primalg = prim.Prim(x, y, threshold = 0.8, peel_alpha = 0.1)\n",
    "box1 = primalg.find_box()"
   ]
  },
  {
   "cell_type": "code",
   "execution_count": 40,
   "metadata": {},
   "outputs": [
    {
     "data": {
      "text/html": [
       "\n",
       "<div id=\"altair-viz-7a3dcbf9e9294e11a92107d296dc6b7e\"></div>\n",
       "<script type=\"text/javascript\">\n",
       "  (function(spec, embedOpt){\n",
       "    let outputDiv = document.currentScript.previousElementSibling;\n",
       "    if (outputDiv.id !== \"altair-viz-7a3dcbf9e9294e11a92107d296dc6b7e\") {\n",
       "      outputDiv = document.getElementById(\"altair-viz-7a3dcbf9e9294e11a92107d296dc6b7e\");\n",
       "    }\n",
       "    const paths = {\n",
       "      \"vega\": \"https://cdn.jsdelivr.net/npm//vega@5?noext\",\n",
       "      \"vega-lib\": \"https://cdn.jsdelivr.net/npm//vega-lib?noext\",\n",
       "      \"vega-lite\": \"https://cdn.jsdelivr.net/npm//vega-lite@4.8.1?noext\",\n",
       "      \"vega-embed\": \"https://cdn.jsdelivr.net/npm//vega-embed@6?noext\",\n",
       "    };\n",
       "\n",
       "    function loadScript(lib) {\n",
       "      return new Promise(function(resolve, reject) {\n",
       "        var s = document.createElement('script');\n",
       "        s.src = paths[lib];\n",
       "        s.async = true;\n",
       "        s.onload = () => resolve(paths[lib]);\n",
       "        s.onerror = () => reject(`Error loading script: ${paths[lib]}`);\n",
       "        document.getElementsByTagName(\"head\")[0].appendChild(s);\n",
       "      });\n",
       "    }\n",
       "\n",
       "    function showError(err) {\n",
       "      outputDiv.innerHTML = `<div class=\"error\" style=\"color:red;\">${err}</div>`;\n",
       "      throw err;\n",
       "    }\n",
       "\n",
       "    function displayChart(vegaEmbed) {\n",
       "      vegaEmbed(outputDiv, spec, embedOpt)\n",
       "        .catch(err => showError(`Javascript Error: ${err.message}<br>This usually means there's a typo in your chart specification. See the javascript console for the full traceback.`));\n",
       "    }\n",
       "\n",
       "    if(typeof define === \"function\" && define.amd) {\n",
       "      requirejs.config({paths});\n",
       "      require([\"vega-embed\"], displayChart, err => showError(`Error loading script: ${err.message}`));\n",
       "    } else if (typeof vegaEmbed === \"function\") {\n",
       "      displayChart(vegaEmbed);\n",
       "    } else {\n",
       "      loadScript(\"vega\")\n",
       "        .then(() => loadScript(\"vega-lite\"))\n",
       "        .then(() => loadScript(\"vega-embed\"))\n",
       "        .catch(showError)\n",
       "        .then(() => displayChart(vegaEmbed));\n",
       "    }\n",
       "  })({\"config\": {\"view\": {\"continuousWidth\": 400, \"continuousHeight\": 300}}, \"vconcat\": [{\"data\": {\"name\": \"data-58dd6845cfaa725a3535af32dba1f74d\"}, \"mark\": {\"type\": \"circle\", \"size\": 75}, \"encoding\": {\"color\": {\"type\": \"ordinal\", \"field\": \"res_dim\", \"scale\": {\"range\": [\"#eff9b6\", \"#d0edb3\", \"#97d6b9\", \"#5dc0c0\", \"#31a5c2\", \"#1f80b8\", \"#2354a3\", \"#21318d\"]}}, \"opacity\": {\"condition\": {\"value\": 1, \"selection\": \"selector002\"}, \"value\": 0.4}, \"tooltip\": [{\"type\": \"ordinal\", \"field\": \"id\"}, {\"type\": \"quantitative\", \"field\": \"coverage\", \"format\": \".2\"}, {\"type\": \"quantitative\", \"field\": \"density\", \"format\": \".2\"}, {\"type\": \"ordinal\", \"field\": \"res_dim\"}], \"x\": {\"type\": \"quantitative\", \"field\": \"coverage\"}, \"y\": {\"type\": \"quantitative\", \"field\": \"density\"}}, \"height\": 400, \"selection\": {\"selector002\": {\"type\": \"single\", \"fields\": [\"id\"]}}, \"width\": 400}, {\"layer\": [{\"data\": {\"name\": \"data-a16e9c99bee8e4fb5649a93a464fcd80\"}, \"mark\": \"rule\", \"encoding\": {\"x\": {\"type\": \"quantitative\", \"axis\": {\"grid\": false, \"labels\": false, \"title\": \"box limits\"}, \"field\": \"x_lower\", \"scale\": {\"domain\": [0, 1], \"padding\": 0.1}}, \"x2\": {\"field\": \"x_upper\"}, \"y\": {\"type\": \"nominal\", \"field\": \"name\", \"scale\": {\"padding\": 1.0}}}, \"transform\": [{\"calculate\": \"(datum.x1-datum.minimum)/(datum.maximum-datum.minimum)\", \"as\": \"x_lower\"}, {\"calculate\": \"(datum.x2-datum.minimum)/(datum.maximum-datum.minimum)\", \"as\": \"x_upper\"}, {\"filter\": {\"selection\": \"selector002\"}}], \"width\": 400}, {\"data\": {\"name\": \"data-a16e9c99bee8e4fb5649a93a464fcd80\"}, \"mark\": {\"type\": \"text\", \"align\": \"left\", \"baseline\": \"top\", \"dy\": 5}, \"encoding\": {\"text\": {\"type\": \"ordinal\", \"field\": \"text\"}, \"x\": {\"type\": \"quantitative\", \"axis\": {\"grid\": false, \"labels\": false, \"title\": \"box limits\"}, \"field\": \"x_lower\", \"scale\": {\"domain\": [0, 1], \"padding\": 0.1}}, \"x2\": {\"field\": \"x_upper\"}, \"y\": {\"type\": \"nominal\", \"field\": \"name\", \"scale\": {\"padding\": 1.0}}}, \"transform\": [{\"calculate\": \"(datum.x1-datum.minimum)/(datum.maximum-datum.minimum)\", \"as\": \"x_lower\"}, {\"calculate\": \"(datum.x2-datum.minimum)/(datum.maximum-datum.minimum)\", \"as\": \"x_upper\"}, {\"filter\": {\"selection\": \"selector002\"}}, {\"calculate\": \"datum.qp_lower>0?format(datum.x1, \\\".2\\\")+\\\" (\\\"+format(datum.qp_lower, \\\".1~g\\\")+\\\")\\\" :format(datum.x1, \\\".2\\\")\", \"as\": \"text\"}], \"width\": 400}, {\"data\": {\"name\": \"data-a16e9c99bee8e4fb5649a93a464fcd80\"}, \"mark\": {\"type\": \"text\", \"align\": \"right\", \"baseline\": \"top\", \"dy\": 5}, \"encoding\": {\"text\": {\"type\": \"ordinal\", \"field\": \"text\"}, \"x\": {\"type\": \"quantitative\", \"field\": \"x_upper\"}, \"x2\": {\"field\": \"x_upper\"}, \"y\": {\"type\": \"nominal\", \"field\": \"name\", \"scale\": {\"padding\": 1.0}}}, \"transform\": [{\"calculate\": \"(datum.x1-datum.minimum)/(datum.maximum-datum.minimum)\", \"as\": \"x_lower\"}, {\"calculate\": \"(datum.x2-datum.minimum)/(datum.maximum-datum.minimum)\", \"as\": \"x_upper\"}, {\"filter\": {\"selection\": \"selector002\"}}, {\"calculate\": \"datum.qp_upper>0?format(datum.x2, \\\".2\\\")+\\\" (\\\"+format(datum.qp_upper, \\\".1\\\")+\\\")\\\" :format(datum.x2, \\\".2\\\")\", \"as\": \"text\"}], \"width\": 400}, {\"data\": {\"name\": \"data-bb8d07f6df3d47a6a475317795287b23\"}, \"mark\": {\"type\": \"rect\", \"opacity\": 0.05}, \"encoding\": {\"x\": {\"type\": \"quantitative\", \"field\": \"start\"}, \"x2\": {\"field\": \"end\"}}}, {\"data\": {\"name\": \"data-d751713988987e9331980363e24189ce\"}, \"mark\": \"point\", \"encoding\": {\"x\": {\"type\": \"quantitative\", \"field\": \"x\"}, \"y\": {\"type\": \"nominal\", \"field\": \"name\"}}, \"transform\": [{\"filter\": {\"selection\": \"selector002\"}}], \"width\": 400}, {\"data\": {\"name\": \"data-d751713988987e9331980363e24189ce\"}, \"mark\": {\"type\": \"text\", \"align\": \"center\", \"baseline\": \"top\", \"dy\": 5}, \"encoding\": {\"text\": {\"type\": \"nominal\", \"field\": \"item\"}, \"x\": {\"type\": \"quantitative\", \"field\": \"x\"}, \"y\": {\"type\": \"nominal\", \"field\": \"name\"}}, \"transform\": [{\"filter\": {\"selection\": \"selector002\"}}], \"width\": 400}]}], \"$schema\": \"https://vega.github.io/schema/vega-lite/v4.8.1.json\", \"datasets\": {\"data-58dd6845cfaa725a3535af32dba1f74d\": [{\"coverage\": 1.0, \"density\": 0.7045, \"id\": 0, \"mass\": 1.0, \"mean\": 0.7045, \"res_dim\": 0}, {\"coverage\": 0.9627395315826828, \"density\": 0.7536111111111111, \"id\": 1, \"mass\": 0.9, \"mean\": 0.7536111111111111, \"res_dim\": 1}, {\"coverage\": 0.9237047551454932, \"density\": 0.803395061728395, \"id\": 2, \"mass\": 0.81, \"mean\": 0.803395061728395, \"res_dim\": 1}, {\"coverage\": 0.8850248403122782, \"density\": 0.855281207133059, \"id\": 3, \"mass\": 0.729, \"mean\": 0.855281207133059, \"res_dim\": 1}, {\"coverage\": 0.8342796309439319, \"density\": 0.8959603658536586, \"id\": 4, \"mass\": 0.656, \"mean\": 0.8959603658536586, \"res_dim\": 1}, {\"coverage\": 0.7789212207239177, \"density\": 0.9300847457627118, \"id\": 5, \"mass\": 0.59, \"mean\": 0.9300847457627118, \"res_dim\": 1}, {\"coverage\": 0.7217885024840313, \"density\": 0.9576271186440678, \"id\": 6, \"mass\": 0.531, \"mean\": 0.9576271186440678, \"res_dim\": 1}, {\"coverage\": 0.6635911994322214, \"density\": 0.980083857442348, \"id\": 7, \"mass\": 0.477, \"mean\": 0.980083857442348, \"res_dim\": 2}, {\"coverage\": 0.6046841731724627, \"density\": 0.993006993006993, \"id\": 8, \"mass\": 0.429, \"mean\": 0.993006993006993, \"res_dim\": 2}, {\"coverage\": 0.5479063165365508, \"density\": 1.0, \"id\": 9, \"mass\": 0.386, \"mean\": 1.0, \"res_dim\": 3}], \"data-a16e9c99bee8e4fb5649a93a464fcd80\": [{\"x1\": 0.1000927427287997, \"x2\": 0.4150859912094829, \"name\": \"b\", \"id\": 1, \"minimum\": 0.1000927427287997, \"maximum\": 0.4499124879026535, \"qp_lower\": -1.0, \"qp_upper\": 2.842739393716992e-11}, {\"x1\": 0.1000927427287997, \"x2\": 0.3835595479894543, \"name\": \"b\", \"id\": 2, \"minimum\": 0.1000927427287997, \"maximum\": 0.4499124879026535, \"qp_lower\": -1.0, \"qp_upper\": 7.142815444468249e-38}, {\"x1\": 0.1000927427287997, \"x2\": 0.3552056466199408, \"name\": \"b\", \"id\": 3, \"minimum\": 0.1000927427287997, \"maximum\": 0.4499124879026535, \"qp_lower\": -1.0, \"qp_upper\": 2.0655852180892127e-81}, {\"x1\": 0.1000927427287997, \"x2\": 0.3296711873924463, \"name\": \"b\", \"id\": 4, \"minimum\": 0.1000927427287997, \"maximum\": 0.4499124879026535, \"qp_lower\": -1.0, \"qp_upper\": 7.09847218468937e-124}, {\"x1\": 0.1000927427287997, \"x2\": 0.30652089072633143, \"name\": \"b\", \"id\": 5, \"minimum\": 0.1000927427287997, \"maximum\": 0.4499124879026535, \"qp_lower\": -1.0, \"qp_upper\": 1.1823565642371094e-163}, {\"x1\": 0.1000927427287997, \"x2\": 0.28590349864826015, \"name\": \"b\", \"id\": 6, \"minimum\": 0.1000927427287997, \"maximum\": 0.4499124879026535, \"qp_lower\": -1.0, \"qp_upper\": 2.6900453895336036e-197}, {\"x1\": 0.1000927427287997, \"x2\": 0.28590349864826015, \"name\": \"b\", \"id\": 7, \"minimum\": 0.1000927427287997, \"maximum\": 0.4499124879026535, \"qp_lower\": -1.0, \"qp_upper\": 1.8533100796010505e-205}, {\"x1\": 0.014024084740223848, \"x2\": 0.04996398599052446, \"name\": \"mean\", \"id\": 7, \"minimum\": 0.010024929916871149, \"maximum\": 0.04996398599052446, \"qp_lower\": 5.107006934559791e-08, \"qp_upper\": -1.0}, {\"x1\": 0.1000927427287997, \"x2\": 0.26513771607396125, \"name\": \"b\", \"id\": 8, \"minimum\": 0.1000927427287997, \"maximum\": 0.4499124879026535, \"qp_lower\": -1.0, \"qp_upper\": 2.9000416333278246e-217}, {\"x1\": 0.014024084740223848, \"x2\": 0.04996398599052446, \"name\": \"mean\", \"id\": 8, \"minimum\": 0.010024929916871149, \"maximum\": 0.04996398599052446, \"qp_lower\": 4.7601328817951526e-05, \"qp_upper\": -1.0}, {\"x1\": 0.1000927427287997, \"x2\": 0.26513771607396125, \"name\": \"b\", \"id\": 9, \"minimum\": 0.1000927427287997, \"maximum\": 0.4499124879026535, \"qp_lower\": -1.0, \"qp_upper\": 4.0893910863374354e-179}, {\"x1\": 0.014024084740223848, \"x2\": 0.04996398599052446, \"name\": \"mean\", \"id\": 9, \"minimum\": 0.010024929916871149, \"maximum\": 0.04996398599052446, \"qp_lower\": 1.104181231789602e-06, \"qp_upper\": -1.0}, {\"x1\": 2.0006776376144013, \"x2\": 4.2033501581624275, \"name\": \"q\", \"id\": 9, \"minimum\": 2.0006776376144013, \"maximum\": 4.4984223517672675, \"qp_lower\": -1.0, \"qp_upper\": 1.9695267392759556e-05}], \"data-bb8d07f6df3d47a6a475317795287b23\": [{\"start\": 0, \"end\": 1}], \"data-d751713988987e9331980363e24189ce\": []}}, {\"mode\": \"vega-lite\"});\n",
       "</script>"
      ],
      "text/plain": [
       "alt.VConcatChart(...)"
      ]
     },
     "execution_count": 40,
     "metadata": {},
     "output_type": "execute_result"
    }
   ],
   "source": [
    "#Inspect the tradeoff (i.e. peeling trajectory)\n",
    "box1.inspect_tradeoff()"
   ]
  },
  {
   "cell_type": "markdown",
   "metadata": {},
   "source": [
    "#### Note, Jan usualy removes levers before testing in order to make interpreting results easier, but this is just his preference"
   ]
  },
  {
   "cell_type": "markdown",
   "metadata": {},
   "source": [
    "## Answers to questions posed at the end of Q&A\n",
    "\n",
    "- Threshold applies to the density of the final box - (i.e. says that the density of the final box should be higher than 0.8)\n",
    "\n",
    "- Cleaning up experiements first can help eliminate redundency (reduncy is that you have only 4 policies, so the 100 columns with all of the levers with the timesteps are not intervesting, you only care about the policy as a whole) (i.e. why he drops the levers for \"cleaned\")"
   ]
  },
  {
   "cell_type": "markdown",
   "metadata": {},
   "source": [
    "------------------------------------------------------------------------- New Topic -------------------------------------------------------------"
   ]
  },
  {
   "cell_type": "markdown",
   "metadata": {},
   "source": [
    "# Dimensional Stacking"
   ]
  },
  {
   "cell_type": "code",
   "execution_count": 47,
   "metadata": {},
   "outputs": [
    {
     "name": "stderr",
     "output_type": "stream",
     "text": [
      "[MainProcess/INFO] model dropped from analysis because only a single category\n"
     ]
    },
    {
     "data": {
      "image/png": "[encoded data removed]",
      "text/plain": [
       "<Figure size 720x720 with 4 Axes>"
      ]
     },
     "metadata": {},
     "output_type": "display_data"
    }
   ],
   "source": [
    "from ema_workbench.analysis import dimensional_stacking\n",
    "\n",
    "x= experiments\n",
    "y = outcomes['max_P'] > 2\n",
    "\n",
    "dimensional_stacking.create_pivot_plot(x,y, nr_levels =2) #NoteL nr_levels sets number of dimensions that we are stacking, so set to 3 gives us 6 uncertainties\n",
    "plt.show()\n",
    "\n",
    "#Bright yellow, all points in particular bin are of interet\n",
    "#Dark blue, no points of interst in a bin\n",
    "#White means that you have not sampled anything in a region - (Note: could mean you have not sampled enough)\n",
    "#q, b, delta, and mean are split into 3 intervals\n"
   ]
  },
  {
   "cell_type": "code",
   "execution_count": 46,
   "metadata": {},
   "outputs": [
    {
     "data": {
      "image/png": "[encoded data removed]",
      "text/plain": [
       "<Figure size 432x288 with 1 Axes>"
      ]
     },
     "metadata": {
      "needs_background": "light"
     },
     "output_type": "display_data"
    }
   ],
   "source": [
    "#Basically, dimensional stacking gives us a plot that is basically a fancy column plot\n",
    "#The way dimensional stacking works is comparable to PRIM - but the difference is that dimensional stacking is a purely visual way of doing it\n",
    "\n",
    "#Imagine that we scatter our experiemtns against one and another on the b and q dimension\n",
    "fig, ax = plt.subplots()\n",
    "\n",
    "ax.scatter(experiments.b[y], experiments.q[y])\n",
    "ax.scatter(experiments.b[y==False], experiments.q[y==False])\n",
    "plt.show()\n",
    "\n",
    "#Note: blue = points of interest, orange = points not of interest"
   ]
  },
  {
   "cell_type": "code",
   "execution_count": 48,
   "metadata": {},
   "outputs": [],
   "source": [
    "#Make scatter plot for 2 dimensions for the full range then with conditional of other dimension as well\n",
    "#(basically we do a scatter plot of subset of the data and then doing a binning overlay) --> Basically this gives us dimensional stacking"
   ]
  },
  {
   "cell_type": "code",
   "execution_count": 50,
   "metadata": {},
   "outputs": [
    {
     "name": "stderr",
     "output_type": "stream",
     "text": [
      "[MainProcess/INFO] model dropped from analysis because only a single category\n"
     ]
    },
    {
     "data": {
      "image/png": "[encoded data removed]",
      "text/plain": [
       "<Figure size 720x720 with 4 Axes>"
      ]
     },
     "metadata": {},
     "output_type": "display_data"
    }
   ],
   "source": [
    "#Example, with a lot of yellow space, may be better to make dimensions more restrcitve\n",
    "#Example:\n",
    "\n",
    "from ema_workbench.analysis import dimensional_stacking\n",
    "\n",
    "x= experiments\n",
    "y = outcomes['max_P'] > 4\n",
    "\n",
    "dimensional_stacking.create_pivot_plot(x,y, nr_levels =2, nbins=5) #NoteL nr_levels sets number of dimensions that we are stacking, so set to 3 gives us 6 uncertainties\n",
    "plt.show()\n",
    "\n",
    "#This plot gives a lot of white space -> so may be better to run more experiments"
   ]
  },
  {
   "cell_type": "markdown",
   "metadata": {},
   "source": [
    "------------------------------------------------------------------------- New Topic -------------------------------------------------------------"
   ]
  },
  {
   "cell_type": "markdown",
   "metadata": {},
   "source": [
    "### Sub Space Partitioning vs Global Sensitivity Analysis (Use both - they are complimentary and can help check one another)\n",
    "\n",
    "Sub Space Partitioning: \n",
    "- Try to partition model input space into distinct regions that are characeristic of success or failure\n",
    "- Basically given what is in my model input space, do I get a particular type of outcome?\n",
    "- PRIM, scenario discorery (e.g. PRIM, CART) and n-dimensional stacking\n",
    "\n",
    "Global Sensitivity Analysis\n",
    "- (Reasons other way around from Sub Space Partitioning)\n",
    "- Understanding how variation in model outputs is explained by varaition in model inputs\n",
    "- Gives a different understanding of how and why different outcomes occur\n",
    "- (Will not give you easy rules of subspaces like PRIM and CART do, but gives you a rank order of relevant importance of different model outcomes that you get)"
   ]
  },
  {
   "cell_type": "markdown",
   "metadata": {},
   "source": [
    "------------------------------------------------------------------------- New Topic -------------------------------------------------------------"
   ]
  }
 ],
 "metadata": {
  "anaconda-cloud": {},
  "kernelspec": {
   "display_name": "Python 3",
   "language": "python",
   "name": "python3"
  },
  "language_info": {
   "codemirror_mode": {
    "name": "ipython",
    "version": 3
   },
   "file_extension": ".py",
   "mimetype": "text/x-python",
   "name": "python",
   "nbconvert_exporter": "python",
   "pygments_lexer": "ipython3",
   "version": "3.7.4"
  },
  "latex_envs": {
   "LaTeX_envs_menu_present": true,
   "autocomplete": true,
   "bibliofile": "biblio.bib",
   "cite_by": "apalike",
   "current_citInitial": 1,
   "eqLabelWithNumbers": true,
   "eqNumInitial": 1,
   "hotkeys": {
    "equation": "Ctrl-E",
    "itemize": "Ctrl-I"
   },
   "labels_anchors": false,
   "latex_user_defs": false,
   "report_style_numbering": false,
   "user_envs_cfg": false
  }
 },
 "nbformat": 4,
 "nbformat_minor": 4
}
