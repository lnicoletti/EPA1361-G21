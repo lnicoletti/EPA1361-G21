{
 "cells": [
  {
   "cell_type": "markdown",
   "metadata": {},
   "source": [
    "# Multi-Scenario MORDM\n",
    "\n",
    "Multi-scenario MORDM is an extension of normal MORDM to better include robustness considerations within the search phase. It starts from the scenario discovery results resulting from MORDM. Next, from the experiments within this box, a set of scenarios is selected. \n",
    "\n",
    "There are many ways of selecting the additional scenarios. The original paper which introduced multi-scenario MORMD [Watson and Kaspzryk (2017)](https://doi.org/10.1016/j.envsoft.2016.12.001) did it in a more or less adhoc manner. [Eker and Kwakkel (2018)](https://doi.org/10.1016/j.envsoft.2018.03.029) introduced a more formal selection approach, the code of which can be found on [GitHub](https://github.com/sibeleker/MORDM---Multi-scenario-search). \n",
    "\n",
    "For this assignment, make an informed selection of 4 scenarios, using an approach of your choice. Motivate carefully your selection procedure. \n"
   ]
  },
  {
   "cell_type": "code",
   "execution_count": 1,
   "metadata": {},
   "outputs": [
    {
     "name": "stderr",
     "output_type": "stream",
     "text": [
      "C:\\Users\\jryap\\anaconda3\\envs\\mbdm\\lib\\site-packages\\ema_workbench\\analysis\\prim.py:31: ImportWarning: altair based interactive inspection not available\n",
      "  \"inspection not available\"), ImportWarning)\n"
     ]
    }
   ],
   "source": [
    "from dps_lake_model import lake_model\n",
    "import os\n",
    "from ema_workbench import (Model, RealParameter, ScalarOutcome,\n",
    "                           MultiprocessingEvaluator, SequentialEvaluator, ema_logging,\n",
    "                           Constant, Scenario, Policy)\n",
    "from ema_workbench.analysis import prim\n",
    "from ema_workbench.em_framework.optimization import (HyperVolume,\n",
    "                                                     EpsilonProgress)\n",
    "from ema_workbench import Constraint\n",
    "from ema_workbench.analysis import parcoords\n",
    "import pandas as pd\n",
    "from ema_workbench import load_results\n",
    "import matplotlib.pyplot as plt\n",
    "import numpy as np"
   ]
  },
  {
   "cell_type": "code",
   "execution_count": 2,
   "metadata": {},
   "outputs": [],
   "source": [
    "ema_logging.log_to_stderr(ema_logging.INFO)\n",
    "\n",
    "#instantiate the model\n",
    "lake_m = Model('lakemodel', function=lake_model)\n",
    "\n",
    "#specify uncertainties\n",
    "lake_m.uncertainties = [RealParameter('mean', 0.01, 0.05),\n",
    "                            RealParameter('stdev', 0.001, 0.005),\n",
    "                            RealParameter('b', 0.1, 0.45),\n",
    "                            RealParameter('q', 2.0, 4.5),\n",
    "                            RealParameter('delta', 0.93, 0.99)]\n",
    "\n",
    "# set levers, one for each time step\n",
    "lake_m.levers = [RealParameter('c1', -2, 2),\n",
    "                     RealParameter('c2', -2, 2),\n",
    "                     RealParameter('r1', 0, 2),\n",
    "                     RealParameter('r2', 0, 2),\n",
    "                     RealParameter('w1', 0, 1)]\n",
    "\n",
    "#specify outcomes \n",
    "lake_m.outcomes = [ScalarOutcome('max_P', kind=ScalarOutcome.MINIMIZE,\n",
    "                                     expected_range=(0,5)),\n",
    "                       ScalarOutcome('utility', kind=ScalarOutcome.MAXIMIZE,\n",
    "                                     expected_range=(0,2)),\n",
    "                       ScalarOutcome('inertia', kind=ScalarOutcome.MAXIMIZE,\n",
    "                                    expected_range=(0,1)),\n",
    "                       ScalarOutcome('reliability', kind=ScalarOutcome.MAXIMIZE,\n",
    "                                     expected_range=(0,1))]\n",
    "\n",
    "# lake_model.constantcs = [Constant('alpha', 0.41),\n",
    "#                          Constant('reps', 150)],\n",
    "\n",
    "convergence_metrics = [HyperVolume.from_outcomes(lake_m.outcomes),\n",
    "                       EpsilonProgress()]\n",
    "\n",
    "# constraints = [Constraint(\"max pollution\", outcome_names=\"max_P\")]"
   ]
  },
  {
   "cell_type": "code",
   "execution_count": null,
   "metadata": {},
   "outputs": [],
   "source": [
    "a = load_results(os.getcwd() + '/results/selected_results.tar.gz')"
   ]
  },
  {
   "cell_type": "code",
   "execution_count": null,
   "metadata": {},
   "outputs": [],
   "source": [
    "experiments, outcomes = a"
   ]
  },
  {
   "cell_type": "markdown",
   "metadata": {},
   "source": [
    "specify the reference scenario.\n",
    "there's a value of bqmean std which we get from the results\n",
    "\n",
    "then pass the reference scenario into the optimizers\n",
    "searchover='levers' again\n",
    "\n",
    "In assignment 8 optimized using 1 default scenario for the default uncertainty value.\n",
    "\n",
    "Assignment 9 - optimize over 4 scenarios or 4 diff scenarios for uncertainties.\n",
    "\n",
    "Select scenarios\n",
    "Search for each scenarios, search for each one independently. End up with four dataframes.\n",
    "COmpile the results and compile them into one dataframe.\n",
    "\n",
    "Reevaluate under deep certainty. Perform experiments. "
   ]
  },
  {
   "cell_type": "code",
   "execution_count": null,
   "metadata": {},
   "outputs": [],
   "source": [
    "outcomes_df = pd.DataFrame(outcomes)"
   ]
  },
  {
   "cell_type": "code",
   "execution_count": null,
   "metadata": {},
   "outputs": [],
   "source": [
    "all= pd.concat([experiments, outcomes_df], axis=1)"
   ]
  },
  {
   "cell_type": "code",
   "execution_count": null,
   "metadata": {},
   "outputs": [],
   "source": [
    "scenarios = []\n",
    "\n",
    "for i in range(len(outcomes_df.columns)):\n",
    "    if outcomes_df.columns[i] == \"max_P\":\n",
    "        scenarios.append(all.sort_values(by=outcomes_df.columns[i], ascending=False).reset_index()[\"scenario\"][0])\n",
    "    else:\n",
    "        scenarios.append(all.sort_values(by=outcomes_df.columns[i]).reset_index()[\"scenario\"][0])"
   ]
  },
  {
   "cell_type": "code",
   "execution_count": null,
   "metadata": {},
   "outputs": [],
   "source": [
    "scenarios"
   ]
  },
  {
   "cell_type": "code",
   "execution_count": null,
   "metadata": {},
   "outputs": [],
   "source": [
    "b = []\n",
    "q = []\n",
    "delta = []\n",
    "mean = []\n",
    "stdev = []\n",
    "\n",
    "for i in scenarios:\n",
    "    b.append(experiments[experiments[\"scenario\"]==i][\"b\"].iloc[0])\n",
    "    q.append(experiments[experiments[\"scenario\"]==i][\"q\"].iloc[0])\n",
    "    mean.append(experiments[experiments[\"scenario\"]==i][\"mean\"].iloc[0])\n",
    "    delta.append(experiments[experiments[\"scenario\"]==i][\"delta\"].iloc[0])\n",
    "    stdev.append(experiments[experiments[\"scenario\"]==i][\"stdev\"].iloc[0])"
   ]
  },
  {
   "cell_type": "code",
   "execution_count": null,
   "metadata": {},
   "outputs": [],
   "source": [
    "uncertainties = pd.DataFrame([b,q,mean,delta,stdev], index=[\"b\", \"q\", \"mean\", \"delta\", \"stdev\"]).T"
   ]
  },
  {
   "cell_type": "code",
   "execution_count": null,
   "metadata": {},
   "outputs": [],
   "source": [
    "reference = []\n",
    "\n",
    "for i,uncertainty in uncertainties.iterrows():\n",
    "    reference.append(Scenario(str(i),**uncertainty.to_dict()))"
   ]
  },
  {
   "cell_type": "markdown",
   "metadata": {},
   "source": [
    "## Search for each scenario\n",
    "\n",
    "For each of the four selected scenarios, use many-objective optimization to find a pareto approximate set using the same approach as for assignment 8. Remember to check for convergence (and time permitting, seed analysis), and be careful in what epsilon values to use (not to coarse, not too small). \n",
    "\n",
    "Store the resulting set of pareto solutions in a smart way for subsequent analysis."
   ]
  },
  {
   "cell_type": "code",
   "execution_count": null,
   "metadata": {},
   "outputs": [],
   "source": [
    "with MultiprocessingEvaluator(lake_m) as evaluator:\n",
    "    results0 = evaluator.optimize(searchover='levers', nfe=5000, epsilons=[0.05, 0.05] * len(lake_m.outcomes), \n",
    "                                 convergence=convergence_metrics, reference=reference[0])"
   ]
  },
  {
   "cell_type": "code",
   "execution_count": null,
   "metadata": {},
   "outputs": [],
   "source": [
    "with MultiprocessingEvaluator(lake_m) as evaluator:\n",
    "    results1 = evaluator.optimize(searchover='levers', nfe=5000, epsilons=[0.05, 0.05] * len(lake_m.outcomes), \n",
    "                                 convergence=convergence_metrics, reference=reference[1])"
   ]
  },
  {
   "cell_type": "code",
   "execution_count": null,
   "metadata": {},
   "outputs": [],
   "source": [
    "with MultiprocessingEvaluator(lake_m) as evaluator:\n",
    "    results2 = evaluator.optimize(searchover='levers', nfe=5000, epsilons=[0.05, 0.05] * len(lake_m.outcomes), \n",
    "                                 convergence=convergence_metrics, reference=reference[2])"
   ]
  },
  {
   "cell_type": "code",
   "execution_count": null,
   "metadata": {},
   "outputs": [],
   "source": [
    "with MultiprocessingEvaluator(lake_m) as evaluator:\n",
    "    results3 = evaluator.optimize(searchover='levers', nfe=5000, epsilons=[0.05, 0.05] * len(lake_m.outcomes), \n",
    "                                 convergence=convergence_metrics, reference=reference[3])"
   ]
  },
  {
   "cell_type": "code",
   "execution_count": null,
   "metadata": {},
   "outputs": [],
   "source": [
    "results_all = [results0, results1, results2, results3]\n",
    "\n",
    "for i in range(len(results_all)):\n",
    "    limits = parcoords.get_limits(results_all[i][0].iloc[:, 5:])\n",
    "    axes = parcoords.ParallelAxes(limits)\n",
    "    axes.plot(results_all[i][0].iloc[:, 5:])\n",
    "    axes.legend()\n",
    "\n",
    "    # we invert this axis so direction of desirability is the same \n",
    "    axes.invert_axis('utility') \n",
    "    axes.invert_axis('inertia') \n",
    "    axes.invert_axis('reliability') \n",
    "    axes.invert_axis('max_P') \n",
    "    plt.show()"
   ]
  },
  {
   "cell_type": "code",
   "execution_count": null,
   "metadata": {},
   "outputs": [],
   "source": [
    "fig, ax = plt.subplots(nrows=4, ncols=2, sharex=True, figsize=(12,8))\n",
    "ax[0,0].plot(results0[1].nfe, results0[1].epsilon_progress)\n",
    "ax[0,0].set_ylabel('$\\epsilon$-progress')\n",
    "\n",
    "ax[0,1].plot(results0[1].nfe, results0[1].hypervolume)\n",
    "ax[0,1].set_ylabel('hypervolume')\n",
    "\n",
    "ax[1,0].plot(results1[1].nfe, results1[1].epsilon_progress)\n",
    "ax[1,0].set_ylabel('$\\epsilon$-progress')\n",
    "\n",
    "ax[1,1].plot(results1[1].nfe, results1[1].hypervolume)\n",
    "ax[1,1].set_ylabel('hypervolume')\n",
    "\n",
    "ax[2,0].plot(results2[1].nfe, results2[1].epsilon_progress)\n",
    "ax[2,0].set_ylabel('$\\epsilon$-progress')\n",
    "\n",
    "ax[2,1].plot(results2[1].nfe, results2[1].hypervolume)\n",
    "ax[2,1].set_ylabel('hypervolume')\n",
    "\n",
    "ax[3,0].plot(results3[1].nfe, results3[1].epsilon_progress)\n",
    "ax[3,0].set_ylabel('$\\epsilon$-progress')\n",
    "\n",
    "ax[3,1].plot(results3[1].nfe, results3[1].hypervolume)\n",
    "ax[3,1].set_ylabel('hypervolume')\n",
    "\n",
    "ax[0,0].set_xlabel('number of function evaluations')\n",
    "ax[0,1].set_xlabel('number of function evaluations')\n",
    "ax[1,0].set_xlabel('number of function evaluations')\n",
    "ax[1,1].set_xlabel('number of function evaluations')\n",
    "ax[2,0].set_xlabel('number of function evaluations')\n",
    "ax[2,1].set_xlabel('number of function evaluations')\n",
    "ax[3,0].set_xlabel('number of function evaluations')\n",
    "ax[3,1].set_xlabel('number of function evaluations')\n",
    "plt.show()"
   ]
  },
  {
   "cell_type": "markdown",
   "metadata": {},
   "source": [
    "## Re-evaluate under deep uncertainty\n",
    "\n",
    "Combine the pareto set of solutions found for each scenario. Next, turn each solution into a policy object. If you have a very large number of policies, you can choose to down sample your policies in some reasoned way (*e.g.*, picking min and max on each objective, slicing across the pareto front with a particular step size). As a rule of thumb, try to limit the set of policies to at most 50. \n",
    "\n",
    "Re-evaluate the combined set of solutions over 1000 scenarios sampled using LHS.\n"
   ]
  },
  {
   "cell_type": "code",
   "execution_count": null,
   "metadata": {},
   "outputs": [],
   "source": [
    "results0[0][\"indicator\"] = outcomes_df.columns[0]\n",
    "results1[0][\"indicator\"] = outcomes_df.columns[1]\n",
    "results2[0][\"indicator\"] = outcomes_df.columns[2]\n",
    "results3[0][\"indicator\"] = outcomes_df.columns[3]"
   ]
  },
  {
   "cell_type": "code",
   "execution_count": null,
   "metadata": {},
   "outputs": [],
   "source": [
    "results_all = pd.concat([results0[0], results1[0], results2[0], results3[0]])"
   ]
  },
  {
   "cell_type": "code",
   "execution_count": null,
   "metadata": {},
   "outputs": [],
   "source": [
    "policy = results_all.iloc[:,:5]"
   ]
  },
  {
   "cell_type": "code",
   "execution_count": null,
   "metadata": {},
   "outputs": [],
   "source": [
    "policies = []\n",
    "\n",
    "for i,policy in policy.iterrows():\n",
    "    policies.append(Policy(str(i),**policy.to_dict()))"
   ]
  },
  {
   "cell_type": "code",
   "execution_count": null,
   "metadata": {},
   "outputs": [],
   "source": [
    "%%time\n",
    "with MultiprocessingEvaluator(lake_m) as evaluator:\n",
    "    new_experiments, new_outcomes = evaluator.perform_experiments(scenarios=1000, policies=policies,\n",
    "                                                                uncertainty_sampling=\"lhs\")"
   ]
  },
  {
   "cell_type": "markdown",
   "metadata": {},
   "source": [
    "Calculate both the maximum regret, and the domain criterion using the values provided in [Bartholomew and Kwakkel (2020)](https://doi.org/10.1016/j.envsoft.2020.104699). Ignore the max_P objective.\n",
    "\n",
    "visualize the results in parallel coordinate plot. \n",
    "\n",
    "Are there any promising compromise solutions which balance performance in both the reference scenarios as well as in terms of their robustness?\n"
   ]
  },
  {
   "cell_type": "code",
   "execution_count": 3,
   "metadata": {},
   "outputs": [],
   "source": [
    "import seaborn as sns"
   ]
  },
  {
   "cell_type": "code",
   "execution_count": null,
   "metadata": {},
   "outputs": [],
   "source": [
    "optimized_results = pd.concat([new_experiments, pd.DataFrame(new_outcomes)], axis=1)"
   ]
  },
  {
   "cell_type": "code",
   "execution_count": null,
   "metadata": {},
   "outputs": [],
   "source": [
    "lists = optimized_results.policy.unique()"
   ]
  },
  {
   "cell_type": "code",
   "execution_count": null,
   "metadata": {},
   "outputs": [],
   "source": [
    "# optimized_results[\"colour\"] = None\n",
    "\n",
    "# for i, color in zip(range(len(lists)), sns.color_palette(n_colors=len(lists))):\n",
    "#     if optimized_results[optimized_results['policy']==lists[i]]:\n",
    "#         optimized_results[\"colour\"] = color"
   ]
  },
  {
   "cell_type": "code",
   "execution_count": null,
   "metadata": {},
   "outputs": [],
   "source": [
    "# limits = parcoords.get_limits(optimized_results.iloc[:,13:17])\n",
    "# axes = parcoords.ParallelAxes(limits)\n",
    "# axes.plot(optimized_results.iloc[:,13:17])\n",
    "# axes.invert_axis('max_P') \n",
    "# axes.legend()\n",
    "# plt.show()"
   ]
  },
  {
   "cell_type": "code",
   "execution_count": 4,
   "metadata": {},
   "outputs": [],
   "source": [
    "optimized_results = pd.read_csv(\"assignment9_optimized_results.csv\")"
   ]
  },
  {
   "cell_type": "code",
   "execution_count": 12,
   "metadata": {},
   "outputs": [],
   "source": [
    "policies_max_regret = optimized_results.copy()"
   ]
  },
  {
   "cell_type": "code",
   "execution_count": 16,
   "metadata": {},
   "outputs": [],
   "source": [
    "max_P_min = min(policies_max_regret[\"max_P\"])\n",
    "policies_max_regret[\"max_P\"] = policies_max_regret[\"max_P\"] - max_P_min\n",
    "utility_min = min(policies_max_regret[\"max_P\"])\n",
    "policies_max_regret[\"utility\"] = policies_max_regret[\"utility\"] - utility_min\n",
    "inertia_min = min(policies_max_regret[\"max_P\"])\n",
    "policies_max_regret[\"inertia\"] = policies_max_regret[\"inertia\"] - inertia_min\n",
    "reliability_min = min(policies_max_regret[\"max_P\"])\n",
    "policies_max_regret[\"reliability\"] = policies_max_regret[\"reliability\"] - reliability_min"
   ]
  },
  {
   "cell_type": "code",
   "execution_count": 17,
   "metadata": {},
   "outputs": [],
   "source": [
    "policies_max_regret = policies_max_regret.groupby('policy').agg({'max_P': 'max', 'utility': 'max',\n",
    "                                                              'inertia': 'max', 'reliability': 'max'})"
   ]
  },
  {
   "cell_type": "code",
   "execution_count": 19,
   "metadata": {},
   "outputs": [
    {
     "data": {
      "image/png": "[encoded data removed]",
      "text/plain": [
       "<Figure size 432x288 with 3 Axes>"
      ]
     },
     "metadata": {},
     "output_type": "display_data"
    }
   ],
   "source": [
    "limits = parcoords.get_limits(policies_max_regret)\n",
    "axes = parcoords.ParallelAxes(limits)\n",
    "axes.plot(policies_max_regret) \n",
    "axes.legend()\n",
    "plt.show()"
   ]
  },
  {
   "cell_type": "code",
   "execution_count": 28,
   "metadata": {},
   "outputs": [
    {
     "data": {
      "text/html": [
       "<div>\n",
       "<style scoped>\n",
       "    .dataframe tbody tr th:only-of-type {\n",
       "        vertical-align: middle;\n",
       "    }\n",
       "\n",
       "    .dataframe tbody tr th {\n",
       "        vertical-align: top;\n",
       "    }\n",
       "\n",
       "    .dataframe thead th {\n",
       "        text-align: right;\n",
       "    }\n",
       "</style>\n",
       "<table border=\"1\" class=\"dataframe\">\n",
       "  <thead>\n",
       "    <tr style=\"text-align: right;\">\n",
       "      <th></th>\n",
       "      <th>max_P</th>\n",
       "      <th>utility</th>\n",
       "      <th>inertia</th>\n",
       "      <th>reliability</th>\n",
       "    </tr>\n",
       "    <tr>\n",
       "      <th>policy</th>\n",
       "      <th></th>\n",
       "      <th></th>\n",
       "      <th></th>\n",
       "      <th></th>\n",
       "    </tr>\n",
       "  </thead>\n",
       "  <tbody>\n",
       "    <tr>\n",
       "      <th>0</th>\n",
       "      <td>11.185558</td>\n",
       "      <td>2.362679</td>\n",
       "      <td>0.99</td>\n",
       "      <td>1.0</td>\n",
       "    </tr>\n",
       "  </tbody>\n",
       "</table>\n",
       "</div>"
      ],
      "text/plain": [
       "            max_P   utility  inertia  reliability\n",
       "policy                                           \n",
       "0       11.185558  2.362679     0.99          1.0"
      ]
     },
     "execution_count": 28,
     "metadata": {},
     "output_type": "execute_result"
    }
   ],
   "source": [
    "policies_max_regret[policies_max_regret[\"utility\"]==policies_max_regret.utility.min()]"
   ]
  },
  {
   "cell_type": "code",
   "execution_count": 34,
   "metadata": {},
   "outputs": [
    {
     "data": {
      "text/html": [
       "<div>\n",
       "<style scoped>\n",
       "    .dataframe tbody tr th:only-of-type {\n",
       "        vertical-align: middle;\n",
       "    }\n",
       "\n",
       "    .dataframe tbody tr th {\n",
       "        vertical-align: top;\n",
       "    }\n",
       "\n",
       "    .dataframe thead th {\n",
       "        text-align: right;\n",
       "    }\n",
       "</style>\n",
       "<table border=\"1\" class=\"dataframe\">\n",
       "  <thead>\n",
       "    <tr style=\"text-align: right;\">\n",
       "      <th></th>\n",
       "      <th>max_P</th>\n",
       "      <th>utility</th>\n",
       "      <th>inertia</th>\n",
       "      <th>reliability</th>\n",
       "    </tr>\n",
       "    <tr>\n",
       "      <th>policy</th>\n",
       "      <th></th>\n",
       "      <th></th>\n",
       "      <th></th>\n",
       "      <th></th>\n",
       "    </tr>\n",
       "  </thead>\n",
       "  <tbody>\n",
       "    <tr>\n",
       "      <th>0</th>\n",
       "      <td>11.185558</td>\n",
       "      <td>2.362679</td>\n",
       "      <td>0.99</td>\n",
       "      <td>1.0</td>\n",
       "    </tr>\n",
       "    <tr>\n",
       "      <th>18</th>\n",
       "      <td>11.186149</td>\n",
       "      <td>2.482834</td>\n",
       "      <td>0.99</td>\n",
       "      <td>1.0</td>\n",
       "    </tr>\n",
       "    <tr>\n",
       "      <th>17</th>\n",
       "      <td>11.184555</td>\n",
       "      <td>2.494268</td>\n",
       "      <td>0.99</td>\n",
       "      <td>1.0</td>\n",
       "    </tr>\n",
       "    <tr>\n",
       "      <th>3</th>\n",
       "      <td>11.187436</td>\n",
       "      <td>2.495678</td>\n",
       "      <td>0.99</td>\n",
       "      <td>1.0</td>\n",
       "    </tr>\n",
       "    <tr>\n",
       "      <th>6</th>\n",
       "      <td>11.185528</td>\n",
       "      <td>2.501442</td>\n",
       "      <td>0.99</td>\n",
       "      <td>1.0</td>\n",
       "    </tr>\n",
       "  </tbody>\n",
       "</table>\n",
       "</div>"
      ],
      "text/plain": [
       "            max_P   utility  inertia  reliability\n",
       "policy                                           \n",
       "0       11.185558  2.362679     0.99          1.0\n",
       "18      11.186149  2.482834     0.99          1.0\n",
       "17      11.184555  2.494268     0.99          1.0\n",
       "3       11.187436  2.495678     0.99          1.0\n",
       "6       11.185528  2.501442     0.99          1.0"
      ]
     },
     "execution_count": 34,
     "metadata": {},
     "output_type": "execute_result"
    }
   ],
   "source": [
    "policies_max_regret.sort_values(by=[\"utility\", \"max_P\"], ascending=True).head()"
   ]
  },
  {
   "cell_type": "markdown",
   "metadata": {},
   "source": [
    "Policy zero appears to yield the lowest regret, followed by Policy 18, 17 and 3. These results can also be clearly visualized. For example, Policy 0 is indicated by the blue line, while Policy 18 is indicated by the mustard yellow line."
   ]
  },
  {
   "cell_type": "code",
   "execution_count": null,
   "metadata": {},
   "outputs": [],
   "source": []
  }
 ],
 "metadata": {
  "anaconda-cloud": {},
  "kernelspec": {
   "display_name": "mbdm",
   "language": "python",
   "name": "mbdm"
  },
  "language_info": {
   "codemirror_mode": {
    "name": "ipython",
    "version": 3
   },
   "file_extension": ".py",
   "mimetype": "text/x-python",
   "name": "python",
   "nbconvert_exporter": "python",
   "pygments_lexer": "ipython3",
   "version": "3.7.4"
  },
  "latex_envs": {
   "LaTeX_envs_menu_present": true,
   "autocomplete": true,
   "bibliofile": "biblio.bib",
   "cite_by": "apalike",
   "current_citInitial": 1,
   "eqLabelWithNumbers": true,
   "eqNumInitial": 1,
   "hotkeys": {
    "equation": "Ctrl-E",
    "itemize": "Ctrl-I"
   },
   "labels_anchors": false,
   "latex_user_defs": false,
   "report_style_numbering": false,
   "user_envs_cfg": false
  }
 },
 "nbformat": 4,
 "nbformat_minor": 4
}
