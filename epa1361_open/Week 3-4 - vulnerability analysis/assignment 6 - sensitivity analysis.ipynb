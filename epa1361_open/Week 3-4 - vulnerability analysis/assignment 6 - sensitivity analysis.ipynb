{
 "cells": [
  {
   "cell_type": "markdown",
   "metadata": {},
   "source": [
    "# EPA1361 - Model-Based Decision Making\n",
    "# Week 3 - Sensitivity analysis\n",
    "\n",
    "This exercise uses the same predator-prey model we used for the multi-model exercise, focusing on the Python version. As with the other exercise, define a model object for the function below, with the uncertainty ranges provided:\n",
    "\n",
    "|Parameter\t|Range or value\t        |\n",
    "|-----------|--------------:|\n",
    "|prey_birth_rate    \t|0.015 – 0.035\t|\n",
    "|predation_rate|0.0005 – 0.003 \t|\n",
    "|predator_efficiency     \t|0.001 – 0.004\t    |\n",
    "|predator_loss_rate\t    |0.04 – 0.08\t    |\n",
    "\n",
    "* Sensitivity analysis often focuses on the final values of an outcome at the end of the simulation. However, we can also look at metrics that give us additional information about the behavior of the model over time. Using [the statsmodel library](https://www.statsmodels.org/stable/index.html) and an appropriate sampling design, fit a linear regression model for each of the following indicators. What can we conclude about the behavior of the model, and about the importance of the different inputs?\n",
    "\n",
    "  * The final values of the _prey_ outcome\n",
    "  * The mean values of the _prey_ outcome over time, within each experiment\n",
    "  * The standard deviations of the _prey_ outcome over time, within each experiment\n"
   ]
  },
  {
   "cell_type": "markdown",
   "metadata": {},
   "source": [
    "## 1. The Pred Prey Function"
   ]
  },
  {
   "cell_type": "code",
   "execution_count": 1,
   "metadata": {
    "collapsed": false,
    "jupyter": {
     "outputs_hidden": false
    }
   },
   "outputs": [
    {
     "name": "stderr",
     "output_type": "stream",
     "text": [
      "C:\\Users\\sahit\\Anaconda\\lib\\site-packages\\ema_workbench\\em_framework\\optimization.py:48: ImportWarning: platypus based optimization not available\n",
      "  warnings.warn(\"platypus based optimization not available\", ImportWarning)\n"
     ]
    }
   ],
   "source": [
    "import numpy as np\n",
    "import matplotlib.pyplot as plt\n",
    "import pandas as pd\n",
    "\n",
    "from ema_workbench import (Model, RealParameter, TimeSeriesOutcome, perform_experiments, ema_logging)\n",
    "\n",
    "from ema_workbench.em_framework.evaluators import LHS, SOBOL, MORRIS\n",
    "\n",
    "from ema_workbench.analysis import feature_scoring\n",
    "from ema_workbench.analysis.scenario_discovery_util import RuleInductionType\n",
    "from ema_workbench.em_framework.salib_samplers import get_SALib_problem\n",
    "from SALib.analyze import sobol\n",
    "\n",
    "def pred_prey(prey_birth_rate=0.025, predation_rate=0.0015, predator_efficiency=0.002,\n",
    "             predator_loss_rate=0.06, initial_prey=50, initial_predators=20, dt=0.25, \n",
    "             final_time=365, reps=1):\n",
    "\n",
    "    #Initial values\n",
    "    predators = np.zeros((reps, int(final_time/dt)+1))\n",
    "    prey = np.zeros((reps, int(final_time/dt)+1))\n",
    "    sim_time = np.zeros((reps, int(final_time/dt)+1))\n",
    "    \n",
    "    for r in range(reps):\n",
    "\n",
    "        predators[r,0] = initial_predators\n",
    "        prey[r,0] = initial_prey\n",
    "\n",
    "    #Calculate the time series\n",
    "    for t in range(0, sim_time.shape[1]-1):\n",
    "\n",
    "        dx = (prey_birth_rate*prey[r,t]) - (predation_rate*prey[r,t]*predators[r,t])\n",
    "        dy = (predator_efficiency*predators[r,t]*prey[r,t]) - (predator_loss_rate*predators[r,t])\n",
    "\n",
    "        prey[r,t+1] = max(prey[r,t] + dx*dt, 0)\n",
    "        predators[r,t+1] = max(predators[r,t] + dy*dt, 0)\n",
    "        sim_time[r,t+1] = (t+1)*dt\n",
    "    \n",
    "    #Return outcomes\n",
    "    return {'TIME':sim_time,\n",
    "            'predators':predators,\n",
    "            'prey':prey}"
   ]
  },
  {
   "cell_type": "markdown",
   "metadata": {},
   "source": [
    "## 2. Pred Prey model"
   ]
  },
  {
   "cell_type": "code",
   "execution_count": 2,
   "metadata": {},
   "outputs": [],
   "source": [
    "ema_logging.log_to_stderr(ema_logging.INFO)\n",
    "\n",
    "#We can define common uncertainties and outcomes for each model:\n",
    "uncertainties = [RealParameter('prey_birth_rate', 0.015, 0.035),\n",
    "                 RealParameter('predation_rate', 0.0005, 0.003),\n",
    "                 RealParameter('predator_efficiency', 0.001, 0.004),\n",
    "                 RealParameter('predator_loss_rate', 0.04, 0.08)] \n",
    "\n",
    "#np.squeexe gets a single dimension array \n",
    "outcomes = [TimeSeriesOutcome('TIME', function=np.squeeze),\n",
    "            TimeSeriesOutcome('predators', function=np.squeeze),\n",
    "            TimeSeriesOutcome('prey', function=np.squeeze)]\n",
    "\n",
    "\n",
    "#Define the Python model\n",
    "py_model = Model('Python', function=pred_prey)\n",
    "py_model.uncertainties = uncertainties\n",
    "py_model.outcomes = outcomes"
   ]
  },
  {
   "cell_type": "markdown",
   "metadata": {},
   "source": [
    "## 3. Linear Regression Model"
   ]
  },
  {
   "cell_type": "code",
   "execution_count": 3,
   "metadata": {},
   "outputs": [],
   "source": [
    "import numpy as np\n",
    "import statsmodels.api as sm\n",
    "import statsmodels.formula.api as smf"
   ]
  },
  {
   "cell_type": "code",
   "execution_count": 4,
   "metadata": {},
   "outputs": [
    {
     "name": "stderr",
     "output_type": "stream",
     "text": [
      "[MainProcess/INFO] performing 50 scenarios * 1 policies * 1 model(s) = 50 experiments\n",
      "[MainProcess/INFO] performing experiments sequentially\n",
      "[MainProcess/INFO] 5 cases completed\n",
      "[MainProcess/INFO] 10 cases completed\n",
      "[MainProcess/INFO] 15 cases completed\n",
      "[MainProcess/INFO] 20 cases completed\n",
      "[MainProcess/INFO] 25 cases completed\n",
      "[MainProcess/INFO] 30 cases completed\n",
      "[MainProcess/INFO] 35 cases completed\n",
      "[MainProcess/INFO] 40 cases completed\n",
      "[MainProcess/INFO] 45 cases completed\n",
      "[MainProcess/INFO] 50 cases completed\n",
      "[MainProcess/INFO] experiments finished\n"
     ]
    }
   ],
   "source": [
    "nr_experiments = 50\n",
    "\n",
    "#Using Latin Hypercube sampling\n",
    "experiments, outcomes = perform_experiments(py_model, nr_experiments, uncertainty_sampling=LHS)"
   ]
  },
  {
   "cell_type": "code",
   "execution_count": 5,
   "metadata": {},
   "outputs": [],
   "source": [
    "outcome_prey = outcomes['prey'][:,-1]\n",
    "experiments_lm = np.asarray(experiments.select_dtypes(exclude=['object']))"
   ]
  },
  {
   "cell_type": "code",
   "execution_count": 6,
   "metadata": {},
   "outputs": [],
   "source": [
    "results = sm.OLS(outcome_prey, experiments_lm).fit()"
   ]
  },
  {
   "cell_type": "code",
   "execution_count": 8,
   "metadata": {},
   "outputs": [
    {
     "data": {
      "text/html": [
       "<table class=\"simpletable\">\n",
       "<caption>OLS Regression Results</caption>\n",
       "<tr>\n",
       "  <th>Dep. Variable:</th>            <td>y</td>        <th>  R-squared (uncentered):</th>      <td>   0.778</td>\n",
       "</tr>\n",
       "<tr>\n",
       "  <th>Model:</th>                   <td>OLS</td>       <th>  Adj. R-squared (uncentered):</th> <td>   0.759</td>\n",
       "</tr>\n",
       "<tr>\n",
       "  <th>Method:</th>             <td>Least Squares</td>  <th>  F-statistic:       </th>          <td>   40.27</td>\n",
       "</tr>\n",
       "<tr>\n",
       "  <th>Date:</th>             <td>Fri, 15 May 2020</td> <th>  Prob (F-statistic):</th>          <td>1.77e-14</td>\n",
       "</tr>\n",
       "<tr>\n",
       "  <th>Time:</th>                 <td>14:04:47</td>     <th>  Log-Likelihood:    </th>          <td> -213.12</td>\n",
       "</tr>\n",
       "<tr>\n",
       "  <th>No. Observations:</th>      <td>    50</td>      <th>  AIC:               </th>          <td>   434.2</td>\n",
       "</tr>\n",
       "<tr>\n",
       "  <th>Df Residuals:</th>          <td>    46</td>      <th>  BIC:               </th>          <td>   441.9</td>\n",
       "</tr>\n",
       "<tr>\n",
       "  <th>Df Model:</th>              <td>     4</td>      <th>                     </th>              <td> </td>   \n",
       "</tr>\n",
       "<tr>\n",
       "  <th>Covariance Type:</th>      <td>nonrobust</td>    <th>                     </th>              <td> </td>   \n",
       "</tr>\n",
       "</table>\n",
       "<table class=\"simpletable\">\n",
       "<tr>\n",
       "   <td></td>     <th>coef</th>     <th>std err</th>      <th>t</th>      <th>P>|t|</th>  <th>[0.025</th>    <th>0.975]</th>  \n",
       "</tr>\n",
       "<tr>\n",
       "  <th>x1</th> <td>  500.7201</td> <td> 3301.943</td> <td>    0.152</td> <td> 0.880</td> <td>-6145.746</td> <td> 7147.186</td>\n",
       "</tr>\n",
       "<tr>\n",
       "  <th>x2</th> <td> -1.12e+04</td> <td> 2642.871</td> <td>   -4.238</td> <td> 0.000</td> <td>-1.65e+04</td> <td>-5880.283</td>\n",
       "</tr>\n",
       "<tr>\n",
       "  <th>x3</th> <td>  695.4064</td> <td>  161.348</td> <td>    4.310</td> <td> 0.000</td> <td>  370.629</td> <td> 1020.183</td>\n",
       "</tr>\n",
       "<tr>\n",
       "  <th>x4</th> <td>  581.2045</td> <td>  340.247</td> <td>    1.708</td> <td> 0.094</td> <td> -103.677</td> <td> 1266.086</td>\n",
       "</tr>\n",
       "</table>\n",
       "<table class=\"simpletable\">\n",
       "<tr>\n",
       "  <th>Omnibus:</th>       <td> 1.004</td> <th>  Durbin-Watson:     </th> <td>   2.191</td>\n",
       "</tr>\n",
       "<tr>\n",
       "  <th>Prob(Omnibus):</th> <td> 0.605</td> <th>  Jarque-Bera (JB):  </th> <td>   1.066</td>\n",
       "</tr>\n",
       "<tr>\n",
       "  <th>Skew:</th>          <td> 0.272</td> <th>  Prob(JB):          </th> <td>   0.587</td>\n",
       "</tr>\n",
       "<tr>\n",
       "  <th>Kurtosis:</th>      <td> 2.537</td> <th>  Cond. No.          </th> <td>    89.4</td>\n",
       "</tr>\n",
       "</table><br/><br/>Warnings:<br/>[1] Standard Errors assume that the covariance matrix of the errors is correctly specified."
      ],
      "text/plain": [
       "<class 'statsmodels.iolib.summary.Summary'>\n",
       "\"\"\"\n",
       "                                 OLS Regression Results                                \n",
       "=======================================================================================\n",
       "Dep. Variable:                      y   R-squared (uncentered):                   0.778\n",
       "Model:                            OLS   Adj. R-squared (uncentered):              0.759\n",
       "Method:                 Least Squares   F-statistic:                              40.27\n",
       "Date:                Fri, 15 May 2020   Prob (F-statistic):                    1.77e-14\n",
       "Time:                        14:04:47   Log-Likelihood:                         -213.12\n",
       "No. Observations:                  50   AIC:                                      434.2\n",
       "Df Residuals:                      46   BIC:                                      441.9\n",
       "Df Model:                           4                                                  \n",
       "Covariance Type:            nonrobust                                                  \n",
       "==============================================================================\n",
       "                 coef    std err          t      P>|t|      [0.025      0.975]\n",
       "------------------------------------------------------------------------------\n",
       "x1           500.7201   3301.943      0.152      0.880   -6145.746    7147.186\n",
       "x2          -1.12e+04   2642.871     -4.238      0.000   -1.65e+04   -5880.283\n",
       "x3           695.4064    161.348      4.310      0.000     370.629    1020.183\n",
       "x4           581.2045    340.247      1.708      0.094    -103.677    1266.086\n",
       "==============================================================================\n",
       "Omnibus:                        1.004   Durbin-Watson:                   2.191\n",
       "Prob(Omnibus):                  0.605   Jarque-Bera (JB):                1.066\n",
       "Skew:                           0.272   Prob(JB):                        0.587\n",
       "Kurtosis:                       2.537   Cond. No.                         89.4\n",
       "==============================================================================\n",
       "\n",
       "Warnings:\n",
       "[1] Standard Errors assume that the covariance matrix of the errors is correctly specified.\n",
       "\"\"\""
      ]
     },
     "execution_count": 8,
     "metadata": {},
     "output_type": "execute_result"
    }
   ],
   "source": [
    "results.summary()"
   ]
  },
  {
   "cell_type": "code",
   "execution_count": 9,
   "metadata": {},
   "outputs": [],
   "source": [
    "outcome_prey_mean = np.mean(outcomes['prey'], axis = 1)\n",
    "experiments_lm = np.asarray(experiments.select_dtypes(exclude=['object']))"
   ]
  },
  {
   "cell_type": "code",
   "execution_count": 10,
   "metadata": {},
   "outputs": [],
   "source": [
    "results_mean = sm.OLS(outcome_prey_mean, experiments_lm).fit()"
   ]
  },
  {
   "cell_type": "code",
   "execution_count": 11,
   "metadata": {},
   "outputs": [
    {
     "data": {
      "text/html": [
       "<table class=\"simpletable\">\n",
       "<caption>OLS Regression Results</caption>\n",
       "<tr>\n",
       "  <th>Dep. Variable:</th>            <td>y</td>        <th>  R-squared (uncentered):</th>      <td>   0.965</td>\n",
       "</tr>\n",
       "<tr>\n",
       "  <th>Model:</th>                   <td>OLS</td>       <th>  Adj. R-squared (uncentered):</th> <td>   0.962</td>\n",
       "</tr>\n",
       "<tr>\n",
       "  <th>Method:</th>             <td>Least Squares</td>  <th>  F-statistic:       </th>          <td>   315.4</td>\n",
       "</tr>\n",
       "<tr>\n",
       "  <th>Date:</th>             <td>Fri, 15 May 2020</td> <th>  Prob (F-statistic):</th>          <td>8.54e-33</td>\n",
       "</tr>\n",
       "<tr>\n",
       "  <th>Time:</th>                 <td>14:04:47</td>     <th>  Log-Likelihood:    </th>          <td> -156.92</td>\n",
       "</tr>\n",
       "<tr>\n",
       "  <th>No. Observations:</th>      <td>    50</td>      <th>  AIC:               </th>          <td>   321.8</td>\n",
       "</tr>\n",
       "<tr>\n",
       "  <th>Df Residuals:</th>          <td>    46</td>      <th>  BIC:               </th>          <td>   329.5</td>\n",
       "</tr>\n",
       "<tr>\n",
       "  <th>Df Model:</th>              <td>     4</td>      <th>                     </th>              <td> </td>   \n",
       "</tr>\n",
       "<tr>\n",
       "  <th>Covariance Type:</th>      <td>nonrobust</td>    <th>                     </th>              <td> </td>   \n",
       "</tr>\n",
       "</table>\n",
       "<table class=\"simpletable\">\n",
       "<tr>\n",
       "   <td></td>     <th>coef</th>     <th>std err</th>      <th>t</th>      <th>P>|t|</th>  <th>[0.025</th>    <th>0.975]</th>  \n",
       "</tr>\n",
       "<tr>\n",
       "  <th>x1</th> <td>  160.8208</td> <td> 1073.094</td> <td>    0.150</td> <td> 0.882</td> <td>-1999.206</td> <td> 2320.848</td>\n",
       "</tr>\n",
       "<tr>\n",
       "  <th>x2</th> <td>-1.051e+04</td> <td>  858.903</td> <td>  -12.241</td> <td> 0.000</td> <td>-1.22e+04</td> <td>-8785.269</td>\n",
       "</tr>\n",
       "<tr>\n",
       "  <th>x3</th> <td>  615.6013</td> <td>   52.436</td> <td>   11.740</td> <td> 0.000</td> <td>  510.052</td> <td>  721.150</td>\n",
       "</tr>\n",
       "<tr>\n",
       "  <th>x4</th> <td>  616.4729</td> <td>  110.576</td> <td>    5.575</td> <td> 0.000</td> <td>  393.894</td> <td>  839.052</td>\n",
       "</tr>\n",
       "</table>\n",
       "<table class=\"simpletable\">\n",
       "<tr>\n",
       "  <th>Omnibus:</th>       <td> 7.614</td> <th>  Durbin-Watson:     </th> <td>   2.306</td>\n",
       "</tr>\n",
       "<tr>\n",
       "  <th>Prob(Omnibus):</th> <td> 0.022</td> <th>  Jarque-Bera (JB):  </th> <td>   6.700</td>\n",
       "</tr>\n",
       "<tr>\n",
       "  <th>Skew:</th>          <td> 0.741</td> <th>  Prob(JB):          </th> <td>  0.0351</td>\n",
       "</tr>\n",
       "<tr>\n",
       "  <th>Kurtosis:</th>      <td> 4.011</td> <th>  Cond. No.          </th> <td>    89.4</td>\n",
       "</tr>\n",
       "</table><br/><br/>Warnings:<br/>[1] Standard Errors assume that the covariance matrix of the errors is correctly specified."
      ],
      "text/plain": [
       "<class 'statsmodels.iolib.summary.Summary'>\n",
       "\"\"\"\n",
       "                                 OLS Regression Results                                \n",
       "=======================================================================================\n",
       "Dep. Variable:                      y   R-squared (uncentered):                   0.965\n",
       "Model:                            OLS   Adj. R-squared (uncentered):              0.962\n",
       "Method:                 Least Squares   F-statistic:                              315.4\n",
       "Date:                Fri, 15 May 2020   Prob (F-statistic):                    8.54e-33\n",
       "Time:                        14:04:47   Log-Likelihood:                         -156.92\n",
       "No. Observations:                  50   AIC:                                      321.8\n",
       "Df Residuals:                      46   BIC:                                      329.5\n",
       "Df Model:                           4                                                  \n",
       "Covariance Type:            nonrobust                                                  \n",
       "==============================================================================\n",
       "                 coef    std err          t      P>|t|      [0.025      0.975]\n",
       "------------------------------------------------------------------------------\n",
       "x1           160.8208   1073.094      0.150      0.882   -1999.206    2320.848\n",
       "x2         -1.051e+04    858.903    -12.241      0.000   -1.22e+04   -8785.269\n",
       "x3           615.6013     52.436     11.740      0.000     510.052     721.150\n",
       "x4           616.4729    110.576      5.575      0.000     393.894     839.052\n",
       "==============================================================================\n",
       "Omnibus:                        7.614   Durbin-Watson:                   2.306\n",
       "Prob(Omnibus):                  0.022   Jarque-Bera (JB):                6.700\n",
       "Skew:                           0.741   Prob(JB):                       0.0351\n",
       "Kurtosis:                       4.011   Cond. No.                         89.4\n",
       "==============================================================================\n",
       "\n",
       "Warnings:\n",
       "[1] Standard Errors assume that the covariance matrix of the errors is correctly specified.\n",
       "\"\"\""
      ]
     },
     "execution_count": 11,
     "metadata": {},
     "output_type": "execute_result"
    }
   ],
   "source": [
    "results_mean.summary()"
   ]
  },
  {
   "cell_type": "code",
   "execution_count": 12,
   "metadata": {},
   "outputs": [],
   "source": [
    "outcome_prey_stdev = np.std(outcomes['prey'], axis = 1)\n",
    "experiments_lm = np.asarray(experiments.select_dtypes(exclude=['object']))"
   ]
  },
  {
   "cell_type": "code",
   "execution_count": 13,
   "metadata": {},
   "outputs": [],
   "source": [
    "results_stdev = sm.OLS(outcome_prey_stdev, experiments_lm).fit()"
   ]
  },
  {
   "cell_type": "code",
   "execution_count": 14,
   "metadata": {},
   "outputs": [
    {
     "data": {
      "text/html": [
       "<table class=\"simpletable\">\n",
       "<caption>OLS Regression Results</caption>\n",
       "<tr>\n",
       "  <th>Dep. Variable:</th>            <td>y</td>        <th>  R-squared (uncentered):</th>      <td>   0.961</td>\n",
       "</tr>\n",
       "<tr>\n",
       "  <th>Model:</th>                   <td>OLS</td>       <th>  Adj. R-squared (uncentered):</th> <td>   0.958</td>\n",
       "</tr>\n",
       "<tr>\n",
       "  <th>Method:</th>             <td>Least Squares</td>  <th>  F-statistic:       </th>          <td>   286.0</td>\n",
       "</tr>\n",
       "<tr>\n",
       "  <th>Date:</th>             <td>Fri, 15 May 2020</td> <th>  Prob (F-statistic):</th>          <td>7.43e-32</td>\n",
       "</tr>\n",
       "<tr>\n",
       "  <th>Time:</th>                 <td>14:04:47</td>     <th>  Log-Likelihood:    </th>          <td> -122.98</td>\n",
       "</tr>\n",
       "<tr>\n",
       "  <th>No. Observations:</th>      <td>    50</td>      <th>  AIC:               </th>          <td>   254.0</td>\n",
       "</tr>\n",
       "<tr>\n",
       "  <th>Df Residuals:</th>          <td>    46</td>      <th>  BIC:               </th>          <td>   261.6</td>\n",
       "</tr>\n",
       "<tr>\n",
       "  <th>Df Model:</th>              <td>     4</td>      <th>                     </th>              <td> </td>   \n",
       "</tr>\n",
       "<tr>\n",
       "  <th>Covariance Type:</th>      <td>nonrobust</td>    <th>                     </th>              <td> </td>   \n",
       "</tr>\n",
       "</table>\n",
       "<table class=\"simpletable\">\n",
       "<tr>\n",
       "   <td></td>     <th>coef</th>     <th>std err</th>      <th>t</th>      <th>P>|t|</th>  <th>[0.025</th>    <th>0.975]</th>  \n",
       "</tr>\n",
       "<tr>\n",
       "  <th>x1</th> <td> 1376.6114</td> <td>  544.242</td> <td>    2.529</td> <td> 0.015</td> <td>  281.109</td> <td> 2472.114</td>\n",
       "</tr>\n",
       "<tr>\n",
       "  <th>x2</th> <td> 2038.5158</td> <td>  435.611</td> <td>    4.680</td> <td> 0.000</td> <td> 1161.677</td> <td> 2915.355</td>\n",
       "</tr>\n",
       "<tr>\n",
       "  <th>x3</th> <td>   39.8800</td> <td>   26.594</td> <td>    1.500</td> <td> 0.141</td> <td>  -13.651</td> <td>   93.411</td>\n",
       "</tr>\n",
       "<tr>\n",
       "  <th>x4</th> <td>  162.5894</td> <td>   56.081</td> <td>    2.899</td> <td> 0.006</td> <td>   49.704</td> <td>  275.475</td>\n",
       "</tr>\n",
       "</table>\n",
       "<table class=\"simpletable\">\n",
       "<tr>\n",
       "  <th>Omnibus:</th>       <td> 1.847</td> <th>  Durbin-Watson:     </th> <td>   1.913</td>\n",
       "</tr>\n",
       "<tr>\n",
       "  <th>Prob(Omnibus):</th> <td> 0.397</td> <th>  Jarque-Bera (JB):  </th> <td>   1.146</td>\n",
       "</tr>\n",
       "<tr>\n",
       "  <th>Skew:</th>          <td>-0.350</td> <th>  Prob(JB):          </th> <td>   0.564</td>\n",
       "</tr>\n",
       "<tr>\n",
       "  <th>Kurtosis:</th>      <td> 3.243</td> <th>  Cond. No.          </th> <td>    89.4</td>\n",
       "</tr>\n",
       "</table><br/><br/>Warnings:<br/>[1] Standard Errors assume that the covariance matrix of the errors is correctly specified."
      ],
      "text/plain": [
       "<class 'statsmodels.iolib.summary.Summary'>\n",
       "\"\"\"\n",
       "                                 OLS Regression Results                                \n",
       "=======================================================================================\n",
       "Dep. Variable:                      y   R-squared (uncentered):                   0.961\n",
       "Model:                            OLS   Adj. R-squared (uncentered):              0.958\n",
       "Method:                 Least Squares   F-statistic:                              286.0\n",
       "Date:                Fri, 15 May 2020   Prob (F-statistic):                    7.43e-32\n",
       "Time:                        14:04:47   Log-Likelihood:                         -122.98\n",
       "No. Observations:                  50   AIC:                                      254.0\n",
       "Df Residuals:                      46   BIC:                                      261.6\n",
       "Df Model:                           4                                                  \n",
       "Covariance Type:            nonrobust                                                  \n",
       "==============================================================================\n",
       "                 coef    std err          t      P>|t|      [0.025      0.975]\n",
       "------------------------------------------------------------------------------\n",
       "x1          1376.6114    544.242      2.529      0.015     281.109    2472.114\n",
       "x2          2038.5158    435.611      4.680      0.000    1161.677    2915.355\n",
       "x3            39.8800     26.594      1.500      0.141     -13.651      93.411\n",
       "x4           162.5894     56.081      2.899      0.006      49.704     275.475\n",
       "==============================================================================\n",
       "Omnibus:                        1.847   Durbin-Watson:                   1.913\n",
       "Prob(Omnibus):                  0.397   Jarque-Bera (JB):                1.146\n",
       "Skew:                          -0.350   Prob(JB):                        0.564\n",
       "Kurtosis:                       3.243   Cond. No.                         89.4\n",
       "==============================================================================\n",
       "\n",
       "Warnings:\n",
       "[1] Standard Errors assume that the covariance matrix of the errors is correctly specified.\n",
       "\"\"\""
      ]
     },
     "execution_count": 14,
     "metadata": {},
     "output_type": "execute_result"
    }
   ],
   "source": [
    "results_stdev.summary()"
   ]
  },
  {
   "cell_type": "markdown",
   "metadata": {},
   "source": [
    "#### Conclusions\n",
    "x1: predation rate\n",
    "x2: predator efficiency\n",
    "x3: predator loss rate\n",
    "x4: prey birth rate\n",
    "\n",
    "predation rate\n",
    "- It can be seen that the sensitivity prey to predation rate is highly variable. It cannot be concluded that the predation rate effects the last value or mean value of prey. \n",
    "- However, it can be said that the predation rate has an effect on the standard deviation of prey. \n",
    "\n",
    "Predator efficiency\n",
    "- It can said that the effect of predator efficiency on prey is negative. However, given the high confidence range, the effect cannot be estimated. \n",
    "\n",
    "predator loss rate \n",
    "- predator loss rate has a positive correlation with mean and last value of prey\n",
    "\n",
    "prey birth rate\n",
    "- The effect of this cannot be determined meaningfully from this regression. The sensitivity of the mean value of prey can be estimated with more confidence as positive. \n",
    "\n",
    "- Birth rate, predation rate and predator loss rate also affect the standard deviation of prey. "
   ]
  },
  {
   "cell_type": "markdown",
   "metadata": {},
   "source": [
    "## 4. SOBOL"
   ]
  },
  {
   "cell_type": "markdown",
   "metadata": {},
   "source": [
    "\n",
    "* Use the Sobol sampling functionality included in the Workbench to perform experiments with a sample size of N=50, then analyze the results with SALib for the same three indicators. This requires specifying the keyword argument `'uncertainty_sampling'` of perform_experiments. \n",
    "\n",
    "Note that when using Sobol sampling, the meaning of the keyword argument `scenarios` changes a bit. In order to properly estimate Sobol scores as well as interaction effects, you require N * (2D+2) scenarios, where D is the number of uncertain parameters, and N is the value for scenarios passed to `perform_experiments`. Repeat the analysis for larger sample sizes, with N=250 and N=1000. \n",
    "\n",
    "How can we interpret the first-order and total indices? Are these sample sizes sufficient for a stable estimation of the indices? \n",
    "\n",
    "You'll need to use the [get_SALib_problem](https://emaworkbench.readthedocs.io/en/latest/ema_documentation/em_framework/salib_samplers.html) function to convert your Workbench experiments to a problem definition that you can pass to the SALib analysis function. \n",
    "\n",
    "* *hint*: sobol is a deterministic sequence of quasi random numbers. Thus, you can run with N=1000 and simply slice for 1:50 and 1:250."
   ]
  },
  {
   "cell_type": "code",
   "execution_count": 15,
   "metadata": {},
   "outputs": [],
   "source": [
    "from ema_workbench.em_framework import salib_samplers"
   ]
  },
  {
   "cell_type": "code",
   "execution_count": 16,
   "metadata": {},
   "outputs": [],
   "source": [
    "from ema_workbench import SequentialEvaluator"
   ]
  },
  {
   "cell_type": "code",
   "execution_count": 17,
   "metadata": {},
   "outputs": [
    {
     "name": "stderr",
     "output_type": "stream",
     "text": [
      "[MainProcess/INFO] performing 10000 scenarios * 1 policies * 1 model(s) = 10000 experiments\n",
      "[MainProcess/INFO] performing experiments sequentially\n",
      "[MainProcess/INFO] 1000 cases completed\n",
      "[MainProcess/INFO] 2000 cases completed\n",
      "[MainProcess/INFO] 3000 cases completed\n",
      "[MainProcess/INFO] 4000 cases completed\n",
      "[MainProcess/INFO] 5000 cases completed\n",
      "[MainProcess/INFO] 6000 cases completed\n",
      "[MainProcess/INFO] 7000 cases completed\n",
      "[MainProcess/INFO] 8000 cases completed\n",
      "[MainProcess/INFO] 9000 cases completed\n",
      "[MainProcess/INFO] 10000 cases completed\n",
      "[MainProcess/INFO] experiments finished\n"
     ]
    }
   ],
   "source": [
    "n_scenarios = 1000\n",
    "\n",
    "ema_logging.log_to_stderr(ema_logging.INFO)\n",
    "\n",
    "with SequentialEvaluator(py_model) as evaluator: \n",
    "    results_sobol = evaluator.perform_experiments(n_scenarios, uncertainty_sampling=SOBOL)"
   ]
  },
  {
   "cell_type": "code",
   "execution_count": 18,
   "metadata": {},
   "outputs": [],
   "source": [
    "experiments_sobol, outcomes_sobol = results_sobol"
   ]
  },
  {
   "cell_type": "code",
   "execution_count": 19,
   "metadata": {},
   "outputs": [],
   "source": [
    "problem = get_SALib_problem(py_model.uncertainties)\n",
    "y = outcomes_sobol['prey'][:,-1]\n",
    "y_mean = np.mean(outcomes_sobol['prey'], axis = 1)\n",
    "y_std = np.std(outcomes_sobol['prey'], axis = 1)\n",
    "\n",
    "sobol_indices = sobol.analyze(problem, y)\n",
    "sobol_indices_mean = sobol.analyze(problem, y_mean)\n",
    "sobol_indices_std = sobol.analyze(problem, y_std)"
   ]
  },
  {
   "cell_type": "code",
   "execution_count": 21,
   "metadata": {},
   "outputs": [],
   "source": [
    "y_n50 = outcomes_sobol['prey'][:,-1][0:500]\n",
    "sobol_indices_n50 = sobol.analyze(problem, y_n50)"
   ]
  },
  {
   "cell_type": "code",
   "execution_count": 24,
   "metadata": {},
   "outputs": [
    {
     "data": {
      "text/html": [
       "<div>\n",
       "<style scoped>\n",
       "    .dataframe tbody tr th:only-of-type {\n",
       "        vertical-align: middle;\n",
       "    }\n",
       "\n",
       "    .dataframe tbody tr th {\n",
       "        vertical-align: top;\n",
       "    }\n",
       "\n",
       "    .dataframe thead th {\n",
       "        text-align: right;\n",
       "    }\n",
       "</style>\n",
       "<table border=\"1\" class=\"dataframe\">\n",
       "  <thead>\n",
       "    <tr style=\"text-align: right;\">\n",
       "      <th></th>\n",
       "      <th>ST</th>\n",
       "      <th>ST_conf</th>\n",
       "      <th>S1</th>\n",
       "      <th>S1_conf</th>\n",
       "    </tr>\n",
       "  </thead>\n",
       "  <tbody>\n",
       "    <tr>\n",
       "      <td>predation_rate</td>\n",
       "      <td>0.127158</td>\n",
       "      <td>0.099256</td>\n",
       "      <td>0.093433</td>\n",
       "      <td>0.122786</td>\n",
       "    </tr>\n",
       "    <tr>\n",
       "      <td>predator_efficiency</td>\n",
       "      <td>0.861776</td>\n",
       "      <td>0.415875</td>\n",
       "      <td>0.467832</td>\n",
       "      <td>0.376621</td>\n",
       "    </tr>\n",
       "    <tr>\n",
       "      <td>predator_loss_rate</td>\n",
       "      <td>0.586328</td>\n",
       "      <td>0.302995</td>\n",
       "      <td>0.106056</td>\n",
       "      <td>0.221582</td>\n",
       "    </tr>\n",
       "    <tr>\n",
       "      <td>prey_birth_rate</td>\n",
       "      <td>0.509988</td>\n",
       "      <td>0.259831</td>\n",
       "      <td>0.067219</td>\n",
       "      <td>0.344418</td>\n",
       "    </tr>\n",
       "  </tbody>\n",
       "</table>\n",
       "</div>"
      ],
      "text/plain": [
       "                           ST   ST_conf        S1   S1_conf\n",
       "predation_rate       0.127158  0.099256  0.093433  0.122786\n",
       "predator_efficiency  0.861776  0.415875  0.467832  0.376621\n",
       "predator_loss_rate   0.586328  0.302995  0.106056  0.221582\n",
       "prey_birth_rate      0.509988  0.259831  0.067219  0.344418"
      ]
     },
     "execution_count": 24,
     "metadata": {},
     "output_type": "execute_result"
    }
   ],
   "source": [
    "pd.concat([sobol_indices_n50.to_df()[0],sobol_indices_n50.to_df()[1]], axis =1) "
   ]
  },
  {
   "cell_type": "code",
   "execution_count": 25,
   "metadata": {},
   "outputs": [],
   "source": [
    "y_n250 = outcomes_sobol['prey'][:,-1][0:2500]\n",
    "sobol_indices_n250 = sobol.analyze(problem, y_n250)"
   ]
  },
  {
   "cell_type": "code",
   "execution_count": 28,
   "metadata": {},
   "outputs": [
    {
     "data": {
      "text/html": [
       "<div>\n",
       "<style scoped>\n",
       "    .dataframe tbody tr th:only-of-type {\n",
       "        vertical-align: middle;\n",
       "    }\n",
       "\n",
       "    .dataframe tbody tr th {\n",
       "        vertical-align: top;\n",
       "    }\n",
       "\n",
       "    .dataframe thead th {\n",
       "        text-align: right;\n",
       "    }\n",
       "</style>\n",
       "<table border=\"1\" class=\"dataframe\">\n",
       "  <thead>\n",
       "    <tr style=\"text-align: right;\">\n",
       "      <th></th>\n",
       "      <th>index</th>\n",
       "      <th>ST</th>\n",
       "      <th>ST_conf</th>\n",
       "      <th>S1</th>\n",
       "      <th>S1_conf</th>\n",
       "    </tr>\n",
       "  </thead>\n",
       "  <tbody>\n",
       "    <tr>\n",
       "      <td>0</td>\n",
       "      <td>predation_rate</td>\n",
       "      <td>0.132785</td>\n",
       "      <td>0.025721</td>\n",
       "      <td>-0.002546</td>\n",
       "      <td>0.035346</td>\n",
       "    </tr>\n",
       "    <tr>\n",
       "      <td>1</td>\n",
       "      <td>predator_efficiency</td>\n",
       "      <td>0.809377</td>\n",
       "      <td>0.098546</td>\n",
       "      <td>0.407665</td>\n",
       "      <td>0.079364</td>\n",
       "    </tr>\n",
       "    <tr>\n",
       "      <td>2</td>\n",
       "      <td>predator_loss_rate</td>\n",
       "      <td>0.585974</td>\n",
       "      <td>0.069688</td>\n",
       "      <td>0.079809</td>\n",
       "      <td>0.055449</td>\n",
       "    </tr>\n",
       "    <tr>\n",
       "      <td>3</td>\n",
       "      <td>prey_birth_rate</td>\n",
       "      <td>0.511565</td>\n",
       "      <td>0.052239</td>\n",
       "      <td>0.030426</td>\n",
       "      <td>0.052868</td>\n",
       "    </tr>\n",
       "  </tbody>\n",
       "</table>\n",
       "</div>"
      ],
      "text/plain": [
       "                 index        ST   ST_conf        S1   S1_conf\n",
       "0       predation_rate  0.132785  0.025721 -0.002546  0.035346\n",
       "1  predator_efficiency  0.809377  0.098546  0.407665  0.079364\n",
       "2   predator_loss_rate  0.585974  0.069688  0.079809  0.055449\n",
       "3      prey_birth_rate  0.511565  0.052239  0.030426  0.052868"
      ]
     },
     "execution_count": 28,
     "metadata": {},
     "output_type": "execute_result"
    }
   ],
   "source": [
    "sobol_indices_df = pd.concat([sobol_indices.to_df()[0], sobol_indices.to_df()[1]], axis =1)\n",
    "sobol_indices_df = sobol_indices_df.reset_index()\n",
    "sobol_indices_df"
   ]
  },
  {
   "cell_type": "code",
   "execution_count": 27,
   "metadata": {},
   "outputs": [
    {
     "data": {
      "text/html": [
       "<div>\n",
       "<style scoped>\n",
       "    .dataframe tbody tr th:only-of-type {\n",
       "        vertical-align: middle;\n",
       "    }\n",
       "\n",
       "    .dataframe tbody tr th {\n",
       "        vertical-align: top;\n",
       "    }\n",
       "\n",
       "    .dataframe thead th {\n",
       "        text-align: right;\n",
       "    }\n",
       "</style>\n",
       "<table border=\"1\" class=\"dataframe\">\n",
       "  <thead>\n",
       "    <tr style=\"text-align: right;\">\n",
       "      <th></th>\n",
       "      <th>ST</th>\n",
       "      <th>ST_conf</th>\n",
       "      <th>S1</th>\n",
       "      <th>S1_conf</th>\n",
       "    </tr>\n",
       "  </thead>\n",
       "  <tbody>\n",
       "    <tr>\n",
       "      <td>predation_rate</td>\n",
       "      <td>0.123294</td>\n",
       "      <td>0.041149</td>\n",
       "      <td>0.054258</td>\n",
       "      <td>0.053363</td>\n",
       "    </tr>\n",
       "    <tr>\n",
       "      <td>predator_efficiency</td>\n",
       "      <td>0.852120</td>\n",
       "      <td>0.158538</td>\n",
       "      <td>0.279763</td>\n",
       "      <td>0.149006</td>\n",
       "    </tr>\n",
       "    <tr>\n",
       "      <td>predator_loss_rate</td>\n",
       "      <td>0.606673</td>\n",
       "      <td>0.108174</td>\n",
       "      <td>0.017445</td>\n",
       "      <td>0.114763</td>\n",
       "    </tr>\n",
       "    <tr>\n",
       "      <td>prey_birth_rate</td>\n",
       "      <td>0.565059</td>\n",
       "      <td>0.109437</td>\n",
       "      <td>-0.044853</td>\n",
       "      <td>0.116438</td>\n",
       "    </tr>\n",
       "  </tbody>\n",
       "</table>\n",
       "</div>"
      ],
      "text/plain": [
       "                           ST   ST_conf        S1   S1_conf\n",
       "predation_rate       0.123294  0.041149  0.054258  0.053363\n",
       "predator_efficiency  0.852120  0.158538  0.279763  0.149006\n",
       "predator_loss_rate   0.606673  0.108174  0.017445  0.114763\n",
       "prey_birth_rate      0.565059  0.109437 -0.044853  0.116438"
      ]
     },
     "execution_count": 27,
     "metadata": {},
     "output_type": "execute_result"
    }
   ],
   "source": [
    "pd.concat([sobol_indices_n250.to_df()[0],sobol_indices_n250.to_df()[1]], axis =1) "
   ]
  },
  {
   "cell_type": "markdown",
   "metadata": {},
   "source": [
    "#### Conclusions \n",
    "- Overall, prey seems to be most sensitive to predator efficiency.  \n",
    "- All the variables have a higher total index than their individual indices. This shows the clear presence of intercation within the system.  \n",
    "- 50 and 250 samples still show a lot of variance. Increasing sample size decreases confidence interval and that can be seen in N_1000 case. "
   ]
  },
  {
   "cell_type": "code",
   "execution_count": 29,
   "metadata": {},
   "outputs": [
    {
     "data": {
      "text/plain": [
       "{'S1': array([0.00169098, 0.7694395 , 0.17988582, 0.00227352]),\n",
       " 'S1_conf': array([0.00571382, 0.08423259, 0.04461457, 0.00876925]),\n",
       " 'ST': array([0.00519748, 0.81717184, 0.21899463, 0.01161008]),\n",
       " 'ST_conf': array([0.00094389, 0.06914076, 0.02815498, 0.00135313]),\n",
       " 'S2': array([[        nan, -0.00191167,  0.00315862,  0.00074765],\n",
       "        [        nan,         nan,  0.05877703,  0.00859264],\n",
       "        [        nan,         nan,         nan, -0.00722717],\n",
       "        [        nan,         nan,         nan,         nan]]),\n",
       " 'S2_conf': array([[       nan, 0.01302889, 0.00916343, 0.00867364],\n",
       "        [       nan,        nan, 0.14612614, 0.11917758],\n",
       "        [       nan,        nan,        nan, 0.07251666],\n",
       "        [       nan,        nan,        nan,        nan]])}"
      ]
     },
     "execution_count": 29,
     "metadata": {},
     "output_type": "execute_result"
    }
   ],
   "source": [
    "sobol_indices_mean"
   ]
  },
  {
   "cell_type": "code",
   "execution_count": 30,
   "metadata": {},
   "outputs": [
    {
     "data": {
      "text/plain": [
       "{'S1': array([0.2089077 , 0.09978934, 0.0067359 , 0.05164699]),\n",
       " 'S1_conf': array([0.07630721, 0.09487347, 0.0479207 , 0.04807519]),\n",
       " 'ST': array([0.6604275 , 0.62584637, 0.2439193 , 0.28795033]),\n",
       " 'ST_conf': array([0.12351464, 0.09576909, 0.04823674, 0.06223288]),\n",
       " 'S2': array([[        nan,  0.17019767,  0.00316671,  0.09303015],\n",
       "        [        nan,         nan,  0.16278549,  0.01998462],\n",
       "        [        nan,         nan,         nan, -0.01197096],\n",
       "        [        nan,         nan,         nan,         nan]]),\n",
       " 'S2_conf': array([[       nan, 0.12171121, 0.0722275 , 0.1048372 ],\n",
       "        [       nan,        nan, 0.13295719, 0.13240506],\n",
       "        [       nan,        nan,        nan, 0.06064949],\n",
       "        [       nan,        nan,        nan,        nan]])}"
      ]
     },
     "execution_count": 30,
     "metadata": {},
     "output_type": "execute_result"
    }
   ],
   "source": [
    "sobol_indices_std"
   ]
  },
  {
   "cell_type": "markdown",
   "metadata": {},
   "source": [
    "## 5. Extra-Trees Analysis"
   ]
  },
  {
   "cell_type": "markdown",
   "metadata": {},
   "source": [
    "* Use the [Extra-Trees analysis](https://emaworkbench.readthedocs.io/en/latest/ema_documentation/analysis/feature_scoring.html) included in the Workbench to approximate the Sobol total indices, with a suitable sampling design. As a starting point, use an ensemble of 100 trees and a max_features parameter of 0.6, and set the analysis to regression mode. Are the estimated importances stable relative to the sample size and the analysis parameters? How do the results compare to the Sobol indices? For more details on this analysis see [Jaxa-Rozen & Kwakkel (2018)](https://www.sciencedirect.com/science/article/pii/S1364815217311581)"
   ]
  },
  {
   "cell_type": "code",
   "execution_count": 31,
   "metadata": {},
   "outputs": [],
   "source": [
    "import seaborn as sns\n",
    "import pandas as pd"
   ]
  },
  {
   "cell_type": "code",
   "execution_count": 32,
   "metadata": {},
   "outputs": [],
   "source": [
    "experiments_cleaned = experiments.select_dtypes(exclude = 'object')"
   ]
  },
  {
   "cell_type": "code",
   "execution_count": 33,
   "metadata": {},
   "outputs": [],
   "source": [
    "extratrees = feature_scoring.get_ex_feature_scores(experiments_cleaned, outcomes['prey'][:,-1], mode = RuleInductionType.REGRESSION,nr_trees = 100, max_features= 0.6)"
   ]
  },
  {
   "cell_type": "code",
   "execution_count": 34,
   "metadata": {},
   "outputs": [],
   "source": [
    "extratrees = extratrees[0].reset_index()"
   ]
  },
  {
   "cell_type": "code",
   "execution_count": 35,
   "metadata": {},
   "outputs": [],
   "source": [
    "ex_sobol = pd.merge(sobol_indices_df, extratrees, left_on = 'index', right_on = 0)\n",
    "ex_sobol_heatmap = ex_sobol[['index', 'ST', 'S1', 1]]"
   ]
  },
  {
   "cell_type": "code",
   "execution_count": 36,
   "metadata": {},
   "outputs": [],
   "source": [
    "ex_sobol_heatmap.columns = ['variable', 'Sobol_ST', 'Sobol_S1', 'extratrees']"
   ]
  },
  {
   "cell_type": "code",
   "execution_count": 37,
   "metadata": {},
   "outputs": [
    {
     "name": "stderr",
     "output_type": "stream",
     "text": [
      "[MainProcess/INFO] policy dropped from analysis because only a single category\n",
      "[MainProcess/INFO] model dropped from analysis because only a single category\n",
      "[MainProcess/INFO] policy dropped from analysis because only a single category\n",
      "[MainProcess/INFO] model dropped from analysis because only a single category\n",
      "[MainProcess/INFO] policy dropped from analysis because only a single category\n",
      "[MainProcess/INFO] model dropped from analysis because only a single category\n"
     ]
    }
   ],
   "source": [
    "scores = feature_scoring.get_feature_scores_all(experiments, outcomes)"
   ]
  },
  {
   "cell_type": "code",
   "execution_count": 38,
   "metadata": {},
   "outputs": [
    {
     "data": {
      "image/png": "[encoded data removed]",
      "text/plain": [
       "<Figure size 432x288 with 2 Axes>"
      ]
     },
     "metadata": {
      "needs_background": "light"
     },
     "output_type": "display_data"
    }
   ],
   "source": [
    "sns.heatmap(scores, annot=True, cmap='viridis')\n",
    "plt.show()"
   ]
  },
  {
   "cell_type": "code",
   "execution_count": 39,
   "metadata": {},
   "outputs": [],
   "source": [
    "ex_sobol_heatmap.set_index('variable', inplace=True)"
   ]
  },
  {
   "cell_type": "code",
   "execution_count": 40,
   "metadata": {},
   "outputs": [
    {
     "data": {
      "image/png": "[encoded data removed]",
      "text/plain": [
       "<Figure size 432x288 with 2 Axes>"
      ]
     },
     "metadata": {
      "needs_background": "light"
     },
     "output_type": "display_data"
    }
   ],
   "source": [
    "sns.heatmap(ex_sobol_heatmap,annot=True, cmap='viridis')\n",
    "plt.show()"
   ]
  },
  {
   "cell_type": "markdown",
   "metadata": {},
   "source": [
    "#### Conclusions\n",
    "- Prey is most sensitive to Predator efficiency in all tests\n",
    "- Sobol results show greater sensitivity of prey to prey birth rate in compariosn to extra trees\n",
    "- The sensitivity of prey to predation rate and prey birth rate are also opposing in extra trees and sobol\n",
    "\n",
    "Overall, sobol and extra trees capture similar sensitivities except for prey birth rate"
   ]
  }
 ],
 "metadata": {
  "kernelspec": {
   "display_name": "Python 3",
   "language": "python",
   "name": "python3"
  },
  "language_info": {
   "codemirror_mode": {
    "name": "ipython",
    "version": 3
   },
   "file_extension": ".py",
   "mimetype": "text/x-python",
   "name": "python",
   "nbconvert_exporter": "python",
   "pygments_lexer": "ipython3",
   "version": "3.7.4"
  }
 },
 "nbformat": 4,
 "nbformat_minor": 4
}
