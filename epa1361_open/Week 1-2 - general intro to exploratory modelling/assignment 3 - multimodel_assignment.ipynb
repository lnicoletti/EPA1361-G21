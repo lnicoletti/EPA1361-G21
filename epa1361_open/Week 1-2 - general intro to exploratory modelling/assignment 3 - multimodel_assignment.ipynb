{
 "cells": [
  {
   "cell_type": "markdown",
   "metadata": {},
   "source": [
    "# EPA1361 - Model-Based Decision Making\n",
    "\n",
    "## Multi-model analysis\n",
    "\n",
    "This exercise uses a simple version of the [Lotka-Volterra predator-prey equations](https://en.wikipedia.org/wiki/Lotka%E2%80%93Volterra_equations) to show how the EMA Workbench can be used for a\n",
    "multi-model analysis, in addition to typical parametric/structural uncertainties. This will let you test the connectors provided in the Workbench for Excel, NetLogo, and Vensim / PySD; we'll also use the models for the sensitivity analysis exercise in week 3.\n",
    "\n",
    "* Using the three model files provided and the Python function below, define model objects for each implementation (Excel, NetLogo, Vensim/PySD, and Python), and test them using a single ensemble. Use 50 experiments sampled from the parameters below (so that each experiment will be executed for the 4 models, for a total of 200), and retrieve outputs for the _TIME_, _predators_, and _prey_ variables.\n",
    "    * excel and vensim are only supported on windows\n",
    "    * vensim requires 32 bit python, and a 7.1!! version of vensim DSS\n",
    "    * Netlogo supoprt depends on [jpype](http://jpype.readthedocs.io/en/latest/install.html) and [pynetlogo](https://pynetlogo.readthedocs.io/en/latest/). Also, if you don't have NetLogo installed, please get it from [NetLogo 6.0](https://ccl.northwestern.edu/netlogo/download.shtml) \n",
    "    * for pysd, see [its documentation](http://pysd.readthedocs.io/en/master/installation.html)\n",
    "    * If possible try to work with all model versions, but even 2 or 3 (pure python and something else should be sufficient).\n",
    "    \n",
    "\n",
    "|Parameter\t|Range or value\t        |\n",
    "|-----------|--------------:|\n",
    "|prey_birth_rate    \t|0.015 – 0.035\t|\n",
    "|predation_rate|0.0005 – 0.003 \t|\n",
    "|predator_efficiency     \t|0.001 – 0.004\t    |\n",
    "|predator_loss_rate\t    |0.04 – 0.08\t    |\n",
    "|Final time\t    |365\t    |\n",
    "|dt\t    |0.25\t    |\n",
    "\n",
    "* Note that your EMA Workbench installation includes example scripts for the different connectors. The different model objects follow a similar syntax but will need to be slightly adjusted depending on the software (e.g. to specify the NetLogo run length or the sheet name in Excel). \n",
    "\n",
    "* These model objects can be used with a replication functionality (for instance to test the effect of stochastic uncertainty in a NetLogo model), which repeats a given experiment over multiple replications. You can use a single replication in this exercise as the models are not stochastic. By default, each outcome array will then have a shape of (# experiments, # replications, # time steps). Try adapting the outcome arrays so that they can be used with the _lines_ plotting function of the Workbench, and plot the results grouped by model.\n",
    "\n",
    "* To check the graphical results, find the maximum absolute error of the time series you obtained for the _prey_ variable in the Excel, NetLogo, and Vensim/PySD models, relative to the Python function. "
   ]
  },
  {
   "cell_type": "code",
   "execution_count": 1,
   "metadata": {
    "collapsed": false,
    "jupyter": {
     "outputs_hidden": false
    }
   },
   "outputs": [
    {
     "name": "stderr",
     "output_type": "stream",
     "text": [
      "C:\\Users\\jryap\\anaconda3\\envs\\geo_env\\lib\\site-packages\\ema_workbench\\connectors\\__init__.py:17: ImportWarning: vensim connector not available\n",
      "  warnings.warn(\"vensim connector not available\", ImportWarning)\n"
     ]
    }
   ],
   "source": [
    "import numpy as np\n",
    "import pandas as pd\n",
    "import matplotlib.pyplot as plt\n",
    "\n",
    "from ema_workbench import (Model, RealParameter, TimeSeriesOutcome, perform_experiments,\n",
    "                           ema_logging)\n",
    "\n",
    "from ema_workbench.connectors.netlogo import NetLogoModel\n",
    "from ema_workbench.connectors.excel import ExcelModel\n",
    "from ema_workbench.connectors.pysd_connector import PysdModel\n",
    "\n",
    "from ema_workbench.em_framework.evaluators import LHS, SOBOL, MORRIS\n",
    "\n",
    "from ema_workbench.analysis.plotting import lines, Density\n",
    "from ema_workbench import MultiprocessingEvaluator, SequentialEvaluator"
   ]
  },
  {
   "cell_type": "code",
   "execution_count": 2,
   "metadata": {},
   "outputs": [],
   "source": [
    "def PredPrey(prey_birth_rate=0.025, predation_rate=0.0015, predator_efficiency=0.002,\n",
    "             predator_loss_rate=0.06, initial_prey=50, initial_predators=20, dt=0.25, final_time=365, reps=1):\n",
    "\n",
    "    #Initial values\n",
    "    predators, prey, sim_time = [np.zeros((reps, int(final_time/dt)+1)) for _ in range(3)]\n",
    "    \n",
    "    for r in range(reps):\n",
    "        predators[r,0] = initial_predators\n",
    "        prey[r,0] = initial_prey\n",
    "\n",
    "        #Calculate the time series\n",
    "        for t in range(0, sim_time.shape[1]-1):\n",
    "\n",
    "            dx = (prey_birth_rate*prey[r,t]) - (predation_rate*prey[r,t]*predators[r,t])\n",
    "            dy = (predator_efficiency*predators[r,t]*prey[r,t]) - (predator_loss_rate*predators[r,t])\n",
    "\n",
    "            prey[r,t+1] = max(prey[r,t] + dx*dt, 0)\n",
    "            predators[r,t+1] = max(predators[r,t] + dy*dt, 0)\n",
    "            sim_time[r,t+1] = (t+1)*dt\n",
    "    \n",
    "    #Return outcomes\n",
    "    return {'TIME':sim_time,\n",
    "            'predators':predators,\n",
    "            'prey':prey}"
   ]
  },
  {
   "cell_type": "code",
   "execution_count": 3,
   "metadata": {},
   "outputs": [],
   "source": [
    "ema_logging.log_to_stderr(ema_logging.INFO)\n",
    "\n",
    "model_nlogo = NetLogoModel('predpreyNLOGO',\n",
    "                     wd=\"./model/\",\n",
    "                     model_file=\"PredPrey.nlogo\")\n",
    "model_nlogo.run_length = 100\n",
    "model_nlogo.replications = 10\n",
    "\n",
    "model_nlogo.uncertainties = [RealParameter(\"prey_birth_rate\", 0.015,0.035),\n",
    "                       RealParameter(\"predation_rate\", 0.0005, 0.003),\n",
    "                       RealParameter(\"predator_efficiency\", 0.001,0.004),\n",
    "                       RealParameter(\"predator_loss_rate\", 0.04, 0.08)\n",
    "                       ]\n",
    "\n",
    "model_nlogo.outcomes = [TimeSeriesOutcome('TIME'),\n",
    "                  TimeSeriesOutcome('predators'),\n",
    "                  TimeSeriesOutcome('prey')]"
   ]
  },
  {
   "cell_type": "code",
   "execution_count": null,
   "metadata": {},
   "outputs": [],
   "source": [
    "# with SequentialEvaluator(model) as evaluator:\n",
    "#     results = evaluator.perform_experiments(10)"
   ]
  },
  {
   "cell_type": "code",
   "execution_count": 4,
   "metadata": {},
   "outputs": [
    {
     "name": "stderr",
     "output_type": "stream",
     "text": [
      "[MainProcess/INFO] pool started\n",
      "[MainProcess/INFO] performing 10 scenarios * 1 policies * 1 model(s) = 10 experiments\n",
      "[MainProcess/INFO] 1 cases completed\n",
      "[MainProcess/INFO] 2 cases completed\n",
      "[MainProcess/INFO] 3 cases completed\n",
      "[MainProcess/INFO] 4 cases completed\n",
      "[MainProcess/INFO] 5 cases completed\n",
      "[MainProcess/INFO] 6 cases completed\n",
      "[MainProcess/INFO] 7 cases completed\n",
      "[MainProcess/INFO] 8 cases completed\n",
      "[MainProcess/INFO] 9 cases completed\n",
      "[MainProcess/INFO] 10 cases completed\n",
      "[MainProcess/INFO] experiments finished\n",
      "[MainProcess/INFO] terminating pool\n"
     ]
    }
   ],
   "source": [
    "with MultiprocessingEvaluator(model_nlogo) as evaluator:\n",
    "    experiments_nlogo, outcomes_nlogo = evaluator.perform_experiments(10)"
   ]
  },
  {
   "cell_type": "code",
   "execution_count": 5,
   "metadata": {},
   "outputs": [],
   "source": [
    "ema_logging.log_to_stderr(level=ema_logging.INFO)\n",
    "\n",
    "model_xlsx = ExcelModel(\"preypreyXLSX\", wd=\"./model/\",\n",
    "                   model_file='PredPrey.xlsx')\n",
    "model_xlsx.uncertainties = [RealParameter(\"prey_birth_rate\", 0.015,0.035),\n",
    "                       RealParameter(\"predation_rate\", 0.0005, 0.003),\n",
    "                       RealParameter(\"predator_efficiency\", 0.001,0.004),\n",
    "                       RealParameter(\"predator_loss_rate\", 0.04, 0.08)\n",
    "                       ]\n",
    "\n",
    "# specification of the outcomes\n",
    "model_xlsx.outcomes = [TimeSeriesOutcome('TIME'),\n",
    "                  TimeSeriesOutcome('predators'),\n",
    "                  TimeSeriesOutcome('prey')]\n",
    "\n",
    "# name of the sheet\n",
    "model_xlsx.default_sheet = \"Sheet1\""
   ]
  },
  {
   "cell_type": "code",
   "execution_count": 6,
   "metadata": {},
   "outputs": [
    {
     "name": "stderr",
     "output_type": "stream",
     "text": [
      "[MainProcess/INFO] pool started\n",
      "[MainProcess/INFO] performing 100 scenarios * 1 policies * 1 model(s) = 100 experiments\n",
      "[MainProcess/INFO] 1 cases completed\n",
      "[MainProcess/INFO] 2 cases completed\n",
      "[MainProcess/INFO] 3 cases completed\n",
      "[MainProcess/INFO] 4 cases completed\n",
      "[MainProcess/INFO] 5 cases completed\n",
      "[MainProcess/INFO] 6 cases completed\n",
      "[MainProcess/INFO] 7 cases completed\n",
      "[MainProcess/INFO] 8 cases completed\n",
      "[MainProcess/INFO] 9 cases completed\n",
      "[MainProcess/INFO] 10 cases completed\n",
      "[MainProcess/INFO] 11 cases completed\n",
      "[MainProcess/INFO] 12 cases completed\n",
      "[MainProcess/INFO] 13 cases completed\n",
      "[MainProcess/INFO] 14 cases completed\n",
      "[MainProcess/INFO] 15 cases completed\n",
      "[MainProcess/INFO] 16 cases completed\n",
      "[MainProcess/INFO] 17 cases completed\n",
      "[MainProcess/INFO] 18 cases completed\n",
      "[MainProcess/INFO] 19 cases completed\n",
      "[MainProcess/INFO] 20 cases completed\n",
      "[MainProcess/INFO] 21 cases completed\n",
      "[MainProcess/INFO] 22 cases completed\n",
      "[MainProcess/INFO] 23 cases completed\n",
      "[MainProcess/INFO] 24 cases completed\n",
      "[MainProcess/INFO] 25 cases completed\n",
      "[MainProcess/INFO] 26 cases completed\n",
      "[MainProcess/INFO] 27 cases completed\n",
      "[MainProcess/INFO] 28 cases completed\n",
      "[MainProcess/INFO] 29 cases completed\n",
      "[MainProcess/INFO] 30 cases completed\n",
      "[MainProcess/INFO] 31 cases completed\n",
      "[MainProcess/INFO] 32 cases completed\n",
      "[MainProcess/INFO] 33 cases completed\n",
      "[MainProcess/INFO] 34 cases completed\n",
      "[MainProcess/INFO] 35 cases completed\n",
      "[MainProcess/INFO] 36 cases completed\n",
      "[MainProcess/INFO] 37 cases completed\n",
      "[MainProcess/INFO] 38 cases completed\n",
      "[MainProcess/INFO] 39 cases completed\n",
      "[MainProcess/INFO] 40 cases completed\n",
      "[MainProcess/INFO] 41 cases completed\n",
      "[MainProcess/INFO] 42 cases completed\n",
      "[MainProcess/INFO] 43 cases completed\n",
      "[MainProcess/INFO] 44 cases completed\n",
      "[MainProcess/INFO] 45 cases completed\n",
      "[MainProcess/INFO] 46 cases completed\n",
      "[MainProcess/INFO] 47 cases completed\n",
      "[MainProcess/INFO] 48 cases completed\n",
      "[MainProcess/INFO] 49 cases completed\n",
      "[MainProcess/INFO] 50 cases completed\n",
      "[MainProcess/INFO] 51 cases completed\n",
      "[MainProcess/INFO] 52 cases completed\n",
      "[MainProcess/INFO] 53 cases completed\n",
      "[MainProcess/INFO] 54 cases completed\n",
      "[MainProcess/INFO] 55 cases completed\n",
      "[MainProcess/INFO] 56 cases completed\n",
      "[MainProcess/INFO] 57 cases completed\n",
      "[MainProcess/INFO] 58 cases completed\n",
      "[MainProcess/INFO] 59 cases completed\n",
      "[MainProcess/INFO] 60 cases completed\n",
      "[MainProcess/INFO] 61 cases completed\n",
      "[MainProcess/INFO] 62 cases completed\n",
      "[MainProcess/INFO] 63 cases completed\n",
      "[MainProcess/INFO] 64 cases completed\n",
      "[MainProcess/INFO] 65 cases completed\n",
      "[MainProcess/INFO] 66 cases completed\n",
      "[MainProcess/INFO] 67 cases completed\n",
      "[MainProcess/INFO] 68 cases completed\n",
      "[MainProcess/INFO] 69 cases completed\n",
      "[MainProcess/INFO] 70 cases completed\n",
      "[MainProcess/INFO] 71 cases completed\n",
      "[MainProcess/INFO] 72 cases completed\n",
      "[MainProcess/INFO] 73 cases completed\n",
      "[MainProcess/INFO] 74 cases completed\n",
      "[MainProcess/INFO] 75 cases completed\n",
      "[MainProcess/INFO] 76 cases completed\n",
      "[MainProcess/INFO] 77 cases completed\n",
      "[MainProcess/INFO] 78 cases completed\n",
      "[MainProcess/INFO] 79 cases completed\n",
      "[MainProcess/INFO] 80 cases completed\n",
      "[MainProcess/INFO] 81 cases completed\n",
      "[MainProcess/INFO] 82 cases completed\n",
      "[MainProcess/INFO] 83 cases completed\n",
      "[MainProcess/INFO] 84 cases completed\n",
      "[MainProcess/INFO] 85 cases completed\n",
      "[MainProcess/INFO] 86 cases completed\n",
      "[MainProcess/INFO] 87 cases completed\n",
      "[MainProcess/INFO] 88 cases completed\n",
      "[MainProcess/INFO] 89 cases completed\n",
      "[MainProcess/INFO] 90 cases completed\n",
      "[MainProcess/INFO] 91 cases completed\n",
      "[MainProcess/INFO] 92 cases completed\n",
      "[MainProcess/INFO] 93 cases completed\n",
      "[MainProcess/INFO] 94 cases completed\n",
      "[MainProcess/INFO] 95 cases completed\n",
      "[MainProcess/INFO] 96 cases completed\n",
      "[MainProcess/INFO] 97 cases completed\n",
      "[MainProcess/INFO] 98 cases completed\n",
      "[MainProcess/INFO] 99 cases completed\n",
      "[MainProcess/INFO] 100 cases completed\n",
      "[MainProcess/INFO] experiments finished\n",
      "[MainProcess/INFO] terminating pool\n"
     ]
    }
   ],
   "source": [
    "with MultiprocessingEvaluator(model_xlsx) as evaluator:\n",
    "    experiments_xlsx, outcomes_xlsx = perform_experiments(model_xlsx, 100, reporting_interval=1,\n",
    "                                                          evaluator=evaluator)"
   ]
  },
  {
   "cell_type": "code",
   "execution_count": 7,
   "metadata": {},
   "outputs": [],
   "source": [
    "ema_logging.log_to_stderr(ema_logging.INFO)\n",
    "\n",
    "# instantiate a model\n",
    "wd = r'./model/'\n",
    "\n",
    "model_pySD = PysdModel('PySD', mdl_file='./model/PredPrey.mdl')\n",
    "\n",
    "model_pySD.uncertainties = [RealParameter(\"prey_birth_rate\", 0.015,0.035),\n",
    "                            RealParameter(\"predation_rate\", 0.0005, 0.003),\n",
    "                            RealParameter(\"predator_efficiency\", 0.001,0.004),\n",
    "                            RealParameter(\"predator_loss_rate\", 0.04, 0.08)]\n",
    "\n",
    "model_pySD.outcomes = [TimeSeriesOutcome('TIME'),\n",
    "                       TimeSeriesOutcome('predators'),\n",
    "                       TimeSeriesOutcome('prey')]"
   ]
  },
  {
   "cell_type": "code",
   "execution_count": 8,
   "metadata": {},
   "outputs": [
    {
     "name": "stderr",
     "output_type": "stream",
     "text": [
      "[MainProcess/INFO] performing 1000 scenarios * 1 policies * 1 model(s) = 1000 experiments\n",
      "[MainProcess/INFO] performing experiments sequentially\n",
      "[MainProcess/INFO] 100 cases completed\n",
      "[MainProcess/INFO] 200 cases completed\n",
      "[MainProcess/INFO] 300 cases completed\n",
      "[MainProcess/INFO] 400 cases completed\n",
      "[MainProcess/INFO] 500 cases completed\n",
      "[MainProcess/INFO] 600 cases completed\n",
      "[MainProcess/INFO] 700 cases completed\n",
      "[MainProcess/INFO] 800 cases completed\n",
      "[MainProcess/INFO] 900 cases completed\n",
      "[MainProcess/INFO] 1000 cases completed\n",
      "[MainProcess/INFO] experiments finished\n"
     ]
    }
   ],
   "source": [
    "results_pySD = perform_experiments(model_pySD, 1000)"
   ]
  },
  {
   "cell_type": "code",
   "execution_count": null,
   "metadata": {},
   "outputs": [],
   "source": []
  },
  {
   "cell_type": "code",
   "execution_count": null,
   "metadata": {},
   "outputs": [],
   "source": []
  }
 ],
 "metadata": {
  "kernelspec": {
   "display_name": "geo_env",
   "language": "python",
   "name": "geo_env"
  },
  "language_info": {
   "codemirror_mode": {
    "name": "ipython",
    "version": 3
   },
   "file_extension": ".py",
   "mimetype": "text/x-python",
   "name": "python",
   "nbconvert_exporter": "python",
   "pygments_lexer": "ipython3",
   "version": "3.8.2"
  }
 },
 "nbformat": 4,
 "nbformat_minor": 4
}
